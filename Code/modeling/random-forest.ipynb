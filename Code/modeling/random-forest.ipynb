{
 "cells": [
  {
   "cell_type": "markdown",
   "id": "a0d6b9e7-9eb6-4532-a124-17a36ed566c6",
   "metadata": {},
   "source": [
    "# Random Forest Modeling"
   ]
  },
  {
   "cell_type": "markdown",
   "id": "e87e54bb-17e4-4f9e-8277-5f6bb5caec91",
   "metadata": {},
   "source": [
    "## Predicting the character "
   ]
  },
  {
   "cell_type": "code",
   "execution_count": 49,
   "id": "47a71f76-d935-4dca-bf86-bd07d49a127a",
   "metadata": {},
   "outputs": [],
   "source": [
    "#import necessary libraries \n",
    "import numpy as np\n",
    "import pandas as pd\n",
    "import matplotlib.pyplot as plt\n",
    "\n",
    "#Importing the Random Forest Classifier module \n",
    "from sklearn.ensemble import RandomForestClassifier\n",
    "\n",
    "#Importing CountVectorizer and TFIDFVectorizer from feature_extraction.text\n",
    "from sklearn.feature_extraction.text import TfidfVectorizer, CountVectorizer\n",
    "\n",
    "from sklearn.feature_extraction import text\n",
    "\n",
    "#Other modules needed \n",
    "from sklearn.model_selection import GridSearchCV, train_test_split\n",
    "from sklearn.pipeline import Pipeline\n",
    "from sklearn.metrics import (plot_confusion_matrix, accuracy_score, \n",
    "                             classification_report, f1_score)\n",
    "\n",
    "from nltk.corpus import stopwords\n"
   ]
  },
  {
   "cell_type": "code",
   "execution_count": 24,
   "id": "ce3fee13-e1ff-4612-93dc-fb901d00222f",
   "metadata": {},
   "outputs": [
    {
     "data": {
      "text/html": [
       "<div>\n",
       "<style scoped>\n",
       "    .dataframe tbody tr th:only-of-type {\n",
       "        vertical-align: middle;\n",
       "    }\n",
       "\n",
       "    .dataframe tbody tr th {\n",
       "        vertical-align: top;\n",
       "    }\n",
       "\n",
       "    .dataframe thead th {\n",
       "        text-align: right;\n",
       "    }\n",
       "</style>\n",
       "<table border=\"1\" class=\"dataframe\">\n",
       "  <thead>\n",
       "    <tr style=\"text-align: right;\">\n",
       "      <th></th>\n",
       "      <th>season</th>\n",
       "      <th>episode</th>\n",
       "      <th>character</th>\n",
       "      <th>dialogue</th>\n",
       "    </tr>\n",
       "  </thead>\n",
       "  <tbody>\n",
       "    <tr>\n",
       "      <th>0</th>\n",
       "      <td>s01</td>\n",
       "      <td>e01</td>\n",
       "      <td>Monica Geller</td>\n",
       "      <td>There's nothing to tell! He's just some guy I ...</td>\n",
       "    </tr>\n",
       "    <tr>\n",
       "      <th>1</th>\n",
       "      <td>s01</td>\n",
       "      <td>e01</td>\n",
       "      <td>Joey Tribbiani</td>\n",
       "      <td>C'mon, you're going out with the guy! There's ...</td>\n",
       "    </tr>\n",
       "    <tr>\n",
       "      <th>2</th>\n",
       "      <td>s01</td>\n",
       "      <td>e01</td>\n",
       "      <td>Chandler Bing</td>\n",
       "      <td>All right Joey, be nice. So does he have a hum...</td>\n",
       "    </tr>\n",
       "    <tr>\n",
       "      <th>3</th>\n",
       "      <td>s01</td>\n",
       "      <td>e01</td>\n",
       "      <td>Phoebe Buffay</td>\n",
       "      <td>Wait, does he eat chalk?</td>\n",
       "    </tr>\n",
       "    <tr>\n",
       "      <th>4</th>\n",
       "      <td>s01</td>\n",
       "      <td>e01</td>\n",
       "      <td>Phoebe Buffay</td>\n",
       "      <td>Just, 'cause, I don't want her to go through w...</td>\n",
       "    </tr>\n",
       "  </tbody>\n",
       "</table>\n",
       "</div>"
      ],
      "text/plain": [
       "  season episode       character  \\\n",
       "0    s01     e01   Monica Geller   \n",
       "1    s01     e01  Joey Tribbiani   \n",
       "2    s01     e01   Chandler Bing   \n",
       "3    s01     e01   Phoebe Buffay   \n",
       "4    s01     e01   Phoebe Buffay   \n",
       "\n",
       "                                            dialogue  \n",
       "0  There's nothing to tell! He's just some guy I ...  \n",
       "1  C'mon, you're going out with the guy! There's ...  \n",
       "2  All right Joey, be nice. So does he have a hum...  \n",
       "3                           Wait, does he eat chalk?  \n",
       "4  Just, 'cause, I don't want her to go through w...  "
      ]
     },
     "execution_count": 24,
     "metadata": {},
     "output_type": "execute_result"
    }
   ],
   "source": [
    "#import the dataset\n",
    "friends = pd.read_csv('../../Datasets/friends-modeling.csv')\n",
    "friends.head()"
   ]
  },
  {
   "cell_type": "code",
   "execution_count": 25,
   "id": "c0ac30ec-57a4-4ff4-8e6f-6ddf5c9c0da2",
   "metadata": {},
   "outputs": [
    {
     "data": {
      "text/plain": [
       "season       0\n",
       "episode      0\n",
       "character    0\n",
       "dialogue     0\n",
       "dtype: int64"
      ]
     },
     "execution_count": 25,
     "metadata": {},
     "output_type": "execute_result"
    }
   ],
   "source": [
    "#Make sure no nulls\n",
    "friends.isnull().sum()"
   ]
  },
  {
   "cell_type": "markdown",
   "id": "f17bdc16-6c6d-4593-bf38-eb028ec6cd8d",
   "metadata": {},
   "source": [
    "### Make X and y values "
   ]
  },
  {
   "cell_type": "code",
   "execution_count": 26,
   "id": "acc47376-1df0-4800-bd97-fde07c30ab13",
   "metadata": {},
   "outputs": [],
   "source": [
    "X = friends['dialogue']\n",
    "y = friends['character']"
   ]
  },
  {
   "cell_type": "markdown",
   "id": "ac18e579-4073-4b87-a2a0-dfd2542296f5",
   "metadata": {},
   "source": [
    "### Split into Train and Test"
   ]
  },
  {
   "cell_type": "code",
   "execution_count": 27,
   "id": "fabbfe9c-55e5-4da4-abf0-ddd8d72500ce",
   "metadata": {},
   "outputs": [],
   "source": [
    "X_train, X_test, y_train, y_test = train_test_split(X, y, random_state=42, stratify=y)"
   ]
  },
  {
   "cell_type": "code",
   "execution_count": 28,
   "id": "6d333dcb-0f53-4d19-9a34-c8207ce6dabb",
   "metadata": {},
   "outputs": [
    {
     "data": {
      "text/plain": [
       "(38472,)"
      ]
     },
     "execution_count": 28,
     "metadata": {},
     "output_type": "execute_result"
    }
   ],
   "source": [
    "X_train.shape"
   ]
  },
  {
   "cell_type": "code",
   "execution_count": 29,
   "id": "56e875f4-4664-4884-acc4-5f7b9e599999",
   "metadata": {},
   "outputs": [
    {
     "data": {
      "text/plain": [
       "(38472,)"
      ]
     },
     "execution_count": 29,
     "metadata": {},
     "output_type": "execute_result"
    }
   ],
   "source": [
    "y_train.shape"
   ]
  },
  {
   "cell_type": "code",
   "execution_count": 31,
   "id": "81530209-baeb-4048-bc32-bcd126e89854",
   "metadata": {},
   "outputs": [
    {
     "data": {
      "text/plain": [
       "(12825,)"
      ]
     },
     "execution_count": 31,
     "metadata": {},
     "output_type": "execute_result"
    }
   ],
   "source": [
    "X_test.shape"
   ]
  },
  {
   "cell_type": "code",
   "execution_count": 32,
   "id": "827f16c2-1257-4ffe-82c3-0c399a4fa4ba",
   "metadata": {},
   "outputs": [
    {
     "data": {
      "text/plain": [
       "(12825,)"
      ]
     },
     "execution_count": 32,
     "metadata": {},
     "output_type": "execute_result"
    }
   ],
   "source": [
    "y_test.shape"
   ]
  },
  {
   "cell_type": "markdown",
   "id": "b46b7d66-0e46-4d0f-9a9a-cb9c2a3013e3",
   "metadata": {},
   "source": [
    "### Baseline Accuracy "
   ]
  },
  {
   "cell_type": "code",
   "execution_count": 33,
   "id": "3586fb8d-40ff-4c41-ae41-b057c6bf5f4e",
   "metadata": {},
   "outputs": [
    {
     "data": {
      "text/plain": [
       "Rachel Green      0.181847\n",
       "Ross Geller       0.178571\n",
       "Chandler Bing     0.167031\n",
       "Monica Geller     0.165627\n",
       "Joey Tribbiani    0.160012\n",
       "Phoebe Buffay     0.146912\n",
       "Name: character, dtype: float64"
      ]
     },
     "execution_count": 33,
     "metadata": {},
     "output_type": "execute_result"
    }
   ],
   "source": [
    "y_train.value_counts(normalize=True)"
   ]
  },
  {
   "cell_type": "markdown",
   "id": "5b95b0f2-8034-45db-81db-a547dda6ab0e",
   "metadata": {},
   "source": [
    "### Setting up a Pipe for all Random Forest Modeling"
   ]
  },
  {
   "cell_type": "code",
   "execution_count": 60,
   "id": "ebf908ae-4a34-40cb-b1c0-0467343c762e",
   "metadata": {},
   "outputs": [],
   "source": [
    "pipe = Pipeline(steps=[('cv', CountVectorizer()),\n",
    "                       ('rf', RandomForestClassifier(random_state=42))\n",
    "                      ])"
   ]
  },
  {
   "cell_type": "markdown",
   "id": "dc3d978f-352a-42a9-a53b-717c8fa64f53",
   "metadata": {},
   "source": [
    "### Modeling: Basic Model with Default Parameters and using CountVectorizer"
   ]
  },
  {
   "cell_type": "code",
   "execution_count": 35,
   "id": "2f670c11-17a0-4505-97ff-811a579bf5d7",
   "metadata": {},
   "outputs": [],
   "source": [
    "grid_default = {'cv__stop_words':[None, 'english'],\n",
    "               'cv__min_df': [50, 100]}"
   ]
  },
  {
   "cell_type": "code",
   "execution_count": 36,
   "id": "2a297f7b-3ff6-4d11-925d-22c86a08a411",
   "metadata": {},
   "outputs": [
    {
     "data": {
      "text/plain": [
       "GridSearchCV(estimator=Pipeline(steps=[('cv', CountVectorizer()),\n",
       "                                       ('rf',\n",
       "                                        RandomForestClassifier(random_state=42))]),\n",
       "             param_grid={'cv__min_df': [50, 100],\n",
       "                         'cv__stop_words': [None, 'english']})"
      ]
     },
     "execution_count": 36,
     "metadata": {},
     "output_type": "execute_result"
    }
   ],
   "source": [
    "# Instaniate a gridSearch object \n",
    "gs_default = GridSearchCV(estimator=pipe, param_grid=grid_default)\n",
    "gs_default.fit(X_train, y_train)"
   ]
  },
  {
   "cell_type": "code",
   "execution_count": 37,
   "id": "bd81ccdd-5a94-4500-9ffc-e30e9541b186",
   "metadata": {},
   "outputs": [
    {
     "data": {
      "text/plain": [
       "{'cv__min_df': 50, 'cv__stop_words': None}"
      ]
     },
     "execution_count": 37,
     "metadata": {},
     "output_type": "execute_result"
    }
   ],
   "source": [
    "gs_default.best_params_"
   ]
  },
  {
   "cell_type": "code",
   "execution_count": 40,
   "id": "6269b0a4-74fd-416d-b7cb-406dad274719",
   "metadata": {},
   "outputs": [
    {
     "data": {
      "text/plain": [
       "(0.8429767103347889, 0.2658869395711501)"
      ]
     },
     "execution_count": 40,
     "metadata": {},
     "output_type": "execute_result"
    }
   ],
   "source": [
    "gs_default.score(X_train, y_train), gs_default.score(X_test, y_test)"
   ]
  },
  {
   "cell_type": "code",
   "execution_count": 41,
   "id": "30b603a2-a5ea-40ad-9cfc-4a208d954af6",
   "metadata": {},
   "outputs": [
    {
     "data": {
      "text/plain": [
       "0.26076102269846313"
      ]
     },
     "execution_count": 41,
     "metadata": {},
     "output_type": "execute_result"
    }
   ],
   "source": [
    "gs_default.best_score_"
   ]
  },
  {
   "cell_type": "code",
   "execution_count": 42,
   "id": "d567d916-0b4a-4d2c-a3c5-88c2b5497619",
   "metadata": {},
   "outputs": [],
   "source": [
    "preds_grid_default = gs_default.predict(X_test)"
   ]
  },
  {
   "cell_type": "code",
   "execution_count": 48,
   "id": "4b8c1158-4574-4bd9-b0a7-dc2705acc1b4",
   "metadata": {},
   "outputs": [
    {
     "data": {
      "image/png": "[encoded data removed]",
      "text/plain": [
       "<Figure size 640x480 with 2 Axes>"
      ]
     },
     "metadata": {},
     "output_type": "display_data"
    }
   ],
   "source": [
    "plot_confusion_matrix(estimator=gs_default, X = X_test, y_true=y_test)\n",
    "plt.xticks(rotation = 90)\n",
    "plt.show()"
   ]
  },
  {
   "cell_type": "code",
   "execution_count": 51,
   "id": "20ba6a82-046e-464f-b16c-b87f16a61f2f",
   "metadata": {},
   "outputs": [
    {
     "name": "stdout",
     "output_type": "stream",
     "text": [
      "                precision    recall  f1-score   support\n",
      "\n",
      " Chandler Bing       0.26      0.27      0.27      2142\n",
      "Joey Tribbiani       0.26      0.29      0.28      2052\n",
      " Monica Geller       0.26      0.24      0.25      2125\n",
      " Phoebe Buffay       0.25      0.19      0.21      1884\n",
      "  Rachel Green       0.29      0.33      0.31      2332\n",
      "   Ross Geller       0.26      0.26      0.26      2290\n",
      "\n",
      "      accuracy                           0.27     12825\n",
      "     macro avg       0.26      0.26      0.26     12825\n",
      "  weighted avg       0.26      0.27      0.26     12825\n",
      "\n"
     ]
    }
   ],
   "source": [
    "print(classification_report(y_test, preds_grid_default))"
   ]
  },
  {
   "cell_type": "code",
   "execution_count": 86,
   "id": "2310f15c-1832-41af-b3f0-3bf23ce60125",
   "metadata": {},
   "outputs": [
    {
     "data": {
      "text/plain": [
       "0.2658869395711501"
      ]
     },
     "execution_count": 86,
     "metadata": {},
     "output_type": "execute_result"
    }
   ],
   "source": [
    "accuracy_score(y_true=y_test, y_pred=preds_grid_default)"
   ]
  },
  {
   "cell_type": "code",
   "execution_count": 88,
   "id": "5743e589-8288-43e8-98db-3e8c3d0d99fa",
   "metadata": {},
   "outputs": [],
   "source": [
    "#f1_score(y_true=y_test, y_pred=preds_grid_default)"
   ]
  },
  {
   "cell_type": "code",
   "execution_count": 85,
   "id": "9db55389-8448-4965-9fff-dc0d08556ed2",
   "metadata": {},
   "outputs": [
    {
     "data": {
      "text/html": [
       "<div>\n",
       "<style scoped>\n",
       "    .dataframe tbody tr th:only-of-type {\n",
       "        vertical-align: middle;\n",
       "    }\n",
       "\n",
       "    .dataframe tbody tr th {\n",
       "        vertical-align: top;\n",
       "    }\n",
       "\n",
       "    .dataframe thead th {\n",
       "        text-align: right;\n",
       "    }\n",
       "</style>\n",
       "<table border=\"1\" class=\"dataframe\">\n",
       "  <thead>\n",
       "    <tr style=\"text-align: right;\">\n",
       "      <th></th>\n",
       "      <th>actual</th>\n",
       "      <th>predictions</th>\n",
       "      <th>dialogue</th>\n",
       "    </tr>\n",
       "  </thead>\n",
       "  <tbody>\n",
       "    <tr>\n",
       "      <th>45809</th>\n",
       "      <td>Rachel Green</td>\n",
       "      <td>Monica Geller</td>\n",
       "      <td>When you're sick, you do whatever you can to m...</td>\n",
       "    </tr>\n",
       "    <tr>\n",
       "      <th>27777</th>\n",
       "      <td>Rachel Green</td>\n",
       "      <td>Joey Tribbiani</td>\n",
       "      <td>Well then honey, buy the lamp! Hey, we have th...</td>\n",
       "    </tr>\n",
       "    <tr>\n",
       "      <th>48256</th>\n",
       "      <td>Rachel Green</td>\n",
       "      <td>Rachel Green</td>\n",
       "      <td>She's mine!</td>\n",
       "    </tr>\n",
       "    <tr>\n",
       "      <th>36522</th>\n",
       "      <td>Monica Geller</td>\n",
       "      <td>Monica Geller</td>\n",
       "      <td>Did I miss it? Rachel, I-I want you to know th...</td>\n",
       "    </tr>\n",
       "    <tr>\n",
       "      <th>6393</th>\n",
       "      <td>Phoebe Buffay</td>\n",
       "      <td>Chandler Bing</td>\n",
       "      <td>OK, look, see, this is him. My mother gave me ...</td>\n",
       "    </tr>\n",
       "    <tr>\n",
       "      <th>25997</th>\n",
       "      <td>Rachel Green</td>\n",
       "      <td>Rachel Green</td>\n",
       "      <td>But y'know what, if you think it's gonna be ok...</td>\n",
       "    </tr>\n",
       "    <tr>\n",
       "      <th>16641</th>\n",
       "      <td>Chandler Bing</td>\n",
       "      <td>Chandler Bing</td>\n",
       "      <td>Well, like father, like son.</td>\n",
       "    </tr>\n",
       "    <tr>\n",
       "      <th>16009</th>\n",
       "      <td>Chandler Bing</td>\n",
       "      <td>Phoebe Buffay</td>\n",
       "      <td>Could be Casey.</td>\n",
       "    </tr>\n",
       "    <tr>\n",
       "      <th>48797</th>\n",
       "      <td>Joey Tribbiani</td>\n",
       "      <td>Phoebe Buffay</td>\n",
       "      <td>Oh, I know how you feel...</td>\n",
       "    </tr>\n",
       "    <tr>\n",
       "      <th>6594</th>\n",
       "      <td>Monica Geller</td>\n",
       "      <td>Joey Tribbiani</td>\n",
       "      <td>Bobby.</td>\n",
       "    </tr>\n",
       "  </tbody>\n",
       "</table>\n",
       "</div>"
      ],
      "text/plain": [
       "               actual     predictions  \\\n",
       "45809    Rachel Green   Monica Geller   \n",
       "27777    Rachel Green  Joey Tribbiani   \n",
       "48256    Rachel Green    Rachel Green   \n",
       "36522   Monica Geller   Monica Geller   \n",
       "6393    Phoebe Buffay   Chandler Bing   \n",
       "25997    Rachel Green    Rachel Green   \n",
       "16641   Chandler Bing   Chandler Bing   \n",
       "16009   Chandler Bing   Phoebe Buffay   \n",
       "48797  Joey Tribbiani   Phoebe Buffay   \n",
       "6594    Monica Geller  Joey Tribbiani   \n",
       "\n",
       "                                                dialogue  \n",
       "45809  When you're sick, you do whatever you can to m...  \n",
       "27777  Well then honey, buy the lamp! Hey, we have th...  \n",
       "48256                                        She's mine!  \n",
       "36522  Did I miss it? Rachel, I-I want you to know th...  \n",
       "6393   OK, look, see, this is him. My mother gave me ...  \n",
       "25997  But y'know what, if you think it's gonna be ok...  \n",
       "16641                       Well, like father, like son.  \n",
       "16009                                    Could be Casey.  \n",
       "48797                         Oh, I know how you feel...  \n",
       "6594                                              Bobby.  "
      ]
     },
     "execution_count": 85,
     "metadata": {},
     "output_type": "execute_result"
    }
   ],
   "source": [
    "df_default = pd.DataFrame(y_test)\n",
    "\n",
    "df_default['predictions'] = preds_grid_default\n",
    "df_default['dialogue'] = X_test\n",
    "df_default.rename(columns={'character': 'actual'}, inplace=True)\n",
    "df_default.head(10)"
   ]
  },
  {
   "cell_type": "code",
   "execution_count": 57,
   "id": "abb0e529-047c-44f7-bf15-4aff0387d921",
   "metadata": {},
   "outputs": [
    {
     "data": {
      "text/plain": [
       "actual         9415\n",
       "predictions    9415\n",
       "dtype: int64"
      ]
     },
     "execution_count": 57,
     "metadata": {},
     "output_type": "execute_result"
    }
   ],
   "source": [
    "df_default.loc[df_default['actual']!= df_default['predictions']].count()"
   ]
  },
  {
   "cell_type": "code",
   "execution_count": 58,
   "id": "75a93846-2246-4190-8df3-4a23d182ab48",
   "metadata": {},
   "outputs": [
    {
     "data": {
      "text/plain": [
       "(12825, 2)"
      ]
     },
     "execution_count": 58,
     "metadata": {},
     "output_type": "execute_result"
    }
   ],
   "source": [
    "df_default.shape"
   ]
  },
  {
   "cell_type": "markdown",
   "id": "3c88222b-47fe-4395-baf2-09635ad3ddc9",
   "metadata": {},
   "source": [
    "----\n",
    "### With Parameters!"
   ]
  },
  {
   "cell_type": "code",
   "execution_count": 61,
   "id": "240faed9-d459-4184-927b-da20b565c891",
   "metadata": {},
   "outputs": [],
   "source": [
    "grid_params_1 = {'cv__stop_words':[None, 'english'],\n",
    "               'cv__min_df': [50, 100], \n",
    "                'rf__n_estimators': [10, 50, 100, 150],\n",
    "                'rf__max_depth': [10, 25, 50, 75, 100, 150],\n",
    "                'rf__min_samples_split': [10, 15, 20, 25, 30]}"
   ]
  },
  {
   "cell_type": "code",
   "execution_count": 62,
   "id": "86977b8b-298d-4563-822b-ad7af121835f",
   "metadata": {},
   "outputs": [
    {
     "data": {
      "text/plain": [
       "GridSearchCV(estimator=Pipeline(steps=[('cv', CountVectorizer()),\n",
       "                                       ('rf',\n",
       "                                        RandomForestClassifier(random_state=42))]),\n",
       "             param_grid={'cv__min_df': [50, 100],\n",
       "                         'cv__stop_words': [None, 'english'],\n",
       "                         'rf__max_depth': [10, 25, 50, 75, 100, 150],\n",
       "                         'rf__min_samples_split': [10, 15, 20, 25, 30],\n",
       "                         'rf__n_estimators': [10, 50, 100, 150]})"
      ]
     },
     "execution_count": 62,
     "metadata": {},
     "output_type": "execute_result"
    }
   ],
   "source": [
    "gs_1 = GridSearchCV(estimator=pipe, param_grid= grid_params_1)\n",
    "gs_1.fit(X_train, y_train)"
   ]
  },
  {
   "cell_type": "code",
   "execution_count": 63,
   "id": "adeae336-cc12-4555-9467-80ff69b7342d",
   "metadata": {},
   "outputs": [
    {
     "data": {
      "text/plain": [
       "{'cv__min_df': 50,\n",
       " 'cv__stop_words': None,\n",
       " 'rf__max_depth': 150,\n",
       " 'rf__min_samples_split': 15,\n",
       " 'rf__n_estimators': 150}"
      ]
     },
     "execution_count": 63,
     "metadata": {},
     "output_type": "execute_result"
    }
   ],
   "source": [
    "gs_1.best_params_"
   ]
  },
  {
   "cell_type": "code",
   "execution_count": 66,
   "id": "c00333fe-ab45-4129-a0d0-fb8cf27029f6",
   "metadata": {},
   "outputs": [
    {
     "data": {
      "text/plain": [
       "(0.8083281347473488, 0.2801559454191033)"
      ]
     },
     "execution_count": 66,
     "metadata": {},
     "output_type": "execute_result"
    }
   ],
   "source": [
    "gs_1.score(X_train, y_train), gs_1.score(X_test, y_test)"
   ]
  },
  {
   "cell_type": "code",
   "execution_count": 65,
   "id": "55d9a5bd-1264-4253-bc69-011c5d25b09f",
   "metadata": {},
   "outputs": [
    {
     "data": {
      "text/plain": [
       "0.27815017330365355"
      ]
     },
     "execution_count": 65,
     "metadata": {},
     "output_type": "execute_result"
    }
   ],
   "source": [
    "gs_1.best_score_"
   ]
  },
  {
   "cell_type": "code",
   "execution_count": 71,
   "id": "11eccd57-b839-4174-9737-e030e21d017c",
   "metadata": {},
   "outputs": [
    {
     "data": {
      "image/png": "[encoded data removed]",
      "text/plain": [
       "<Figure size 640x480 with 2 Axes>"
      ]
     },
     "metadata": {},
     "output_type": "display_data"
    }
   ],
   "source": [
    "plot_confusion_matrix(estimator=gs_1, X=X_test, y_true=y_test)\n",
    "plt.xticks(rotation=90)\n",
    "plt.show()"
   ]
  },
  {
   "cell_type": "code",
   "execution_count": 67,
   "id": "eddf9b34-0119-4924-b835-1b72cfae1947",
   "metadata": {},
   "outputs": [],
   "source": [
    "preds_1 = gs_1.predict(X_test)"
   ]
  },
  {
   "cell_type": "code",
   "execution_count": 90,
   "id": "52146565-6938-4772-b811-d32f420a7033",
   "metadata": {},
   "outputs": [
    {
     "name": "stdout",
     "output_type": "stream",
     "text": [
      "                precision    recall  f1-score   support\n",
      "\n",
      " Chandler Bing       0.26      0.29      0.28      2142\n",
      "Joey Tribbiani       0.30      0.27      0.29      2052\n",
      " Monica Geller       0.26      0.26      0.26      2125\n",
      " Phoebe Buffay       0.29      0.18      0.22      1884\n",
      "  Rachel Green       0.30      0.35      0.32      2332\n",
      "   Ross Geller       0.26      0.31      0.28      2290\n",
      "\n",
      "      accuracy                           0.28     12825\n",
      "     macro avg       0.28      0.28      0.28     12825\n",
      "  weighted avg       0.28      0.28      0.28     12825\n",
      "\n"
     ]
    }
   ],
   "source": [
    "print(classification_report(y_true=y_test, y_pred=preds_1))"
   ]
  },
  {
   "cell_type": "code",
   "execution_count": 91,
   "id": "61b19c6d-2bb3-4ea2-8a66-e61754bb9725",
   "metadata": {},
   "outputs": [
    {
     "data": {
      "text/plain": [
       "0.2801559454191033"
      ]
     },
     "execution_count": 91,
     "metadata": {},
     "output_type": "execute_result"
    }
   ],
   "source": [
    "accuracy_score(y_true=y_test, y_pred=preds_1)"
   ]
  },
  {
   "cell_type": "code",
   "execution_count": 84,
   "id": "4a915d96-82fb-4706-ba7a-08c59a1494a1",
   "metadata": {},
   "outputs": [
    {
     "data": {
      "text/html": [
       "<div>\n",
       "<style scoped>\n",
       "    .dataframe tbody tr th:only-of-type {\n",
       "        vertical-align: middle;\n",
       "    }\n",
       "\n",
       "    .dataframe tbody tr th {\n",
       "        vertical-align: top;\n",
       "    }\n",
       "\n",
       "    .dataframe thead th {\n",
       "        text-align: right;\n",
       "    }\n",
       "</style>\n",
       "<table border=\"1\" class=\"dataframe\">\n",
       "  <thead>\n",
       "    <tr style=\"text-align: right;\">\n",
       "      <th></th>\n",
       "      <th>actual</th>\n",
       "      <th>predictions</th>\n",
       "      <th>dialogue</th>\n",
       "    </tr>\n",
       "  </thead>\n",
       "  <tbody>\n",
       "    <tr>\n",
       "      <th>45809</th>\n",
       "      <td>Rachel Green</td>\n",
       "      <td>Monica Geller</td>\n",
       "      <td>When you're sick, you do whatever you can to m...</td>\n",
       "    </tr>\n",
       "    <tr>\n",
       "      <th>27777</th>\n",
       "      <td>Rachel Green</td>\n",
       "      <td>Joey Tribbiani</td>\n",
       "      <td>Well then honey, buy the lamp! Hey, we have th...</td>\n",
       "    </tr>\n",
       "    <tr>\n",
       "      <th>48256</th>\n",
       "      <td>Rachel Green</td>\n",
       "      <td>Monica Geller</td>\n",
       "      <td>She's mine!</td>\n",
       "    </tr>\n",
       "    <tr>\n",
       "      <th>36522</th>\n",
       "      <td>Monica Geller</td>\n",
       "      <td>Monica Geller</td>\n",
       "      <td>Did I miss it? Rachel, I-I want you to know th...</td>\n",
       "    </tr>\n",
       "    <tr>\n",
       "      <th>6393</th>\n",
       "      <td>Phoebe Buffay</td>\n",
       "      <td>Chandler Bing</td>\n",
       "      <td>OK, look, see, this is him. My mother gave me ...</td>\n",
       "    </tr>\n",
       "    <tr>\n",
       "      <th>25997</th>\n",
       "      <td>Rachel Green</td>\n",
       "      <td>Chandler Bing</td>\n",
       "      <td>But y'know what, if you think it's gonna be ok...</td>\n",
       "    </tr>\n",
       "    <tr>\n",
       "      <th>16641</th>\n",
       "      <td>Chandler Bing</td>\n",
       "      <td>Chandler Bing</td>\n",
       "      <td>Well, like father, like son.</td>\n",
       "    </tr>\n",
       "    <tr>\n",
       "      <th>16009</th>\n",
       "      <td>Chandler Bing</td>\n",
       "      <td>Ross Geller</td>\n",
       "      <td>Could be Casey.</td>\n",
       "    </tr>\n",
       "    <tr>\n",
       "      <th>48797</th>\n",
       "      <td>Joey Tribbiani</td>\n",
       "      <td>Phoebe Buffay</td>\n",
       "      <td>Oh, I know how you feel...</td>\n",
       "    </tr>\n",
       "    <tr>\n",
       "      <th>6594</th>\n",
       "      <td>Monica Geller</td>\n",
       "      <td>Ross Geller</td>\n",
       "      <td>Bobby.</td>\n",
       "    </tr>\n",
       "  </tbody>\n",
       "</table>\n",
       "</div>"
      ],
      "text/plain": [
       "               actual     predictions  \\\n",
       "45809    Rachel Green   Monica Geller   \n",
       "27777    Rachel Green  Joey Tribbiani   \n",
       "48256    Rachel Green   Monica Geller   \n",
       "36522   Monica Geller   Monica Geller   \n",
       "6393    Phoebe Buffay   Chandler Bing   \n",
       "25997    Rachel Green   Chandler Bing   \n",
       "16641   Chandler Bing   Chandler Bing   \n",
       "16009   Chandler Bing     Ross Geller   \n",
       "48797  Joey Tribbiani   Phoebe Buffay   \n",
       "6594    Monica Geller     Ross Geller   \n",
       "\n",
       "                                                dialogue  \n",
       "45809  When you're sick, you do whatever you can to m...  \n",
       "27777  Well then honey, buy the lamp! Hey, we have th...  \n",
       "48256                                        She's mine!  \n",
       "36522  Did I miss it? Rachel, I-I want you to know th...  \n",
       "6393   OK, look, see, this is him. My mother gave me ...  \n",
       "25997  But y'know what, if you think it's gonna be ok...  \n",
       "16641                       Well, like father, like son.  \n",
       "16009                                    Could be Casey.  \n",
       "48797                         Oh, I know how you feel...  \n",
       "6594                                              Bobby.  "
      ]
     },
     "execution_count": 84,
     "metadata": {},
     "output_type": "execute_result"
    }
   ],
   "source": [
    "df_params_1 = pd.DataFrame(y_test)\n",
    "df_params_1['predictions'] = preds_1 \n",
    "df_params_1['dialogue'] = X_test\n",
    "df_params_1.rename(columns={'character': 'actual'}, inplace=True)\n",
    "df_params_1.head(10)"
   ]
  },
  {
   "cell_type": "code",
   "execution_count": 81,
   "id": "1d2b5aa7-9ae6-4776-ba1b-db6aa1afa80b",
   "metadata": {},
   "outputs": [
    {
     "data": {
      "text/plain": [
       "actual         9232\n",
       "predictions    9232\n",
       "dtype: int64"
      ]
     },
     "execution_count": 81,
     "metadata": {},
     "output_type": "execute_result"
    }
   ],
   "source": [
    "df_params_1.loc[df_params_1['actual']!= df_params_1['predictions']].count()"
   ]
  },
  {
   "cell_type": "markdown",
   "id": "179f64da-1dca-4977-a099-f917c85f14f1",
   "metadata": {},
   "source": [
    "----\n",
    "Trying out more parameters"
   ]
  },
  {
   "cell_type": "code",
   "execution_count": 72,
   "id": "0f180abe-c7c2-4a04-b531-5ecddd4e30d3",
   "metadata": {},
   "outputs": [],
   "source": [
    "#Trying out more parameters!\n",
    "grid_params_2 = {'cv__stop_words':[None, 'english'],\n",
    "               'cv__min_df': list(range(0,46)), \n",
    "                'rf__n_estimators': list(range(0, 201, 10)),\n",
    "                'rf__max_depth': list(range(0, 201, 10)),\n",
    "                'rf__min_samples_split': list(range(0, 51, 5))\n",
    "}"
   ]
  },
  {
   "cell_type": "code",
   "execution_count": null,
   "id": "6e5fe29d-ce68-4cd6-a55b-af4cf549736f",
   "metadata": {},
   "outputs": [],
   "source": [
    "gs_2 = GridSearchCV(estimator=pipe, param_grid=grid_params_2)\n",
    "gs_2.fit(X_train, y_train)"
   ]
  }
 ],
 "metadata": {
  "kernelspec": {
   "display_name": "Python 3",
   "language": "python",
   "name": "python3"
  },
  "language_info": {
   "codemirror_mode": {
    "name": "ipython",
    "version": 3
   },
   "file_extension": ".py",
   "mimetype": "text/x-python",
   "name": "python",
   "nbconvert_exporter": "python",
   "pygments_lexer": "ipython3",
   "version": "3.9.7"
  }
 },
 "nbformat": 4,
 "nbformat_minor": 5
}
