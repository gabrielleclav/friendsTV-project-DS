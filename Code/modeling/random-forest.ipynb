{
 "cells": [
  {
   "cell_type": "markdown",
   "id": "a0d6b9e7-9eb6-4532-a124-17a36ed566c6",
   "metadata": {},
   "source": [
    "# Random Forest Modeling"
   ]
  },
  {
   "cell_type": "markdown",
   "id": "e87e54bb-17e4-4f9e-8277-5f6bb5caec91",
   "metadata": {},
   "source": [
    "## Predicting the character "
   ]
  },
  {
   "cell_type": "code",
   "execution_count": 125,
   "id": "47a71f76-d935-4dca-bf86-bd07d49a127a",
   "metadata": {},
   "outputs": [],
   "source": [
    "#import necessary libraries \n",
    "import numpy as np\n",
    "import pandas as pd\n",
    "import matplotlib.pyplot as plt\n",
    "\n",
    "#Importing the Random Forest Classifier module \n",
    "from sklearn.ensemble import RandomForestClassifier\n",
    "\n",
    "#Importing CountVectorizer and TFIDFVectorizer from feature_extraction.text\n",
    "from sklearn.feature_extraction.text import TfidfVectorizer, CountVectorizer\n",
    "\n",
    "from sklearn.feature_extraction import text\n",
    "\n",
    "#Other modules needed \n",
    "from sklearn.model_selection import GridSearchCV, train_test_split\n",
    "from sklearn.pipeline import Pipeline\n",
    "from sklearn.metrics import (plot_confusion_matrix, accuracy_score, \n",
    "                             classification_report, f1_score)\n",
    "\n",
    "from nltk.corpus import stopwords\n",
    "\n",
    "#For streamlit app\n",
    "import pickle"
   ]
  },
  {
   "cell_type": "code",
   "execution_count": 2,
   "id": "ce3fee13-e1ff-4612-93dc-fb901d00222f",
   "metadata": {},
   "outputs": [
    {
     "data": {
      "text/html": [
       "<div>\n",
       "<style scoped>\n",
       "    .dataframe tbody tr th:only-of-type {\n",
       "        vertical-align: middle;\n",
       "    }\n",
       "\n",
       "    .dataframe tbody tr th {\n",
       "        vertical-align: top;\n",
       "    }\n",
       "\n",
       "    .dataframe thead th {\n",
       "        text-align: right;\n",
       "    }\n",
       "</style>\n",
       "<table border=\"1\" class=\"dataframe\">\n",
       "  <thead>\n",
       "    <tr style=\"text-align: right;\">\n",
       "      <th></th>\n",
       "      <th>season</th>\n",
       "      <th>episode</th>\n",
       "      <th>character</th>\n",
       "      <th>dialogue</th>\n",
       "    </tr>\n",
       "  </thead>\n",
       "  <tbody>\n",
       "    <tr>\n",
       "      <th>0</th>\n",
       "      <td>s01</td>\n",
       "      <td>e01</td>\n",
       "      <td>Monica Geller</td>\n",
       "      <td>There's nothing to tell! He's just some guy I ...</td>\n",
       "    </tr>\n",
       "    <tr>\n",
       "      <th>1</th>\n",
       "      <td>s01</td>\n",
       "      <td>e01</td>\n",
       "      <td>Joey Tribbiani</td>\n",
       "      <td>C'mon, you're going out with the guy! There's ...</td>\n",
       "    </tr>\n",
       "    <tr>\n",
       "      <th>2</th>\n",
       "      <td>s01</td>\n",
       "      <td>e01</td>\n",
       "      <td>Chandler Bing</td>\n",
       "      <td>All right Joey, be nice. So does he have a hum...</td>\n",
       "    </tr>\n",
       "    <tr>\n",
       "      <th>3</th>\n",
       "      <td>s01</td>\n",
       "      <td>e01</td>\n",
       "      <td>Phoebe Buffay</td>\n",
       "      <td>Wait, does he eat chalk?</td>\n",
       "    </tr>\n",
       "    <tr>\n",
       "      <th>4</th>\n",
       "      <td>s01</td>\n",
       "      <td>e01</td>\n",
       "      <td>Phoebe Buffay</td>\n",
       "      <td>Just, 'cause, I don't want her to go through w...</td>\n",
       "    </tr>\n",
       "  </tbody>\n",
       "</table>\n",
       "</div>"
      ],
      "text/plain": [
       "  season episode       character  \\\n",
       "0    s01     e01   Monica Geller   \n",
       "1    s01     e01  Joey Tribbiani   \n",
       "2    s01     e01   Chandler Bing   \n",
       "3    s01     e01   Phoebe Buffay   \n",
       "4    s01     e01   Phoebe Buffay   \n",
       "\n",
       "                                            dialogue  \n",
       "0  There's nothing to tell! He's just some guy I ...  \n",
       "1  C'mon, you're going out with the guy! There's ...  \n",
       "2  All right Joey, be nice. So does he have a hum...  \n",
       "3                           Wait, does he eat chalk?  \n",
       "4  Just, 'cause, I don't want her to go through w...  "
      ]
     },
     "execution_count": 2,
     "metadata": {},
     "output_type": "execute_result"
    }
   ],
   "source": [
    "#import the dataset\n",
    "friends = pd.read_csv('../../Datasets/friends-modeling.csv')\n",
    "friends.head()"
   ]
  },
  {
   "cell_type": "code",
   "execution_count": 3,
   "id": "c0ac30ec-57a4-4ff4-8e6f-6ddf5c9c0da2",
   "metadata": {},
   "outputs": [
    {
     "data": {
      "text/plain": [
       "season       0\n",
       "episode      0\n",
       "character    0\n",
       "dialogue     0\n",
       "dtype: int64"
      ]
     },
     "execution_count": 3,
     "metadata": {},
     "output_type": "execute_result"
    }
   ],
   "source": [
    "#Make sure no nulls\n",
    "friends.isnull().sum()"
   ]
  },
  {
   "cell_type": "markdown",
   "id": "f17bdc16-6c6d-4593-bf38-eb028ec6cd8d",
   "metadata": {},
   "source": [
    "### Make X and y values "
   ]
  },
  {
   "cell_type": "code",
   "execution_count": 4,
   "id": "acc47376-1df0-4800-bd97-fde07c30ab13",
   "metadata": {},
   "outputs": [],
   "source": [
    "X = friends['dialogue']\n",
    "y = friends['character']"
   ]
  },
  {
   "cell_type": "markdown",
   "id": "ac18e579-4073-4b87-a2a0-dfd2542296f5",
   "metadata": {},
   "source": [
    "### Split into Train and Test"
   ]
  },
  {
   "cell_type": "code",
   "execution_count": 5,
   "id": "fabbfe9c-55e5-4da4-abf0-ddd8d72500ce",
   "metadata": {},
   "outputs": [],
   "source": [
    "X_train, X_test, y_train, y_test = train_test_split(X, y, random_state=42, stratify=y)"
   ]
  },
  {
   "cell_type": "markdown",
   "id": "b46b7d66-0e46-4d0f-9a9a-cb9c2a3013e3",
   "metadata": {},
   "source": [
    "### Baseline Accuracy "
   ]
  },
  {
   "cell_type": "code",
   "execution_count": 10,
   "id": "3586fb8d-40ff-4c41-ae41-b057c6bf5f4e",
   "metadata": {},
   "outputs": [
    {
     "data": {
      "text/plain": [
       "Rachel Green      0.177657\n",
       "Ross Geller       0.177152\n",
       "Chandler Bing     0.169355\n",
       "Monica Geller     0.167242\n",
       "Joey Tribbiani    0.160725\n",
       "Phoebe Buffay     0.147869\n",
       "Name: character, dtype: float64"
      ]
     },
     "execution_count": 10,
     "metadata": {},
     "output_type": "execute_result"
    }
   ],
   "source": [
    "y_train.value_counts(normalize=True)"
   ]
  },
  {
   "cell_type": "markdown",
   "id": "5b95b0f2-8034-45db-81db-a547dda6ab0e",
   "metadata": {},
   "source": [
    "### Setting up a Pipe for all Random Forest Modeling with CountVectorizer"
   ]
  },
  {
   "cell_type": "code",
   "execution_count": 11,
   "id": "ebf908ae-4a34-40cb-b1c0-0467343c762e",
   "metadata": {},
   "outputs": [],
   "source": [
    "pipe_cv = Pipeline(steps=[('cv', CountVectorizer()),\n",
    "                       ('rf', RandomForestClassifier(random_state=42))\n",
    "                      ])"
   ]
  },
  {
   "cell_type": "markdown",
   "id": "dc3d978f-352a-42a9-a53b-717c8fa64f53",
   "metadata": {},
   "source": [
    "### Modeling: Basic Model with Default Parameters and using CountVectorizer"
   ]
  },
  {
   "cell_type": "code",
   "execution_count": 12,
   "id": "2f670c11-17a0-4505-97ff-811a579bf5d7",
   "metadata": {},
   "outputs": [],
   "source": [
    "grid_default = {'cv__stop_words':[None, 'english']}"
   ]
  },
  {
   "cell_type": "code",
   "execution_count": 13,
   "id": "2a297f7b-3ff6-4d11-925d-22c86a08a411",
   "metadata": {},
   "outputs": [
    {
     "data": {
      "text/plain": [
       "GridSearchCV(estimator=Pipeline(steps=[('cv', CountVectorizer()),\n",
       "                                       ('rf',\n",
       "                                        RandomForestClassifier(random_state=42))]),\n",
       "             param_grid={'cv__stop_words': [None, 'english']})"
      ]
     },
     "execution_count": 13,
     "metadata": {},
     "output_type": "execute_result"
    }
   ],
   "source": [
    "# Instaniate a gridSearch object \n",
    "gs_default = GridSearchCV(estimator=pipe_cv, param_grid=grid_default)\n",
    "gs_default.fit(X_train, y_train)"
   ]
  },
  {
   "cell_type": "code",
   "execution_count": 14,
   "id": "bd81ccdd-5a94-4500-9ffc-e30e9541b186",
   "metadata": {},
   "outputs": [
    {
     "data": {
      "text/plain": [
       "{'cv__stop_words': None}"
      ]
     },
     "execution_count": 14,
     "metadata": {},
     "output_type": "execute_result"
    }
   ],
   "source": [
    "#What were the best parameters for the CountVectorizer?\n",
    "gs_default.best_params_"
   ]
  },
  {
   "cell_type": "code",
   "execution_count": 119,
   "id": "6269b0a4-74fd-416d-b7cb-406dad274719",
   "metadata": {},
   "outputs": [
    {
     "name": "stdout",
     "output_type": "stream",
     "text": [
      "Train score: 0.9547970479704797 \n",
      "Test score: 0.2852169255490091\n"
     ]
    }
   ],
   "source": [
    "print(f\"Train score: {gs_default.score(X_train, y_train)} \\nTest score: {gs_default.score(X_test, y_test)}\")"
   ]
  },
  {
   "cell_type": "markdown",
   "id": "1c2180cf-bd18-45ae-bbb7-aa3b8e33379f",
   "metadata": {},
   "source": [
    "---\n",
    "\n",
    "**Making Predictions**"
   ]
  },
  {
   "cell_type": "code",
   "execution_count": 17,
   "id": "d567d916-0b4a-4d2c-a3c5-88c2b5497619",
   "metadata": {},
   "outputs": [],
   "source": [
    "preds_grid_default = gs_default.predict(X_test)"
   ]
  },
  {
   "cell_type": "code",
   "execution_count": 18,
   "id": "4b8c1158-4574-4bd9-b0a7-dc2705acc1b4",
   "metadata": {},
   "outputs": [
    {
     "data": {
      "image/png": "[encoded data removed]",
      "text/plain": [
       "<Figure size 640x480 with 2 Axes>"
      ]
     },
     "metadata": {},
     "output_type": "display_data"
    }
   ],
   "source": [
    "#Plotting a Confusion Matrix to show a comparison between actual and predicted values.\n",
    "plot_confusion_matrix(estimator=gs_default, X = X_test, y_true=y_test)\n",
    "plt.xticks(rotation = 90)\n",
    "plt.show()"
   ]
  },
  {
   "cell_type": "code",
   "execution_count": 19,
   "id": "20ba6a82-046e-464f-b16c-b87f16a61f2f",
   "metadata": {},
   "outputs": [
    {
     "name": "stdout",
     "output_type": "stream",
     "text": [
      "                precision    recall  f1-score   support\n",
      "\n",
      " Chandler Bing       0.27      0.26      0.27      1897\n",
      "Joey Tribbiani       0.31      0.30      0.30      1800\n",
      " Monica Geller       0.25      0.26      0.25      1873\n",
      " Phoebe Buffay       0.29      0.22      0.25      1656\n",
      "  Rachel Green       0.30      0.36      0.33      1991\n",
      "   Ross Geller       0.30      0.30      0.30      1985\n",
      "\n",
      "      accuracy                           0.29     11202\n",
      "     macro avg       0.29      0.28      0.28     11202\n",
      "  weighted avg       0.29      0.29      0.28     11202\n",
      "\n"
     ]
    }
   ],
   "source": [
    "print(classification_report(y_test, preds_grid_default))"
   ]
  },
  {
   "cell_type": "code",
   "execution_count": 20,
   "id": "2310f15c-1832-41af-b3f0-3bf23ce60125",
   "metadata": {},
   "outputs": [
    {
     "data": {
      "text/plain": [
       "0.2852169255490091"
      ]
     },
     "execution_count": 20,
     "metadata": {},
     "output_type": "execute_result"
    }
   ],
   "source": [
    "accuracy_score(y_true=y_test, y_pred=preds_grid_default)"
   ]
  },
  {
   "cell_type": "markdown",
   "id": "b29c0292-7ff5-4f23-8c54-e63ffae50c46",
   "metadata": {},
   "source": [
    "----\n",
    "**Making a dataframe with predictions, actual, and the dialogue**"
   ]
  },
  {
   "cell_type": "code",
   "execution_count": 21,
   "id": "9db55389-8448-4965-9fff-dc0d08556ed2",
   "metadata": {},
   "outputs": [
    {
     "data": {
      "text/html": [
       "<div>\n",
       "<style scoped>\n",
       "    .dataframe tbody tr th:only-of-type {\n",
       "        vertical-align: middle;\n",
       "    }\n",
       "\n",
       "    .dataframe tbody tr th {\n",
       "        vertical-align: top;\n",
       "    }\n",
       "\n",
       "    .dataframe thead th {\n",
       "        text-align: right;\n",
       "    }\n",
       "</style>\n",
       "<table border=\"1\" class=\"dataframe\">\n",
       "  <thead>\n",
       "    <tr style=\"text-align: right;\">\n",
       "      <th></th>\n",
       "      <th>actual</th>\n",
       "      <th>predictions</th>\n",
       "      <th>dialogue</th>\n",
       "    </tr>\n",
       "  </thead>\n",
       "  <tbody>\n",
       "    <tr>\n",
       "      <th>8260</th>\n",
       "      <td>Monica Geller</td>\n",
       "      <td>Joey Tribbiani</td>\n",
       "      <td>Then what's the problem?</td>\n",
       "    </tr>\n",
       "    <tr>\n",
       "      <th>12970</th>\n",
       "      <td>Phoebe Buffay</td>\n",
       "      <td>Phoebe Buffay</td>\n",
       "      <td>Yeah, well, everybody does! I'm a really cool ...</td>\n",
       "    </tr>\n",
       "    <tr>\n",
       "      <th>9682</th>\n",
       "      <td>Rachel Green</td>\n",
       "      <td>Phoebe Buffay</td>\n",
       "      <td>What? What? He's interested in you. He-he like...</td>\n",
       "    </tr>\n",
       "    <tr>\n",
       "      <th>22017</th>\n",
       "      <td>Monica Geller</td>\n",
       "      <td>Chandler Bing</td>\n",
       "      <td>I've never loved anybody as much as I love you.</td>\n",
       "    </tr>\n",
       "    <tr>\n",
       "      <th>5611</th>\n",
       "      <td>Rachel Green</td>\n",
       "      <td>Chandler Bing</td>\n",
       "      <td>And I'm in it? Then let me read it.</td>\n",
       "    </tr>\n",
       "    <tr>\n",
       "      <th>22331</th>\n",
       "      <td>Joey Tribbiani</td>\n",
       "      <td>Joey Tribbiani</td>\n",
       "      <td>Yeah, I gotta go! I got an acting job. Like yo...</td>\n",
       "    </tr>\n",
       "    <tr>\n",
       "      <th>18609</th>\n",
       "      <td>Monica Geller</td>\n",
       "      <td>Phoebe Buffay</td>\n",
       "      <td>Great. So the ball is in his court?</td>\n",
       "    </tr>\n",
       "    <tr>\n",
       "      <th>23737</th>\n",
       "      <td>Monica Geller</td>\n",
       "      <td>Monica Geller</td>\n",
       "      <td>Dad, please don't pick your teeth out here! Al...</td>\n",
       "    </tr>\n",
       "    <tr>\n",
       "      <th>35446</th>\n",
       "      <td>Ross Geller</td>\n",
       "      <td>Chandler Bing</td>\n",
       "      <td>Excellent! Excellent, now-now do you want anot...</td>\n",
       "    </tr>\n",
       "    <tr>\n",
       "      <th>3756</th>\n",
       "      <td>Monica Geller</td>\n",
       "      <td>Ross Geller</td>\n",
       "      <td>How are you?</td>\n",
       "    </tr>\n",
       "  </tbody>\n",
       "</table>\n",
       "</div>"
      ],
      "text/plain": [
       "               actual     predictions  \\\n",
       "8260    Monica Geller  Joey Tribbiani   \n",
       "12970   Phoebe Buffay   Phoebe Buffay   \n",
       "9682     Rachel Green   Phoebe Buffay   \n",
       "22017   Monica Geller   Chandler Bing   \n",
       "5611     Rachel Green   Chandler Bing   \n",
       "22331  Joey Tribbiani  Joey Tribbiani   \n",
       "18609   Monica Geller   Phoebe Buffay   \n",
       "23737   Monica Geller   Monica Geller   \n",
       "35446     Ross Geller   Chandler Bing   \n",
       "3756    Monica Geller     Ross Geller   \n",
       "\n",
       "                                                dialogue  \n",
       "8260                            Then what's the problem?  \n",
       "12970  Yeah, well, everybody does! I'm a really cool ...  \n",
       "9682   What? What? He's interested in you. He-he like...  \n",
       "22017    I've never loved anybody as much as I love you.  \n",
       "5611                 And I'm in it? Then let me read it.  \n",
       "22331  Yeah, I gotta go! I got an acting job. Like yo...  \n",
       "18609                Great. So the ball is in his court?  \n",
       "23737  Dad, please don't pick your teeth out here! Al...  \n",
       "35446  Excellent! Excellent, now-now do you want anot...  \n",
       "3756                                        How are you?  "
      ]
     },
     "execution_count": 21,
     "metadata": {},
     "output_type": "execute_result"
    }
   ],
   "source": [
    "df_default = pd.DataFrame(y_test)\n",
    "\n",
    "df_default['predictions'] = preds_grid_default\n",
    "df_default['dialogue'] = X_test\n",
    "df_default.rename(columns={'character': 'actual'}, inplace=True)\n",
    "df_default.head(10)"
   ]
  },
  {
   "cell_type": "code",
   "execution_count": 111,
   "id": "2c84d72a-4765-4445-84b0-7065ce7924c0",
   "metadata": {},
   "outputs": [
    {
     "data": {
      "text/plain": [
       "Rachel Green      2424\n",
       "Monica Geller     2004\n",
       "Ross Geller       1987\n",
       "Chandler Bing     1795\n",
       "Joey Tribbiani    1742\n",
       "Phoebe Buffay     1250\n",
       "Name: predictions, dtype: int64"
      ]
     },
     "execution_count": 111,
     "metadata": {},
     "output_type": "execute_result"
    }
   ],
   "source": [
    "#Looking at how many times each character is predicted\n",
    "df_default['predictions'].value_counts()"
   ]
  },
  {
   "cell_type": "code",
   "execution_count": 112,
   "id": "be7022c0-be74-46a6-9d6d-8720e44d532e",
   "metadata": {},
   "outputs": [
    {
     "data": {
      "text/plain": [
       "Rachel Green      1991\n",
       "Ross Geller       1985\n",
       "Chandler Bing     1897\n",
       "Monica Geller     1873\n",
       "Joey Tribbiani    1800\n",
       "Phoebe Buffay     1656\n",
       "Name: actual, dtype: int64"
      ]
     },
     "execution_count": 112,
     "metadata": {},
     "output_type": "execute_result"
    }
   ],
   "source": [
    "#Looking at how many times each character actually appears\n",
    "df_default['actual'].value_counts()"
   ]
  },
  {
   "cell_type": "code",
   "execution_count": 22,
   "id": "abb0e529-047c-44f7-bf15-4aff0387d921",
   "metadata": {},
   "outputs": [
    {
     "data": {
      "text/plain": [
       "actual         8007\n",
       "predictions    8007\n",
       "dialogue       8007\n",
       "dtype: int64"
      ]
     },
     "execution_count": 22,
     "metadata": {},
     "output_type": "execute_result"
    }
   ],
   "source": [
    "#Seeing how many rows where the actual and the predicted do not match \n",
    "df_default.loc[df_default['actual']!= df_default['predictions']].count()"
   ]
  },
  {
   "cell_type": "code",
   "execution_count": 110,
   "id": "75a93846-2246-4190-8df3-4a23d182ab48",
   "metadata": {},
   "outputs": [
    {
     "data": {
      "text/plain": [
       "actual         3195\n",
       "predictions    3195\n",
       "dialogue       3195\n",
       "dtype: int64"
      ]
     },
     "execution_count": 110,
     "metadata": {},
     "output_type": "execute_result"
    }
   ],
   "source": [
    "#Seeing how many rows where the actual and the predicted do match \n",
    "df_default.loc[df_default['actual'] == df_default['predictions']].count()"
   ]
  },
  {
   "cell_type": "markdown",
   "id": "9386a3bf-5f64-447d-8ff5-19dd1feeb38d",
   "metadata": {},
   "source": [
    "---\n",
    "**Predicting Some Phrases**"
   ]
  },
  {
   "cell_type": "code",
   "execution_count": 101,
   "id": "c01401e4-ab74-4d24-aef9-59acd6257881",
   "metadata": {},
   "outputs": [
    {
     "data": {
      "text/plain": [
       "'Joey Tribbiani'"
      ]
     },
     "execution_count": 101,
     "metadata": {},
     "output_type": "execute_result"
    }
   ],
   "source": [
    "gs_default.predict([\"How you doin'?\"])[0]"
   ]
  },
  {
   "cell_type": "code",
   "execution_count": 102,
   "id": "24f73921-1bbe-456b-9ff6-3622c37e9598",
   "metadata": {},
   "outputs": [
    {
     "data": {
      "text/plain": [
       "'Phoebe Buffay'"
      ]
     },
     "execution_count": 102,
     "metadata": {},
     "output_type": "execute_result"
    }
   ],
   "source": [
    "gs_default.predict(['Smelly cat, smelly cat, what are they feeding you'])[0]"
   ]
  },
  {
   "cell_type": "code",
   "execution_count": 103,
   "id": "7e4eeb4f-2e90-4785-a6b5-96868632f2b7",
   "metadata": {},
   "outputs": [
    {
     "data": {
      "text/plain": [
       "'Ross Geller'"
      ]
     },
     "execution_count": 103,
     "metadata": {},
     "output_type": "execute_result"
    }
   ],
   "source": [
    "gs_default.predict(['We were on a break!'])[0]"
   ]
  },
  {
   "cell_type": "markdown",
   "id": "3c88222b-47fe-4395-baf2-09635ad3ddc9",
   "metadata": {},
   "source": [
    "\n",
    "<br>\n",
    "\n",
    "----\n",
    "### With Parameters!"
   ]
  },
  {
   "cell_type": "code",
   "execution_count": 26,
   "id": "240faed9-d459-4184-927b-da20b565c891",
   "metadata": {},
   "outputs": [],
   "source": [
    "grid_params_1 = {'cv__stop_words':[None, 'english'],\n",
    "                'rf__max_depth': [10, 25, 50, 75, 100, 150],\n",
    "                'rf__min_samples_split': [10, 15, 20, 25, 30]}"
   ]
  },
  {
   "cell_type": "code",
   "execution_count": 27,
   "id": "86977b8b-298d-4563-822b-ad7af121835f",
   "metadata": {},
   "outputs": [
    {
     "data": {
      "text/plain": [
       "GridSearchCV(estimator=Pipeline(steps=[('cv', CountVectorizer()),\n",
       "                                       ('rf',\n",
       "                                        RandomForestClassifier(random_state=42))]),\n",
       "             param_grid={'cv__stop_words': [None, 'english'],\n",
       "                         'rf__max_depth': [10, 25, 50, 75, 100, 150],\n",
       "                         'rf__min_samples_split': [10, 15, 20, 25, 30]})"
      ]
     },
     "execution_count": 27,
     "metadata": {},
     "output_type": "execute_result"
    }
   ],
   "source": [
    "#Instaniating a GridSearch\n",
    "gs_1 = GridSearchCV(estimator=pipe_cv, param_grid= grid_params_1)\n",
    "gs_1.fit(X_train, y_train)"
   ]
  },
  {
   "cell_type": "code",
   "execution_count": 28,
   "id": "adeae336-cc12-4555-9467-80ff69b7342d",
   "metadata": {},
   "outputs": [
    {
     "data": {
      "text/plain": [
       "{'cv__stop_words': None, 'rf__max_depth': 150, 'rf__min_samples_split': 20}"
      ]
     },
     "execution_count": 28,
     "metadata": {},
     "output_type": "execute_result"
    }
   ],
   "source": [
    "#Best parameters\n",
    "gs_1.best_params_"
   ]
  },
  {
   "cell_type": "code",
   "execution_count": 120,
   "id": "c00333fe-ab45-4129-a0d0-fb8cf27029f6",
   "metadata": {},
   "outputs": [
    {
     "name": "stdout",
     "output_type": "stream",
     "text": [
      "Train score: 0.8246042137840733\n",
      "Test score: 0.30333868951972864\n"
     ]
    }
   ],
   "source": [
    "print(f'Train score: {gs_1.score(X_train, y_train)}\\nTest score: {gs_1.score(X_test, y_test)}')"
   ]
  },
  {
   "cell_type": "code",
   "execution_count": 31,
   "id": "11eccd57-b839-4174-9737-e030e21d017c",
   "metadata": {},
   "outputs": [
    {
     "data": {
      "image/png": "[encoded data removed]",
      "text/plain": [
       "<Figure size 640x480 with 2 Axes>"
      ]
     },
     "metadata": {},
     "output_type": "display_data"
    }
   ],
   "source": [
    "#Plotting a Confusion Matrix to show a comparison between actual and predicted values.\n",
    "plot_confusion_matrix(estimator=gs_1, X=X_test, y_true=y_test)\n",
    "plt.xticks(rotation=90)\n",
    "plt.show()"
   ]
  },
  {
   "cell_type": "markdown",
   "id": "f658d77b-ca98-4bfa-8f98-c6f855b6a827",
   "metadata": {},
   "source": [
    "----\n",
    "**Making Predictions**"
   ]
  },
  {
   "cell_type": "code",
   "execution_count": 32,
   "id": "eddf9b34-0119-4924-b835-1b72cfae1947",
   "metadata": {},
   "outputs": [],
   "source": [
    "preds_1 = gs_1.predict(X_test)"
   ]
  },
  {
   "cell_type": "code",
   "execution_count": 33,
   "id": "52146565-6938-4772-b811-d32f420a7033",
   "metadata": {},
   "outputs": [
    {
     "name": "stdout",
     "output_type": "stream",
     "text": [
      "                precision    recall  f1-score   support\n",
      "\n",
      " Chandler Bing       0.27      0.34      0.30      1897\n",
      "Joey Tribbiani       0.36      0.30      0.33      1800\n",
      " Monica Geller       0.26      0.29      0.27      1873\n",
      " Phoebe Buffay       0.39      0.17      0.23      1656\n",
      "  Rachel Green       0.31      0.40      0.35      1991\n",
      "   Ross Geller       0.31      0.31      0.31      1985\n",
      "\n",
      "      accuracy                           0.30     11202\n",
      "     macro avg       0.32      0.30      0.30     11202\n",
      "  weighted avg       0.31      0.30      0.30     11202\n",
      "\n"
     ]
    }
   ],
   "source": [
    "#Seeing the precision, recall, and f1-score for each class\n",
    "print(classification_report(y_true=y_test, y_pred=preds_1))"
   ]
  },
  {
   "cell_type": "code",
   "execution_count": 79,
   "id": "2e0dccf3-c0c6-42d7-93a8-61572cbc9ab0",
   "metadata": {},
   "outputs": [
    {
     "data": {
      "text/plain": [
       "0.30333868951972864"
      ]
     },
     "execution_count": 79,
     "metadata": {},
     "output_type": "execute_result"
    }
   ],
   "source": [
    "#Seeing how accurate the model is\n",
    "accuracy_score(y_true=y_test, y_pred=preds_1)"
   ]
  },
  {
   "cell_type": "markdown",
   "id": "6207603e-1bb4-4941-af93-7c6c23c28b71",
   "metadata": {},
   "source": [
    "---\n",
    "**Making a dataframe with the actual, predicted, and dialogue**"
   ]
  },
  {
   "cell_type": "code",
   "execution_count": 35,
   "id": "4a915d96-82fb-4706-ba7a-08c59a1494a1",
   "metadata": {},
   "outputs": [
    {
     "data": {
      "text/html": [
       "<div>\n",
       "<style scoped>\n",
       "    .dataframe tbody tr th:only-of-type {\n",
       "        vertical-align: middle;\n",
       "    }\n",
       "\n",
       "    .dataframe tbody tr th {\n",
       "        vertical-align: top;\n",
       "    }\n",
       "\n",
       "    .dataframe thead th {\n",
       "        text-align: right;\n",
       "    }\n",
       "</style>\n",
       "<table border=\"1\" class=\"dataframe\">\n",
       "  <thead>\n",
       "    <tr style=\"text-align: right;\">\n",
       "      <th></th>\n",
       "      <th>actual</th>\n",
       "      <th>predictions</th>\n",
       "      <th>dialogue</th>\n",
       "    </tr>\n",
       "  </thead>\n",
       "  <tbody>\n",
       "    <tr>\n",
       "      <th>8260</th>\n",
       "      <td>Monica Geller</td>\n",
       "      <td>Ross Geller</td>\n",
       "      <td>Then what's the problem?</td>\n",
       "    </tr>\n",
       "    <tr>\n",
       "      <th>12970</th>\n",
       "      <td>Phoebe Buffay</td>\n",
       "      <td>Phoebe Buffay</td>\n",
       "      <td>Yeah, well, everybody does! I'm a really cool ...</td>\n",
       "    </tr>\n",
       "    <tr>\n",
       "      <th>9682</th>\n",
       "      <td>Rachel Green</td>\n",
       "      <td>Monica Geller</td>\n",
       "      <td>What? What? He's interested in you. He-he like...</td>\n",
       "    </tr>\n",
       "    <tr>\n",
       "      <th>22017</th>\n",
       "      <td>Monica Geller</td>\n",
       "      <td>Monica Geller</td>\n",
       "      <td>I've never loved anybody as much as I love you.</td>\n",
       "    </tr>\n",
       "    <tr>\n",
       "      <th>5611</th>\n",
       "      <td>Rachel Green</td>\n",
       "      <td>Chandler Bing</td>\n",
       "      <td>And I'm in it? Then let me read it.</td>\n",
       "    </tr>\n",
       "    <tr>\n",
       "      <th>22331</th>\n",
       "      <td>Joey Tribbiani</td>\n",
       "      <td>Joey Tribbiani</td>\n",
       "      <td>Yeah, I gotta go! I got an acting job. Like yo...</td>\n",
       "    </tr>\n",
       "    <tr>\n",
       "      <th>18609</th>\n",
       "      <td>Monica Geller</td>\n",
       "      <td>Monica Geller</td>\n",
       "      <td>Great. So the ball is in his court?</td>\n",
       "    </tr>\n",
       "    <tr>\n",
       "      <th>23737</th>\n",
       "      <td>Monica Geller</td>\n",
       "      <td>Monica Geller</td>\n",
       "      <td>Dad, please don't pick your teeth out here! Al...</td>\n",
       "    </tr>\n",
       "    <tr>\n",
       "      <th>35446</th>\n",
       "      <td>Ross Geller</td>\n",
       "      <td>Chandler Bing</td>\n",
       "      <td>Excellent! Excellent, now-now do you want anot...</td>\n",
       "    </tr>\n",
       "    <tr>\n",
       "      <th>3756</th>\n",
       "      <td>Monica Geller</td>\n",
       "      <td>Monica Geller</td>\n",
       "      <td>How are you?</td>\n",
       "    </tr>\n",
       "  </tbody>\n",
       "</table>\n",
       "</div>"
      ],
      "text/plain": [
       "               actual     predictions  \\\n",
       "8260    Monica Geller     Ross Geller   \n",
       "12970   Phoebe Buffay   Phoebe Buffay   \n",
       "9682     Rachel Green   Monica Geller   \n",
       "22017   Monica Geller   Monica Geller   \n",
       "5611     Rachel Green   Chandler Bing   \n",
       "22331  Joey Tribbiani  Joey Tribbiani   \n",
       "18609   Monica Geller   Monica Geller   \n",
       "23737   Monica Geller   Monica Geller   \n",
       "35446     Ross Geller   Chandler Bing   \n",
       "3756    Monica Geller   Monica Geller   \n",
       "\n",
       "                                                dialogue  \n",
       "8260                            Then what's the problem?  \n",
       "12970  Yeah, well, everybody does! I'm a really cool ...  \n",
       "9682   What? What? He's interested in you. He-he like...  \n",
       "22017    I've never loved anybody as much as I love you.  \n",
       "5611                 And I'm in it? Then let me read it.  \n",
       "22331  Yeah, I gotta go! I got an acting job. Like yo...  \n",
       "18609                Great. So the ball is in his court?  \n",
       "23737  Dad, please don't pick your teeth out here! Al...  \n",
       "35446  Excellent! Excellent, now-now do you want anot...  \n",
       "3756                                        How are you?  "
      ]
     },
     "execution_count": 35,
     "metadata": {},
     "output_type": "execute_result"
    }
   ],
   "source": [
    "df_params_1 = pd.DataFrame(y_test)\n",
    "df_params_1['predictions'] = preds_1 \n",
    "df_params_1['dialogue'] = X_test\n",
    "df_params_1.rename(columns={'character': 'actual'}, inplace=True)\n",
    "df_params_1.head(10)"
   ]
  },
  {
   "cell_type": "code",
   "execution_count": 108,
   "id": "9873c7e6-e71e-4254-8920-746dd487ae1f",
   "metadata": {},
   "outputs": [
    {
     "data": {
      "text/plain": [
       "Rachel Green      2548\n",
       "Chandler Bing     2410\n",
       "Monica Geller     2064\n",
       "Ross Geller       1947\n",
       "Joey Tribbiani    1513\n",
       "Phoebe Buffay      720\n",
       "Name: predictions, dtype: int64"
      ]
     },
     "execution_count": 108,
     "metadata": {},
     "output_type": "execute_result"
    }
   ],
   "source": [
    "df_params_1['predictions'].value_counts()"
   ]
  },
  {
   "cell_type": "code",
   "execution_count": 109,
   "id": "3ec4c200-80b1-4cc6-a97b-1743a38765be",
   "metadata": {},
   "outputs": [
    {
     "data": {
      "text/plain": [
       "Rachel Green      1991\n",
       "Ross Geller       1985\n",
       "Chandler Bing     1897\n",
       "Monica Geller     1873\n",
       "Joey Tribbiani    1800\n",
       "Phoebe Buffay     1656\n",
       "Name: actual, dtype: int64"
      ]
     },
     "execution_count": 109,
     "metadata": {},
     "output_type": "execute_result"
    }
   ],
   "source": [
    "df_params_1['actual'].value_counts()"
   ]
  },
  {
   "cell_type": "code",
   "execution_count": 77,
   "id": "a9145f99-20dc-4679-b2e4-aa4556e16126",
   "metadata": {},
   "outputs": [
    {
     "data": {
      "text/plain": [
       "array(['Phoebe Buffay'], dtype=object)"
      ]
     },
     "execution_count": 77,
     "metadata": {},
     "output_type": "execute_result"
    }
   ],
   "source": [
    "gs_default.predict(['Smelly cat, smelly cat, what are they feeding you'])"
   ]
  },
  {
   "cell_type": "code",
   "execution_count": 88,
   "id": "d3f17726-fb7b-4e38-8816-072918b820e4",
   "metadata": {},
   "outputs": [
    {
     "data": {
      "text/plain": [
       "array(['Ross Geller'], dtype=object)"
      ]
     },
     "execution_count": 88,
     "metadata": {},
     "output_type": "execute_result"
    }
   ],
   "source": [
    "gs_default.predict(['We were on a break!'])"
   ]
  },
  {
   "cell_type": "code",
   "execution_count": 36,
   "id": "1d2b5aa7-9ae6-4776-ba1b-db6aa1afa80b",
   "metadata": {},
   "outputs": [
    {
     "data": {
      "text/plain": [
       "actual         7804\n",
       "predictions    7804\n",
       "dialogue       7804\n",
       "dtype: int64"
      ]
     },
     "execution_count": 36,
     "metadata": {},
     "output_type": "execute_result"
    }
   ],
   "source": [
    "df_params_1.loc[df_params_1['actual']!= df_params_1['predictions']].count()"
   ]
  },
  {
   "cell_type": "code",
   "execution_count": 107,
   "id": "0bd542c5-2131-4215-8da8-f5dade76919b",
   "metadata": {},
   "outputs": [
    {
     "data": {
      "text/plain": [
       "actual         3398\n",
       "predictions    3398\n",
       "dialogue       3398\n",
       "dtype: int64"
      ]
     },
     "execution_count": 107,
     "metadata": {},
     "output_type": "execute_result"
    }
   ],
   "source": [
    "df_params_1.loc[df_params_1['actual']== df_params_1['predictions']].count()"
   ]
  },
  {
   "cell_type": "markdown",
   "id": "d4b81aac-86a8-4e7a-9ea9-d0e57f381a79",
   "metadata": {},
   "source": [
    "---\n",
    "**Predicting Some Phrases**"
   ]
  },
  {
   "cell_type": "code",
   "execution_count": 104,
   "id": "63754639-363a-4300-8786-9a3267da44b8",
   "metadata": {},
   "outputs": [
    {
     "data": {
      "text/plain": [
       "'Joey Tribbiani'"
      ]
     },
     "execution_count": 104,
     "metadata": {},
     "output_type": "execute_result"
    }
   ],
   "source": [
    "gs_1.predict([\"How you doin'?\"])[0]"
   ]
  },
  {
   "cell_type": "code",
   "execution_count": 105,
   "id": "e07eee1f-e240-4f2d-934f-8cf22000f48c",
   "metadata": {},
   "outputs": [
    {
     "data": {
      "text/plain": [
       "'Phoebe Buffay'"
      ]
     },
     "execution_count": 105,
     "metadata": {},
     "output_type": "execute_result"
    }
   ],
   "source": [
    "gs_1.predict(['Smelly cat, smelly cat, what are they feeding you'])[0]"
   ]
  },
  {
   "cell_type": "code",
   "execution_count": 106,
   "id": "9fe2a33e-3551-40dd-abd0-bad15639f336",
   "metadata": {},
   "outputs": [
    {
     "data": {
      "text/plain": [
       "'Ross Geller'"
      ]
     },
     "execution_count": 106,
     "metadata": {},
     "output_type": "execute_result"
    }
   ],
   "source": [
    "gs_1.predict(['We were on a break!'])[0]"
   ]
  },
  {
   "cell_type": "markdown",
   "id": "179f64da-1dca-4977-a099-f917c85f14f1",
   "metadata": {},
   "source": [
    "----\n",
    "**Trying other Parameters**"
   ]
  },
  {
   "cell_type": "code",
   "execution_count": 38,
   "id": "0f180abe-c7c2-4a04-b531-5ecddd4e30d3",
   "metadata": {},
   "outputs": [],
   "source": [
    "#Trying out more parameters!\n",
    "grid_params_2 = {'cv__stop_words':[None, 'english'],\n",
    "                'rf__max_depth': [150, 160, 170, 180, 190, 200],\n",
    "                'rf__min_samples_split': [10, 15, 20, 25, 30]\n",
    "}"
   ]
  },
  {
   "cell_type": "code",
   "execution_count": 39,
   "id": "6e5fe29d-ce68-4cd6-a55b-af4cf549736f",
   "metadata": {},
   "outputs": [
    {
     "data": {
      "text/plain": [
       "GridSearchCV(estimator=Pipeline(steps=[('cv', CountVectorizer()),\n",
       "                                       ('rf',\n",
       "                                        RandomForestClassifier(random_state=42))]),\n",
       "             param_grid={'cv__stop_words': [None, 'english'],\n",
       "                         'rf__max_depth': [150, 160, 170, 180, 190, 200],\n",
       "                         'rf__min_samples_split': [10, 15, 20, 25, 30]})"
      ]
     },
     "execution_count": 39,
     "metadata": {},
     "output_type": "execute_result"
    }
   ],
   "source": [
    "gs_2 = GridSearchCV(estimator=pipe_cv, param_grid=grid_params_2)\n",
    "gs_2.fit(X_train, y_train)"
   ]
  },
  {
   "cell_type": "code",
   "execution_count": 40,
   "id": "cbe845db-f8c5-4d9c-971f-14c57f93e287",
   "metadata": {},
   "outputs": [
    {
     "data": {
      "text/plain": [
       "{'cv__stop_words': None, 'rf__max_depth': 180, 'rf__min_samples_split': 25}"
      ]
     },
     "execution_count": 40,
     "metadata": {},
     "output_type": "execute_result"
    }
   ],
   "source": [
    "gs_2.best_params_"
   ]
  },
  {
   "cell_type": "code",
   "execution_count": 121,
   "id": "a2741fc1-1304-49cf-96e5-925d47f26e4e",
   "metadata": {},
   "outputs": [
    {
     "name": "stdout",
     "output_type": "stream",
     "text": [
      "Train score: 0.8478454945839781\n",
      "Test Score: 0.30387430815925726\n"
     ]
    }
   ],
   "source": [
    "print(f\"Train score: {gs_2.score(X_train, y_train)}\\nTest Score: {gs_2.score(X_test, y_test)}\")"
   ]
  },
  {
   "cell_type": "code",
   "execution_count": 80,
   "id": "83724d54-056f-453b-8a4e-0c9359f991a5",
   "metadata": {},
   "outputs": [
    {
     "data": {
      "image/png": "[encoded data removed]",
      "text/plain": [
       "<Figure size 640x480 with 2 Axes>"
      ]
     },
     "metadata": {},
     "output_type": "display_data"
    }
   ],
   "source": [
    "plot_confusion_matrix(estimator=gs_2, X=X_test, y_true=y_test)\n",
    "plt.xticks(rotation=90)\n",
    "plt.show()"
   ]
  },
  {
   "cell_type": "markdown",
   "id": "437f3d59-1272-4eb0-aacf-a61c09414acb",
   "metadata": {},
   "source": [
    "---\n",
    "**Making Predictions**"
   ]
  },
  {
   "cell_type": "code",
   "execution_count": 42,
   "id": "4f061cdc-30b8-4937-9de4-252bf0d89f3e",
   "metadata": {},
   "outputs": [],
   "source": [
    "preds_2 = gs_2.predict(X_test)"
   ]
  },
  {
   "cell_type": "code",
   "execution_count": 44,
   "id": "c23da06c-40e4-4ddb-822b-86f9d8de5a04",
   "metadata": {},
   "outputs": [
    {
     "name": "stdout",
     "output_type": "stream",
     "text": [
      "                precision    recall  f1-score   support\n",
      "\n",
      " Chandler Bing       0.27      0.33      0.29      1897\n",
      "Joey Tribbiani       0.35      0.30      0.32      1800\n",
      " Monica Geller       0.26      0.29      0.28      1873\n",
      " Phoebe Buffay       0.37      0.19      0.25      1656\n",
      "  Rachel Green       0.31      0.40      0.35      1991\n",
      "   Ross Geller       0.31      0.31      0.31      1985\n",
      "\n",
      "      accuracy                           0.30     11202\n",
      "     macro avg       0.31      0.30      0.30     11202\n",
      "  weighted avg       0.31      0.30      0.30     11202\n",
      "\n"
     ]
    }
   ],
   "source": [
    "print(classification_report(y_true=y_test, y_pred=preds_2))"
   ]
  },
  {
   "cell_type": "code",
   "execution_count": 45,
   "id": "9c06a58b-d2eb-4fe7-bc3b-20e6b63b70b0",
   "metadata": {},
   "outputs": [
    {
     "data": {
      "text/plain": [
       "0.30387430815925726"
      ]
     },
     "execution_count": 45,
     "metadata": {},
     "output_type": "execute_result"
    }
   ],
   "source": [
    "accuracy_score(y_test, preds_2)"
   ]
  },
  {
   "cell_type": "markdown",
   "id": "1ac29ca4-05a5-49d1-bd0d-65cffd726d24",
   "metadata": {},
   "source": [
    "----\n",
    "**Making a dataframe with predictions, actual, and the dialogue**"
   ]
  },
  {
   "cell_type": "code",
   "execution_count": 46,
   "id": "bdd71674-d9e7-45e6-b232-2f0cefb8edef",
   "metadata": {},
   "outputs": [
    {
     "data": {
      "text/html": [
       "<div>\n",
       "<style scoped>\n",
       "    .dataframe tbody tr th:only-of-type {\n",
       "        vertical-align: middle;\n",
       "    }\n",
       "\n",
       "    .dataframe tbody tr th {\n",
       "        vertical-align: top;\n",
       "    }\n",
       "\n",
       "    .dataframe thead th {\n",
       "        text-align: right;\n",
       "    }\n",
       "</style>\n",
       "<table border=\"1\" class=\"dataframe\">\n",
       "  <thead>\n",
       "    <tr style=\"text-align: right;\">\n",
       "      <th></th>\n",
       "      <th>actual</th>\n",
       "      <th>predictions</th>\n",
       "      <th>dialogue</th>\n",
       "    </tr>\n",
       "  </thead>\n",
       "  <tbody>\n",
       "    <tr>\n",
       "      <th>8260</th>\n",
       "      <td>Monica Geller</td>\n",
       "      <td>Ross Geller</td>\n",
       "      <td>Then what's the problem?</td>\n",
       "    </tr>\n",
       "    <tr>\n",
       "      <th>12970</th>\n",
       "      <td>Phoebe Buffay</td>\n",
       "      <td>Phoebe Buffay</td>\n",
       "      <td>Yeah, well, everybody does! I'm a really cool ...</td>\n",
       "    </tr>\n",
       "    <tr>\n",
       "      <th>9682</th>\n",
       "      <td>Rachel Green</td>\n",
       "      <td>Rachel Green</td>\n",
       "      <td>What? What? He's interested in you. He-he like...</td>\n",
       "    </tr>\n",
       "    <tr>\n",
       "      <th>22017</th>\n",
       "      <td>Monica Geller</td>\n",
       "      <td>Monica Geller</td>\n",
       "      <td>I've never loved anybody as much as I love you.</td>\n",
       "    </tr>\n",
       "    <tr>\n",
       "      <th>5611</th>\n",
       "      <td>Rachel Green</td>\n",
       "      <td>Chandler Bing</td>\n",
       "      <td>And I'm in it? Then let me read it.</td>\n",
       "    </tr>\n",
       "    <tr>\n",
       "      <th>22331</th>\n",
       "      <td>Joey Tribbiani</td>\n",
       "      <td>Joey Tribbiani</td>\n",
       "      <td>Yeah, I gotta go! I got an acting job. Like yo...</td>\n",
       "    </tr>\n",
       "    <tr>\n",
       "      <th>18609</th>\n",
       "      <td>Monica Geller</td>\n",
       "      <td>Chandler Bing</td>\n",
       "      <td>Great. So the ball is in his court?</td>\n",
       "    </tr>\n",
       "    <tr>\n",
       "      <th>23737</th>\n",
       "      <td>Monica Geller</td>\n",
       "      <td>Ross Geller</td>\n",
       "      <td>Dad, please don't pick your teeth out here! Al...</td>\n",
       "    </tr>\n",
       "    <tr>\n",
       "      <th>35446</th>\n",
       "      <td>Ross Geller</td>\n",
       "      <td>Chandler Bing</td>\n",
       "      <td>Excellent! Excellent, now-now do you want anot...</td>\n",
       "    </tr>\n",
       "    <tr>\n",
       "      <th>3756</th>\n",
       "      <td>Monica Geller</td>\n",
       "      <td>Monica Geller</td>\n",
       "      <td>How are you?</td>\n",
       "    </tr>\n",
       "  </tbody>\n",
       "</table>\n",
       "</div>"
      ],
      "text/plain": [
       "               actual     predictions  \\\n",
       "8260    Monica Geller     Ross Geller   \n",
       "12970   Phoebe Buffay   Phoebe Buffay   \n",
       "9682     Rachel Green    Rachel Green   \n",
       "22017   Monica Geller   Monica Geller   \n",
       "5611     Rachel Green   Chandler Bing   \n",
       "22331  Joey Tribbiani  Joey Tribbiani   \n",
       "18609   Monica Geller   Chandler Bing   \n",
       "23737   Monica Geller     Ross Geller   \n",
       "35446     Ross Geller   Chandler Bing   \n",
       "3756    Monica Geller   Monica Geller   \n",
       "\n",
       "                                                dialogue  \n",
       "8260                            Then what's the problem?  \n",
       "12970  Yeah, well, everybody does! I'm a really cool ...  \n",
       "9682   What? What? He's interested in you. He-he like...  \n",
       "22017    I've never loved anybody as much as I love you.  \n",
       "5611                 And I'm in it? Then let me read it.  \n",
       "22331  Yeah, I gotta go! I got an acting job. Like yo...  \n",
       "18609                Great. So the ball is in his court?  \n",
       "23737  Dad, please don't pick your teeth out here! Al...  \n",
       "35446  Excellent! Excellent, now-now do you want anot...  \n",
       "3756                                        How are you?  "
      ]
     },
     "execution_count": 46,
     "metadata": {},
     "output_type": "execute_result"
    }
   ],
   "source": [
    "df_params_2 = pd.DataFrame(y_test)\n",
    "df_params_2['predictions'] = preds_2\n",
    "df_params_2['dialogue'] = X_test\n",
    "df_params_2.rename(columns={'character': 'actual'}, inplace=True)\n",
    "df_params_2.head(10)"
   ]
  },
  {
   "cell_type": "code",
   "execution_count": 113,
   "id": "e5531ff4-e360-42dc-8e59-acbec691a1c1",
   "metadata": {},
   "outputs": [
    {
     "data": {
      "text/plain": [
       "Rachel Green      2525\n",
       "Chandler Bing     2302\n",
       "Monica Geller     2069\n",
       "Ross Geller       1935\n",
       "Joey Tribbiani    1543\n",
       "Phoebe Buffay      828\n",
       "Name: predictions, dtype: int64"
      ]
     },
     "execution_count": 113,
     "metadata": {},
     "output_type": "execute_result"
    }
   ],
   "source": [
    "df_params_2['predictions'].value_counts()"
   ]
  },
  {
   "cell_type": "code",
   "execution_count": 114,
   "id": "f6bd14cd-dff9-4062-a1e2-006807253b01",
   "metadata": {},
   "outputs": [
    {
     "data": {
      "text/plain": [
       "Rachel Green      1991\n",
       "Ross Geller       1985\n",
       "Chandler Bing     1897\n",
       "Monica Geller     1873\n",
       "Joey Tribbiani    1800\n",
       "Phoebe Buffay     1656\n",
       "Name: actual, dtype: int64"
      ]
     },
     "execution_count": 114,
     "metadata": {},
     "output_type": "execute_result"
    }
   ],
   "source": [
    "df_params_2['actual'].value_counts()"
   ]
  },
  {
   "cell_type": "code",
   "execution_count": 47,
   "id": "b8a578df-9c12-4bd4-8b27-558c6a82bc71",
   "metadata": {},
   "outputs": [
    {
     "data": {
      "text/plain": [
       "actual         7798\n",
       "predictions    7798\n",
       "dialogue       7798\n",
       "dtype: int64"
      ]
     },
     "execution_count": 47,
     "metadata": {},
     "output_type": "execute_result"
    }
   ],
   "source": [
    "df_params_2[df_params_2['actual'] != df_params_2['predictions']].count()"
   ]
  },
  {
   "cell_type": "code",
   "execution_count": 48,
   "id": "31fc2b06-de7f-46e5-8d6b-ee6e866cee40",
   "metadata": {},
   "outputs": [
    {
     "data": {
      "text/plain": [
       "actual         3404\n",
       "predictions    3404\n",
       "dialogue       3404\n",
       "dtype: int64"
      ]
     },
     "execution_count": 48,
     "metadata": {},
     "output_type": "execute_result"
    }
   ],
   "source": [
    "df_params_2[df_params_2['actual'] == df_params_2['predictions']].count()"
   ]
  },
  {
   "cell_type": "markdown",
   "id": "d23c3f58-33de-40fb-ad55-576e52ce2d3a",
   "metadata": {},
   "source": [
    "---\n",
    "**Predicting Some Phrases**"
   ]
  },
  {
   "cell_type": "code",
   "execution_count": 49,
   "id": "0f166ce5-704e-4bda-8598-56878293769e",
   "metadata": {},
   "outputs": [
    {
     "data": {
      "text/plain": [
       "array(['Joey Tribbiani'], dtype=object)"
      ]
     },
     "execution_count": 49,
     "metadata": {},
     "output_type": "execute_result"
    }
   ],
   "source": [
    "gs_2.predict([\"How you doin'?\"])"
   ]
  },
  {
   "cell_type": "code",
   "execution_count": 91,
   "id": "fdeb0cc9-edf0-4875-98ab-12ed0b737084",
   "metadata": {},
   "outputs": [
    {
     "data": {
      "text/plain": [
       "array(['Phoebe Buffay'], dtype=object)"
      ]
     },
     "execution_count": 91,
     "metadata": {},
     "output_type": "execute_result"
    }
   ],
   "source": [
    "gs_2.predict(['Smelly cat, smelly cat, what are they feeding you'])"
   ]
  },
  {
   "cell_type": "code",
   "execution_count": 92,
   "id": "43c02d63-bc67-46f7-bad2-f3bd748cd88f",
   "metadata": {},
   "outputs": [
    {
     "data": {
      "text/plain": [
       "array(['Ross Geller'], dtype=object)"
      ]
     },
     "execution_count": 92,
     "metadata": {},
     "output_type": "execute_result"
    }
   ],
   "source": [
    "gs_2.predict(['We were on a break!'])"
   ]
  },
  {
   "cell_type": "markdown",
   "id": "c6f23c23-5983-4a51-a187-6b2f1718e7d7",
   "metadata": {},
   "source": [
    "<br>\n",
    "\n",
    "-----\n",
    "### Pipe Using TfidfVectorizer"
   ]
  },
  {
   "cell_type": "code",
   "execution_count": 50,
   "id": "7d3eeb13-e760-470f-b40b-3d099b6f5c29",
   "metadata": {},
   "outputs": [],
   "source": [
    "pipe_tf = Pipeline(steps=[('tf', TfidfVectorizer()),\n",
    "                         ('rf', RandomForestClassifier(random_state=42))])"
   ]
  },
  {
   "cell_type": "markdown",
   "id": "943ec42b-9af7-44ae-97c4-40efc893a3d3",
   "metadata": {},
   "source": [
    "### GridSearch with Default Parameters "
   ]
  },
  {
   "cell_type": "code",
   "execution_count": 51,
   "id": "d85feb00-2a12-4147-a718-f920317e95b7",
   "metadata": {},
   "outputs": [],
   "source": [
    "grid_tf_d = {'tf__stop_words': [None, 'english'],\n",
    "            'tf__min_df': [0,1]}"
   ]
  },
  {
   "cell_type": "code",
   "execution_count": 52,
   "id": "57d7ae93-333b-4e06-97be-b97b920b9461",
   "metadata": {},
   "outputs": [
    {
     "data": {
      "text/plain": [
       "GridSearchCV(estimator=Pipeline(steps=[('tf', TfidfVectorizer()),\n",
       "                                       ('rf',\n",
       "                                        RandomForestClassifier(random_state=42))]),\n",
       "             param_grid={'tf__min_df': [0, 1],\n",
       "                         'tf__stop_words': [None, 'english']})"
      ]
     },
     "execution_count": 52,
     "metadata": {},
     "output_type": "execute_result"
    }
   ],
   "source": [
    "gs_tf_d = GridSearchCV(estimator=pipe_tf, param_grid= grid_tf_d)\n",
    "gs_tf_d.fit(X_train, y_train)"
   ]
  },
  {
   "cell_type": "code",
   "execution_count": 53,
   "id": "5a50568c-67bf-4236-adaa-1bbe5859c994",
   "metadata": {},
   "outputs": [
    {
     "data": {
      "text/plain": [
       "{'tf__min_df': 0, 'tf__stop_words': None}"
      ]
     },
     "execution_count": 53,
     "metadata": {},
     "output_type": "execute_result"
    }
   ],
   "source": [
    "gs_tf_d.best_params_"
   ]
  },
  {
   "cell_type": "code",
   "execution_count": 122,
   "id": "3748d7ae-db78-4275-aa04-64bc7efddcc6",
   "metadata": {},
   "outputs": [
    {
     "name": "stdout",
     "output_type": "stream",
     "text": [
      "Train score: 0.9532198547791929\n",
      "Test Score: 0.2959292983395822\n"
     ]
    }
   ],
   "source": [
    "print(f'Train score: {gs_tf_d.score(X_train, y_train)}\\nTest Score: {gs_tf_d.score(X_test, y_test)}')"
   ]
  },
  {
   "cell_type": "markdown",
   "id": "508f756d-393f-4968-9cc9-ca56e1ee1d13",
   "metadata": {},
   "source": [
    "---\n",
    "**Making Predictions**"
   ]
  },
  {
   "cell_type": "code",
   "execution_count": 55,
   "id": "643a24f0-ff35-4488-8755-c173cf00b9d0",
   "metadata": {},
   "outputs": [],
   "source": [
    "tf_preds = gs_tf_d.predict(X_test)"
   ]
  },
  {
   "cell_type": "code",
   "execution_count": 81,
   "id": "6372205a-6935-4613-837a-43b2a5785c5a",
   "metadata": {},
   "outputs": [
    {
     "data": {
      "image/png": "[encoded data removed]",
      "text/plain": [
       "<Figure size 640x480 with 2 Axes>"
      ]
     },
     "metadata": {},
     "output_type": "display_data"
    }
   ],
   "source": [
    "plot_confusion_matrix(estimator= gs_tf_d, X= X_test, y_true= y_test)\n",
    "plt.xticks(rotation=90)\n",
    "plt.show()"
   ]
  },
  {
   "cell_type": "code",
   "execution_count": 57,
   "id": "a055feb8-7722-46a7-8a44-c90d48faaae2",
   "metadata": {},
   "outputs": [
    {
     "data": {
      "text/html": [
       "<div>\n",
       "<style scoped>\n",
       "    .dataframe tbody tr th:only-of-type {\n",
       "        vertical-align: middle;\n",
       "    }\n",
       "\n",
       "    .dataframe tbody tr th {\n",
       "        vertical-align: top;\n",
       "    }\n",
       "\n",
       "    .dataframe thead th {\n",
       "        text-align: right;\n",
       "    }\n",
       "</style>\n",
       "<table border=\"1\" class=\"dataframe\">\n",
       "  <thead>\n",
       "    <tr style=\"text-align: right;\">\n",
       "      <th></th>\n",
       "      <th>actual</th>\n",
       "      <th>predictions</th>\n",
       "      <th>dialogue</th>\n",
       "    </tr>\n",
       "  </thead>\n",
       "  <tbody>\n",
       "    <tr>\n",
       "      <th>8260</th>\n",
       "      <td>Monica Geller</td>\n",
       "      <td>Joey Tribbiani</td>\n",
       "      <td>Then what's the problem?</td>\n",
       "    </tr>\n",
       "    <tr>\n",
       "      <th>12970</th>\n",
       "      <td>Phoebe Buffay</td>\n",
       "      <td>Phoebe Buffay</td>\n",
       "      <td>Yeah, well, everybody does! I'm a really cool ...</td>\n",
       "    </tr>\n",
       "    <tr>\n",
       "      <th>9682</th>\n",
       "      <td>Rachel Green</td>\n",
       "      <td>Phoebe Buffay</td>\n",
       "      <td>What? What? He's interested in you. He-he like...</td>\n",
       "    </tr>\n",
       "    <tr>\n",
       "      <th>22017</th>\n",
       "      <td>Monica Geller</td>\n",
       "      <td>Chandler Bing</td>\n",
       "      <td>I've never loved anybody as much as I love you.</td>\n",
       "    </tr>\n",
       "    <tr>\n",
       "      <th>5611</th>\n",
       "      <td>Rachel Green</td>\n",
       "      <td>Chandler Bing</td>\n",
       "      <td>And I'm in it? Then let me read it.</td>\n",
       "    </tr>\n",
       "    <tr>\n",
       "      <th>22331</th>\n",
       "      <td>Joey Tribbiani</td>\n",
       "      <td>Joey Tribbiani</td>\n",
       "      <td>Yeah, I gotta go! I got an acting job. Like yo...</td>\n",
       "    </tr>\n",
       "    <tr>\n",
       "      <th>18609</th>\n",
       "      <td>Monica Geller</td>\n",
       "      <td>Chandler Bing</td>\n",
       "      <td>Great. So the ball is in his court?</td>\n",
       "    </tr>\n",
       "    <tr>\n",
       "      <th>23737</th>\n",
       "      <td>Monica Geller</td>\n",
       "      <td>Monica Geller</td>\n",
       "      <td>Dad, please don't pick your teeth out here! Al...</td>\n",
       "    </tr>\n",
       "    <tr>\n",
       "      <th>35446</th>\n",
       "      <td>Ross Geller</td>\n",
       "      <td>Chandler Bing</td>\n",
       "      <td>Excellent! Excellent, now-now do you want anot...</td>\n",
       "    </tr>\n",
       "    <tr>\n",
       "      <th>3756</th>\n",
       "      <td>Monica Geller</td>\n",
       "      <td>Ross Geller</td>\n",
       "      <td>How are you?</td>\n",
       "    </tr>\n",
       "  </tbody>\n",
       "</table>\n",
       "</div>"
      ],
      "text/plain": [
       "               actual     predictions  \\\n",
       "8260    Monica Geller  Joey Tribbiani   \n",
       "12970   Phoebe Buffay   Phoebe Buffay   \n",
       "9682     Rachel Green   Phoebe Buffay   \n",
       "22017   Monica Geller   Chandler Bing   \n",
       "5611     Rachel Green   Chandler Bing   \n",
       "22331  Joey Tribbiani  Joey Tribbiani   \n",
       "18609   Monica Geller   Chandler Bing   \n",
       "23737   Monica Geller   Monica Geller   \n",
       "35446     Ross Geller   Chandler Bing   \n",
       "3756    Monica Geller     Ross Geller   \n",
       "\n",
       "                                                dialogue  \n",
       "8260                            Then what's the problem?  \n",
       "12970  Yeah, well, everybody does! I'm a really cool ...  \n",
       "9682   What? What? He's interested in you. He-he like...  \n",
       "22017    I've never loved anybody as much as I love you.  \n",
       "5611                 And I'm in it? Then let me read it.  \n",
       "22331  Yeah, I gotta go! I got an acting job. Like yo...  \n",
       "18609                Great. So the ball is in his court?  \n",
       "23737  Dad, please don't pick your teeth out here! Al...  \n",
       "35446  Excellent! Excellent, now-now do you want anot...  \n",
       "3756                                        How are you?  "
      ]
     },
     "execution_count": 57,
     "metadata": {},
     "output_type": "execute_result"
    }
   ],
   "source": [
    "df_tf_d = pd.DataFrame(y_test)\n",
    "df_tf_d['predictions'] = tf_preds \n",
    "df_tf_d['dialogue'] = X_test\n",
    "df_tf_d.rename(columns={'character': 'actual'}, inplace=True)\n",
    "df_tf_d.head(10)"
   ]
  },
  {
   "cell_type": "code",
   "execution_count": 84,
   "id": "039b602a-4d93-4df0-81d9-d184d0f386d1",
   "metadata": {},
   "outputs": [
    {
     "data": {
      "text/plain": [
       "Rachel Green      2224\n",
       "Chandler Bing     2079\n",
       "Ross Geller       1924\n",
       "Monica Geller     1918\n",
       "Joey Tribbiani    1842\n",
       "Phoebe Buffay     1215\n",
       "Name: predictions, dtype: int64"
      ]
     },
     "execution_count": 84,
     "metadata": {},
     "output_type": "execute_result"
    }
   ],
   "source": [
    "df_tf_d['predictions'].value_counts()"
   ]
  },
  {
   "cell_type": "code",
   "execution_count": 83,
   "id": "660d163e-3de1-4a5d-badb-7e1d68dcec56",
   "metadata": {},
   "outputs": [
    {
     "data": {
      "text/plain": [
       "Rachel Green      1991\n",
       "Ross Geller       1985\n",
       "Chandler Bing     1897\n",
       "Monica Geller     1873\n",
       "Joey Tribbiani    1800\n",
       "Phoebe Buffay     1656\n",
       "Name: actual, dtype: int64"
      ]
     },
     "execution_count": 83,
     "metadata": {},
     "output_type": "execute_result"
    }
   ],
   "source": [
    "df_tf_d['actual'].value_counts()"
   ]
  },
  {
   "cell_type": "code",
   "execution_count": 59,
   "id": "1d87613b-eac1-4c09-a42a-d92bf1f841fd",
   "metadata": {},
   "outputs": [
    {
     "data": {
      "text/plain": [
       "actual         7887\n",
       "predictions    7887\n",
       "dialogue       7887\n",
       "dtype: int64"
      ]
     },
     "execution_count": 59,
     "metadata": {},
     "output_type": "execute_result"
    }
   ],
   "source": [
    "df_tf_d[df_tf_d['actual'] != df_tf_d['predictions']].count()"
   ]
  },
  {
   "cell_type": "code",
   "execution_count": 60,
   "id": "b4504fe5-1c4f-4a80-93bf-d5d880338523",
   "metadata": {},
   "outputs": [
    {
     "data": {
      "text/plain": [
       "actual         3315\n",
       "predictions    3315\n",
       "dialogue       3315\n",
       "dtype: int64"
      ]
     },
     "execution_count": 60,
     "metadata": {},
     "output_type": "execute_result"
    }
   ],
   "source": [
    "df_tf_d[df_tf_d['actual'] == df_tf_d['predictions']].count()"
   ]
  },
  {
   "cell_type": "markdown",
   "id": "cea19a85-b131-45a5-ae70-a0c338519ab9",
   "metadata": {},
   "source": [
    "#### Predicting Some Phrases"
   ]
  },
  {
   "cell_type": "code",
   "execution_count": 97,
   "id": "371d913e-7aaf-4021-8e11-7b4a8c9efadb",
   "metadata": {},
   "outputs": [
    {
     "data": {
      "text/plain": [
       "'Joey Tribbiani'"
      ]
     },
     "execution_count": 97,
     "metadata": {},
     "output_type": "execute_result"
    }
   ],
   "source": [
    "gs_tf_d.predict([\"How you doin'?\"])[0]"
   ]
  },
  {
   "cell_type": "code",
   "execution_count": 96,
   "id": "8b024ef9-0537-43fd-9bac-54d657e0fc39",
   "metadata": {},
   "outputs": [
    {
     "data": {
      "text/plain": [
       "'Phoebe Buffay'"
      ]
     },
     "execution_count": 96,
     "metadata": {},
     "output_type": "execute_result"
    }
   ],
   "source": [
    "gs_tf_d.predict(['Smelly cat, smelly cat, what are they feeding you'])[0]"
   ]
  },
  {
   "cell_type": "code",
   "execution_count": 95,
   "id": "32e22335-8fa8-4f8f-9681-06d9b26c2734",
   "metadata": {},
   "outputs": [
    {
     "data": {
      "text/plain": [
       "'Ross Geller'"
      ]
     },
     "execution_count": 95,
     "metadata": {},
     "output_type": "execute_result"
    }
   ],
   "source": [
    "gs_tf_d.predict(['We were on a break!'])[0]"
   ]
  },
  {
   "cell_type": "markdown",
   "id": "cbbcc4e9-cee5-40ef-a4f7-d61f10c1bac6",
   "metadata": {},
   "source": [
    "----\n",
    "### With Parameters! (TfidfVectorizer)"
   ]
  },
  {
   "cell_type": "code",
   "execution_count": 62,
   "id": "4dd40aee-d099-4d46-970a-8c02be06a827",
   "metadata": {},
   "outputs": [],
   "source": [
    "tf_grids_1 = {'tf__stop_words':[None, 'english'],\n",
    "                'rf__max_depth': [10, 25, 50, 75, 100, 150],\n",
    "                'rf__min_samples_split': [10, 15, 20, 25, 30]}"
   ]
  },
  {
   "cell_type": "code",
   "execution_count": 63,
   "id": "62e6eb4d-7207-421c-a7c2-ff91d662d1a9",
   "metadata": {},
   "outputs": [
    {
     "data": {
      "text/plain": [
       "GridSearchCV(estimator=Pipeline(steps=[('tf', TfidfVectorizer()),\n",
       "                                       ('rf',\n",
       "                                        RandomForestClassifier(random_state=42))]),\n",
       "             param_grid={'rf__max_depth': [10, 25, 50, 75, 100, 150],\n",
       "                         'rf__min_samples_split': [10, 15, 20, 25, 30],\n",
       "                         'tf__stop_words': [None, 'english']})"
      ]
     },
     "execution_count": 63,
     "metadata": {},
     "output_type": "execute_result"
    }
   ],
   "source": [
    "tf_gs_1 = GridSearchCV(estimator=pipe_tf, param_grid= tf_grids_1)\n",
    "tf_gs_1.fit(X_train, y_train)"
   ]
  },
  {
   "cell_type": "code",
   "execution_count": 64,
   "id": "cb5265db-5bef-4409-87ed-e795dda56faf",
   "metadata": {},
   "outputs": [
    {
     "data": {
      "text/plain": [
       "{'rf__max_depth': 100, 'rf__min_samples_split': 25, 'tf__stop_words': None}"
      ]
     },
     "execution_count": 64,
     "metadata": {},
     "output_type": "execute_result"
    }
   ],
   "source": [
    "tf_gs_1.best_params_"
   ]
  },
  {
   "cell_type": "code",
   "execution_count": 124,
   "id": "d36a5db3-8d2e-4232-b552-f218314e1e54",
   "metadata": {},
   "outputs": [
    {
     "name": "stdout",
     "output_type": "stream",
     "text": [
      "Train Score: 0.807731222473515\n",
      "Test Score: 0.295215140153544\n"
     ]
    }
   ],
   "source": [
    "print(f'Train Score: {tf_gs_1.score(X_train, y_train)}\\nTest Score: {tf_gs_1.score(X_test, y_test)}')"
   ]
  },
  {
   "cell_type": "code",
   "execution_count": 67,
   "id": "da456e3f-397e-4e58-ac89-fd0e84d3bf9a",
   "metadata": {},
   "outputs": [
    {
     "data": {
      "image/png": "[encoded data removed]",
      "text/plain": [
       "<Figure size 640x480 with 2 Axes>"
      ]
     },
     "metadata": {},
     "output_type": "display_data"
    }
   ],
   "source": [
    "plot_confusion_matrix(estimator=tf_gs_1, X=X_test, y_true=y_test)\n",
    "plt.xticks(rotation=90)\n",
    "plt.show()"
   ]
  },
  {
   "cell_type": "markdown",
   "id": "1ec24c3f-a423-4cec-96a0-07ea8d1a1b31",
   "metadata": {},
   "source": [
    "---\n",
    "**Making Predictions**"
   ]
  },
  {
   "cell_type": "code",
   "execution_count": 68,
   "id": "230dfc2b-2f6d-4ff0-aa64-67ebe7d3ca43",
   "metadata": {},
   "outputs": [],
   "source": [
    "tf_preds_1 = tf_gs_1.predict(X_test)"
   ]
  },
  {
   "cell_type": "code",
   "execution_count": 69,
   "id": "83914b3b-0244-48a1-99dc-ce6ef37963a5",
   "metadata": {},
   "outputs": [
    {
     "name": "stdout",
     "output_type": "stream",
     "text": [
      "                precision    recall  f1-score   support\n",
      "\n",
      " Chandler Bing       0.26      0.33      0.29      1897\n",
      "Joey Tribbiani       0.35      0.29      0.32      1800\n",
      " Monica Geller       0.27      0.27      0.27      1873\n",
      " Phoebe Buffay       0.36      0.16      0.22      1656\n",
      "  Rachel Green       0.29      0.40      0.34      1991\n",
      "   Ross Geller       0.30      0.31      0.30      1985\n",
      "\n",
      "      accuracy                           0.30     11202\n",
      "     macro avg       0.31      0.29      0.29     11202\n",
      "  weighted avg       0.30      0.30      0.29     11202\n",
      "\n"
     ]
    }
   ],
   "source": [
    "print(classification_report(y_true=y_test, y_pred=tf_preds_1))"
   ]
  },
  {
   "cell_type": "code",
   "execution_count": 70,
   "id": "81fee026-ebdb-43dc-87f2-6a9a73d81da0",
   "metadata": {},
   "outputs": [
    {
     "data": {
      "text/plain": [
       "0.295215140153544"
      ]
     },
     "execution_count": 70,
     "metadata": {},
     "output_type": "execute_result"
    }
   ],
   "source": [
    "accuracy_score(y_true=y_test, y_pred=tf_preds_1)"
   ]
  },
  {
   "cell_type": "markdown",
   "id": "6d297576-d54f-4c78-8ced-cc3d0ee0f625",
   "metadata": {},
   "source": [
    "---\n",
    "**Creating a dataframe with predicted, actual, and dialogue**"
   ]
  },
  {
   "cell_type": "code",
   "execution_count": 71,
   "id": "b6fbbd15-7c40-4f22-93e5-7fa36ccbec29",
   "metadata": {},
   "outputs": [
    {
     "data": {
      "text/html": [
       "<div>\n",
       "<style scoped>\n",
       "    .dataframe tbody tr th:only-of-type {\n",
       "        vertical-align: middle;\n",
       "    }\n",
       "\n",
       "    .dataframe tbody tr th {\n",
       "        vertical-align: top;\n",
       "    }\n",
       "\n",
       "    .dataframe thead th {\n",
       "        text-align: right;\n",
       "    }\n",
       "</style>\n",
       "<table border=\"1\" class=\"dataframe\">\n",
       "  <thead>\n",
       "    <tr style=\"text-align: right;\">\n",
       "      <th></th>\n",
       "      <th>actual</th>\n",
       "      <th>predictions</th>\n",
       "      <th>dialogue</th>\n",
       "    </tr>\n",
       "  </thead>\n",
       "  <tbody>\n",
       "    <tr>\n",
       "      <th>8260</th>\n",
       "      <td>Monica Geller</td>\n",
       "      <td>Ross Geller</td>\n",
       "      <td>Then what's the problem?</td>\n",
       "    </tr>\n",
       "    <tr>\n",
       "      <th>12970</th>\n",
       "      <td>Phoebe Buffay</td>\n",
       "      <td>Rachel Green</td>\n",
       "      <td>Yeah, well, everybody does! I'm a really cool ...</td>\n",
       "    </tr>\n",
       "    <tr>\n",
       "      <th>9682</th>\n",
       "      <td>Rachel Green</td>\n",
       "      <td>Monica Geller</td>\n",
       "      <td>What? What? He's interested in you. He-he like...</td>\n",
       "    </tr>\n",
       "    <tr>\n",
       "      <th>22017</th>\n",
       "      <td>Monica Geller</td>\n",
       "      <td>Chandler Bing</td>\n",
       "      <td>I've never loved anybody as much as I love you.</td>\n",
       "    </tr>\n",
       "    <tr>\n",
       "      <th>5611</th>\n",
       "      <td>Rachel Green</td>\n",
       "      <td>Chandler Bing</td>\n",
       "      <td>And I'm in it? Then let me read it.</td>\n",
       "    </tr>\n",
       "    <tr>\n",
       "      <th>22331</th>\n",
       "      <td>Joey Tribbiani</td>\n",
       "      <td>Joey Tribbiani</td>\n",
       "      <td>Yeah, I gotta go! I got an acting job. Like yo...</td>\n",
       "    </tr>\n",
       "    <tr>\n",
       "      <th>18609</th>\n",
       "      <td>Monica Geller</td>\n",
       "      <td>Chandler Bing</td>\n",
       "      <td>Great. So the ball is in his court?</td>\n",
       "    </tr>\n",
       "    <tr>\n",
       "      <th>23737</th>\n",
       "      <td>Monica Geller</td>\n",
       "      <td>Monica Geller</td>\n",
       "      <td>Dad, please don't pick your teeth out here! Al...</td>\n",
       "    </tr>\n",
       "    <tr>\n",
       "      <th>35446</th>\n",
       "      <td>Ross Geller</td>\n",
       "      <td>Chandler Bing</td>\n",
       "      <td>Excellent! Excellent, now-now do you want anot...</td>\n",
       "    </tr>\n",
       "    <tr>\n",
       "      <th>3756</th>\n",
       "      <td>Monica Geller</td>\n",
       "      <td>Ross Geller</td>\n",
       "      <td>How are you?</td>\n",
       "    </tr>\n",
       "  </tbody>\n",
       "</table>\n",
       "</div>"
      ],
      "text/plain": [
       "               actual     predictions  \\\n",
       "8260    Monica Geller     Ross Geller   \n",
       "12970   Phoebe Buffay    Rachel Green   \n",
       "9682     Rachel Green   Monica Geller   \n",
       "22017   Monica Geller   Chandler Bing   \n",
       "5611     Rachel Green   Chandler Bing   \n",
       "22331  Joey Tribbiani  Joey Tribbiani   \n",
       "18609   Monica Geller   Chandler Bing   \n",
       "23737   Monica Geller   Monica Geller   \n",
       "35446     Ross Geller   Chandler Bing   \n",
       "3756    Monica Geller     Ross Geller   \n",
       "\n",
       "                                                dialogue  \n",
       "8260                            Then what's the problem?  \n",
       "12970  Yeah, well, everybody does! I'm a really cool ...  \n",
       "9682   What? What? He's interested in you. He-he like...  \n",
       "22017    I've never loved anybody as much as I love you.  \n",
       "5611                 And I'm in it? Then let me read it.  \n",
       "22331  Yeah, I gotta go! I got an acting job. Like yo...  \n",
       "18609                Great. So the ball is in his court?  \n",
       "23737  Dad, please don't pick your teeth out here! Al...  \n",
       "35446  Excellent! Excellent, now-now do you want anot...  \n",
       "3756                                        How are you?  "
      ]
     },
     "execution_count": 71,
     "metadata": {},
     "output_type": "execute_result"
    }
   ],
   "source": [
    "tf_df_1 = pd.DataFrame(y_test)\n",
    "tf_df_1['predictions'] = tf_preds_1 \n",
    "tf_df_1['dialogue'] = X_test\n",
    "tf_df_1.rename(columns={'character': 'actual'}, inplace=True)\n",
    "tf_df_1.head(10)"
   ]
  },
  {
   "cell_type": "code",
   "execution_count": 116,
   "id": "fecafd61-370f-46ed-84dc-71043ddaf613",
   "metadata": {},
   "outputs": [
    {
     "data": {
      "text/plain": [
       "Rachel Green      2681\n",
       "Chandler Bing     2443\n",
       "Ross Geller       2065\n",
       "Monica Geller     1816\n",
       "Joey Tribbiani    1492\n",
       "Phoebe Buffay      705\n",
       "Name: predictions, dtype: int64"
      ]
     },
     "execution_count": 116,
     "metadata": {},
     "output_type": "execute_result"
    }
   ],
   "source": [
    "tf_df_1['predictions'].value_counts()"
   ]
  },
  {
   "cell_type": "code",
   "execution_count": 117,
   "id": "aeca5b1d-9f59-4018-95a3-6d8683f69197",
   "metadata": {},
   "outputs": [
    {
     "data": {
      "text/plain": [
       "Rachel Green      1991\n",
       "Ross Geller       1985\n",
       "Chandler Bing     1897\n",
       "Monica Geller     1873\n",
       "Joey Tribbiani    1800\n",
       "Phoebe Buffay     1656\n",
       "Name: actual, dtype: int64"
      ]
     },
     "execution_count": 117,
     "metadata": {},
     "output_type": "execute_result"
    }
   ],
   "source": [
    "tf_df_1['actual'].value_counts()"
   ]
  },
  {
   "cell_type": "code",
   "execution_count": 72,
   "id": "18aed405-bd24-487c-bb2d-bc505e2a7b4e",
   "metadata": {},
   "outputs": [
    {
     "data": {
      "text/plain": [
       "actual         7895\n",
       "predictions    7895\n",
       "dialogue       7895\n",
       "dtype: int64"
      ]
     },
     "execution_count": 72,
     "metadata": {},
     "output_type": "execute_result"
    }
   ],
   "source": [
    "tf_df_1.loc[tf_df_1['actual']!= tf_df_1['predictions']].count()"
   ]
  },
  {
   "cell_type": "code",
   "execution_count": 115,
   "id": "b6981374-074f-44ea-8db8-9367d6f86499",
   "metadata": {},
   "outputs": [
    {
     "data": {
      "text/plain": [
       "actual         3307\n",
       "predictions    3307\n",
       "dialogue       3307\n",
       "dtype: int64"
      ]
     },
     "execution_count": 115,
     "metadata": {},
     "output_type": "execute_result"
    }
   ],
   "source": [
    "tf_df_1.loc[tf_df_1['actual']== tf_df_1['predictions']].count()"
   ]
  },
  {
   "cell_type": "markdown",
   "id": "fda1f386-eb7d-4fb8-83b7-9af431014786",
   "metadata": {},
   "source": [
    "---\n",
    "**Predicting Some Phrases**"
   ]
  },
  {
   "cell_type": "code",
   "execution_count": 98,
   "id": "2911edde-4988-4124-bee3-c05cb9750b2c",
   "metadata": {},
   "outputs": [
    {
     "data": {
      "text/plain": [
       "'Joey Tribbiani'"
      ]
     },
     "execution_count": 98,
     "metadata": {},
     "output_type": "execute_result"
    }
   ],
   "source": [
    "tf_gs_1.predict([\"How you doin'?\"])[0]"
   ]
  },
  {
   "cell_type": "code",
   "execution_count": 99,
   "id": "dfcc56e4-09e7-4736-8a06-8a3bc66dde4c",
   "metadata": {},
   "outputs": [
    {
     "data": {
      "text/plain": [
       "'Phoebe Buffay'"
      ]
     },
     "execution_count": 99,
     "metadata": {},
     "output_type": "execute_result"
    }
   ],
   "source": [
    "tf_gs_1.predict(['Smelly cat, smelly cat, what are they feeding you'])[0]"
   ]
  },
  {
   "cell_type": "code",
   "execution_count": 100,
   "id": "f3c5d9a4-236a-4a5e-a5cb-99ce7cfeca70",
   "metadata": {},
   "outputs": [
    {
     "data": {
      "text/plain": [
       "'Ross Geller'"
      ]
     },
     "execution_count": 100,
     "metadata": {},
     "output_type": "execute_result"
    }
   ],
   "source": [
    "tf_gs_1.predict(['We were on a break!'])[0]"
   ]
  }
 ],
 "metadata": {
  "kernelspec": {
   "display_name": "Python 3",
   "language": "python",
   "name": "python3"
  },
  "language_info": {
   "codemirror_mode": {
    "name": "ipython",
    "version": 3
   },
   "file_extension": ".py",
   "mimetype": "text/x-python",
   "name": "python",
   "nbconvert_exporter": "python",
   "pygments_lexer": "ipython3",
   "version": "3.9.7"
  }
 },
 "nbformat": 4,
 "nbformat_minor": 5
}
