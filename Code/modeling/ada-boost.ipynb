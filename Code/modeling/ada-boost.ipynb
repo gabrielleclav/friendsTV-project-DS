{
 "cells": [
  {
   "cell_type": "markdown",
   "id": "06c483ce-c9e7-4eef-9348-ce1dfec76c91",
   "metadata": {},
   "source": [
    "# AdaBoost Modeling"
   ]
  },
  {
   "cell_type": "code",
   "execution_count": 110,
   "id": "c48001f3-c178-4e9f-8679-56225c52e4e0",
   "metadata": {},
   "outputs": [],
   "source": [
    "#Importing necessary libraries\n",
    "import numpy as np\n",
    "import pandas as pd\n",
    "import matplotlib.pyplot as plt\n",
    "\n",
    "from sklearn.ensemble import AdaBoostClassifier\n",
    "from sklearn.feature_extraction.text import CountVectorizer\n",
    "from sklearn.model_selection import train_test_split, GridSearchCV, cross_val_score\n",
    "from sklearn.tree import export_text, DecisionTreeClassifier, plot_tree\n",
    "from sklearn.pipeline import Pipeline\n",
    "from sklearn.metrics import accuracy_score\n",
    "\n",
    "#For streamlit\n",
    "import pickle"
   ]
  },
  {
   "cell_type": "code",
   "execution_count": 2,
   "id": "61e7fc71-d99a-45a6-80a5-cc4f101f3d45",
   "metadata": {},
   "outputs": [
    {
     "data": {
      "text/html": [
       "<div>\n",
       "<style scoped>\n",
       "    .dataframe tbody tr th:only-of-type {\n",
       "        vertical-align: middle;\n",
       "    }\n",
       "\n",
       "    .dataframe tbody tr th {\n",
       "        vertical-align: top;\n",
       "    }\n",
       "\n",
       "    .dataframe thead th {\n",
       "        text-align: right;\n",
       "    }\n",
       "</style>\n",
       "<table border=\"1\" class=\"dataframe\">\n",
       "  <thead>\n",
       "    <tr style=\"text-align: right;\">\n",
       "      <th></th>\n",
       "      <th>season</th>\n",
       "      <th>episode</th>\n",
       "      <th>character</th>\n",
       "      <th>dialogue</th>\n",
       "    </tr>\n",
       "  </thead>\n",
       "  <tbody>\n",
       "    <tr>\n",
       "      <th>0</th>\n",
       "      <td>s01</td>\n",
       "      <td>e01</td>\n",
       "      <td>Monica Geller</td>\n",
       "      <td>There's nothing to tell! He's just some guy I ...</td>\n",
       "    </tr>\n",
       "    <tr>\n",
       "      <th>1</th>\n",
       "      <td>s01</td>\n",
       "      <td>e01</td>\n",
       "      <td>Joey Tribbiani</td>\n",
       "      <td>C'mon, you're going out with the guy! There's ...</td>\n",
       "    </tr>\n",
       "    <tr>\n",
       "      <th>2</th>\n",
       "      <td>s01</td>\n",
       "      <td>e01</td>\n",
       "      <td>Chandler Bing</td>\n",
       "      <td>All right Joey, be nice. So does he have a hum...</td>\n",
       "    </tr>\n",
       "    <tr>\n",
       "      <th>3</th>\n",
       "      <td>s01</td>\n",
       "      <td>e01</td>\n",
       "      <td>Phoebe Buffay</td>\n",
       "      <td>Wait, does he eat chalk?</td>\n",
       "    </tr>\n",
       "    <tr>\n",
       "      <th>4</th>\n",
       "      <td>s01</td>\n",
       "      <td>e01</td>\n",
       "      <td>Phoebe Buffay</td>\n",
       "      <td>Just, 'cause, I don't want her to go through w...</td>\n",
       "    </tr>\n",
       "  </tbody>\n",
       "</table>\n",
       "</div>"
      ],
      "text/plain": [
       "  season episode       character  \\\n",
       "0    s01     e01   Monica Geller   \n",
       "1    s01     e01  Joey Tribbiani   \n",
       "2    s01     e01   Chandler Bing   \n",
       "3    s01     e01   Phoebe Buffay   \n",
       "4    s01     e01   Phoebe Buffay   \n",
       "\n",
       "                                            dialogue  \n",
       "0  There's nothing to tell! He's just some guy I ...  \n",
       "1  C'mon, you're going out with the guy! There's ...  \n",
       "2  All right Joey, be nice. So does he have a hum...  \n",
       "3                           Wait, does he eat chalk?  \n",
       "4  Just, 'cause, I don't want her to go through w...  "
      ]
     },
     "execution_count": 2,
     "metadata": {},
     "output_type": "execute_result"
    }
   ],
   "source": [
    "#import the dataset\n",
    "friends = pd.read_csv('../../Datasets/friends-modeling.csv')\n",
    "friends.head()"
   ]
  },
  {
   "cell_type": "code",
   "execution_count": 3,
   "id": "6a3a1682-8390-4512-b4bd-06ab65e70788",
   "metadata": {},
   "outputs": [
    {
     "data": {
      "text/plain": [
       "season       0\n",
       "episode      0\n",
       "character    0\n",
       "dialogue     0\n",
       "dtype: int64"
      ]
     },
     "execution_count": 3,
     "metadata": {},
     "output_type": "execute_result"
    }
   ],
   "source": [
    "#Make sure no nulls\n",
    "friends.isnull().sum()"
   ]
  },
  {
   "cell_type": "markdown",
   "id": "c1d1051b-6a42-4920-bbde-18b4a6180beb",
   "metadata": {},
   "source": [
    "### Make X and y values "
   ]
  },
  {
   "cell_type": "code",
   "execution_count": 4,
   "id": "0fb2065b-07a4-403f-b2a7-a2da6ef95358",
   "metadata": {},
   "outputs": [],
   "source": [
    "X = friends['dialogue']\n",
    "y = friends['character']"
   ]
  },
  {
   "cell_type": "markdown",
   "id": "7bbec128-796d-4a0f-87d9-c526fbb39c94",
   "metadata": {},
   "source": [
    "### Split into Train and Test"
   ]
  },
  {
   "cell_type": "code",
   "execution_count": 5,
   "id": "543fd4ae-cdb0-4513-bbe8-5c5fde611a3c",
   "metadata": {},
   "outputs": [],
   "source": [
    "X_train, X_test, y_train, y_test = train_test_split(X, y, random_state=42, stratify=y)"
   ]
  },
  {
   "cell_type": "markdown",
   "id": "f24bfbfe-20af-46e9-b141-087d53ff1e29",
   "metadata": {},
   "source": [
    "### Baseline Accuracy "
   ]
  },
  {
   "cell_type": "code",
   "execution_count": 10,
   "id": "44eb6a21-489c-40e4-bc81-15ea3243c244",
   "metadata": {},
   "outputs": [
    {
     "data": {
      "text/plain": [
       "Rachel Green      0.177657\n",
       "Ross Geller       0.177152\n",
       "Chandler Bing     0.169355\n",
       "Monica Geller     0.167242\n",
       "Joey Tribbiani    0.160725\n",
       "Phoebe Buffay     0.147869\n",
       "Name: character, dtype: float64"
      ]
     },
     "execution_count": 10,
     "metadata": {},
     "output_type": "execute_result"
    }
   ],
   "source": [
    "y_train.value_counts(normalize=True)"
   ]
  },
  {
   "cell_type": "markdown",
   "id": "74ed0880-850c-4fb9-85cc-16ce2f00a8b7",
   "metadata": {},
   "source": [
    "### Instaniating Count Vectorizer, Fit and Transform "
   ]
  },
  {
   "cell_type": "code",
   "execution_count": 11,
   "id": "298cabbd-ef97-4dee-8aef-7dbe5b7d9b15",
   "metadata": {},
   "outputs": [],
   "source": [
    "cv = CountVectorizer()"
   ]
  },
  {
   "cell_type": "code",
   "execution_count": 12,
   "id": "5df9ac52-c82d-4100-9740-de45c97e5624",
   "metadata": {},
   "outputs": [
    {
     "data": {
      "text/plain": [
       "CountVectorizer()"
      ]
     },
     "execution_count": 12,
     "metadata": {},
     "output_type": "execute_result"
    }
   ],
   "source": [
    "cv.fit(X_train)"
   ]
  },
  {
   "cell_type": "code",
   "execution_count": 13,
   "id": "c0bfd591-9545-4167-87bc-1a064ae6795d",
   "metadata": {},
   "outputs": [],
   "source": [
    "X_train_cv = cv.transform(X_train)\n",
    "X_test_cv = cv.transform(X_test)"
   ]
  },
  {
   "cell_type": "markdown",
   "id": "e41ced63-cc79-417a-98c0-198649b07152",
   "metadata": {},
   "source": [
    "### Modeling with 150 estimators"
   ]
  },
  {
   "cell_type": "code",
   "execution_count": 45,
   "id": "66f6a426-eea6-42e8-b823-aa65b26196b2",
   "metadata": {
    "tags": []
   },
   "outputs": [
    {
     "data": {
      "text/plain": [
       "AdaBoostClassifier(n_estimators=150, random_state=42)"
      ]
     },
     "execution_count": 45,
     "metadata": {},
     "output_type": "execute_result"
    }
   ],
   "source": [
    "abc_150 = AdaBoostClassifier(random_state=42, n_estimators=150)\n",
    "abc_150.fit(X_train_cv, y_train)"
   ]
  },
  {
   "cell_type": "code",
   "execution_count": 96,
   "id": "b04d6d82-7cb1-4ebf-a36d-604f37e73363",
   "metadata": {},
   "outputs": [
    {
     "name": "stdout",
     "output_type": "stream",
     "text": [
      "Train score: 0.2887453874538745\n",
      "Test score: 0.28182467416532764\n"
     ]
    }
   ],
   "source": [
    "print(f'Train score: {abc_150.score(X_train_cv, y_train)}\\nTest score: {abc_150.score(X_test_cv, y_test)}')"
   ]
  },
  {
   "cell_type": "markdown",
   "id": "c3c6eecb-d786-4259-9ca0-1c0a5e4582f6",
   "metadata": {},
   "source": [
    "---\n",
    "**Making Predictions**"
   ]
  },
  {
   "cell_type": "code",
   "execution_count": 47,
   "id": "77aaaf8f-eb3a-4426-b8dc-c6f7f4cee65e",
   "metadata": {},
   "outputs": [],
   "source": [
    "preds_150 = abc_150.predict(X_test_cv)"
   ]
  },
  {
   "cell_type": "markdown",
   "id": "8e78a713-d5c9-4d7a-844d-27c6e891055f",
   "metadata": {},
   "source": [
    "---\n",
    "**Making a dataframe with actual, predictions, and dialogue**"
   ]
  },
  {
   "cell_type": "code",
   "execution_count": 49,
   "id": "8836f4cb-a360-4467-8362-045b7d458897",
   "metadata": {},
   "outputs": [
    {
     "data": {
      "text/html": [
       "<div>\n",
       "<style scoped>\n",
       "    .dataframe tbody tr th:only-of-type {\n",
       "        vertical-align: middle;\n",
       "    }\n",
       "\n",
       "    .dataframe tbody tr th {\n",
       "        vertical-align: top;\n",
       "    }\n",
       "\n",
       "    .dataframe thead th {\n",
       "        text-align: right;\n",
       "    }\n",
       "</style>\n",
       "<table border=\"1\" class=\"dataframe\">\n",
       "  <thead>\n",
       "    <tr style=\"text-align: right;\">\n",
       "      <th></th>\n",
       "      <th>actual</th>\n",
       "      <th>predictions</th>\n",
       "      <th>dialogue</th>\n",
       "    </tr>\n",
       "  </thead>\n",
       "  <tbody>\n",
       "    <tr>\n",
       "      <th>8260</th>\n",
       "      <td>Monica Geller</td>\n",
       "      <td>Chandler Bing</td>\n",
       "      <td>Then what's the problem?</td>\n",
       "    </tr>\n",
       "    <tr>\n",
       "      <th>12970</th>\n",
       "      <td>Phoebe Buffay</td>\n",
       "      <td>Rachel Green</td>\n",
       "      <td>Yeah, well, everybody does! I'm a really cool ...</td>\n",
       "    </tr>\n",
       "    <tr>\n",
       "      <th>9682</th>\n",
       "      <td>Rachel Green</td>\n",
       "      <td>Rachel Green</td>\n",
       "      <td>What? What? He's interested in you. He-he like...</td>\n",
       "    </tr>\n",
       "    <tr>\n",
       "      <th>22017</th>\n",
       "      <td>Monica Geller</td>\n",
       "      <td>Monica Geller</td>\n",
       "      <td>I've never loved anybody as much as I love you.</td>\n",
       "    </tr>\n",
       "    <tr>\n",
       "      <th>5611</th>\n",
       "      <td>Rachel Green</td>\n",
       "      <td>Chandler Bing</td>\n",
       "      <td>And I'm in it? Then let me read it.</td>\n",
       "    </tr>\n",
       "    <tr>\n",
       "      <th>22331</th>\n",
       "      <td>Joey Tribbiani</td>\n",
       "      <td>Joey Tribbiani</td>\n",
       "      <td>Yeah, I gotta go! I got an acting job. Like yo...</td>\n",
       "    </tr>\n",
       "    <tr>\n",
       "      <th>18609</th>\n",
       "      <td>Monica Geller</td>\n",
       "      <td>Chandler Bing</td>\n",
       "      <td>Great. So the ball is in his court?</td>\n",
       "    </tr>\n",
       "    <tr>\n",
       "      <th>23737</th>\n",
       "      <td>Monica Geller</td>\n",
       "      <td>Monica Geller</td>\n",
       "      <td>Dad, please don't pick your teeth out here! Al...</td>\n",
       "    </tr>\n",
       "    <tr>\n",
       "      <th>35446</th>\n",
       "      <td>Ross Geller</td>\n",
       "      <td>Monica Geller</td>\n",
       "      <td>Excellent! Excellent, now-now do you want anot...</td>\n",
       "    </tr>\n",
       "    <tr>\n",
       "      <th>3756</th>\n",
       "      <td>Monica Geller</td>\n",
       "      <td>Monica Geller</td>\n",
       "      <td>How are you?</td>\n",
       "    </tr>\n",
       "  </tbody>\n",
       "</table>\n",
       "</div>"
      ],
      "text/plain": [
       "               actual     predictions  \\\n",
       "8260    Monica Geller   Chandler Bing   \n",
       "12970   Phoebe Buffay    Rachel Green   \n",
       "9682     Rachel Green    Rachel Green   \n",
       "22017   Monica Geller   Monica Geller   \n",
       "5611     Rachel Green   Chandler Bing   \n",
       "22331  Joey Tribbiani  Joey Tribbiani   \n",
       "18609   Monica Geller   Chandler Bing   \n",
       "23737   Monica Geller   Monica Geller   \n",
       "35446     Ross Geller   Monica Geller   \n",
       "3756    Monica Geller   Monica Geller   \n",
       "\n",
       "                                                dialogue  \n",
       "8260                            Then what's the problem?  \n",
       "12970  Yeah, well, everybody does! I'm a really cool ...  \n",
       "9682   What? What? He's interested in you. He-he like...  \n",
       "22017    I've never loved anybody as much as I love you.  \n",
       "5611                 And I'm in it? Then let me read it.  \n",
       "22331  Yeah, I gotta go! I got an acting job. Like yo...  \n",
       "18609                Great. So the ball is in his court?  \n",
       "23737  Dad, please don't pick your teeth out here! Al...  \n",
       "35446  Excellent! Excellent, now-now do you want anot...  \n",
       "3756                                        How are you?  "
      ]
     },
     "execution_count": 49,
     "metadata": {},
     "output_type": "execute_result"
    }
   ],
   "source": [
    "df_params_150 = pd.DataFrame(y_test)\n",
    "df_params_150['predictions'] = preds_150\n",
    "df_params_150['dialogue'] = X_test\n",
    "df_params_150.rename(columns={'character': 'actual'}, inplace=True)\n",
    "df_params_150.head(10)"
   ]
  },
  {
   "cell_type": "code",
   "execution_count": 53,
   "id": "3a76b201-1e44-494a-a4f5-540cebdf3eb4",
   "metadata": {
    "tags": []
   },
   "outputs": [
    {
     "data": {
      "text/plain": [
       "Chandler Bing     3411\n",
       "Rachel Green      2227\n",
       "Monica Geller     1878\n",
       "Joey Tribbiani    1542\n",
       "Ross Geller       1299\n",
       "Phoebe Buffay      845\n",
       "Name: predictions, dtype: int64"
      ]
     },
     "execution_count": 53,
     "metadata": {},
     "output_type": "execute_result"
    }
   ],
   "source": [
    "df_params_150['predictions'].value_counts()"
   ]
  },
  {
   "cell_type": "code",
   "execution_count": 52,
   "id": "f91e0cb3-1cf2-4c5b-8535-ee2bfe5c14e8",
   "metadata": {},
   "outputs": [
    {
     "data": {
      "text/plain": [
       "Rachel Green      1991\n",
       "Ross Geller       1985\n",
       "Chandler Bing     1897\n",
       "Monica Geller     1873\n",
       "Joey Tribbiani    1800\n",
       "Phoebe Buffay     1656\n",
       "Name: actual, dtype: int64"
      ]
     },
     "execution_count": 52,
     "metadata": {},
     "output_type": "execute_result"
    }
   ],
   "source": [
    "df_params_150['actual'].value_counts()"
   ]
  },
  {
   "cell_type": "code",
   "execution_count": 50,
   "id": "68885bf4-36f8-4f30-bfec-0c9d0bc9cba0",
   "metadata": {},
   "outputs": [
    {
     "data": {
      "text/plain": [
       "actual         8045\n",
       "predictions    8045\n",
       "dialogue       8045\n",
       "dtype: int64"
      ]
     },
     "execution_count": 50,
     "metadata": {},
     "output_type": "execute_result"
    }
   ],
   "source": [
    "df_params_150.loc[df_params_150['actual']!= df_params_150['predictions']].count()"
   ]
  },
  {
   "cell_type": "code",
   "execution_count": 51,
   "id": "a5d80e23-c159-4b06-bb77-f4d5096ea7f4",
   "metadata": {},
   "outputs": [
    {
     "data": {
      "text/plain": [
       "actual         3157\n",
       "predictions    3157\n",
       "dialogue       3157\n",
       "dtype: int64"
      ]
     },
     "execution_count": 51,
     "metadata": {},
     "output_type": "execute_result"
    }
   ],
   "source": [
    "df_params_150.loc[df_params_d['actual']== df_params_150['predictions']].count()"
   ]
  },
  {
   "cell_type": "markdown",
   "id": "30d05c89-9dfb-452f-b774-af5efac737d2",
   "metadata": {},
   "source": [
    "---\n",
    "**Predicting Some Phrases**"
   ]
  },
  {
   "cell_type": "code",
   "execution_count": 75,
   "id": "06f1416b-06b0-4736-a52e-9f461fe7ad6e",
   "metadata": {},
   "outputs": [],
   "source": [
    "#abc_150.predict([\"How you doin'?\"])"
   ]
  },
  {
   "cell_type": "code",
   "execution_count": 76,
   "id": "e7fdd294-78f7-45fa-aae4-085bcae87687",
   "metadata": {},
   "outputs": [],
   "source": [
    "#abc_150.predict(['Smelly cat, smelly cat, what are they feeding you'])[0]"
   ]
  },
  {
   "cell_type": "code",
   "execution_count": 74,
   "id": "0b412791-eb12-4723-9b79-2665afcbef0e",
   "metadata": {},
   "outputs": [],
   "source": [
    "#abc_150.predict(['We were on a break!'])[0]"
   ]
  },
  {
   "cell_type": "markdown",
   "id": "dc120b05-1ff7-4bb6-9e36-47334bdded1e",
   "metadata": {
    "tags": []
   },
   "source": [
    "\n",
    "<br>\n",
    "\n",
    "---\n",
    "### Modeling with 250 Estimators "
   ]
  },
  {
   "cell_type": "code",
   "execution_count": 32,
   "id": "4de5fbe2-1aa0-41d4-938c-601e79960045",
   "metadata": {},
   "outputs": [
    {
     "data": {
      "text/plain": [
       "AdaBoostClassifier(n_estimators=250, random_state=42)"
      ]
     },
     "execution_count": 32,
     "metadata": {},
     "output_type": "execute_result"
    }
   ],
   "source": [
    "abc_250 = AdaBoostClassifier(random_state=42, n_estimators=250)\n",
    "abc_250.fit(X_train_cv, y_train)"
   ]
  },
  {
   "cell_type": "code",
   "execution_count": 93,
   "id": "b3ae3f8c-43fe-4175-a33a-33b37189d147",
   "metadata": {},
   "outputs": [
    {
     "name": "stdout",
     "output_type": "stream",
     "text": [
      "Train score: 0.30052969884537556\n",
      "Test score: 0.28512765577575433\n"
     ]
    }
   ],
   "source": [
    "print(f'Train score: {abc_250.score(X_train_cv, y_train)}\\nTest score: {abc_250.score(X_test_cv, y_test)}')"
   ]
  },
  {
   "cell_type": "markdown",
   "id": "18c109db-64da-4ed7-8379-4bb2d6f635c4",
   "metadata": {},
   "source": [
    "---\n",
    "**Making Predictions**"
   ]
  },
  {
   "cell_type": "code",
   "execution_count": 34,
   "id": "b9546292-68b7-41e5-8734-000bdae491f1",
   "metadata": {},
   "outputs": [],
   "source": [
    "preds_250 = abc_250.predict(X_test_cv)"
   ]
  },
  {
   "cell_type": "markdown",
   "id": "597cf9f9-6b23-40c8-8306-9f880e069938",
   "metadata": {},
   "source": [
    "---\n",
    "**Creating a dataframe with actual, predictions, and dialogue**"
   ]
  },
  {
   "cell_type": "code",
   "execution_count": 35,
   "id": "620b31d8-5cfb-4942-8ab7-d5e60782b556",
   "metadata": {},
   "outputs": [
    {
     "data": {
      "text/html": [
       "<div>\n",
       "<style scoped>\n",
       "    .dataframe tbody tr th:only-of-type {\n",
       "        vertical-align: middle;\n",
       "    }\n",
       "\n",
       "    .dataframe tbody tr th {\n",
       "        vertical-align: top;\n",
       "    }\n",
       "\n",
       "    .dataframe thead th {\n",
       "        text-align: right;\n",
       "    }\n",
       "</style>\n",
       "<table border=\"1\" class=\"dataframe\">\n",
       "  <thead>\n",
       "    <tr style=\"text-align: right;\">\n",
       "      <th></th>\n",
       "      <th>actual</th>\n",
       "      <th>predictions</th>\n",
       "      <th>dialogue</th>\n",
       "    </tr>\n",
       "  </thead>\n",
       "  <tbody>\n",
       "    <tr>\n",
       "      <th>8260</th>\n",
       "      <td>Monica Geller</td>\n",
       "      <td>Chandler Bing</td>\n",
       "      <td>Then what's the problem?</td>\n",
       "    </tr>\n",
       "    <tr>\n",
       "      <th>12970</th>\n",
       "      <td>Phoebe Buffay</td>\n",
       "      <td>Joey Tribbiani</td>\n",
       "      <td>Yeah, well, everybody does! I'm a really cool ...</td>\n",
       "    </tr>\n",
       "    <tr>\n",
       "      <th>9682</th>\n",
       "      <td>Rachel Green</td>\n",
       "      <td>Rachel Green</td>\n",
       "      <td>What? What? He's interested in you. He-he like...</td>\n",
       "    </tr>\n",
       "    <tr>\n",
       "      <th>22017</th>\n",
       "      <td>Monica Geller</td>\n",
       "      <td>Monica Geller</td>\n",
       "      <td>I've never loved anybody as much as I love you.</td>\n",
       "    </tr>\n",
       "    <tr>\n",
       "      <th>5611</th>\n",
       "      <td>Rachel Green</td>\n",
       "      <td>Chandler Bing</td>\n",
       "      <td>And I'm in it? Then let me read it.</td>\n",
       "    </tr>\n",
       "    <tr>\n",
       "      <th>22331</th>\n",
       "      <td>Joey Tribbiani</td>\n",
       "      <td>Joey Tribbiani</td>\n",
       "      <td>Yeah, I gotta go! I got an acting job. Like yo...</td>\n",
       "    </tr>\n",
       "    <tr>\n",
       "      <th>18609</th>\n",
       "      <td>Monica Geller</td>\n",
       "      <td>Chandler Bing</td>\n",
       "      <td>Great. So the ball is in his court?</td>\n",
       "    </tr>\n",
       "    <tr>\n",
       "      <th>23737</th>\n",
       "      <td>Monica Geller</td>\n",
       "      <td>Monica Geller</td>\n",
       "      <td>Dad, please don't pick your teeth out here! Al...</td>\n",
       "    </tr>\n",
       "    <tr>\n",
       "      <th>35446</th>\n",
       "      <td>Ross Geller</td>\n",
       "      <td>Monica Geller</td>\n",
       "      <td>Excellent! Excellent, now-now do you want anot...</td>\n",
       "    </tr>\n",
       "    <tr>\n",
       "      <th>3756</th>\n",
       "      <td>Monica Geller</td>\n",
       "      <td>Monica Geller</td>\n",
       "      <td>How are you?</td>\n",
       "    </tr>\n",
       "  </tbody>\n",
       "</table>\n",
       "</div>"
      ],
      "text/plain": [
       "               actual     predictions  \\\n",
       "8260    Monica Geller   Chandler Bing   \n",
       "12970   Phoebe Buffay  Joey Tribbiani   \n",
       "9682     Rachel Green    Rachel Green   \n",
       "22017   Monica Geller   Monica Geller   \n",
       "5611     Rachel Green   Chandler Bing   \n",
       "22331  Joey Tribbiani  Joey Tribbiani   \n",
       "18609   Monica Geller   Chandler Bing   \n",
       "23737   Monica Geller   Monica Geller   \n",
       "35446     Ross Geller   Monica Geller   \n",
       "3756    Monica Geller   Monica Geller   \n",
       "\n",
       "                                                dialogue  \n",
       "8260                            Then what's the problem?  \n",
       "12970  Yeah, well, everybody does! I'm a really cool ...  \n",
       "9682   What? What? He's interested in you. He-he like...  \n",
       "22017    I've never loved anybody as much as I love you.  \n",
       "5611                 And I'm in it? Then let me read it.  \n",
       "22331  Yeah, I gotta go! I got an acting job. Like yo...  \n",
       "18609                Great. So the ball is in his court?  \n",
       "23737  Dad, please don't pick your teeth out here! Al...  \n",
       "35446  Excellent! Excellent, now-now do you want anot...  \n",
       "3756                                        How are you?  "
      ]
     },
     "execution_count": 35,
     "metadata": {},
     "output_type": "execute_result"
    }
   ],
   "source": [
    "df_params_250 = pd.DataFrame(y_test)\n",
    "df_params_250['predictions'] = preds_250\n",
    "df_params_250['dialogue'] = X_test\n",
    "df_params_250.rename(columns={'character': 'actual'}, inplace=True)\n",
    "df_params_250.head(10)"
   ]
  },
  {
   "cell_type": "code",
   "execution_count": 39,
   "id": "a715dfff-95a6-43d3-b775-daea7a0a2baa",
   "metadata": {
    "tags": []
   },
   "outputs": [
    {
     "data": {
      "text/plain": [
       "Chandler Bing     3227\n",
       "Rachel Green      2193\n",
       "Monica Geller     1951\n",
       "Joey Tribbiani    1574\n",
       "Ross Geller       1306\n",
       "Phoebe Buffay      951\n",
       "Name: predictions, dtype: int64"
      ]
     },
     "execution_count": 39,
     "metadata": {},
     "output_type": "execute_result"
    }
   ],
   "source": [
    "df_params_250['predictions'].value_counts()"
   ]
  },
  {
   "cell_type": "code",
   "execution_count": 38,
   "id": "88b3c21d-6324-4a30-b5b7-96a362da6614",
   "metadata": {},
   "outputs": [
    {
     "data": {
      "text/plain": [
       "Rachel Green      1991\n",
       "Ross Geller       1985\n",
       "Chandler Bing     1897\n",
       "Monica Geller     1873\n",
       "Joey Tribbiani    1800\n",
       "Phoebe Buffay     1656\n",
       "Name: actual, dtype: int64"
      ]
     },
     "execution_count": 38,
     "metadata": {},
     "output_type": "execute_result"
    }
   ],
   "source": [
    "df_params_250['actual'].value_counts()"
   ]
  },
  {
   "cell_type": "code",
   "execution_count": 36,
   "id": "8ae13330-92ba-443d-ba41-3acef59b1429",
   "metadata": {},
   "outputs": [
    {
     "data": {
      "text/plain": [
       "actual         8008\n",
       "predictions    8008\n",
       "dialogue       8008\n",
       "dtype: int64"
      ]
     },
     "execution_count": 36,
     "metadata": {},
     "output_type": "execute_result"
    }
   ],
   "source": [
    "df_params_250.loc[df_params_250['actual']!= df_params_250['predictions']].count()"
   ]
  },
  {
   "cell_type": "code",
   "execution_count": 37,
   "id": "60ac94d8-1c82-43a1-85f7-b011120464f5",
   "metadata": {},
   "outputs": [
    {
     "data": {
      "text/plain": [
       "actual         3194\n",
       "predictions    3194\n",
       "dialogue       3194\n",
       "dtype: int64"
      ]
     },
     "execution_count": 37,
     "metadata": {},
     "output_type": "execute_result"
    }
   ],
   "source": [
    "df_params_250.loc[df_params_250['actual']== df_params_250['predictions']].count()"
   ]
  },
  {
   "cell_type": "markdown",
   "id": "55fca78b-ae28-43bb-a524-5ce37aa0ebec",
   "metadata": {},
   "source": [
    "---\n",
    "**Predicting Some Phrases**"
   ]
  },
  {
   "cell_type": "code",
   "execution_count": 77,
   "id": "78b5efa1-d100-4e70-92bd-5cb9307d1974",
   "metadata": {},
   "outputs": [],
   "source": [
    "#abc_250.predict([\"How you doin'?\"])[0]"
   ]
  },
  {
   "cell_type": "code",
   "execution_count": 78,
   "id": "921397de-2961-4c02-9690-fe929792e7a2",
   "metadata": {},
   "outputs": [],
   "source": [
    "#abc_250.predict(['Smelly cat, smelly cat, what are they feeding you'])[0]"
   ]
  },
  {
   "cell_type": "code",
   "execution_count": 79,
   "id": "8fae1464-7aee-42e7-ae34-248e9a136c71",
   "metadata": {},
   "outputs": [],
   "source": [
    "#abc_250.predict(['We were on a break!'])[0]"
   ]
  },
  {
   "cell_type": "markdown",
   "id": "e82de5de-abc8-44df-a150-88e09592c64d",
   "metadata": {},
   "source": [
    "\n",
    "<br>\n",
    "\n",
    "----\n",
    "### Modeling with 500 Estimators"
   ]
  },
  {
   "cell_type": "code",
   "execution_count": 54,
   "id": "792f2be2-1c29-45c6-aff4-25750e820f44",
   "metadata": {
    "tags": []
   },
   "outputs": [
    {
     "data": {
      "text/plain": [
       "AdaBoostClassifier(n_estimators=150, random_state=42)"
      ]
     },
     "execution_count": 54,
     "metadata": {},
     "output_type": "execute_result"
    }
   ],
   "source": [
    "abc_500 = AdaBoostClassifier(random_state=42, n_estimators=150)\n",
    "abc_500.fit(X_train_cv, y_train)"
   ]
  },
  {
   "cell_type": "code",
   "execution_count": 94,
   "id": "4faf4788-6f75-4abc-9ea5-f199498a8336",
   "metadata": {},
   "outputs": [
    {
     "name": "stdout",
     "output_type": "stream",
     "text": [
      "Train score: 0.2887453874538745\n",
      "Test score: 0.28182467416532764\n"
     ]
    }
   ],
   "source": [
    "print(f'Train score: {abc_500.score(X_train_cv, y_train)}\\nTest score: {abc_500.score(X_test_cv, y_test)}')"
   ]
  },
  {
   "cell_type": "code",
   "execution_count": 56,
   "id": "189800fb-a77c-47ee-b2db-2da79c2286ff",
   "metadata": {},
   "outputs": [],
   "source": [
    "preds_500 = abc_500.predict(X_test_cv)"
   ]
  },
  {
   "cell_type": "code",
   "execution_count": 57,
   "id": "b5997e11-fd2c-4219-b4e7-be1120ea922e",
   "metadata": {},
   "outputs": [
    {
     "data": {
      "text/html": [
       "<div>\n",
       "<style scoped>\n",
       "    .dataframe tbody tr th:only-of-type {\n",
       "        vertical-align: middle;\n",
       "    }\n",
       "\n",
       "    .dataframe tbody tr th {\n",
       "        vertical-align: top;\n",
       "    }\n",
       "\n",
       "    .dataframe thead th {\n",
       "        text-align: right;\n",
       "    }\n",
       "</style>\n",
       "<table border=\"1\" class=\"dataframe\">\n",
       "  <thead>\n",
       "    <tr style=\"text-align: right;\">\n",
       "      <th></th>\n",
       "      <th>actual</th>\n",
       "      <th>predictions</th>\n",
       "      <th>dialogue</th>\n",
       "    </tr>\n",
       "  </thead>\n",
       "  <tbody>\n",
       "    <tr>\n",
       "      <th>8260</th>\n",
       "      <td>Monica Geller</td>\n",
       "      <td>Chandler Bing</td>\n",
       "      <td>Then what's the problem?</td>\n",
       "    </tr>\n",
       "    <tr>\n",
       "      <th>12970</th>\n",
       "      <td>Phoebe Buffay</td>\n",
       "      <td>Rachel Green</td>\n",
       "      <td>Yeah, well, everybody does! I'm a really cool ...</td>\n",
       "    </tr>\n",
       "    <tr>\n",
       "      <th>9682</th>\n",
       "      <td>Rachel Green</td>\n",
       "      <td>Rachel Green</td>\n",
       "      <td>What? What? He's interested in you. He-he like...</td>\n",
       "    </tr>\n",
       "    <tr>\n",
       "      <th>22017</th>\n",
       "      <td>Monica Geller</td>\n",
       "      <td>Monica Geller</td>\n",
       "      <td>I've never loved anybody as much as I love you.</td>\n",
       "    </tr>\n",
       "    <tr>\n",
       "      <th>5611</th>\n",
       "      <td>Rachel Green</td>\n",
       "      <td>Chandler Bing</td>\n",
       "      <td>And I'm in it? Then let me read it.</td>\n",
       "    </tr>\n",
       "    <tr>\n",
       "      <th>22331</th>\n",
       "      <td>Joey Tribbiani</td>\n",
       "      <td>Joey Tribbiani</td>\n",
       "      <td>Yeah, I gotta go! I got an acting job. Like yo...</td>\n",
       "    </tr>\n",
       "    <tr>\n",
       "      <th>18609</th>\n",
       "      <td>Monica Geller</td>\n",
       "      <td>Chandler Bing</td>\n",
       "      <td>Great. So the ball is in his court?</td>\n",
       "    </tr>\n",
       "    <tr>\n",
       "      <th>23737</th>\n",
       "      <td>Monica Geller</td>\n",
       "      <td>Monica Geller</td>\n",
       "      <td>Dad, please don't pick your teeth out here! Al...</td>\n",
       "    </tr>\n",
       "    <tr>\n",
       "      <th>35446</th>\n",
       "      <td>Ross Geller</td>\n",
       "      <td>Monica Geller</td>\n",
       "      <td>Excellent! Excellent, now-now do you want anot...</td>\n",
       "    </tr>\n",
       "    <tr>\n",
       "      <th>3756</th>\n",
       "      <td>Monica Geller</td>\n",
       "      <td>Monica Geller</td>\n",
       "      <td>How are you?</td>\n",
       "    </tr>\n",
       "  </tbody>\n",
       "</table>\n",
       "</div>"
      ],
      "text/plain": [
       "               actual     predictions  \\\n",
       "8260    Monica Geller   Chandler Bing   \n",
       "12970   Phoebe Buffay    Rachel Green   \n",
       "9682     Rachel Green    Rachel Green   \n",
       "22017   Monica Geller   Monica Geller   \n",
       "5611     Rachel Green   Chandler Bing   \n",
       "22331  Joey Tribbiani  Joey Tribbiani   \n",
       "18609   Monica Geller   Chandler Bing   \n",
       "23737   Monica Geller   Monica Geller   \n",
       "35446     Ross Geller   Monica Geller   \n",
       "3756    Monica Geller   Monica Geller   \n",
       "\n",
       "                                                dialogue  \n",
       "8260                            Then what's the problem?  \n",
       "12970  Yeah, well, everybody does! I'm a really cool ...  \n",
       "9682   What? What? He's interested in you. He-he like...  \n",
       "22017    I've never loved anybody as much as I love you.  \n",
       "5611                 And I'm in it? Then let me read it.  \n",
       "22331  Yeah, I gotta go! I got an acting job. Like yo...  \n",
       "18609                Great. So the ball is in his court?  \n",
       "23737  Dad, please don't pick your teeth out here! Al...  \n",
       "35446  Excellent! Excellent, now-now do you want anot...  \n",
       "3756                                        How are you?  "
      ]
     },
     "execution_count": 57,
     "metadata": {},
     "output_type": "execute_result"
    }
   ],
   "source": [
    "df_params_500 = pd.DataFrame(y_test)\n",
    "df_params_500['predictions'] = preds_500\n",
    "df_params_500['dialogue'] = X_test\n",
    "df_params_500.rename(columns={'character': 'actual'}, inplace=True)\n",
    "df_params_500.head(10)"
   ]
  },
  {
   "cell_type": "code",
   "execution_count": 58,
   "id": "62d28f8b-00c0-4fce-9480-dcdedbc2abc3",
   "metadata": {},
   "outputs": [
    {
     "data": {
      "text/plain": [
       "actual         8045\n",
       "predictions    8045\n",
       "dialogue       8045\n",
       "dtype: int64"
      ]
     },
     "execution_count": 58,
     "metadata": {},
     "output_type": "execute_result"
    }
   ],
   "source": [
    "df_params_500.loc[df_params_150['actual']!= df_params_500['predictions']].count()"
   ]
  },
  {
   "cell_type": "code",
   "execution_count": 59,
   "id": "7b913794-ba3c-4fe4-b1c3-aeb6198bb81f",
   "metadata": {},
   "outputs": [
    {
     "data": {
      "text/plain": [
       "actual         3157\n",
       "predictions    3157\n",
       "dialogue       3157\n",
       "dtype: int64"
      ]
     },
     "execution_count": 59,
     "metadata": {},
     "output_type": "execute_result"
    }
   ],
   "source": [
    "df_params_500.loc[df_params_d['actual']== df_params_500['predictions']].count()"
   ]
  },
  {
   "cell_type": "code",
   "execution_count": 60,
   "id": "4e7e9aad-daa1-4987-8d6d-a95244298929",
   "metadata": {},
   "outputs": [
    {
     "data": {
      "text/plain": [
       "Rachel Green      1991\n",
       "Ross Geller       1985\n",
       "Chandler Bing     1897\n",
       "Monica Geller     1873\n",
       "Joey Tribbiani    1800\n",
       "Phoebe Buffay     1656\n",
       "Name: actual, dtype: int64"
      ]
     },
     "execution_count": 60,
     "metadata": {},
     "output_type": "execute_result"
    }
   ],
   "source": [
    "df_params_500['actual'].value_counts()"
   ]
  },
  {
   "cell_type": "code",
   "execution_count": 61,
   "id": "fc8e388e-a28d-437d-9998-9bbdd202cc55",
   "metadata": {
    "tags": []
   },
   "outputs": [
    {
     "data": {
      "text/plain": [
       "Chandler Bing     3411\n",
       "Rachel Green      2227\n",
       "Monica Geller     1878\n",
       "Joey Tribbiani    1542\n",
       "Ross Geller       1299\n",
       "Phoebe Buffay      845\n",
       "Name: predictions, dtype: int64"
      ]
     },
     "execution_count": 61,
     "metadata": {},
     "output_type": "execute_result"
    }
   ],
   "source": [
    "df_params_500['predictions'].value_counts()"
   ]
  },
  {
   "cell_type": "markdown",
   "id": "98562123-64a2-4b74-a5e6-de167bef066d",
   "metadata": {},
   "source": [
    "---\n",
    "**Predicting Some Phrases**"
   ]
  },
  {
   "cell_type": "code",
   "execution_count": 82,
   "id": "0624005c-e966-4bd3-9dcc-61ab05143e8d",
   "metadata": {},
   "outputs": [],
   "source": [
    "#abc_500.predict([\"How you doin'?\"])[0]"
   ]
  },
  {
   "cell_type": "code",
   "execution_count": 81,
   "id": "1e2c7013-3ab3-4295-9418-8f5d4912848c",
   "metadata": {},
   "outputs": [],
   "source": [
    "#abc_500.predict(['Smelly cat, smelly cat, what are they feeding you'])[0]"
   ]
  },
  {
   "cell_type": "code",
   "execution_count": 80,
   "id": "26f6d89e-4cbf-4374-80b6-f57a8384eea9",
   "metadata": {},
   "outputs": [],
   "source": [
    "#abc_500.predict(['We were on a break!'])[0]"
   ]
  },
  {
   "cell_type": "markdown",
   "id": "23d4e40c-a55a-4371-b82b-2f4816d21aa4",
   "metadata": {},
   "source": [
    "\n",
    "<br>\n",
    "\n",
    "---\n",
    "### Using Pipeline and GridSearch to find the Best Parameters"
   ]
  },
  {
   "cell_type": "markdown",
   "id": "762937f4-7e86-43b6-9397-b91d27dfe275",
   "metadata": {},
   "source": [
    "#### Pipeline for all GridSearch"
   ]
  },
  {
   "cell_type": "code",
   "execution_count": 62,
   "id": "12ffe3c2-0b03-43a4-9c87-f5a7271a2fbd",
   "metadata": {},
   "outputs": [],
   "source": [
    "pipe = Pipeline(steps= [('cv_g', CountVectorizer()),\n",
    "                       ('abc_g', AdaBoostClassifier(random_state=42))])"
   ]
  },
  {
   "cell_type": "markdown",
   "id": "f8ac91ad-c29b-4f98-8b6c-d572fb17265b",
   "metadata": {},
   "source": [
    "#### GridSearch with Different Parameters"
   ]
  },
  {
   "cell_type": "code",
   "execution_count": 63,
   "id": "ce5e2aa7-4a0f-4d1c-8df2-d0dec73d4d85",
   "metadata": {},
   "outputs": [],
   "source": [
    "grid_1 = {'cv_g__stop_words': [None, 'english'],\n",
    "         'cv_g__min_df': [0, 1, 2],\n",
    "          'abc_g__n_estimators': [50, 100, 150, 175, 200, 250, 275]\n",
    "         }"
   ]
  },
  {
   "cell_type": "code",
   "execution_count": 64,
   "id": "400cc461-64eb-4035-a316-330e29489955",
   "metadata": {},
   "outputs": [
    {
     "data": {
      "text/plain": [
       "GridSearchCV(estimator=Pipeline(steps=[('cv_g', CountVectorizer()),\n",
       "                                       ('abc_g',\n",
       "                                        AdaBoostClassifier(random_state=42))]),\n",
       "             param_grid={'abc_g__n_estimators': [50, 100, 150, 175, 200, 250,\n",
       "                                                 275],\n",
       "                         'cv_g__min_df': [0, 1, 2],\n",
       "                         'cv_g__stop_words': [None, 'english']})"
      ]
     },
     "execution_count": 64,
     "metadata": {},
     "output_type": "execute_result"
    }
   ],
   "source": [
    "gs_1 = GridSearchCV(estimator= pipe, param_grid= grid_1)\n",
    "gs_1.fit(X_train, y_train)"
   ]
  },
  {
   "cell_type": "code",
   "execution_count": 65,
   "id": "80082d4a-c845-43ee-b3b6-147de32f651f",
   "metadata": {},
   "outputs": [
    {
     "data": {
      "text/plain": [
       "{'abc_g__n_estimators': 275, 'cv_g__min_df': 2, 'cv_g__stop_words': None}"
      ]
     },
     "execution_count": 65,
     "metadata": {},
     "output_type": "execute_result"
    }
   ],
   "source": [
    "gs_1.best_params_"
   ]
  },
  {
   "cell_type": "code",
   "execution_count": 95,
   "id": "8aafb65d-3d9d-43e7-80fb-0288a43f08d2",
   "metadata": {},
   "outputs": [
    {
     "name": "stdout",
     "output_type": "stream",
     "text": [
      "Train score: 0.3031781930722533\n",
      "Test score: 0.2855740046420282\n"
     ]
    }
   ],
   "source": [
    "print(f'Train score: {gs_1.score(X_train, y_train)}\\nTest score: {gs_1.score(X_test, y_test)}')"
   ]
  },
  {
   "cell_type": "markdown",
   "id": "b0652634-08b5-41e7-bea2-302ee2338f54",
   "metadata": {},
   "source": [
    "---\n",
    "**Making Predictions**"
   ]
  },
  {
   "cell_type": "code",
   "execution_count": 83,
   "id": "5a45b87d-c562-43e2-998c-fb588a80c122",
   "metadata": {},
   "outputs": [],
   "source": [
    "preds_1 = gs_1.predict(X_test)"
   ]
  },
  {
   "cell_type": "markdown",
   "id": "e153ac9a-0e6c-42c0-9483-12b47256eb27",
   "metadata": {},
   "source": [
    "---\n",
    "**Creating dataframe with actual, predictions, and dialogue**"
   ]
  },
  {
   "cell_type": "code",
   "execution_count": 85,
   "id": "7a271c67-c7bc-4b1b-94d0-20611193c92a",
   "metadata": {},
   "outputs": [
    {
     "data": {
      "text/html": [
       "<div>\n",
       "<style scoped>\n",
       "    .dataframe tbody tr th:only-of-type {\n",
       "        vertical-align: middle;\n",
       "    }\n",
       "\n",
       "    .dataframe tbody tr th {\n",
       "        vertical-align: top;\n",
       "    }\n",
       "\n",
       "    .dataframe thead th {\n",
       "        text-align: right;\n",
       "    }\n",
       "</style>\n",
       "<table border=\"1\" class=\"dataframe\">\n",
       "  <thead>\n",
       "    <tr style=\"text-align: right;\">\n",
       "      <th></th>\n",
       "      <th>actual</th>\n",
       "      <th>predictions</th>\n",
       "      <th>dialogue</th>\n",
       "    </tr>\n",
       "  </thead>\n",
       "  <tbody>\n",
       "    <tr>\n",
       "      <th>8260</th>\n",
       "      <td>Monica Geller</td>\n",
       "      <td>Chandler Bing</td>\n",
       "      <td>Then what's the problem?</td>\n",
       "    </tr>\n",
       "    <tr>\n",
       "      <th>12970</th>\n",
       "      <td>Phoebe Buffay</td>\n",
       "      <td>Chandler Bing</td>\n",
       "      <td>Yeah, well, everybody does! I'm a really cool ...</td>\n",
       "    </tr>\n",
       "    <tr>\n",
       "      <th>9682</th>\n",
       "      <td>Rachel Green</td>\n",
       "      <td>Rachel Green</td>\n",
       "      <td>What? What? He's interested in you. He-he like...</td>\n",
       "    </tr>\n",
       "    <tr>\n",
       "      <th>22017</th>\n",
       "      <td>Monica Geller</td>\n",
       "      <td>Monica Geller</td>\n",
       "      <td>I've never loved anybody as much as I love you.</td>\n",
       "    </tr>\n",
       "    <tr>\n",
       "      <th>5611</th>\n",
       "      <td>Rachel Green</td>\n",
       "      <td>Chandler Bing</td>\n",
       "      <td>And I'm in it? Then let me read it.</td>\n",
       "    </tr>\n",
       "    <tr>\n",
       "      <th>22331</th>\n",
       "      <td>Joey Tribbiani</td>\n",
       "      <td>Joey Tribbiani</td>\n",
       "      <td>Yeah, I gotta go! I got an acting job. Like yo...</td>\n",
       "    </tr>\n",
       "    <tr>\n",
       "      <th>18609</th>\n",
       "      <td>Monica Geller</td>\n",
       "      <td>Chandler Bing</td>\n",
       "      <td>Great. So the ball is in his court?</td>\n",
       "    </tr>\n",
       "    <tr>\n",
       "      <th>23737</th>\n",
       "      <td>Monica Geller</td>\n",
       "      <td>Monica Geller</td>\n",
       "      <td>Dad, please don't pick your teeth out here! Al...</td>\n",
       "    </tr>\n",
       "    <tr>\n",
       "      <th>35446</th>\n",
       "      <td>Ross Geller</td>\n",
       "      <td>Monica Geller</td>\n",
       "      <td>Excellent! Excellent, now-now do you want anot...</td>\n",
       "    </tr>\n",
       "    <tr>\n",
       "      <th>3756</th>\n",
       "      <td>Monica Geller</td>\n",
       "      <td>Monica Geller</td>\n",
       "      <td>How are you?</td>\n",
       "    </tr>\n",
       "  </tbody>\n",
       "</table>\n",
       "</div>"
      ],
      "text/plain": [
       "               actual     predictions  \\\n",
       "8260    Monica Geller   Chandler Bing   \n",
       "12970   Phoebe Buffay   Chandler Bing   \n",
       "9682     Rachel Green    Rachel Green   \n",
       "22017   Monica Geller   Monica Geller   \n",
       "5611     Rachel Green   Chandler Bing   \n",
       "22331  Joey Tribbiani  Joey Tribbiani   \n",
       "18609   Monica Geller   Chandler Bing   \n",
       "23737   Monica Geller   Monica Geller   \n",
       "35446     Ross Geller   Monica Geller   \n",
       "3756    Monica Geller   Monica Geller   \n",
       "\n",
       "                                                dialogue  \n",
       "8260                            Then what's the problem?  \n",
       "12970  Yeah, well, everybody does! I'm a really cool ...  \n",
       "9682   What? What? He's interested in you. He-he like...  \n",
       "22017    I've never loved anybody as much as I love you.  \n",
       "5611                 And I'm in it? Then let me read it.  \n",
       "22331  Yeah, I gotta go! I got an acting job. Like yo...  \n",
       "18609                Great. So the ball is in his court?  \n",
       "23737  Dad, please don't pick your teeth out here! Al...  \n",
       "35446  Excellent! Excellent, now-now do you want anot...  \n",
       "3756                                        How are you?  "
      ]
     },
     "execution_count": 85,
     "metadata": {},
     "output_type": "execute_result"
    }
   ],
   "source": [
    "gs_df_1 = pd.DataFrame(y_test)\n",
    "gs_df_1['predictions'] = preds_1\n",
    "gs_df_1['dialogue'] = X_test\n",
    "gs_df_1.rename(columns={'character': 'actual'}, inplace=True)\n",
    "gs_df_1.head(10)"
   ]
  },
  {
   "cell_type": "code",
   "execution_count": 86,
   "id": "88c5c2dd-f88e-4e3d-8080-34bb899793b7",
   "metadata": {
    "tags": []
   },
   "outputs": [
    {
     "data": {
      "text/plain": [
       "Chandler Bing     3096\n",
       "Rachel Green      2200\n",
       "Monica Geller     2032\n",
       "Joey Tribbiani    1577\n",
       "Ross Geller       1345\n",
       "Phoebe Buffay      952\n",
       "Name: predictions, dtype: int64"
      ]
     },
     "execution_count": 86,
     "metadata": {},
     "output_type": "execute_result"
    }
   ],
   "source": [
    "gs_df_1['predictions'].value_counts()"
   ]
  },
  {
   "cell_type": "code",
   "execution_count": 87,
   "id": "f63f8d25-6c63-4c1d-8e2e-ef8131979676",
   "metadata": {},
   "outputs": [
    {
     "data": {
      "text/plain": [
       "Rachel Green      1991\n",
       "Ross Geller       1985\n",
       "Chandler Bing     1897\n",
       "Monica Geller     1873\n",
       "Joey Tribbiani    1800\n",
       "Phoebe Buffay     1656\n",
       "Name: actual, dtype: int64"
      ]
     },
     "execution_count": 87,
     "metadata": {},
     "output_type": "execute_result"
    }
   ],
   "source": [
    "gs_df_1['actual'].value_counts()"
   ]
  },
  {
   "cell_type": "code",
   "execution_count": 88,
   "id": "b550e073-e97e-488b-ba31-7616b16299e3",
   "metadata": {},
   "outputs": [
    {
     "data": {
      "text/plain": [
       "actual         8003\n",
       "predictions    8003\n",
       "dialogue       8003\n",
       "dtype: int64"
      ]
     },
     "execution_count": 88,
     "metadata": {},
     "output_type": "execute_result"
    }
   ],
   "source": [
    "gs_df_1.loc[gs_df_1['actual']!= gs_df_1['predictions']].count()"
   ]
  },
  {
   "cell_type": "code",
   "execution_count": 89,
   "id": "ba11ddc3-f8a9-460b-8437-38cbd8be9884",
   "metadata": {},
   "outputs": [
    {
     "data": {
      "text/plain": [
       "actual         3199\n",
       "predictions    3199\n",
       "dialogue       3199\n",
       "dtype: int64"
      ]
     },
     "execution_count": 89,
     "metadata": {},
     "output_type": "execute_result"
    }
   ],
   "source": [
    "gs_df_1.loc[gs_df_1['actual']== gs_df_1['predictions']].count()"
   ]
  },
  {
   "cell_type": "markdown",
   "id": "642b6747-65e0-4d9b-8431-5555e12ddcb7",
   "metadata": {},
   "source": [
    "---\n",
    "**Predicting Some Phrases**"
   ]
  },
  {
   "cell_type": "code",
   "execution_count": 90,
   "id": "65810394-70f3-4a61-9e3f-f9a02bd17a60",
   "metadata": {},
   "outputs": [
    {
     "data": {
      "text/plain": [
       "'Joey Tribbiani'"
      ]
     },
     "execution_count": 90,
     "metadata": {},
     "output_type": "execute_result"
    }
   ],
   "source": [
    "gs_1.predict([\"How you doin'?\"])[0]"
   ]
  },
  {
   "cell_type": "code",
   "execution_count": 91,
   "id": "0ea69f7b-d013-4b38-be98-c4e3c787fc21",
   "metadata": {},
   "outputs": [
    {
     "data": {
      "text/plain": [
       "'Monica Geller'"
      ]
     },
     "execution_count": 91,
     "metadata": {},
     "output_type": "execute_result"
    }
   ],
   "source": [
    "gs_1.predict(['Smelly cat, smelly cat, what are they feeding you'])[0]"
   ]
  },
  {
   "cell_type": "code",
   "execution_count": 92,
   "id": "b359c03e-a7ed-461f-9aef-7ab110f4c780",
   "metadata": {},
   "outputs": [
    {
     "data": {
      "text/plain": [
       "'Chandler Bing'"
      ]
     },
     "execution_count": 92,
     "metadata": {},
     "output_type": "execute_result"
    }
   ],
   "source": [
    "gs_1.predict(['We were on a break!'])[0]"
   ]
  },
  {
   "cell_type": "markdown",
   "id": "0ae14d1d-24b7-45e1-96cb-cdc30bbfff5a",
   "metadata": {},
   "source": [
    "<br>\n",
    "\n",
    "---\n",
    "### More Parameters"
   ]
  },
  {
   "cell_type": "code",
   "execution_count": 97,
   "id": "36a01309-769b-4cb9-a8cd-be2adf356bd0",
   "metadata": {},
   "outputs": [],
   "source": [
    "grid_2 = {'cv_g__stop_words': [None, 'english'],\n",
    "         'cv_g__min_df': [2, 3, 4, 5],\n",
    "          'abc_g__n_estimators': [275, 300, 325, 350, 375, 400]\n",
    "         }"
   ]
  },
  {
   "cell_type": "code",
   "execution_count": 98,
   "id": "215eeeff-453a-4769-a79f-418aab1af3af",
   "metadata": {},
   "outputs": [
    {
     "data": {
      "text/plain": [
       "GridSearchCV(estimator=Pipeline(steps=[('cv_g', CountVectorizer()),\n",
       "                                       ('abc_g',\n",
       "                                        AdaBoostClassifier(random_state=42))]),\n",
       "             param_grid={'abc_g__n_estimators': [275, 300, 325, 350, 375, 400],\n",
       "                         'cv_g__min_df': [2, 3, 4, 5],\n",
       "                         'cv_g__stop_words': [None, 'english']})"
      ]
     },
     "execution_count": 98,
     "metadata": {},
     "output_type": "execute_result"
    }
   ],
   "source": [
    "gs_2 = GridSearchCV(estimator= pipe, param_grid= grid_2)\n",
    "gs_2.fit(X_train, y_train)"
   ]
  },
  {
   "cell_type": "code",
   "execution_count": 99,
   "id": "0218e059-8f97-43fe-8fbe-408308de28c1",
   "metadata": {},
   "outputs": [
    {
     "data": {
      "text/plain": [
       "{'abc_g__n_estimators': 375, 'cv_g__min_df': 2, 'cv_g__stop_words': None}"
      ]
     },
     "execution_count": 99,
     "metadata": {},
     "output_type": "execute_result"
    }
   ],
   "source": [
    "gs_2.best_params_"
   ]
  },
  {
   "cell_type": "code",
   "execution_count": 100,
   "id": "da5168d7-a5c6-4241-86e1-6f6ee185ca68",
   "metadata": {},
   "outputs": [
    {
     "name": "stdout",
     "output_type": "stream",
     "text": [
      "Train score: 0.3119866682537793\n",
      "Test score: 0.2870915907873594\n"
     ]
    }
   ],
   "source": [
    "print(f'Train score: {gs_2.score(X_train, y_train)}\\nTest score: {gs_2.score(X_test, y_test)}')"
   ]
  },
  {
   "cell_type": "markdown",
   "id": "55a922e9-781e-4847-8326-5f120a5a0015",
   "metadata": {},
   "source": [
    "---\n",
    "**Making Predictions**"
   ]
  },
  {
   "cell_type": "code",
   "execution_count": 101,
   "id": "53d11156-a75b-4e76-855c-c16404d8fe81",
   "metadata": {},
   "outputs": [],
   "source": [
    "preds_2 = gs_2.predict(X_test)"
   ]
  },
  {
   "cell_type": "markdown",
   "id": "c8d6c874-9e70-41d1-a8d5-9b929b213d04",
   "metadata": {},
   "source": [
    "---\n",
    "**Creating dataframe with actual, predictions, and dialogue**"
   ]
  },
  {
   "cell_type": "code",
   "execution_count": 102,
   "id": "3eabb58e-d4b5-4dc7-a11c-12b412b9fdc0",
   "metadata": {},
   "outputs": [
    {
     "data": {
      "text/html": [
       "<div>\n",
       "<style scoped>\n",
       "    .dataframe tbody tr th:only-of-type {\n",
       "        vertical-align: middle;\n",
       "    }\n",
       "\n",
       "    .dataframe tbody tr th {\n",
       "        vertical-align: top;\n",
       "    }\n",
       "\n",
       "    .dataframe thead th {\n",
       "        text-align: right;\n",
       "    }\n",
       "</style>\n",
       "<table border=\"1\" class=\"dataframe\">\n",
       "  <thead>\n",
       "    <tr style=\"text-align: right;\">\n",
       "      <th></th>\n",
       "      <th>actual</th>\n",
       "      <th>predictions</th>\n",
       "      <th>dialogue</th>\n",
       "    </tr>\n",
       "  </thead>\n",
       "  <tbody>\n",
       "    <tr>\n",
       "      <th>8260</th>\n",
       "      <td>Monica Geller</td>\n",
       "      <td>Chandler Bing</td>\n",
       "      <td>Then what's the problem?</td>\n",
       "    </tr>\n",
       "    <tr>\n",
       "      <th>12970</th>\n",
       "      <td>Phoebe Buffay</td>\n",
       "      <td>Rachel Green</td>\n",
       "      <td>Yeah, well, everybody does! I'm a really cool ...</td>\n",
       "    </tr>\n",
       "    <tr>\n",
       "      <th>9682</th>\n",
       "      <td>Rachel Green</td>\n",
       "      <td>Rachel Green</td>\n",
       "      <td>What? What? He's interested in you. He-he like...</td>\n",
       "    </tr>\n",
       "    <tr>\n",
       "      <th>22017</th>\n",
       "      <td>Monica Geller</td>\n",
       "      <td>Monica Geller</td>\n",
       "      <td>I've never loved anybody as much as I love you.</td>\n",
       "    </tr>\n",
       "    <tr>\n",
       "      <th>5611</th>\n",
       "      <td>Rachel Green</td>\n",
       "      <td>Chandler Bing</td>\n",
       "      <td>And I'm in it? Then let me read it.</td>\n",
       "    </tr>\n",
       "    <tr>\n",
       "      <th>22331</th>\n",
       "      <td>Joey Tribbiani</td>\n",
       "      <td>Joey Tribbiani</td>\n",
       "      <td>Yeah, I gotta go! I got an acting job. Like yo...</td>\n",
       "    </tr>\n",
       "    <tr>\n",
       "      <th>18609</th>\n",
       "      <td>Monica Geller</td>\n",
       "      <td>Chandler Bing</td>\n",
       "      <td>Great. So the ball is in his court?</td>\n",
       "    </tr>\n",
       "    <tr>\n",
       "      <th>23737</th>\n",
       "      <td>Monica Geller</td>\n",
       "      <td>Monica Geller</td>\n",
       "      <td>Dad, please don't pick your teeth out here! Al...</td>\n",
       "    </tr>\n",
       "    <tr>\n",
       "      <th>35446</th>\n",
       "      <td>Ross Geller</td>\n",
       "      <td>Monica Geller</td>\n",
       "      <td>Excellent! Excellent, now-now do you want anot...</td>\n",
       "    </tr>\n",
       "    <tr>\n",
       "      <th>3756</th>\n",
       "      <td>Monica Geller</td>\n",
       "      <td>Monica Geller</td>\n",
       "      <td>How are you?</td>\n",
       "    </tr>\n",
       "  </tbody>\n",
       "</table>\n",
       "</div>"
      ],
      "text/plain": [
       "               actual     predictions  \\\n",
       "8260    Monica Geller   Chandler Bing   \n",
       "12970   Phoebe Buffay    Rachel Green   \n",
       "9682     Rachel Green    Rachel Green   \n",
       "22017   Monica Geller   Monica Geller   \n",
       "5611     Rachel Green   Chandler Bing   \n",
       "22331  Joey Tribbiani  Joey Tribbiani   \n",
       "18609   Monica Geller   Chandler Bing   \n",
       "23737   Monica Geller   Monica Geller   \n",
       "35446     Ross Geller   Monica Geller   \n",
       "3756    Monica Geller   Monica Geller   \n",
       "\n",
       "                                                dialogue  \n",
       "8260                            Then what's the problem?  \n",
       "12970  Yeah, well, everybody does! I'm a really cool ...  \n",
       "9682   What? What? He's interested in you. He-he like...  \n",
       "22017    I've never loved anybody as much as I love you.  \n",
       "5611                 And I'm in it? Then let me read it.  \n",
       "22331  Yeah, I gotta go! I got an acting job. Like yo...  \n",
       "18609                Great. So the ball is in his court?  \n",
       "23737  Dad, please don't pick your teeth out here! Al...  \n",
       "35446  Excellent! Excellent, now-now do you want anot...  \n",
       "3756                                        How are you?  "
      ]
     },
     "execution_count": 102,
     "metadata": {},
     "output_type": "execute_result"
    }
   ],
   "source": [
    "gs_df_2 = pd.DataFrame(y_test)\n",
    "gs_df_2['predictions'] = preds_2\n",
    "gs_df_2['dialogue'] = X_test\n",
    "gs_df_2.rename(columns={'character': 'actual'}, inplace=True)\n",
    "gs_df_2.head(10)"
   ]
  },
  {
   "cell_type": "code",
   "execution_count": 103,
   "id": "f549435f-eb47-4f2b-8760-99a2bea14fb4",
   "metadata": {
    "tags": []
   },
   "outputs": [
    {
     "data": {
      "text/plain": [
       "Chandler Bing     2931\n",
       "Rachel Green      2205\n",
       "Monica Geller     2034\n",
       "Joey Tribbiani    1596\n",
       "Ross Geller       1435\n",
       "Phoebe Buffay     1001\n",
       "Name: predictions, dtype: int64"
      ]
     },
     "execution_count": 103,
     "metadata": {},
     "output_type": "execute_result"
    }
   ],
   "source": [
    "gs_df_2['predictions'].value_counts()"
   ]
  },
  {
   "cell_type": "code",
   "execution_count": 104,
   "id": "9f16e7f3-c8a3-4012-a659-f22f9f891677",
   "metadata": {},
   "outputs": [
    {
     "data": {
      "text/plain": [
       "Rachel Green      1991\n",
       "Ross Geller       1985\n",
       "Chandler Bing     1897\n",
       "Monica Geller     1873\n",
       "Joey Tribbiani    1800\n",
       "Phoebe Buffay     1656\n",
       "Name: actual, dtype: int64"
      ]
     },
     "execution_count": 104,
     "metadata": {},
     "output_type": "execute_result"
    }
   ],
   "source": [
    "gs_df_2['actual'].value_counts()"
   ]
  },
  {
   "cell_type": "code",
   "execution_count": 105,
   "id": "7eb99238-f01a-436a-aa6c-da82e5427a56",
   "metadata": {},
   "outputs": [
    {
     "data": {
      "text/plain": [
       "actual         7986\n",
       "predictions    7986\n",
       "dialogue       7986\n",
       "dtype: int64"
      ]
     },
     "execution_count": 105,
     "metadata": {},
     "output_type": "execute_result"
    }
   ],
   "source": [
    "gs_df_2.loc[gs_df_1['actual']!= gs_df_2['predictions']].count()"
   ]
  },
  {
   "cell_type": "code",
   "execution_count": 106,
   "id": "b297915e-dbf8-45a6-8260-56b6b9c5970a",
   "metadata": {},
   "outputs": [
    {
     "data": {
      "text/plain": [
       "actual         3216\n",
       "predictions    3216\n",
       "dialogue       3216\n",
       "dtype: int64"
      ]
     },
     "execution_count": 106,
     "metadata": {},
     "output_type": "execute_result"
    }
   ],
   "source": [
    "gs_df_2.loc[gs_df_1['actual']== gs_df_2['predictions']].count()"
   ]
  },
  {
   "cell_type": "markdown",
   "id": "275bc149-22f6-4c3b-9a2f-f909c90e514e",
   "metadata": {},
   "source": [
    "---\n",
    "**Predicting Some Phrases**"
   ]
  },
  {
   "cell_type": "code",
   "execution_count": 107,
   "id": "d4e109e2-f692-4324-a529-b670c925e83b",
   "metadata": {},
   "outputs": [
    {
     "data": {
      "text/plain": [
       "'Joey Tribbiani'"
      ]
     },
     "execution_count": 107,
     "metadata": {},
     "output_type": "execute_result"
    }
   ],
   "source": [
    "gs_2.predict([\"How you doin'?\"])[0]"
   ]
  },
  {
   "cell_type": "code",
   "execution_count": 108,
   "id": "b36a157b-c486-44c7-9c1e-c9e701086aad",
   "metadata": {},
   "outputs": [
    {
     "data": {
      "text/plain": [
       "'Rachel Green'"
      ]
     },
     "execution_count": 108,
     "metadata": {},
     "output_type": "execute_result"
    }
   ],
   "source": [
    "gs_2.predict(['Smelly cat, smelly cat, what are they feeding you'])[0]"
   ]
  },
  {
   "cell_type": "code",
   "execution_count": 111,
   "id": "26933917-18e5-4ed2-b3b5-ba870c0f6880",
   "metadata": {},
   "outputs": [
    {
     "data": {
      "text/plain": [
       "'Chandler Bing'"
      ]
     },
     "execution_count": 111,
     "metadata": {},
     "output_type": "execute_result"
    }
   ],
   "source": [
    "gs_2.predict(['We were on a break!'])[0]"
   ]
  },
  {
   "cell_type": "markdown",
   "id": "3c11cdaa-62cd-4dc8-8464-4fc2fb65288e",
   "metadata": {},
   "source": [
    "<br>\n",
    "\n",
    "---- \n",
    "### Exporting the Model Using Pickle"
   ]
  },
  {
   "cell_type": "code",
   "execution_count": 112,
   "id": "ed8e106d-6253-4d82-9c6e-15ac40c920b0",
   "metadata": {},
   "outputs": [],
   "source": [
    "#Using the best model which was the \n",
    "with open('../ada-boost.pkl', mode='wb') as pickle_out:\n",
    "    pickle.dump(gs_2, pickle_out)"
   ]
  }
 ],
 "metadata": {
  "kernelspec": {
   "display_name": "Python 3",
   "language": "python",
   "name": "python3"
  },
  "language_info": {
   "codemirror_mode": {
    "name": "ipython",
    "version": 3
   },
   "file_extension": ".py",
   "mimetype": "text/x-python",
   "name": "python",
   "nbconvert_exporter": "python",
   "pygments_lexer": "ipython3",
   "version": "3.9.7"
  }
 },
 "nbformat": 4,
 "nbformat_minor": 5
}
