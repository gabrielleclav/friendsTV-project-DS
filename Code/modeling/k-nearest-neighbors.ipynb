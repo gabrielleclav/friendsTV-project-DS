{
 "cells": [
  {
   "cell_type": "markdown",
   "id": "3d3b0ddd-555b-4e55-aaba-eabff41c84e1",
   "metadata": {},
   "source": [
    "# K Nearest Neighbors"
   ]
  },
  {
   "cell_type": "markdown",
   "id": "546bf673-1119-4a1a-b059-9820b3ca93ba",
   "metadata": {},
   "source": [
    "## Predicting the Character"
   ]
  },
  {
   "cell_type": "code",
   "execution_count": 58,
   "id": "d0bd0abc-2591-4892-a025-42d5ce89cb85",
   "metadata": {},
   "outputs": [],
   "source": [
    "#Importing necessary Libraries \n",
    "import numpy as np\n",
    "import pandas as pd \n",
    "import matplotlib.pyplot as plt\n",
    "import seaborn as sns \n",
    "import plotly.express as px\n",
    "\n",
    "#Import Naive Bayes \n",
    "from sklearn.neighbors import KNeighborsClassifier\n",
    "\n",
    "#Other libraries needed \n",
    "from sklearn.metrics import (plot_confusion_matrix, accuracy_score, classification_report)\n",
    "from sklearn.feature_extraction.text import CountVectorizer, TfidfVectorizer\n",
    "from sklearn.model_selection import train_test_split, GridSearchCV, cross_val_score\n",
    "from sklearn.pipeline import Pipeline\n",
    "from nltk.corpus import stopwords\n",
    "\n",
    "#For streamlit\n",
    "import pickle"
   ]
  },
  {
   "cell_type": "code",
   "execution_count": 2,
   "id": "9aedfec1-0692-47cb-9121-a277d6451011",
   "metadata": {},
   "outputs": [
    {
     "data": {
      "text/html": [
       "<div>\n",
       "<style scoped>\n",
       "    .dataframe tbody tr th:only-of-type {\n",
       "        vertical-align: middle;\n",
       "    }\n",
       "\n",
       "    .dataframe tbody tr th {\n",
       "        vertical-align: top;\n",
       "    }\n",
       "\n",
       "    .dataframe thead th {\n",
       "        text-align: right;\n",
       "    }\n",
       "</style>\n",
       "<table border=\"1\" class=\"dataframe\">\n",
       "  <thead>\n",
       "    <tr style=\"text-align: right;\">\n",
       "      <th></th>\n",
       "      <th>season</th>\n",
       "      <th>episode</th>\n",
       "      <th>character</th>\n",
       "      <th>dialogue</th>\n",
       "    </tr>\n",
       "  </thead>\n",
       "  <tbody>\n",
       "    <tr>\n",
       "      <th>0</th>\n",
       "      <td>s01</td>\n",
       "      <td>e01</td>\n",
       "      <td>Monica Geller</td>\n",
       "      <td>There's nothing to tell! He's just some guy I ...</td>\n",
       "    </tr>\n",
       "    <tr>\n",
       "      <th>1</th>\n",
       "      <td>s01</td>\n",
       "      <td>e01</td>\n",
       "      <td>Joey Tribbiani</td>\n",
       "      <td>C'mon, you're going out with the guy! There's ...</td>\n",
       "    </tr>\n",
       "    <tr>\n",
       "      <th>2</th>\n",
       "      <td>s01</td>\n",
       "      <td>e01</td>\n",
       "      <td>Chandler Bing</td>\n",
       "      <td>All right Joey, be nice. So does he have a hum...</td>\n",
       "    </tr>\n",
       "    <tr>\n",
       "      <th>3</th>\n",
       "      <td>s01</td>\n",
       "      <td>e01</td>\n",
       "      <td>Phoebe Buffay</td>\n",
       "      <td>Wait, does he eat chalk?</td>\n",
       "    </tr>\n",
       "    <tr>\n",
       "      <th>4</th>\n",
       "      <td>s01</td>\n",
       "      <td>e01</td>\n",
       "      <td>Phoebe Buffay</td>\n",
       "      <td>Just, 'cause, I don't want her to go through w...</td>\n",
       "    </tr>\n",
       "  </tbody>\n",
       "</table>\n",
       "</div>"
      ],
      "text/plain": [
       "  season episode       character  \\\n",
       "0    s01     e01   Monica Geller   \n",
       "1    s01     e01  Joey Tribbiani   \n",
       "2    s01     e01   Chandler Bing   \n",
       "3    s01     e01   Phoebe Buffay   \n",
       "4    s01     e01   Phoebe Buffay   \n",
       "\n",
       "                                            dialogue  \n",
       "0  There's nothing to tell! He's just some guy I ...  \n",
       "1  C'mon, you're going out with the guy! There's ...  \n",
       "2  All right Joey, be nice. So does he have a hum...  \n",
       "3                           Wait, does he eat chalk?  \n",
       "4  Just, 'cause, I don't want her to go through w...  "
      ]
     },
     "execution_count": 2,
     "metadata": {},
     "output_type": "execute_result"
    }
   ],
   "source": [
    "#import the dataset\n",
    "friends = pd.read_csv('../../Datasets/friends-modeling.csv')\n",
    "friends.head()"
   ]
  },
  {
   "cell_type": "code",
   "execution_count": 3,
   "id": "32bbd2b2-f67a-44d4-81f6-38e07025bb3c",
   "metadata": {},
   "outputs": [
    {
     "data": {
      "text/plain": [
       "season       0\n",
       "episode      0\n",
       "character    0\n",
       "dialogue     0\n",
       "dtype: int64"
      ]
     },
     "execution_count": 3,
     "metadata": {},
     "output_type": "execute_result"
    }
   ],
   "source": [
    "#Make sure no nulls\n",
    "friends.isnull().sum()"
   ]
  },
  {
   "cell_type": "markdown",
   "id": "64c47e06-9fd4-4c45-8585-fc902bd967e2",
   "metadata": {},
   "source": [
    "### Make X and y values "
   ]
  },
  {
   "cell_type": "code",
   "execution_count": 4,
   "id": "de12f9f9-00a5-4006-b7df-ada148980d13",
   "metadata": {},
   "outputs": [],
   "source": [
    "X = friends['dialogue']\n",
    "y = friends['character']"
   ]
  },
  {
   "cell_type": "markdown",
   "id": "2832c909-4863-4fc9-bcf8-ee474fd45fda",
   "metadata": {},
   "source": [
    "### Split into Train and Test"
   ]
  },
  {
   "cell_type": "code",
   "execution_count": 5,
   "id": "47e9dc37-8784-4074-b9e7-4ed36fd314bf",
   "metadata": {},
   "outputs": [],
   "source": [
    "X_train, X_test, y_train, y_test = train_test_split(X, y, random_state=42, stratify=y)"
   ]
  },
  {
   "cell_type": "markdown",
   "id": "5401f5d7-39ad-41d2-8874-928d1fd6a25b",
   "metadata": {},
   "source": [
    "### Baseline Accuracy "
   ]
  },
  {
   "cell_type": "code",
   "execution_count": 6,
   "id": "35183586-0e91-4a6f-bc07-34acd4a59692",
   "metadata": {},
   "outputs": [
    {
     "data": {
      "text/plain": [
       "Rachel Green      0.177657\n",
       "Ross Geller       0.177152\n",
       "Chandler Bing     0.169355\n",
       "Monica Geller     0.167242\n",
       "Joey Tribbiani    0.160725\n",
       "Phoebe Buffay     0.147869\n",
       "Name: character, dtype: float64"
      ]
     },
     "execution_count": 6,
     "metadata": {},
     "output_type": "execute_result"
    }
   ],
   "source": [
    "y_train.value_counts(normalize=True)"
   ]
  },
  {
   "cell_type": "markdown",
   "id": "74f29c9b-62d9-44c3-955b-a5b9f3883538",
   "metadata": {
    "tags": []
   },
   "source": [
    "### Making a Pipeline for the GridSearch Using CountVectorizer"
   ]
  },
  {
   "cell_type": "code",
   "execution_count": 7,
   "id": "72c90660-b711-4edb-a157-1f0c914a4d46",
   "metadata": {},
   "outputs": [],
   "source": [
    "# Get the same accuracy and scores \n",
    "np.random.seed(42)"
   ]
  },
  {
   "cell_type": "code",
   "execution_count": 8,
   "id": "ba373879-06e5-493e-a00b-69a3376304e8",
   "metadata": {},
   "outputs": [],
   "source": [
    "pipe = Pipeline(steps=[('cv', CountVectorizer()),\n",
    "                      ('knn', KNeighborsClassifier())])"
   ]
  },
  {
   "cell_type": "markdown",
   "id": "3cbba98a-5def-43a9-8797-f159e14fcf89",
   "metadata": {},
   "source": [
    "### Modeling the KNN Using GridSearch and Default Parameters"
   ]
  },
  {
   "cell_type": "code",
   "execution_count": 9,
   "id": "e72bd96c-d701-498d-a693-95fd5a460ebb",
   "metadata": {},
   "outputs": [],
   "source": [
    "grid_d = {'cv__stop_words': [None, 'english'],\n",
    "         'cv__min_df': [0, 1, 2]}"
   ]
  },
  {
   "cell_type": "code",
   "execution_count": 10,
   "id": "38146114-5b28-444c-bff4-900fea33c5ca",
   "metadata": {},
   "outputs": [
    {
     "data": {
      "text/plain": [
       "GridSearchCV(estimator=Pipeline(steps=[('cv', CountVectorizer()),\n",
       "                                       ('knn', KNeighborsClassifier())]),\n",
       "             param_grid={'cv__min_df': [0, 1, 2],\n",
       "                         'cv__stop_words': [None, 'english']})"
      ]
     },
     "execution_count": 10,
     "metadata": {},
     "output_type": "execute_result"
    }
   ],
   "source": [
    "gs_d = GridSearchCV(estimator=pipe, param_grid=grid_d)\n",
    "gs_d.fit(X_train, y_train)"
   ]
  },
  {
   "cell_type": "code",
   "execution_count": 11,
   "id": "87dcf58d-a869-4c5c-bc45-8b3dd0de4aaf",
   "metadata": {},
   "outputs": [
    {
     "data": {
      "text/plain": [
       "{'cv__min_df': 2, 'cv__stop_words': 'english'}"
      ]
     },
     "execution_count": 11,
     "metadata": {},
     "output_type": "execute_result"
    }
   ],
   "source": [
    "gs_d.best_params_"
   ]
  },
  {
   "cell_type": "code",
   "execution_count": 12,
   "id": "965bd458-6288-410e-8cda-b0aa4c96060e",
   "metadata": {},
   "outputs": [
    {
     "name": "stdout",
     "output_type": "stream",
     "text": [
      "Train score: 0.43078204975598144\n",
      "Test score: 0.21112301374754508\n"
     ]
    }
   ],
   "source": [
    "print(f'Train score: {gs_d.score(X_train, y_train)}\\nTest score: {gs_d.score(X_test, y_test)}')"
   ]
  },
  {
   "cell_type": "markdown",
   "id": "e35fc73e-9ea0-4dba-8045-740413bfcab3",
   "metadata": {},
   "source": [
    "---\n",
    "**Making Predictions**"
   ]
  },
  {
   "cell_type": "code",
   "execution_count": 13,
   "id": "3dc69bf9-96d0-4eb9-973a-8cf49aa9c3a9",
   "metadata": {},
   "outputs": [],
   "source": [
    "preds_d = gs_d.predict(X_test)"
   ]
  },
  {
   "cell_type": "code",
   "execution_count": 14,
   "id": "76fe82b0-48d0-4c35-b8ec-df7c6c9da739",
   "metadata": {},
   "outputs": [
    {
     "data": {
      "image/png": "[encoded data removed]",
      "text/plain": [
       "<Figure size 640x480 with 2 Axes>"
      ]
     },
     "metadata": {},
     "output_type": "display_data"
    }
   ],
   "source": [
    "#Plotting a Confusion Matrix to show a comparison between actual and predicted values.\n",
    "plot_confusion_matrix(estimator=gs_d, X = X_test, y_true=y_test)\n",
    "plt.xticks(rotation = 90)\n",
    "plt.show()"
   ]
  },
  {
   "cell_type": "code",
   "execution_count": 15,
   "id": "3f6df2b8-0fa0-42bf-ba49-768f24b81ae0",
   "metadata": {},
   "outputs": [
    {
     "name": "stdout",
     "output_type": "stream",
     "text": [
      "                precision    recall  f1-score   support\n",
      "\n",
      " Chandler Bing       0.21      0.29      0.24      1897\n",
      "Joey Tribbiani       0.20      0.21      0.21      1800\n",
      " Monica Geller       0.21      0.26      0.23      1873\n",
      " Phoebe Buffay       0.21      0.16      0.18      1656\n",
      "  Rachel Green       0.22      0.20      0.21      1991\n",
      "   Ross Geller       0.24      0.15      0.18      1985\n",
      "\n",
      "      accuracy                           0.21     11202\n",
      "     macro avg       0.21      0.21      0.21     11202\n",
      "  weighted avg       0.21      0.21      0.21     11202\n",
      "\n"
     ]
    }
   ],
   "source": [
    "print(classification_report(y_true=y_test, y_pred=preds_d))"
   ]
  },
  {
   "cell_type": "markdown",
   "id": "45472261-c051-488b-a2b7-c374b0adc52f",
   "metadata": {},
   "source": [
    "---\n",
    "**Making a dataframe with actual, predictions, and dialogue**"
   ]
  },
  {
   "cell_type": "code",
   "execution_count": 16,
   "id": "6fe187e4-5413-4f13-a294-b62200c89501",
   "metadata": {},
   "outputs": [
    {
     "data": {
      "text/html": [
       "<div>\n",
       "<style scoped>\n",
       "    .dataframe tbody tr th:only-of-type {\n",
       "        vertical-align: middle;\n",
       "    }\n",
       "\n",
       "    .dataframe tbody tr th {\n",
       "        vertical-align: top;\n",
       "    }\n",
       "\n",
       "    .dataframe thead th {\n",
       "        text-align: right;\n",
       "    }\n",
       "</style>\n",
       "<table border=\"1\" class=\"dataframe\">\n",
       "  <thead>\n",
       "    <tr style=\"text-align: right;\">\n",
       "      <th></th>\n",
       "      <th>actual</th>\n",
       "      <th>predictions</th>\n",
       "      <th>dialogue</th>\n",
       "    </tr>\n",
       "  </thead>\n",
       "  <tbody>\n",
       "    <tr>\n",
       "      <th>8260</th>\n",
       "      <td>Monica Geller</td>\n",
       "      <td>Joey Tribbiani</td>\n",
       "      <td>Then what's the problem?</td>\n",
       "    </tr>\n",
       "    <tr>\n",
       "      <th>12970</th>\n",
       "      <td>Phoebe Buffay</td>\n",
       "      <td>Ross Geller</td>\n",
       "      <td>Yeah, well, everybody does! I'm a really cool ...</td>\n",
       "    </tr>\n",
       "    <tr>\n",
       "      <th>9682</th>\n",
       "      <td>Rachel Green</td>\n",
       "      <td>Monica Geller</td>\n",
       "      <td>What? What? He's interested in you. He-he like...</td>\n",
       "    </tr>\n",
       "    <tr>\n",
       "      <th>22017</th>\n",
       "      <td>Monica Geller</td>\n",
       "      <td>Chandler Bing</td>\n",
       "      <td>I've never loved anybody as much as I love you.</td>\n",
       "    </tr>\n",
       "    <tr>\n",
       "      <th>5611</th>\n",
       "      <td>Rachel Green</td>\n",
       "      <td>Chandler Bing</td>\n",
       "      <td>And I'm in it? Then let me read it.</td>\n",
       "    </tr>\n",
       "    <tr>\n",
       "      <th>22331</th>\n",
       "      <td>Joey Tribbiani</td>\n",
       "      <td>Rachel Green</td>\n",
       "      <td>Yeah, I gotta go! I got an acting job. Like yo...</td>\n",
       "    </tr>\n",
       "    <tr>\n",
       "      <th>18609</th>\n",
       "      <td>Monica Geller</td>\n",
       "      <td>Phoebe Buffay</td>\n",
       "      <td>Great. So the ball is in his court?</td>\n",
       "    </tr>\n",
       "    <tr>\n",
       "      <th>23737</th>\n",
       "      <td>Monica Geller</td>\n",
       "      <td>Rachel Green</td>\n",
       "      <td>Dad, please don't pick your teeth out here! Al...</td>\n",
       "    </tr>\n",
       "    <tr>\n",
       "      <th>35446</th>\n",
       "      <td>Ross Geller</td>\n",
       "      <td>Ross Geller</td>\n",
       "      <td>Excellent! Excellent, now-now do you want anot...</td>\n",
       "    </tr>\n",
       "    <tr>\n",
       "      <th>3756</th>\n",
       "      <td>Monica Geller</td>\n",
       "      <td>Monica Geller</td>\n",
       "      <td>How are you?</td>\n",
       "    </tr>\n",
       "  </tbody>\n",
       "</table>\n",
       "</div>"
      ],
      "text/plain": [
       "               actual     predictions  \\\n",
       "8260    Monica Geller  Joey Tribbiani   \n",
       "12970   Phoebe Buffay     Ross Geller   \n",
       "9682     Rachel Green   Monica Geller   \n",
       "22017   Monica Geller   Chandler Bing   \n",
       "5611     Rachel Green   Chandler Bing   \n",
       "22331  Joey Tribbiani    Rachel Green   \n",
       "18609   Monica Geller   Phoebe Buffay   \n",
       "23737   Monica Geller    Rachel Green   \n",
       "35446     Ross Geller     Ross Geller   \n",
       "3756    Monica Geller   Monica Geller   \n",
       "\n",
       "                                                dialogue  \n",
       "8260                            Then what's the problem?  \n",
       "12970  Yeah, well, everybody does! I'm a really cool ...  \n",
       "9682   What? What? He's interested in you. He-he like...  \n",
       "22017    I've never loved anybody as much as I love you.  \n",
       "5611                 And I'm in it? Then let me read it.  \n",
       "22331  Yeah, I gotta go! I got an acting job. Like yo...  \n",
       "18609                Great. So the ball is in his court?  \n",
       "23737  Dad, please don't pick your teeth out here! Al...  \n",
       "35446  Excellent! Excellent, now-now do you want anot...  \n",
       "3756                                        How are you?  "
      ]
     },
     "execution_count": 16,
     "metadata": {},
     "output_type": "execute_result"
    }
   ],
   "source": [
    "knn_d = pd.DataFrame(y_test)\n",
    "\n",
    "knn_d['predictions'] = preds_d\n",
    "\n",
    "knn_d['dialogue'] = X_test\n",
    "\n",
    "knn_d.rename(columns={'character': 'actual'}, inplace=True)\n",
    "knn_d.head(10)"
   ]
  },
  {
   "cell_type": "code",
   "execution_count": 17,
   "id": "3ab083c3-46ca-455e-8497-3776e2b29727",
   "metadata": {},
   "outputs": [
    {
     "data": {
      "text/plain": [
       "Chandler Bing     2664\n",
       "Monica Geller     2348\n",
       "Joey Tribbiani    1856\n",
       "Rachel Green      1815\n",
       "Ross Geller       1264\n",
       "Phoebe Buffay     1255\n",
       "Name: predictions, dtype: int64"
      ]
     },
     "execution_count": 17,
     "metadata": {},
     "output_type": "execute_result"
    }
   ],
   "source": [
    "#Check which character is predicted the most by this first model\n",
    "knn_d['predictions'].value_counts()"
   ]
  },
  {
   "cell_type": "code",
   "execution_count": 18,
   "id": "94a218bc-65a2-476f-b95d-cda0c32dc76a",
   "metadata": {},
   "outputs": [
    {
     "data": {
      "text/plain": [
       "Rachel Green      1991\n",
       "Ross Geller       1985\n",
       "Chandler Bing     1897\n",
       "Monica Geller     1873\n",
       "Joey Tribbiani    1800\n",
       "Phoebe Buffay     1656\n",
       "Name: actual, dtype: int64"
      ]
     },
     "execution_count": 18,
     "metadata": {},
     "output_type": "execute_result"
    }
   ],
   "source": [
    "#How many times each character appears\n",
    "knn_d['actual'].value_counts()"
   ]
  },
  {
   "cell_type": "code",
   "execution_count": 19,
   "id": "bf5441c7-d237-4ae0-865c-43f9f7854e9e",
   "metadata": {},
   "outputs": [
    {
     "data": {
      "text/plain": [
       "actual         8837\n",
       "predictions    8837\n",
       "dialogue       8837\n",
       "dtype: int64"
      ]
     },
     "execution_count": 19,
     "metadata": {},
     "output_type": "execute_result"
    }
   ],
   "source": [
    "#how many are predicted wrong\n",
    "knn_d[knn_d['actual'] != knn_d['predictions']].count()"
   ]
  },
  {
   "cell_type": "code",
   "execution_count": 20,
   "id": "a3372347-3d23-415b-9a2e-b20a22e8080c",
   "metadata": {},
   "outputs": [
    {
     "data": {
      "text/plain": [
       "actual         2365\n",
       "predictions    2365\n",
       "dialogue       2365\n",
       "dtype: int64"
      ]
     },
     "execution_count": 20,
     "metadata": {},
     "output_type": "execute_result"
    }
   ],
   "source": [
    "#how many are predicted correctly\n",
    "knn_d[knn_d['actual'] == knn_d['predictions']].count()"
   ]
  },
  {
   "cell_type": "markdown",
   "id": "5a2edc9d-969e-43e0-adac-f7fa391667d3",
   "metadata": {},
   "source": [
    "---\n",
    "**Predicting Some Phrases**"
   ]
  },
  {
   "cell_type": "code",
   "execution_count": 21,
   "id": "40224dad-348a-497a-90a5-f939099b1a9a",
   "metadata": {
    "tags": []
   },
   "outputs": [
    {
     "data": {
      "text/plain": [
       "'Joey Tribbiani'"
      ]
     },
     "execution_count": 21,
     "metadata": {},
     "output_type": "execute_result"
    }
   ],
   "source": [
    "gs_d.predict([\"How you doin'?\"])[0]"
   ]
  },
  {
   "cell_type": "code",
   "execution_count": 22,
   "id": "f104d6fc-6e77-4b29-a5ed-754059c38bbd",
   "metadata": {},
   "outputs": [
    {
     "data": {
      "text/plain": [
       "'Phoebe Buffay'"
      ]
     },
     "execution_count": 22,
     "metadata": {},
     "output_type": "execute_result"
    }
   ],
   "source": [
    "gs_d.predict(['Smelly cat, smelly cat, what are they feeding you'])[0]"
   ]
  },
  {
   "cell_type": "code",
   "execution_count": 23,
   "id": "4565b75c-fafa-4dee-8568-173d1b8a0503",
   "metadata": {},
   "outputs": [
    {
     "data": {
      "text/plain": [
       "'Ross Geller'"
      ]
     },
     "execution_count": 23,
     "metadata": {},
     "output_type": "execute_result"
    }
   ],
   "source": [
    "gs_d.predict(['We were on a break!'])[0]"
   ]
  },
  {
   "cell_type": "markdown",
   "id": "99e55102-f635-43a5-8c0f-1197651101f5",
   "metadata": {},
   "source": [
    "### With Parameter Tuning"
   ]
  },
  {
   "cell_type": "code",
   "execution_count": 24,
   "id": "67bdb9c6-091d-442d-b267-0c912d6df62e",
   "metadata": {},
   "outputs": [],
   "source": [
    "grid_1 = {'cv__stop_words':[None, 'english'],\n",
    "        'cv__min_df': [0, 1, 2, 3, 4, 5, 6],\n",
    "        'knn__n_neighbors': [5, 7, 9, 11, 13]\n",
    "       }"
   ]
  },
  {
   "cell_type": "code",
   "execution_count": 25,
   "id": "f93c8443-1665-4b88-8f9e-6d8d364fd03d",
   "metadata": {},
   "outputs": [
    {
     "data": {
      "text/plain": [
       "GridSearchCV(estimator=Pipeline(steps=[('cv', CountVectorizer()),\n",
       "                                       ('knn', KNeighborsClassifier())]),\n",
       "             param_grid={'cv__min_df': [0, 1, 2, 3, 4, 5, 6],\n",
       "                         'cv__stop_words': [None, 'english'],\n",
       "                         'knn__n_neighbors': [5, 7, 9, 11, 13]})"
      ]
     },
     "execution_count": 25,
     "metadata": {},
     "output_type": "execute_result"
    }
   ],
   "source": [
    "gs_1 = GridSearchCV(pipe, param_grid= grid_1)\n",
    "gs_1.fit(X_train, y_train)"
   ]
  },
  {
   "cell_type": "code",
   "execution_count": 26,
   "id": "0e266e34-74e1-4a08-af48-a63331528324",
   "metadata": {},
   "outputs": [
    {
     "data": {
      "text/plain": [
       "{'cv__min_df': 3, 'cv__stop_words': 'english', 'knn__n_neighbors': 13}"
      ]
     },
     "execution_count": 26,
     "metadata": {},
     "output_type": "execute_result"
    }
   ],
   "source": [
    "gs_1.best_params_"
   ]
  },
  {
   "cell_type": "code",
   "execution_count": 27,
   "id": "9ae1772d-f2fd-407e-99dd-028162a9f651",
   "metadata": {},
   "outputs": [
    {
     "name": "stdout",
     "output_type": "stream",
     "text": [
      "Train score: 0.3445423163909058\n",
      "Test score: 0.2029101946081057\n"
     ]
    }
   ],
   "source": [
    "print(f'Train score: {gs_1.score(X_train, y_train)}\\nTest score: {gs_1.score(X_test, y_test)}')"
   ]
  },
  {
   "cell_type": "markdown",
   "id": "7024cba4-1932-418e-8644-b84aa76a26c0",
   "metadata": {},
   "source": [
    "---\n",
    "**Making Predictions**"
   ]
  },
  {
   "cell_type": "code",
   "execution_count": 28,
   "id": "643f508b-ad14-4a00-b1de-6a281313ff4f",
   "metadata": {},
   "outputs": [],
   "source": [
    "preds_1 = gs_1.predict(X_test)"
   ]
  },
  {
   "cell_type": "code",
   "execution_count": 51,
   "id": "2bad6bbd-2956-4c31-b35d-cd478b5defa9",
   "metadata": {},
   "outputs": [
    {
     "data": {
      "image/png": "[encoded data removed]",
      "text/plain": [
       "<Figure size 640x480 with 2 Axes>"
      ]
     },
     "metadata": {},
     "output_type": "display_data"
    }
   ],
   "source": [
    "plot_confusion_matrix(estimator= gs_1, X= X_test, y_true= y_test)\n",
    "plt.xticks(rotation = 90)\n",
    "plt.show()"
   ]
  },
  {
   "cell_type": "code",
   "execution_count": 30,
   "id": "f41dca99-7fc8-49f9-994e-084c0fbd5ecc",
   "metadata": {},
   "outputs": [
    {
     "name": "stdout",
     "output_type": "stream",
     "text": [
      "                precision    recall  f1-score   support\n",
      "\n",
      " Chandler Bing       0.19      0.24      0.21      1897\n",
      "Joey Tribbiani       0.20      0.20      0.20      1800\n",
      " Monica Geller       0.20      0.29      0.24      1873\n",
      " Phoebe Buffay       0.19      0.12      0.15      1656\n",
      "  Rachel Green       0.22      0.20      0.21      1991\n",
      "   Ross Geller       0.21      0.15      0.17      1985\n",
      "\n",
      "      accuracy                           0.20     11202\n",
      "     macro avg       0.20      0.20      0.20     11202\n",
      "  weighted avg       0.20      0.20      0.20     11202\n",
      "\n"
     ]
    }
   ],
   "source": [
    "print(classification_report(y_true=y_test, y_pred=preds_1))"
   ]
  },
  {
   "cell_type": "markdown",
   "id": "bd872a3c-224f-4cfa-bcd9-9cb9de1ab9e8",
   "metadata": {},
   "source": [
    "---\n",
    "**Making a dataframe with actual, predictions, and dialogue**"
   ]
  },
  {
   "cell_type": "code",
   "execution_count": 31,
   "id": "93a65390-1567-4cf9-ab30-10596477670f",
   "metadata": {},
   "outputs": [
    {
     "data": {
      "text/html": [
       "<div>\n",
       "<style scoped>\n",
       "    .dataframe tbody tr th:only-of-type {\n",
       "        vertical-align: middle;\n",
       "    }\n",
       "\n",
       "    .dataframe tbody tr th {\n",
       "        vertical-align: top;\n",
       "    }\n",
       "\n",
       "    .dataframe thead th {\n",
       "        text-align: right;\n",
       "    }\n",
       "</style>\n",
       "<table border=\"1\" class=\"dataframe\">\n",
       "  <thead>\n",
       "    <tr style=\"text-align: right;\">\n",
       "      <th></th>\n",
       "      <th>actual</th>\n",
       "      <th>predictions</th>\n",
       "      <th>dialogue</th>\n",
       "    </tr>\n",
       "  </thead>\n",
       "  <tbody>\n",
       "    <tr>\n",
       "      <th>8260</th>\n",
       "      <td>Monica Geller</td>\n",
       "      <td>Ross Geller</td>\n",
       "      <td>Then what's the problem?</td>\n",
       "    </tr>\n",
       "    <tr>\n",
       "      <th>12970</th>\n",
       "      <td>Phoebe Buffay</td>\n",
       "      <td>Rachel Green</td>\n",
       "      <td>Yeah, well, everybody does! I'm a really cool ...</td>\n",
       "    </tr>\n",
       "    <tr>\n",
       "      <th>9682</th>\n",
       "      <td>Rachel Green</td>\n",
       "      <td>Chandler Bing</td>\n",
       "      <td>What? What? He's interested in you. He-he like...</td>\n",
       "    </tr>\n",
       "    <tr>\n",
       "      <th>22017</th>\n",
       "      <td>Monica Geller</td>\n",
       "      <td>Monica Geller</td>\n",
       "      <td>I've never loved anybody as much as I love you.</td>\n",
       "    </tr>\n",
       "    <tr>\n",
       "      <th>5611</th>\n",
       "      <td>Rachel Green</td>\n",
       "      <td>Chandler Bing</td>\n",
       "      <td>And I'm in it? Then let me read it.</td>\n",
       "    </tr>\n",
       "    <tr>\n",
       "      <th>22331</th>\n",
       "      <td>Joey Tribbiani</td>\n",
       "      <td>Ross Geller</td>\n",
       "      <td>Yeah, I gotta go! I got an acting job. Like yo...</td>\n",
       "    </tr>\n",
       "    <tr>\n",
       "      <th>18609</th>\n",
       "      <td>Monica Geller</td>\n",
       "      <td>Chandler Bing</td>\n",
       "      <td>Great. So the ball is in his court?</td>\n",
       "    </tr>\n",
       "    <tr>\n",
       "      <th>23737</th>\n",
       "      <td>Monica Geller</td>\n",
       "      <td>Monica Geller</td>\n",
       "      <td>Dad, please don't pick your teeth out here! Al...</td>\n",
       "    </tr>\n",
       "    <tr>\n",
       "      <th>35446</th>\n",
       "      <td>Ross Geller</td>\n",
       "      <td>Ross Geller</td>\n",
       "      <td>Excellent! Excellent, now-now do you want anot...</td>\n",
       "    </tr>\n",
       "    <tr>\n",
       "      <th>3756</th>\n",
       "      <td>Monica Geller</td>\n",
       "      <td>Monica Geller</td>\n",
       "      <td>How are you?</td>\n",
       "    </tr>\n",
       "  </tbody>\n",
       "</table>\n",
       "</div>"
      ],
      "text/plain": [
       "               actual    predictions  \\\n",
       "8260    Monica Geller    Ross Geller   \n",
       "12970   Phoebe Buffay   Rachel Green   \n",
       "9682     Rachel Green  Chandler Bing   \n",
       "22017   Monica Geller  Monica Geller   \n",
       "5611     Rachel Green  Chandler Bing   \n",
       "22331  Joey Tribbiani    Ross Geller   \n",
       "18609   Monica Geller  Chandler Bing   \n",
       "23737   Monica Geller  Monica Geller   \n",
       "35446     Ross Geller    Ross Geller   \n",
       "3756    Monica Geller  Monica Geller   \n",
       "\n",
       "                                                dialogue  \n",
       "8260                            Then what's the problem?  \n",
       "12970  Yeah, well, everybody does! I'm a really cool ...  \n",
       "9682   What? What? He's interested in you. He-he like...  \n",
       "22017    I've never loved anybody as much as I love you.  \n",
       "5611                 And I'm in it? Then let me read it.  \n",
       "22331  Yeah, I gotta go! I got an acting job. Like yo...  \n",
       "18609                Great. So the ball is in his court?  \n",
       "23737  Dad, please don't pick your teeth out here! Al...  \n",
       "35446  Excellent! Excellent, now-now do you want anot...  \n",
       "3756                                        How are you?  "
      ]
     },
     "execution_count": 31,
     "metadata": {},
     "output_type": "execute_result"
    }
   ],
   "source": [
    "knn_1 = pd.DataFrame(y_test)\n",
    "\n",
    "knn_1['predictions'] = preds_1\n",
    "\n",
    "knn_1['dialogue'] = X_test\n",
    "\n",
    "knn_1.rename(columns={'character': 'actual'}, inplace=True)\n",
    "knn_1.head(10)"
   ]
  },
  {
   "cell_type": "code",
   "execution_count": 32,
   "id": "67cc6c1e-0206-444c-82b1-d157b00bb164",
   "metadata": {},
   "outputs": [
    {
     "data": {
      "text/plain": [
       "Monica Geller     2714\n",
       "Chandler Bing     2374\n",
       "Rachel Green      1845\n",
       "Joey Tribbiani    1807\n",
       "Ross Geller       1367\n",
       "Phoebe Buffay     1095\n",
       "Name: predictions, dtype: int64"
      ]
     },
     "execution_count": 32,
     "metadata": {},
     "output_type": "execute_result"
    }
   ],
   "source": [
    "knn_1['predictions'].value_counts()"
   ]
  },
  {
   "cell_type": "code",
   "execution_count": 33,
   "id": "63d969ce-8d7f-471a-a188-bce47b272f81",
   "metadata": {},
   "outputs": [
    {
     "data": {
      "text/plain": [
       "Rachel Green      1991\n",
       "Ross Geller       1985\n",
       "Chandler Bing     1897\n",
       "Monica Geller     1873\n",
       "Joey Tribbiani    1800\n",
       "Phoebe Buffay     1656\n",
       "Name: actual, dtype: int64"
      ]
     },
     "execution_count": 33,
     "metadata": {},
     "output_type": "execute_result"
    }
   ],
   "source": [
    "knn_1['actual'].value_counts()"
   ]
  },
  {
   "cell_type": "code",
   "execution_count": 34,
   "id": "e2fc30af-11a3-4124-af07-32aebcf607c5",
   "metadata": {},
   "outputs": [
    {
     "data": {
      "text/plain": [
       "actual         8929\n",
       "predictions    8929\n",
       "dialogue       8929\n",
       "dtype: int64"
      ]
     },
     "execution_count": 34,
     "metadata": {},
     "output_type": "execute_result"
    }
   ],
   "source": [
    "knn_1[knn_1['actual'] != knn_1['predictions']].count()"
   ]
  },
  {
   "cell_type": "code",
   "execution_count": 35,
   "id": "7f1016b4-069b-427b-b3ac-df0c6b92b69a",
   "metadata": {},
   "outputs": [
    {
     "data": {
      "text/plain": [
       "actual         2273\n",
       "predictions    2273\n",
       "dialogue       2273\n",
       "dtype: int64"
      ]
     },
     "execution_count": 35,
     "metadata": {},
     "output_type": "execute_result"
    }
   ],
   "source": [
    "knn_1[knn_1['actual'] == knn_1['predictions']].count()"
   ]
  },
  {
   "cell_type": "markdown",
   "id": "5e26da2e-e72e-4b1e-a266-5809126d85b4",
   "metadata": {},
   "source": [
    "---\n",
    "**Predicting Some Phrases**"
   ]
  },
  {
   "cell_type": "code",
   "execution_count": 36,
   "id": "521d2d83-3aea-40d4-ad56-0bfe0f9fffb5",
   "metadata": {
    "tags": []
   },
   "outputs": [
    {
     "data": {
      "text/plain": [
       "'Rachel Green'"
      ]
     },
     "execution_count": 36,
     "metadata": {},
     "output_type": "execute_result"
    }
   ],
   "source": [
    "gs_1.predict([\"How you doin'?\"])[0]"
   ]
  },
  {
   "cell_type": "code",
   "execution_count": 37,
   "id": "50009907-9444-43e9-bb29-18497e1ef093",
   "metadata": {},
   "outputs": [
    {
     "data": {
      "text/plain": [
       "'Rachel Green'"
      ]
     },
     "execution_count": 37,
     "metadata": {},
     "output_type": "execute_result"
    }
   ],
   "source": [
    "gs_1.predict(['Smelly cat, smelly cat, what are they feeding you'])[0]"
   ]
  },
  {
   "cell_type": "code",
   "execution_count": 38,
   "id": "13ebde46-7b50-4047-b434-321203ca0972",
   "metadata": {},
   "outputs": [
    {
     "data": {
      "text/plain": [
       "'Rachel Green'"
      ]
     },
     "execution_count": 38,
     "metadata": {},
     "output_type": "execute_result"
    }
   ],
   "source": [
    "gs_1.predict(['We were on a break!'])[0]"
   ]
  },
  {
   "cell_type": "markdown",
   "id": "b12e6d50-b870-42be-b7d7-26713deffd34",
   "metadata": {},
   "source": [
    "---\n",
    "#### Another try!"
   ]
  },
  {
   "cell_type": "code",
   "execution_count": 39,
   "id": "7753ca73-8c76-4854-9997-15026b22e4ee",
   "metadata": {},
   "outputs": [],
   "source": [
    "grid_2 = {'cv__stop_words':[None, 'english'],\n",
    "        'cv__min_df': [0, 1, 2, 3, 4, 5, 6],\n",
    "        'knn__n_neighbors': [13, 15, 17, 19, 21, 23, 25]\n",
    "       }"
   ]
  },
  {
   "cell_type": "code",
   "execution_count": 40,
   "id": "6a745ab1-3dcb-41ad-bcbc-43bc6b2c1951",
   "metadata": {},
   "outputs": [
    {
     "data": {
      "text/plain": [
       "GridSearchCV(estimator=Pipeline(steps=[('cv', CountVectorizer()),\n",
       "                                       ('knn', KNeighborsClassifier())]),\n",
       "             param_grid={'cv__min_df': [0, 1, 2, 3, 4, 5, 6],\n",
       "                         'cv__stop_words': [None, 'english'],\n",
       "                         'knn__n_neighbors': [13, 15, 17, 19, 21, 23, 25]})"
      ]
     },
     "execution_count": 40,
     "metadata": {},
     "output_type": "execute_result"
    }
   ],
   "source": [
    "gs_2 = GridSearchCV(estimator=pipe, param_grid= grid_2)\n",
    "gs_2.fit(X_train, y_train)"
   ]
  },
  {
   "cell_type": "code",
   "execution_count": 41,
   "id": "5540549a-97c7-423f-ae2d-0e2563ff1a5b",
   "metadata": {},
   "outputs": [
    {
     "data": {
      "text/plain": [
       "{'cv__min_df': 3, 'cv__stop_words': 'english', 'knn__n_neighbors': 21}"
      ]
     },
     "execution_count": 41,
     "metadata": {},
     "output_type": "execute_result"
    }
   ],
   "source": [
    "gs_2.best_params_"
   ]
  },
  {
   "cell_type": "code",
   "execution_count": 42,
   "id": "bed82dcc-5d03-4237-8d20-e46d167d27bf",
   "metadata": {},
   "outputs": [
    {
     "name": "stdout",
     "output_type": "stream",
     "text": [
      "Train score: 0.31064754195929056\n",
      "Test score: 0.2054990180324942\n"
     ]
    }
   ],
   "source": [
    "print(f'Train score: {gs_2.score(X_train, y_train)}\\nTest score: {gs_2.score(X_test, y_test)}')"
   ]
  },
  {
   "cell_type": "markdown",
   "id": "fdcf0868-690c-4e54-80a7-45e3abdba55e",
   "metadata": {},
   "source": [
    "---\n",
    "**Making Predictions**"
   ]
  },
  {
   "cell_type": "code",
   "execution_count": 43,
   "id": "52bff6e3-f7fa-461d-87a5-d075c52d261f",
   "metadata": {},
   "outputs": [],
   "source": [
    "preds_2 = gs_2.predict(X_test)"
   ]
  },
  {
   "cell_type": "code",
   "execution_count": 50,
   "id": "fb91f2d3-621f-4c22-ad04-8671d875c844",
   "metadata": {},
   "outputs": [
    {
     "data": {
      "image/png": "[encoded data removed]",
      "text/plain": [
       "<Figure size 640x480 with 2 Axes>"
      ]
     },
     "metadata": {},
     "output_type": "display_data"
    }
   ],
   "source": [
    "plot_confusion_matrix(estimator= gs_2, X= X_test, y_true= y_test)\n",
    "plt.xticks(rotation = 90)\n",
    "plt.show()"
   ]
  },
  {
   "cell_type": "code",
   "execution_count": 45,
   "id": "40982509-2b04-48a2-8def-fed89c67b4c1",
   "metadata": {},
   "outputs": [
    {
     "name": "stdout",
     "output_type": "stream",
     "text": [
      "                precision    recall  f1-score   support\n",
      "\n",
      " Chandler Bing       0.20      0.24      0.22      1897\n",
      "Joey Tribbiani       0.21      0.19      0.20      1800\n",
      " Monica Geller       0.21      0.25      0.23      1873\n",
      " Phoebe Buffay       0.21      0.12      0.15      1656\n",
      "  Rachel Green       0.20      0.25      0.22      1991\n",
      "   Ross Geller       0.21      0.16      0.19      1985\n",
      "\n",
      "      accuracy                           0.21     11202\n",
      "     macro avg       0.21      0.20      0.20     11202\n",
      "  weighted avg       0.21      0.21      0.20     11202\n",
      "\n"
     ]
    }
   ],
   "source": [
    "print(classification_report(y_true=y_test, y_pred=preds_2))"
   ]
  },
  {
   "cell_type": "markdown",
   "id": "096eb802-ca41-4a3d-a828-98d015605a89",
   "metadata": {},
   "source": [
    "---\n",
    "**Making a dataframe with actual, predictions, and dialogue"
   ]
  },
  {
   "cell_type": "code",
   "execution_count": 46,
   "id": "fff119bb-fbde-4398-abc3-0a1d4bc7e5e4",
   "metadata": {},
   "outputs": [
    {
     "data": {
      "text/html": [
       "<div>\n",
       "<style scoped>\n",
       "    .dataframe tbody tr th:only-of-type {\n",
       "        vertical-align: middle;\n",
       "    }\n",
       "\n",
       "    .dataframe tbody tr th {\n",
       "        vertical-align: top;\n",
       "    }\n",
       "\n",
       "    .dataframe thead th {\n",
       "        text-align: right;\n",
       "    }\n",
       "</style>\n",
       "<table border=\"1\" class=\"dataframe\">\n",
       "  <thead>\n",
       "    <tr style=\"text-align: right;\">\n",
       "      <th></th>\n",
       "      <th>actual</th>\n",
       "      <th>predictions</th>\n",
       "      <th>dialogue</th>\n",
       "    </tr>\n",
       "  </thead>\n",
       "  <tbody>\n",
       "    <tr>\n",
       "      <th>8260</th>\n",
       "      <td>Monica Geller</td>\n",
       "      <td>Chandler Bing</td>\n",
       "      <td>Then what's the problem?</td>\n",
       "    </tr>\n",
       "    <tr>\n",
       "      <th>12970</th>\n",
       "      <td>Phoebe Buffay</td>\n",
       "      <td>Joey Tribbiani</td>\n",
       "      <td>Yeah, well, everybody does! I'm a really cool ...</td>\n",
       "    </tr>\n",
       "    <tr>\n",
       "      <th>9682</th>\n",
       "      <td>Rachel Green</td>\n",
       "      <td>Monica Geller</td>\n",
       "      <td>What? What? He's interested in you. He-he like...</td>\n",
       "    </tr>\n",
       "    <tr>\n",
       "      <th>22017</th>\n",
       "      <td>Monica Geller</td>\n",
       "      <td>Monica Geller</td>\n",
       "      <td>I've never loved anybody as much as I love you.</td>\n",
       "    </tr>\n",
       "    <tr>\n",
       "      <th>5611</th>\n",
       "      <td>Rachel Green</td>\n",
       "      <td>Monica Geller</td>\n",
       "      <td>And I'm in it? Then let me read it.</td>\n",
       "    </tr>\n",
       "    <tr>\n",
       "      <th>22331</th>\n",
       "      <td>Joey Tribbiani</td>\n",
       "      <td>Joey Tribbiani</td>\n",
       "      <td>Yeah, I gotta go! I got an acting job. Like yo...</td>\n",
       "    </tr>\n",
       "    <tr>\n",
       "      <th>18609</th>\n",
       "      <td>Monica Geller</td>\n",
       "      <td>Chandler Bing</td>\n",
       "      <td>Great. So the ball is in his court?</td>\n",
       "    </tr>\n",
       "    <tr>\n",
       "      <th>23737</th>\n",
       "      <td>Monica Geller</td>\n",
       "      <td>Chandler Bing</td>\n",
       "      <td>Dad, please don't pick your teeth out here! Al...</td>\n",
       "    </tr>\n",
       "    <tr>\n",
       "      <th>35446</th>\n",
       "      <td>Ross Geller</td>\n",
       "      <td>Ross Geller</td>\n",
       "      <td>Excellent! Excellent, now-now do you want anot...</td>\n",
       "    </tr>\n",
       "    <tr>\n",
       "      <th>3756</th>\n",
       "      <td>Monica Geller</td>\n",
       "      <td>Rachel Green</td>\n",
       "      <td>How are you?</td>\n",
       "    </tr>\n",
       "  </tbody>\n",
       "</table>\n",
       "</div>"
      ],
      "text/plain": [
       "               actual     predictions  \\\n",
       "8260    Monica Geller   Chandler Bing   \n",
       "12970   Phoebe Buffay  Joey Tribbiani   \n",
       "9682     Rachel Green   Monica Geller   \n",
       "22017   Monica Geller   Monica Geller   \n",
       "5611     Rachel Green   Monica Geller   \n",
       "22331  Joey Tribbiani  Joey Tribbiani   \n",
       "18609   Monica Geller   Chandler Bing   \n",
       "23737   Monica Geller   Chandler Bing   \n",
       "35446     Ross Geller     Ross Geller   \n",
       "3756    Monica Geller    Rachel Green   \n",
       "\n",
       "                                                dialogue  \n",
       "8260                            Then what's the problem?  \n",
       "12970  Yeah, well, everybody does! I'm a really cool ...  \n",
       "9682   What? What? He's interested in you. He-he like...  \n",
       "22017    I've never loved anybody as much as I love you.  \n",
       "5611                 And I'm in it? Then let me read it.  \n",
       "22331  Yeah, I gotta go! I got an acting job. Like yo...  \n",
       "18609                Great. So the ball is in his court?  \n",
       "23737  Dad, please don't pick your teeth out here! Al...  \n",
       "35446  Excellent! Excellent, now-now do you want anot...  \n",
       "3756                                        How are you?  "
      ]
     },
     "execution_count": 46,
     "metadata": {},
     "output_type": "execute_result"
    }
   ],
   "source": [
    "knn_2 = pd.DataFrame(y_test)\n",
    "\n",
    "knn_2['predictions'] = preds_2\n",
    "\n",
    "knn_2['dialogue'] = X_test\n",
    "\n",
    "knn_2.rename(columns={'character': 'actual'}, inplace=True)\n",
    "knn_2.head(10)"
   ]
  },
  {
   "cell_type": "code",
   "execution_count": 47,
   "id": "69c17bb4-3a6c-4d37-b720-83d3c5c58358",
   "metadata": {},
   "outputs": [
    {
     "data": {
      "text/plain": [
       "Rachel Green      2487\n",
       "Chandler Bing     2295\n",
       "Monica Geller     2287\n",
       "Joey Tribbiani    1641\n",
       "Ross Geller       1533\n",
       "Phoebe Buffay      959\n",
       "Name: predictions, dtype: int64"
      ]
     },
     "execution_count": 47,
     "metadata": {},
     "output_type": "execute_result"
    }
   ],
   "source": [
    "#Checking which character was predicted the most by this model \n",
    "knn_2['predictions'].value_counts()"
   ]
  },
  {
   "cell_type": "code",
   "execution_count": 48,
   "id": "60d85fbc-b0fe-44d9-aa16-895f5278d1c4",
   "metadata": {},
   "outputs": [
    {
     "data": {
      "text/plain": [
       "Rachel Green      1991\n",
       "Ross Geller       1985\n",
       "Chandler Bing     1897\n",
       "Monica Geller     1873\n",
       "Joey Tribbiani    1800\n",
       "Phoebe Buffay     1656\n",
       "Name: actual, dtype: int64"
      ]
     },
     "execution_count": 48,
     "metadata": {},
     "output_type": "execute_result"
    }
   ],
   "source": [
    "#How many times the character actually appears \n",
    "knn_2['actual'].value_counts()"
   ]
  },
  {
   "cell_type": "code",
   "execution_count": 52,
   "id": "c9e3069a-98d8-4847-a863-969186d1d87f",
   "metadata": {},
   "outputs": [
    {
     "data": {
      "text/plain": [
       "actual         8900\n",
       "predictions    8900\n",
       "dialogue       8900\n",
       "dtype: int64"
      ]
     },
     "execution_count": 52,
     "metadata": {},
     "output_type": "execute_result"
    }
   ],
   "source": [
    "#How many predictions were wrong?\n",
    "knn_2.loc[knn_2['actual']!= knn_2['predictions']].count()"
   ]
  },
  {
   "cell_type": "code",
   "execution_count": 53,
   "id": "5b17a4a0-a8db-438e-8f25-2177d7082ed6",
   "metadata": {},
   "outputs": [
    {
     "data": {
      "text/plain": [
       "actual         2302\n",
       "predictions    2302\n",
       "dialogue       2302\n",
       "dtype: int64"
      ]
     },
     "execution_count": 53,
     "metadata": {},
     "output_type": "execute_result"
    }
   ],
   "source": [
    "#How many were right?\n",
    "knn_2.loc[knn_2['actual']== knn_2['predictions']].count()"
   ]
  },
  {
   "cell_type": "markdown",
   "id": "3a17ba43-6666-422b-8cf3-d656f483bd7c",
   "metadata": {},
   "source": [
    "---\n",
    "**Predicting Some Phrases**"
   ]
  },
  {
   "cell_type": "code",
   "execution_count": 54,
   "id": "85b9f1bd-728d-4ae7-82cb-453283b62c94",
   "metadata": {
    "tags": []
   },
   "outputs": [
    {
     "data": {
      "text/plain": [
       "'Chandler Bing'"
      ]
     },
     "execution_count": 54,
     "metadata": {},
     "output_type": "execute_result"
    }
   ],
   "source": [
    "gs_2.predict([\"How you doin'?\"])[0]"
   ]
  },
  {
   "cell_type": "code",
   "execution_count": 55,
   "id": "34fd6c2c-2151-464e-b292-61f536a1e316",
   "metadata": {},
   "outputs": [
    {
     "data": {
      "text/plain": [
       "'Rachel Green'"
      ]
     },
     "execution_count": 55,
     "metadata": {},
     "output_type": "execute_result"
    }
   ],
   "source": [
    "gs_2.predict(['Smelly cat, smelly cat, what are they feeding you'])[0]"
   ]
  },
  {
   "cell_type": "code",
   "execution_count": 56,
   "id": "158942b9-57f7-4aa9-91c1-ceaf55b80158",
   "metadata": {},
   "outputs": [
    {
     "data": {
      "text/plain": [
       "'Ross Geller'"
      ]
     },
     "execution_count": 56,
     "metadata": {},
     "output_type": "execute_result"
    }
   ],
   "source": [
    "gs_2.predict(['We were on a break!'])[0]"
   ]
  },
  {
   "cell_type": "markdown",
   "id": "271dd315-7cb5-4a5b-a3bb-cdd6d1440957",
   "metadata": {},
   "source": [
    "<br>\n",
    "\n",
    "---- \n",
    "### Exporting the Model Using Pickle"
   ]
  },
  {
   "cell_type": "code",
   "execution_count": 60,
   "id": "fc3e3fb3-4989-4737-83d0-c5a66b9adfcc",
   "metadata": {},
   "outputs": [],
   "source": [
    "#Using the best model which was the \n",
    "with open('../knn.pkl', mode='wb') as pickle_out:\n",
    "    pickle.dump(gs_d, pickle_out)"
   ]
  }
 ],
 "metadata": {
  "kernelspec": {
   "display_name": "Python 3",
   "language": "python",
   "name": "python3"
  },
  "language_info": {
   "codemirror_mode": {
    "name": "ipython",
    "version": 3
   },
   "file_extension": ".py",
   "mimetype": "text/x-python",
   "name": "python",
   "nbconvert_exporter": "python",
   "pygments_lexer": "ipython3",
   "version": "3.9.7"
  }
 },
 "nbformat": 4,
 "nbformat_minor": 5
}
