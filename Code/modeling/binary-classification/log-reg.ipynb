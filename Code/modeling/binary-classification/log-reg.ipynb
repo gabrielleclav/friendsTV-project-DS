{
 "cells": [
  {
   "cell_type": "markdown",
   "id": "361ed524-f71a-4604-8699-e4f7ab4a13d1",
   "metadata": {},
   "source": [
    "# Logistic Regression Modeling-- Binary Classification"
   ]
  },
  {
   "cell_type": "code",
   "execution_count": 1,
   "id": "65764aec-164e-4090-9f4b-3ec17cf121fb",
   "metadata": {},
   "outputs": [],
   "source": [
    "#Import necessary libraries \n",
    "\n",
    "import pandas as pd\n",
    "import numpy as np\n",
    "import matplotlib.pyplot as plt\n",
    "\n",
    "from sklearn.feature_extraction.text import CountVectorizer\n",
    "from sklearn.model_selection import train_test_split, GridSearchCV\n",
    "from sklearn.pipeline import Pipeline\n",
    "from sklearn.linear_model import LogisticRegression\n",
    "\n",
    "from nltk.corpus import stopwords\n",
    "\n",
    "#For streamlit app\n",
    "import pickle"
   ]
  },
  {
   "cell_type": "code",
   "execution_count": 2,
   "id": "e4d469b3-06c3-4882-9f41-082ec757b97f",
   "metadata": {},
   "outputs": [
    {
     "data": {
      "text/html": [
       "<div>\n",
       "<style scoped>\n",
       "    .dataframe tbody tr th:only-of-type {\n",
       "        vertical-align: middle;\n",
       "    }\n",
       "\n",
       "    .dataframe tbody tr th {\n",
       "        vertical-align: top;\n",
       "    }\n",
       "\n",
       "    .dataframe thead th {\n",
       "        text-align: right;\n",
       "    }\n",
       "</style>\n",
       "<table border=\"1\" class=\"dataframe\">\n",
       "  <thead>\n",
       "    <tr style=\"text-align: right;\">\n",
       "      <th></th>\n",
       "      <th>season</th>\n",
       "      <th>episode</th>\n",
       "      <th>character</th>\n",
       "      <th>dialogue</th>\n",
       "    </tr>\n",
       "  </thead>\n",
       "  <tbody>\n",
       "    <tr>\n",
       "      <th>0</th>\n",
       "      <td>s01</td>\n",
       "      <td>e01</td>\n",
       "      <td>Monica Geller</td>\n",
       "      <td>There's nothing to tell! He's just some guy I ...</td>\n",
       "    </tr>\n",
       "    <tr>\n",
       "      <th>1</th>\n",
       "      <td>s01</td>\n",
       "      <td>e01</td>\n",
       "      <td>Joey Tribbiani</td>\n",
       "      <td>C'mon, you're going out with the guy! There's ...</td>\n",
       "    </tr>\n",
       "    <tr>\n",
       "      <th>2</th>\n",
       "      <td>s01</td>\n",
       "      <td>e01</td>\n",
       "      <td>Chandler Bing</td>\n",
       "      <td>All right Joey, be nice. So does he have a hum...</td>\n",
       "    </tr>\n",
       "    <tr>\n",
       "      <th>3</th>\n",
       "      <td>s01</td>\n",
       "      <td>e01</td>\n",
       "      <td>Phoebe Buffay</td>\n",
       "      <td>Wait, does he eat chalk?</td>\n",
       "    </tr>\n",
       "    <tr>\n",
       "      <th>4</th>\n",
       "      <td>s01</td>\n",
       "      <td>e01</td>\n",
       "      <td>Phoebe Buffay</td>\n",
       "      <td>Just, 'cause, I don't want her to go through w...</td>\n",
       "    </tr>\n",
       "  </tbody>\n",
       "</table>\n",
       "</div>"
      ],
      "text/plain": [
       "  season episode       character  \\\n",
       "0    s01     e01   Monica Geller   \n",
       "1    s01     e01  Joey Tribbiani   \n",
       "2    s01     e01   Chandler Bing   \n",
       "3    s01     e01   Phoebe Buffay   \n",
       "4    s01     e01   Phoebe Buffay   \n",
       "\n",
       "                                            dialogue  \n",
       "0  There's nothing to tell! He's just some guy I ...  \n",
       "1  C'mon, you're going out with the guy! There's ...  \n",
       "2  All right Joey, be nice. So does he have a hum...  \n",
       "3                           Wait, does he eat chalk?  \n",
       "4  Just, 'cause, I don't want her to go through w...  "
      ]
     },
     "execution_count": 2,
     "metadata": {},
     "output_type": "execute_result"
    }
   ],
   "source": [
    "#import the dataset\n",
    "friends = pd.read_csv('../../../Datasets/friends-modeling.csv')\n",
    "friends.head()"
   ]
  },
  {
   "cell_type": "code",
   "execution_count": 3,
   "id": "81ee409c-27fa-4d48-acc7-41d65654658c",
   "metadata": {},
   "outputs": [
    {
     "data": {
      "text/plain": [
       "season       0\n",
       "episode      0\n",
       "character    0\n",
       "dialogue     0\n",
       "dtype: int64"
      ]
     },
     "execution_count": 3,
     "metadata": {},
     "output_type": "execute_result"
    }
   ],
   "source": [
    "#Make sure no nulls\n",
    "friends.isnull().sum()"
   ]
  },
  {
   "cell_type": "markdown",
   "id": "7b7f8c9d-3a49-4509-99ed-d177caa0dd81",
   "metadata": {
    "tags": []
   },
   "source": [
    "### Only Predicting the Couples! \n",
    "----\n",
    "First, Rachel and Ross"
   ]
  },
  {
   "cell_type": "code",
   "execution_count": 4,
   "id": "2fd1d416-33c9-4bd1-9f3f-3acbe38a4197",
   "metadata": {},
   "outputs": [
    {
     "data": {
      "text/plain": [
       "(15899, 4)"
      ]
     },
     "execution_count": 4,
     "metadata": {},
     "output_type": "execute_result"
    }
   ],
   "source": [
    "friends[(friends['character'] == 'Ross Geller') | (friends['character'] == 'Rachel Green')].shape"
   ]
  },
  {
   "cell_type": "code",
   "execution_count": 5,
   "id": "03147c7a-17b1-4efc-ac87-ab0f5480135f",
   "metadata": {},
   "outputs": [],
   "source": [
    "#Dropping all characters but Rachel and Ross\n",
    "rach_ross = friends[(friends['character'] == 'Ross Geller') | (friends['character'] == 'Rachel Green')]"
   ]
  },
  {
   "cell_type": "markdown",
   "id": "82ddf537-09c0-4a14-975a-89ba3e0bd112",
   "metadata": {},
   "source": [
    "### Make X and y values "
   ]
  },
  {
   "cell_type": "code",
   "execution_count": 6,
   "id": "bc182822-3146-4fa8-9486-d1fb26a311e6",
   "metadata": {},
   "outputs": [],
   "source": [
    "X_rr = rach_ross['dialogue']\n",
    "y_rr = rach_ross['character']"
   ]
  },
  {
   "cell_type": "markdown",
   "id": "fb02a344-1345-46ad-9050-a446f0fb8386",
   "metadata": {},
   "source": [
    "### Split into Train and Test"
   ]
  },
  {
   "cell_type": "code",
   "execution_count": 7,
   "id": "21dfe02b-81cc-45b4-95ef-cb19f1047b01",
   "metadata": {},
   "outputs": [],
   "source": [
    "X_train_rr, X_test_rr, y_train_rr, y_test_rr = train_test_split(X_rr, y_rr, random_state=42, stratify=y_rr)"
   ]
  },
  {
   "cell_type": "markdown",
   "id": "bf17f567-5391-43ce-9c2b-d2cb4b4f1224",
   "metadata": {},
   "source": [
    "### Baseline Accuracy "
   ]
  },
  {
   "cell_type": "markdown",
   "id": "6e0fe3a2-e667-41f9-9fb9-dc6aa164fbc1",
   "metadata": {},
   "source": [
    "Baseline to beat when making the models"
   ]
  },
  {
   "cell_type": "code",
   "execution_count": 8,
   "id": "19906d7e-5bea-44ad-b2b6-e2c593e077b0",
   "metadata": {},
   "outputs": [
    {
     "data": {
      "text/plain": [
       "Rachel Green    0.500755\n",
       "Ross Geller     0.499245\n",
       "Name: character, dtype: float64"
      ]
     },
     "execution_count": 8,
     "metadata": {},
     "output_type": "execute_result"
    }
   ],
   "source": [
    "y_train_rr.value_counts(normalize=True)"
   ]
  },
  {
   "cell_type": "markdown",
   "id": "f0f89edc-823e-4c74-9bfd-fa58bd2a7aae",
   "metadata": {},
   "source": [
    "### Instaniating Count Vectorizer, Fit and Transform "
   ]
  },
  {
   "cell_type": "code",
   "execution_count": 9,
   "id": "92382e27-a222-450c-ad35-1942e58c5603",
   "metadata": {},
   "outputs": [],
   "source": [
    "cv = CountVectorizer()"
   ]
  },
  {
   "cell_type": "markdown",
   "id": "3d3f67ca-2f5b-4754-b75d-716915effbb1",
   "metadata": {},
   "source": [
    "Fitting only on the training data and transforming only on X_train and X_test"
   ]
  },
  {
   "cell_type": "code",
   "execution_count": 10,
   "id": "1abc96f4-4a0e-41ba-ace1-239b613de292",
   "metadata": {},
   "outputs": [
    {
     "data": {
      "text/plain": [
       "CountVectorizer()"
      ]
     },
     "execution_count": 10,
     "metadata": {},
     "output_type": "execute_result"
    }
   ],
   "source": [
    "cv.fit(X_train_rr)"
   ]
  },
  {
   "cell_type": "code",
   "execution_count": 11,
   "id": "5370a951-8bed-46ad-9541-bdb0bf7cd483",
   "metadata": {},
   "outputs": [],
   "source": [
    "X_train_cv_rr = cv.transform(X_train_rr)\n",
    "X_test_cv_rr = cv.transform(X_test_rr)"
   ]
  },
  {
   "cell_type": "markdown",
   "id": "0ca6924a-a9ba-4862-ade1-3cef58ad0e04",
   "metadata": {},
   "source": [
    "### Modeling "
   ]
  },
  {
   "cell_type": "markdown",
   "id": "79de78ed-8f3a-4687-8b0a-77ffe7ba6a85",
   "metadata": {},
   "source": [
    "Instantiate a logisitic regression model with an instance of the class LogisticRegression."
   ]
  },
  {
   "cell_type": "code",
   "execution_count": 12,
   "id": "8af2e73d-96af-465a-a009-3ab1b9033e82",
   "metadata": {},
   "outputs": [],
   "source": [
    "logreg = LogisticRegression(max_iter=1000, random_state=42)"
   ]
  },
  {
   "cell_type": "code",
   "execution_count": 13,
   "id": "29d0e599-ba5e-4b4e-9411-b51688336d40",
   "metadata": {},
   "outputs": [
    {
     "data": {
      "text/plain": [
       "LogisticRegression(max_iter=1000, random_state=42)"
      ]
     },
     "execution_count": 13,
     "metadata": {},
     "output_type": "execute_result"
    }
   ],
   "source": [
    "#fitting on the training set -- need to pass in X_train_cv!\n",
    "logreg.fit(X_train_cv_rr, y_train_rr)"
   ]
  },
  {
   "cell_type": "code",
   "execution_count": 14,
   "id": "2efd9f76-5a0b-4943-97bc-d298246d16f7",
   "metadata": {},
   "outputs": [
    {
     "name": "stdout",
     "output_type": "stream",
     "text": [
      "Train score: 0.782120093928212 \n",
      "Test score: 0.6407547169811321\n"
     ]
    }
   ],
   "source": [
    "#Scoring on the training and testing sets to see if there is overfitting or underfitting.\n",
    "print(f'Train score: {logreg.score(X_train_cv_rr, y_train_rr)} \\nTest score: {logreg.score(X_test_cv_rr, y_test_rr)}')"
   ]
  },
  {
   "cell_type": "markdown",
   "id": "d6cd1e0b-6e94-4334-bf38-4ea284daa389",
   "metadata": {},
   "source": [
    "\n",
    "---\n",
    "**Making Predictions**"
   ]
  },
  {
   "cell_type": "code",
   "execution_count": 15,
   "id": "68f69c94-1c8f-4b2f-83c9-769683a9e8e9",
   "metadata": {},
   "outputs": [],
   "source": [
    "#Making predictions using X_test_cv\n",
    "preds_rr = logreg.predict(X_test_cv_rr)"
   ]
  },
  {
   "cell_type": "markdown",
   "id": "64f48f1a-c17f-4295-9057-336a41f320b5",
   "metadata": {},
   "source": [
    "I created a dataframe consisting of the predicted results, actual results, and the dialouge. "
   ]
  },
  {
   "cell_type": "code",
   "execution_count": 16,
   "id": "fe140626-f3d7-47cb-9b84-0985a57b0f41",
   "metadata": {},
   "outputs": [
    {
     "data": {
      "text/html": [
       "<div>\n",
       "<style scoped>\n",
       "    .dataframe tbody tr th:only-of-type {\n",
       "        vertical-align: middle;\n",
       "    }\n",
       "\n",
       "    .dataframe tbody tr th {\n",
       "        vertical-align: top;\n",
       "    }\n",
       "\n",
       "    .dataframe thead th {\n",
       "        text-align: right;\n",
       "    }\n",
       "</style>\n",
       "<table border=\"1\" class=\"dataframe\">\n",
       "  <thead>\n",
       "    <tr style=\"text-align: right;\">\n",
       "      <th></th>\n",
       "      <th>actual</th>\n",
       "      <th>predictions</th>\n",
       "      <th>dialogue</th>\n",
       "    </tr>\n",
       "  </thead>\n",
       "  <tbody>\n",
       "    <tr>\n",
       "      <th>16472</th>\n",
       "      <td>Rachel Green</td>\n",
       "      <td>Ross Geller</td>\n",
       "      <td>Well, apparently he scares easy.</td>\n",
       "    </tr>\n",
       "    <tr>\n",
       "      <th>33805</th>\n",
       "      <td>Rachel Green</td>\n",
       "      <td>Ross Geller</td>\n",
       "      <td>Oh, you poor little famous man.</td>\n",
       "    </tr>\n",
       "    <tr>\n",
       "      <th>9632</th>\n",
       "      <td>Ross Geller</td>\n",
       "      <td>Rachel Green</td>\n",
       "      <td>Nothing I do means anything, really.</td>\n",
       "    </tr>\n",
       "    <tr>\n",
       "      <th>18651</th>\n",
       "      <td>Ross Geller</td>\n",
       "      <td>Ross Geller</td>\n",
       "      <td>Oh-oh-ooh, hey guys, I was wondering if you gu...</td>\n",
       "    </tr>\n",
       "    <tr>\n",
       "      <th>39215</th>\n",
       "      <td>Ross Geller</td>\n",
       "      <td>Ross Geller</td>\n",
       "      <td>Hey hey, can I help?</td>\n",
       "    </tr>\n",
       "    <tr>\n",
       "      <th>42316</th>\n",
       "      <td>Rachel Green</td>\n",
       "      <td>Rachel Green</td>\n",
       "      <td>If you hold a spider.</td>\n",
       "    </tr>\n",
       "    <tr>\n",
       "      <th>11762</th>\n",
       "      <td>Rachel Green</td>\n",
       "      <td>Rachel Green</td>\n",
       "      <td>Oh, okay.</td>\n",
       "    </tr>\n",
       "    <tr>\n",
       "      <th>25566</th>\n",
       "      <td>Rachel Green</td>\n",
       "      <td>Rachel Green</td>\n",
       "      <td>Do you guys know any cute guys?</td>\n",
       "    </tr>\n",
       "    <tr>\n",
       "      <th>41566</th>\n",
       "      <td>Ross Geller</td>\n",
       "      <td>Rachel Green</td>\n",
       "      <td>C'mon you guys, this is really important to us.</td>\n",
       "    </tr>\n",
       "    <tr>\n",
       "      <th>1218</th>\n",
       "      <td>Ross Geller</td>\n",
       "      <td>Ross Geller</td>\n",
       "      <td>I'm going to do it.</td>\n",
       "    </tr>\n",
       "  </tbody>\n",
       "</table>\n",
       "</div>"
      ],
      "text/plain": [
       "             actual   predictions  \\\n",
       "16472  Rachel Green   Ross Geller   \n",
       "33805  Rachel Green   Ross Geller   \n",
       "9632    Ross Geller  Rachel Green   \n",
       "18651   Ross Geller   Ross Geller   \n",
       "39215   Ross Geller   Ross Geller   \n",
       "42316  Rachel Green  Rachel Green   \n",
       "11762  Rachel Green  Rachel Green   \n",
       "25566  Rachel Green  Rachel Green   \n",
       "41566   Ross Geller  Rachel Green   \n",
       "1218    Ross Geller   Ross Geller   \n",
       "\n",
       "                                                dialogue  \n",
       "16472                   Well, apparently he scares easy.  \n",
       "33805                    Oh, you poor little famous man.  \n",
       "9632                Nothing I do means anything, really.  \n",
       "18651  Oh-oh-ooh, hey guys, I was wondering if you gu...  \n",
       "39215                               Hey hey, can I help?  \n",
       "42316                              If you hold a spider.  \n",
       "11762                                          Oh, okay.  \n",
       "25566                    Do you guys know any cute guys?  \n",
       "41566    C'mon you guys, this is really important to us.  \n",
       "1218                                 I'm going to do it.  "
      ]
     },
     "execution_count": 16,
     "metadata": {},
     "output_type": "execute_result"
    }
   ],
   "source": [
    "df_params_rr = pd.DataFrame(y_test_rr)\n",
    "df_params_rr['predictions'] = preds_rr\n",
    "df_params_rr['dialogue'] = X_test_rr\n",
    "df_params_rr.rename(columns={'character': 'actual'}, inplace=True)\n",
    "df_params_rr.head(10)"
   ]
  },
  {
   "cell_type": "code",
   "execution_count": 17,
   "id": "55abe403-2a7c-452a-84e4-e20e67fdc9b3",
   "metadata": {},
   "outputs": [
    {
     "data": {
      "text/plain": [
       "Rachel Green    2002\n",
       "Ross Geller     1973\n",
       "Name: predictions, dtype: int64"
      ]
     },
     "execution_count": 17,
     "metadata": {},
     "output_type": "execute_result"
    }
   ],
   "source": [
    "df_params_rr['predictions'].value_counts()"
   ]
  },
  {
   "cell_type": "code",
   "execution_count": 18,
   "id": "01f49d2e-9768-42f1-88a7-ba8e7fc41add",
   "metadata": {},
   "outputs": [
    {
     "data": {
      "text/plain": [
       "Rachel Green    1990\n",
       "Ross Geller     1985\n",
       "Name: actual, dtype: int64"
      ]
     },
     "execution_count": 18,
     "metadata": {},
     "output_type": "execute_result"
    }
   ],
   "source": [
    "df_params_rr['actual'].value_counts()"
   ]
  },
  {
   "cell_type": "code",
   "execution_count": 19,
   "id": "269bd700-b2e5-4d0d-8d28-439d1b9fd380",
   "metadata": {},
   "outputs": [
    {
     "data": {
      "text/plain": [
       "actual         1428\n",
       "predictions    1428\n",
       "dialogue       1428\n",
       "dtype: int64"
      ]
     },
     "execution_count": 19,
     "metadata": {},
     "output_type": "execute_result"
    }
   ],
   "source": [
    "#How many rows were missclassified?\n",
    "df_params_rr.loc[df_params_rr['actual']!= df_params_rr['predictions']].count()"
   ]
  },
  {
   "cell_type": "code",
   "execution_count": 20,
   "id": "b6f6a6c1-6af2-490f-aeca-e23bb1725134",
   "metadata": {},
   "outputs": [
    {
     "data": {
      "text/plain": [
       "actual         2547\n",
       "predictions    2547\n",
       "dialogue       2547\n",
       "dtype: int64"
      ]
     },
     "execution_count": 20,
     "metadata": {},
     "output_type": "execute_result"
    }
   ],
   "source": [
    "#How many rows were accurately predicted?\n",
    "df_params_rr.loc[df_params_rr['actual']== df_params_rr['predictions']].count()"
   ]
  },
  {
   "cell_type": "markdown",
   "id": "cfc218c4-eeff-4a7b-ab27-c1f874ce7eb9",
   "metadata": {},
   "source": [
    "---\n",
    "**Predicting Some Phrases**"
   ]
  },
  {
   "cell_type": "code",
   "execution_count": 21,
   "id": "ea5ad272-d961-4fee-bd62-47303e4700ba",
   "metadata": {},
   "outputs": [],
   "source": [
    "#logreg.predict([\"How you doin'?\"])[0]"
   ]
  },
  {
   "cell_type": "code",
   "execution_count": 22,
   "id": "a24347f1-6a46-4f35-985b-41a5a171b489",
   "metadata": {},
   "outputs": [],
   "source": [
    "#logreg.predict(['Smelly cat, smelly cat, what are they feeding you'])[0]"
   ]
  },
  {
   "cell_type": "code",
   "execution_count": 23,
   "id": "68092a31-0369-45c3-8f43-b61aaa1fc28e",
   "metadata": {},
   "outputs": [],
   "source": [
    "#logreg.predict(['We were on a break!'])[0]"
   ]
  },
  {
   "cell_type": "markdown",
   "id": "54ab512d-f638-4fdd-8c5f-9987c458d042",
   "metadata": {},
   "source": [
    "\n",
    "<br>\n",
    "\n",
    "-----\n",
    "### Setting up a Pipe for all Logisitic Regression Modeling"
   ]
  },
  {
   "cell_type": "code",
   "execution_count": 24,
   "id": "39b22299-430f-425f-a1d2-2d6426c8d20b",
   "metadata": {},
   "outputs": [],
   "source": [
    "pipe = Pipeline(steps=[('cv', CountVectorizer()),\n",
    "                      ('log', LogisticRegression(random_state=42))])"
   ]
  },
  {
   "cell_type": "markdown",
   "id": "d21bb184-6124-4e72-8480-459bde79d360",
   "metadata": {},
   "source": [
    "### Modeling: Basic Model with Default Parameters and using CountVectorizer"
   ]
  },
  {
   "cell_type": "code",
   "execution_count": 25,
   "id": "f2ddbba2-db57-4739-ab56-63968ae4d391",
   "metadata": {},
   "outputs": [],
   "source": [
    "grid = {'cv__stop_words':[None, 'english'],\n",
    "         'log__max_iter': [200, 250, 300, 350, 400, 450, 500]}"
   ]
  },
  {
   "cell_type": "code",
   "execution_count": 26,
   "id": "8facfd89-db44-4e16-95d9-46beaefb2b0d",
   "metadata": {},
   "outputs": [
    {
     "data": {
      "text/plain": [
       "GridSearchCV(estimator=Pipeline(steps=[('cv', CountVectorizer()),\n",
       "                                       ('log',\n",
       "                                        LogisticRegression(random_state=42))]),\n",
       "             param_grid={'cv__stop_words': [None, 'english'],\n",
       "                         'log__max_iter': [200, 250, 300, 350, 400, 450, 500]})"
      ]
     },
     "execution_count": 26,
     "metadata": {},
     "output_type": "execute_result"
    }
   ],
   "source": [
    "# Instaniate a gridSearch \n",
    "gs_rr = GridSearchCV(estimator=pipe, param_grid=grid)\n",
    "gs_rr.fit(X_train_rr, y_train_rr)"
   ]
  },
  {
   "cell_type": "code",
   "execution_count": 27,
   "id": "858d2b4d-7146-402c-9e63-cdbb95326d79",
   "metadata": {},
   "outputs": [
    {
     "data": {
      "text/plain": [
       "{'cv__stop_words': None, 'log__max_iter': 200}"
      ]
     },
     "execution_count": 27,
     "metadata": {},
     "output_type": "execute_result"
    }
   ],
   "source": [
    "gs_rr.best_params_"
   ]
  },
  {
   "cell_type": "code",
   "execution_count": 28,
   "id": "dd17f50c-9dd3-4707-a2ed-c6ea2c3211f1",
   "metadata": {},
   "outputs": [
    {
     "name": "stdout",
     "output_type": "stream",
     "text": [
      "Train score: 0.782120093928212 \n",
      "Test score: 0.6407547169811321\n"
     ]
    }
   ],
   "source": [
    "print(f\"Train score: {gs_rr.score(X_train_rr, y_train_rr)} \\nTest score: {gs_rr.score(X_test_rr, y_test_rr)}\")"
   ]
  },
  {
   "cell_type": "markdown",
   "id": "fee14388-6b16-4042-b74d-19974ac03738",
   "metadata": {},
   "source": [
    "\n",
    "---\n",
    "**Making Predictions**"
   ]
  },
  {
   "cell_type": "code",
   "execution_count": 29,
   "id": "f919a955-1d24-4bec-a88b-aad05af4ee3b",
   "metadata": {},
   "outputs": [],
   "source": [
    "#Making predictions\n",
    "preds_gs_rr = gs_rr.predict(X_test_rr)"
   ]
  },
  {
   "cell_type": "markdown",
   "id": "ebd4c4e7-a89f-44a3-9746-efe2d4b6a8af",
   "metadata": {},
   "source": [
    "I created a dataframe consisting of the predicted results, actual results, and the dialouge. "
   ]
  },
  {
   "cell_type": "code",
   "execution_count": 30,
   "id": "3c20ca73-2b75-49a1-9bd7-21b9217b4773",
   "metadata": {},
   "outputs": [
    {
     "data": {
      "text/html": [
       "<div>\n",
       "<style scoped>\n",
       "    .dataframe tbody tr th:only-of-type {\n",
       "        vertical-align: middle;\n",
       "    }\n",
       "\n",
       "    .dataframe tbody tr th {\n",
       "        vertical-align: top;\n",
       "    }\n",
       "\n",
       "    .dataframe thead th {\n",
       "        text-align: right;\n",
       "    }\n",
       "</style>\n",
       "<table border=\"1\" class=\"dataframe\">\n",
       "  <thead>\n",
       "    <tr style=\"text-align: right;\">\n",
       "      <th></th>\n",
       "      <th>actual</th>\n",
       "      <th>predictions</th>\n",
       "      <th>dialogue</th>\n",
       "    </tr>\n",
       "  </thead>\n",
       "  <tbody>\n",
       "    <tr>\n",
       "      <th>16472</th>\n",
       "      <td>Rachel Green</td>\n",
       "      <td>Ross Geller</td>\n",
       "      <td>Well, apparently he scares easy.</td>\n",
       "    </tr>\n",
       "    <tr>\n",
       "      <th>33805</th>\n",
       "      <td>Rachel Green</td>\n",
       "      <td>Ross Geller</td>\n",
       "      <td>Oh, you poor little famous man.</td>\n",
       "    </tr>\n",
       "    <tr>\n",
       "      <th>9632</th>\n",
       "      <td>Ross Geller</td>\n",
       "      <td>Rachel Green</td>\n",
       "      <td>Nothing I do means anything, really.</td>\n",
       "    </tr>\n",
       "    <tr>\n",
       "      <th>18651</th>\n",
       "      <td>Ross Geller</td>\n",
       "      <td>Ross Geller</td>\n",
       "      <td>Oh-oh-ooh, hey guys, I was wondering if you gu...</td>\n",
       "    </tr>\n",
       "    <tr>\n",
       "      <th>39215</th>\n",
       "      <td>Ross Geller</td>\n",
       "      <td>Ross Geller</td>\n",
       "      <td>Hey hey, can I help?</td>\n",
       "    </tr>\n",
       "    <tr>\n",
       "      <th>42316</th>\n",
       "      <td>Rachel Green</td>\n",
       "      <td>Rachel Green</td>\n",
       "      <td>If you hold a spider.</td>\n",
       "    </tr>\n",
       "    <tr>\n",
       "      <th>11762</th>\n",
       "      <td>Rachel Green</td>\n",
       "      <td>Rachel Green</td>\n",
       "      <td>Oh, okay.</td>\n",
       "    </tr>\n",
       "    <tr>\n",
       "      <th>25566</th>\n",
       "      <td>Rachel Green</td>\n",
       "      <td>Rachel Green</td>\n",
       "      <td>Do you guys know any cute guys?</td>\n",
       "    </tr>\n",
       "    <tr>\n",
       "      <th>41566</th>\n",
       "      <td>Ross Geller</td>\n",
       "      <td>Rachel Green</td>\n",
       "      <td>C'mon you guys, this is really important to us.</td>\n",
       "    </tr>\n",
       "    <tr>\n",
       "      <th>1218</th>\n",
       "      <td>Ross Geller</td>\n",
       "      <td>Ross Geller</td>\n",
       "      <td>I'm going to do it.</td>\n",
       "    </tr>\n",
       "  </tbody>\n",
       "</table>\n",
       "</div>"
      ],
      "text/plain": [
       "             actual   predictions  \\\n",
       "16472  Rachel Green   Ross Geller   \n",
       "33805  Rachel Green   Ross Geller   \n",
       "9632    Ross Geller  Rachel Green   \n",
       "18651   Ross Geller   Ross Geller   \n",
       "39215   Ross Geller   Ross Geller   \n",
       "42316  Rachel Green  Rachel Green   \n",
       "11762  Rachel Green  Rachel Green   \n",
       "25566  Rachel Green  Rachel Green   \n",
       "41566   Ross Geller  Rachel Green   \n",
       "1218    Ross Geller   Ross Geller   \n",
       "\n",
       "                                                dialogue  \n",
       "16472                   Well, apparently he scares easy.  \n",
       "33805                    Oh, you poor little famous man.  \n",
       "9632                Nothing I do means anything, really.  \n",
       "18651  Oh-oh-ooh, hey guys, I was wondering if you gu...  \n",
       "39215                               Hey hey, can I help?  \n",
       "42316                              If you hold a spider.  \n",
       "11762                                          Oh, okay.  \n",
       "25566                    Do you guys know any cute guys?  \n",
       "41566    C'mon you guys, this is really important to us.  \n",
       "1218                                 I'm going to do it.  "
      ]
     },
     "execution_count": 30,
     "metadata": {},
     "output_type": "execute_result"
    }
   ],
   "source": [
    "df_gs_rr = pd.DataFrame(y_test_rr)\n",
    "df_gs_rr['predictions'] = preds_gs_rr \n",
    "df_gs_rr['dialogue'] = X_test_rr\n",
    "df_gs_rr.rename(columns={'character': 'actual'}, inplace=True)\n",
    "df_gs_rr.head(10)"
   ]
  },
  {
   "cell_type": "code",
   "execution_count": 31,
   "id": "922bfafc-ce2c-450b-9ba9-f6549e7c1d21",
   "metadata": {},
   "outputs": [
    {
     "data": {
      "text/plain": [
       "Rachel Green    2002\n",
       "Ross Geller     1973\n",
       "Name: predictions, dtype: int64"
      ]
     },
     "execution_count": 31,
     "metadata": {},
     "output_type": "execute_result"
    }
   ],
   "source": [
    "df_gs_rr['predictions'].value_counts()"
   ]
  },
  {
   "cell_type": "code",
   "execution_count": 32,
   "id": "80138413-be6b-457e-8625-5d2fb6c29ca3",
   "metadata": {},
   "outputs": [
    {
     "data": {
      "text/plain": [
       "Rachel Green    1990\n",
       "Ross Geller     1985\n",
       "Name: actual, dtype: int64"
      ]
     },
     "execution_count": 32,
     "metadata": {},
     "output_type": "execute_result"
    }
   ],
   "source": [
    "df_gs_rr['actual'].value_counts()"
   ]
  },
  {
   "cell_type": "code",
   "execution_count": 33,
   "id": "ec994ff6-804a-4ddd-b10f-a9fe14ac8391",
   "metadata": {},
   "outputs": [
    {
     "data": {
      "text/plain": [
       "actual         1428\n",
       "predictions    1428\n",
       "dialogue       1428\n",
       "dtype: int64"
      ]
     },
     "execution_count": 33,
     "metadata": {},
     "output_type": "execute_result"
    }
   ],
   "source": [
    "#How many rows were missclassified?\n",
    "df_gs_rr.loc[df_gs_rr['actual']!= df_gs_rr['predictions']].count()"
   ]
  },
  {
   "cell_type": "code",
   "execution_count": 34,
   "id": "d02b01b4-82b6-4093-98c7-b33f269e16e1",
   "metadata": {},
   "outputs": [
    {
     "data": {
      "text/plain": [
       "actual         2547\n",
       "predictions    2547\n",
       "dialogue       2547\n",
       "dtype: int64"
      ]
     },
     "execution_count": 34,
     "metadata": {},
     "output_type": "execute_result"
    }
   ],
   "source": [
    "#How many rows were accurately predicted?\n",
    "df_gs_rr.loc[df_gs_rr['actual']== df_gs_rr['predictions']].count()"
   ]
  },
  {
   "cell_type": "markdown",
   "id": "15f3c8ec-21b6-48c4-8083-3780bb404da8",
   "metadata": {},
   "source": [
    "---\n",
    "**Predicting Some Phrases**"
   ]
  },
  {
   "cell_type": "code",
   "execution_count": 35,
   "id": "e3008730-b077-49ea-a26a-369ce0fd2bbf",
   "metadata": {
    "tags": []
   },
   "outputs": [
    {
     "data": {
      "text/plain": [
       "'Rachel Green'"
      ]
     },
     "execution_count": 35,
     "metadata": {},
     "output_type": "execute_result"
    }
   ],
   "source": [
    "gs_rr.predict([\"Oh, are you setting Ross up with someone? Does she have a wedding dress\"])[0]"
   ]
  },
  {
   "cell_type": "code",
   "execution_count": 36,
   "id": "75af7808-3e53-409d-8835-f7d4ea925037",
   "metadata": {},
   "outputs": [
    {
     "data": {
      "text/plain": [
       "'Ross Geller'"
      ]
     },
     "execution_count": 36,
     "metadata": {},
     "output_type": "execute_result"
    }
   ],
   "source": [
    "gs_rr.predict(['We were on a break!'])[0]"
   ]
  },
  {
   "cell_type": "markdown",
   "id": "2e889ca3-4a69-48be-a0f8-3a5e53a44e53",
   "metadata": {},
   "source": [
    "<br>\n",
    "\n",
    "---- \n",
    "### Exporting the Model Using Pickle"
   ]
  },
  {
   "cell_type": "code",
   "execution_count": 37,
   "id": "3343f07f-9824-4ac8-bbb4-029e60044a3d",
   "metadata": {},
   "outputs": [],
   "source": [
    "#Using the best model which was the \n",
    "with open('../../log-reg-rachross.pkl', mode='wb') as pickle_out:\n",
    "    pickle.dump(gs_rr, pickle_out)"
   ]
  },
  {
   "cell_type": "markdown",
   "id": "01f2a52b-3382-4231-bff0-8e6df1bb12f4",
   "metadata": {
    "tags": []
   },
   "source": [
    "<br>\n",
    "<br>\n",
    "\n",
    "\n",
    "----\n",
    "#### Monica and Chandler"
   ]
  },
  {
   "cell_type": "code",
   "execution_count": 38,
   "id": "081fa961-dc15-4d8c-85ba-c7dce6b5cc1d",
   "metadata": {},
   "outputs": [
    {
     "data": {
      "text/plain": [
       "(15081, 4)"
      ]
     },
     "execution_count": 38,
     "metadata": {},
     "output_type": "execute_result"
    }
   ],
   "source": [
    "friends[(friends['character'] == 'Monica Geller') | (friends['character'] == 'Chandler Bing')].shape"
   ]
  },
  {
   "cell_type": "code",
   "execution_count": 39,
   "id": "6de0e8f6-c5d6-48a9-964e-623d95216343",
   "metadata": {},
   "outputs": [],
   "source": [
    "#Dropping all characters but Monica and Chandler\n",
    "mon_chan = friends[(friends['character'] == 'Monica Geller') | (friends['character'] == 'Chandler Bing')]"
   ]
  },
  {
   "cell_type": "markdown",
   "id": "88e504f1-3bf9-47d4-8acb-04d7d7b9b795",
   "metadata": {},
   "source": [
    "### Make X and y values "
   ]
  },
  {
   "cell_type": "code",
   "execution_count": 40,
   "id": "dbe430c7-a57b-40bf-9d1d-253f0f23735a",
   "metadata": {},
   "outputs": [],
   "source": [
    "X_mc = mon_chan['dialogue']\n",
    "y_mc = mon_chan['character']"
   ]
  },
  {
   "cell_type": "markdown",
   "id": "e276174d-bcc4-4dc8-87e1-de3f83338836",
   "metadata": {},
   "source": [
    "### Split into Train and Test"
   ]
  },
  {
   "cell_type": "code",
   "execution_count": 41,
   "id": "e6a57277-0b7e-481d-8748-a8234a643315",
   "metadata": {},
   "outputs": [],
   "source": [
    "X_train_mc, X_test_mc, y_train_mc, y_test_mc = train_test_split(X_mc, y_mc, random_state=42, stratify=y_mc)"
   ]
  },
  {
   "cell_type": "markdown",
   "id": "bc0e8406-f1df-49be-906b-790a144390d1",
   "metadata": {},
   "source": [
    "### Baseline Accuracy "
   ]
  },
  {
   "cell_type": "markdown",
   "id": "61e87515-dd98-44b6-916b-122fd9f015f5",
   "metadata": {},
   "source": [
    "Baseline to beat when making the models"
   ]
  },
  {
   "cell_type": "code",
   "execution_count": 42,
   "id": "982cb7b9-6763-428a-b5d7-cc429e06f95d",
   "metadata": {},
   "outputs": [
    {
     "data": {
      "text/plain": [
       "Chandler Bing    0.503183\n",
       "Monica Geller    0.496817\n",
       "Name: character, dtype: float64"
      ]
     },
     "execution_count": 42,
     "metadata": {},
     "output_type": "execute_result"
    }
   ],
   "source": [
    "y_train_mc.value_counts(normalize=True)"
   ]
  },
  {
   "cell_type": "markdown",
   "id": "67c4558b-2313-4bbb-8e85-9e6e92d0c2db",
   "metadata": {},
   "source": [
    "### Instaniating Count Vectorizer, Fit and Transform "
   ]
  },
  {
   "cell_type": "code",
   "execution_count": 43,
   "id": "0b4b6fc5-0232-4aef-b72f-cec6153c9a52",
   "metadata": {},
   "outputs": [],
   "source": [
    "cv_mc = CountVectorizer()"
   ]
  },
  {
   "cell_type": "markdown",
   "id": "a52afe8f-6895-4d6c-8415-a21ae96cdce9",
   "metadata": {},
   "source": [
    "Fitting only on the training data and transforming only on X_train and X_test"
   ]
  },
  {
   "cell_type": "code",
   "execution_count": 44,
   "id": "bdb9fb62-aecc-4ff5-aa86-f320fe26e3dd",
   "metadata": {},
   "outputs": [
    {
     "data": {
      "text/plain": [
       "CountVectorizer()"
      ]
     },
     "execution_count": 44,
     "metadata": {},
     "output_type": "execute_result"
    }
   ],
   "source": [
    "cv_mc.fit(X_train_mc)"
   ]
  },
  {
   "cell_type": "code",
   "execution_count": 45,
   "id": "e362c73e-9410-47ca-a66d-4163bf4dbb8b",
   "metadata": {},
   "outputs": [],
   "source": [
    "X_train_cv_mc = cv.transform(X_train_mc)\n",
    "X_test_cv_mc = cv.transform(X_test_mc)"
   ]
  },
  {
   "cell_type": "markdown",
   "id": "d9acf438-a93a-4e89-9a72-b529eb52c1bd",
   "metadata": {},
   "source": [
    "### Modeling "
   ]
  },
  {
   "cell_type": "markdown",
   "id": "34b014d8-3c7b-4bdf-bbba-3b9c95d3dcf2",
   "metadata": {},
   "source": [
    "Instantiate a logisitic regression model with an instance of the class LogisticRegression."
   ]
  },
  {
   "cell_type": "code",
   "execution_count": 46,
   "id": "a25783e3-6195-49cb-bc6b-9f5f861c3226",
   "metadata": {},
   "outputs": [],
   "source": [
    "logreg = LogisticRegression(max_iter=1000, random_state=42)"
   ]
  },
  {
   "cell_type": "code",
   "execution_count": 47,
   "id": "4a993e1f-9143-49d3-8d04-da241cc26068",
   "metadata": {},
   "outputs": [
    {
     "data": {
      "text/plain": [
       "LogisticRegression(max_iter=1000, random_state=42)"
      ]
     },
     "execution_count": 47,
     "metadata": {},
     "output_type": "execute_result"
    }
   ],
   "source": [
    "#fitting on the training set -- need to pass in X_train_cv!\n",
    "logreg.fit(X_train_cv_mc, y_train_mc)"
   ]
  },
  {
   "cell_type": "code",
   "execution_count": 48,
   "id": "63c47cd3-add8-462f-89ba-3cf803f42eb1",
   "metadata": {},
   "outputs": [
    {
     "name": "stdout",
     "output_type": "stream",
     "text": [
      "Train score: 0.7519009725906277 \n",
      "Test score: 0.6030230708035004\n"
     ]
    }
   ],
   "source": [
    "#Scoring on the training and testing sets to see if there is overfitting or underfitting.\n",
    "print(f'Train score: {logreg.score(X_train_cv_mc, y_train_mc)} \\nTest score: {logreg.score(X_test_cv_mc, y_test_mc)}')"
   ]
  },
  {
   "cell_type": "markdown",
   "id": "49241596-09b1-46bb-81a5-80375d3ecfdf",
   "metadata": {},
   "source": [
    "\n",
    "---\n",
    "**Making Predictions**"
   ]
  },
  {
   "cell_type": "code",
   "execution_count": 49,
   "id": "c394a297-7442-4646-89e0-7724724bd721",
   "metadata": {},
   "outputs": [],
   "source": [
    "#Making predictions using X_test_cv\n",
    "preds_mc = logreg.predict(X_test_cv_mc)"
   ]
  },
  {
   "cell_type": "markdown",
   "id": "60bd9e4d-1dd7-408c-a560-e682d3565943",
   "metadata": {},
   "source": [
    "I created a dataframe consisting of the predicted results, actual results, and the dialouge. "
   ]
  },
  {
   "cell_type": "code",
   "execution_count": 50,
   "id": "5b159c0a-de55-4e7a-a397-cfc42b580b2a",
   "metadata": {},
   "outputs": [
    {
     "data": {
      "text/html": [
       "<div>\n",
       "<style scoped>\n",
       "    .dataframe tbody tr th:only-of-type {\n",
       "        vertical-align: middle;\n",
       "    }\n",
       "\n",
       "    .dataframe tbody tr th {\n",
       "        vertical-align: top;\n",
       "    }\n",
       "\n",
       "    .dataframe thead th {\n",
       "        text-align: right;\n",
       "    }\n",
       "</style>\n",
       "<table border=\"1\" class=\"dataframe\">\n",
       "  <thead>\n",
       "    <tr style=\"text-align: right;\">\n",
       "      <th></th>\n",
       "      <th>actual</th>\n",
       "      <th>predictions</th>\n",
       "      <th>dialogue</th>\n",
       "    </tr>\n",
       "  </thead>\n",
       "  <tbody>\n",
       "    <tr>\n",
       "      <th>9890</th>\n",
       "      <td>Chandler Bing</td>\n",
       "      <td>Monica Geller</td>\n",
       "      <td>I'll be a fool for you. I'm sure, you know I d...</td>\n",
       "    </tr>\n",
       "    <tr>\n",
       "      <th>21948</th>\n",
       "      <td>Chandler Bing</td>\n",
       "      <td>Chandler Bing</td>\n",
       "      <td>See you later Mon.</td>\n",
       "    </tr>\n",
       "    <tr>\n",
       "      <th>39041</th>\n",
       "      <td>Monica Geller</td>\n",
       "      <td>Chandler Bing</td>\n",
       "      <td>Wow, that's a big cable bill! Huh, you don't h...</td>\n",
       "    </tr>\n",
       "    <tr>\n",
       "      <th>35763</th>\n",
       "      <td>Monica Geller</td>\n",
       "      <td>Monica Geller</td>\n",
       "      <td>Okay fine! I keep betting Phoebe that you're g...</td>\n",
       "    </tr>\n",
       "    <tr>\n",
       "      <th>2703</th>\n",
       "      <td>Chandler Bing</td>\n",
       "      <td>Chandler Bing</td>\n",
       "      <td>You know that thing, when you and I talk to ea...</td>\n",
       "    </tr>\n",
       "    <tr>\n",
       "      <th>24629</th>\n",
       "      <td>Chandler Bing</td>\n",
       "      <td>Chandler Bing</td>\n",
       "      <td>Yes it was very sad when the guy stopped drawi...</td>\n",
       "    </tr>\n",
       "    <tr>\n",
       "      <th>29992</th>\n",
       "      <td>Chandler Bing</td>\n",
       "      <td>Chandler Bing</td>\n",
       "      <td>Uh, could you leave me one?</td>\n",
       "    </tr>\n",
       "    <tr>\n",
       "      <th>15401</th>\n",
       "      <td>Monica Geller</td>\n",
       "      <td>Monica Geller</td>\n",
       "      <td>What, he doesn't like Josh?</td>\n",
       "    </tr>\n",
       "    <tr>\n",
       "      <th>39482</th>\n",
       "      <td>Monica Geller</td>\n",
       "      <td>Chandler Bing</td>\n",
       "      <td>Oh! You assume because I was heavy that's the ...</td>\n",
       "    </tr>\n",
       "    <tr>\n",
       "      <th>9963</th>\n",
       "      <td>Monica Geller</td>\n",
       "      <td>Chandler Bing</td>\n",
       "      <td>Score!! 7 to nothing!</td>\n",
       "    </tr>\n",
       "  </tbody>\n",
       "</table>\n",
       "</div>"
      ],
      "text/plain": [
       "              actual    predictions  \\\n",
       "9890   Chandler Bing  Monica Geller   \n",
       "21948  Chandler Bing  Chandler Bing   \n",
       "39041  Monica Geller  Chandler Bing   \n",
       "35763  Monica Geller  Monica Geller   \n",
       "2703   Chandler Bing  Chandler Bing   \n",
       "24629  Chandler Bing  Chandler Bing   \n",
       "29992  Chandler Bing  Chandler Bing   \n",
       "15401  Monica Geller  Monica Geller   \n",
       "39482  Monica Geller  Chandler Bing   \n",
       "9963   Monica Geller  Chandler Bing   \n",
       "\n",
       "                                                dialogue  \n",
       "9890   I'll be a fool for you. I'm sure, you know I d...  \n",
       "21948                                 See you later Mon.  \n",
       "39041  Wow, that's a big cable bill! Huh, you don't h...  \n",
       "35763  Okay fine! I keep betting Phoebe that you're g...  \n",
       "2703   You know that thing, when you and I talk to ea...  \n",
       "24629  Yes it was very sad when the guy stopped drawi...  \n",
       "29992                        Uh, could you leave me one?  \n",
       "15401                        What, he doesn't like Josh?  \n",
       "39482  Oh! You assume because I was heavy that's the ...  \n",
       "9963                               Score!! 7 to nothing!  "
      ]
     },
     "execution_count": 50,
     "metadata": {},
     "output_type": "execute_result"
    }
   ],
   "source": [
    "df_params_mc = pd.DataFrame(y_test_mc)\n",
    "df_params_mc['predictions'] = preds_mc \n",
    "df_params_mc['dialogue'] = X_test_mc\n",
    "df_params_mc.rename(columns={'character': 'actual'}, inplace=True)\n",
    "df_params_mc.head(10)"
   ]
  },
  {
   "cell_type": "code",
   "execution_count": 51,
   "id": "6e967a08-a79c-4f6f-a457-bb69ff3f3c58",
   "metadata": {},
   "outputs": [
    {
     "data": {
      "text/plain": [
       "Chandler Bing    1914\n",
       "Monica Geller    1857\n",
       "Name: predictions, dtype: int64"
      ]
     },
     "execution_count": 51,
     "metadata": {},
     "output_type": "execute_result"
    }
   ],
   "source": [
    "df_params_mc['predictions'].value_counts()"
   ]
  },
  {
   "cell_type": "code",
   "execution_count": 52,
   "id": "4fd25485-b56a-4cde-894d-7eff3b426aa7",
   "metadata": {},
   "outputs": [
    {
     "data": {
      "text/plain": [
       "Chandler Bing    1897\n",
       "Monica Geller    1874\n",
       "Name: actual, dtype: int64"
      ]
     },
     "execution_count": 52,
     "metadata": {},
     "output_type": "execute_result"
    }
   ],
   "source": [
    "df_params_mc['actual'].value_counts()"
   ]
  },
  {
   "cell_type": "code",
   "execution_count": 53,
   "id": "c26cd618-eafe-422f-8091-f31e54578e5f",
   "metadata": {},
   "outputs": [
    {
     "data": {
      "text/plain": [
       "actual         1497\n",
       "predictions    1497\n",
       "dialogue       1497\n",
       "dtype: int64"
      ]
     },
     "execution_count": 53,
     "metadata": {},
     "output_type": "execute_result"
    }
   ],
   "source": [
    "#How many rows were missclassified?\n",
    "df_params_mc.loc[df_params_mc['actual']!= df_params_mc['predictions']].count()"
   ]
  },
  {
   "cell_type": "code",
   "execution_count": 54,
   "id": "949d406c-2609-4770-882b-a1dce34d0550",
   "metadata": {},
   "outputs": [
    {
     "data": {
      "text/plain": [
       "actual         2274\n",
       "predictions    2274\n",
       "dialogue       2274\n",
       "dtype: int64"
      ]
     },
     "execution_count": 54,
     "metadata": {},
     "output_type": "execute_result"
    }
   ],
   "source": [
    "#How many rows were accurately predicted?\n",
    "df_params_mc.loc[df_params_mc['actual']== df_params_mc['predictions']].count()"
   ]
  },
  {
   "cell_type": "markdown",
   "id": "cf5e1770-bcfc-4857-b8ef-4abcda7a3c7f",
   "metadata": {},
   "source": [
    "---\n",
    "**Predicting Some Phrases**"
   ]
  },
  {
   "cell_type": "code",
   "execution_count": 55,
   "id": "96188857-1668-48b5-8574-5e4ef07f5453",
   "metadata": {},
   "outputs": [],
   "source": [
    "#logreg.predict([\"How you doin'?\"])[0]"
   ]
  },
  {
   "cell_type": "code",
   "execution_count": 56,
   "id": "06e16b05-aea8-4633-9595-d5392bde39d9",
   "metadata": {},
   "outputs": [],
   "source": [
    "#logreg.predict(['Smelly cat, smelly cat, what are they feeding you'])[0]"
   ]
  },
  {
   "cell_type": "code",
   "execution_count": 57,
   "id": "90d8f431-eb2e-4562-a0a8-6aab77489e33",
   "metadata": {},
   "outputs": [],
   "source": [
    "#logreg.predict(['We were on a break!'])[0]"
   ]
  },
  {
   "cell_type": "markdown",
   "id": "c224a5a2-05a8-4a66-8cb7-cfd3b8042124",
   "metadata": {},
   "source": [
    "### Modeling: Basic Model with Default Parameters and using CountVectorizer"
   ]
  },
  {
   "cell_type": "code",
   "execution_count": 58,
   "id": "c3f10cdc-d865-47b8-9558-46932130fe2c",
   "metadata": {},
   "outputs": [
    {
     "data": {
      "text/plain": [
       "GridSearchCV(estimator=Pipeline(steps=[('cv', CountVectorizer()),\n",
       "                                       ('log',\n",
       "                                        LogisticRegression(random_state=42))]),\n",
       "             param_grid={'cv__stop_words': [None, 'english'],\n",
       "                         'log__max_iter': [200, 250, 300, 350, 400, 450, 500]})"
      ]
     },
     "execution_count": 58,
     "metadata": {},
     "output_type": "execute_result"
    }
   ],
   "source": [
    "# Instaniate a gridSearch \n",
    "gs_mc = GridSearchCV(estimator=pipe, param_grid=grid)\n",
    "gs_mc.fit(X_train_mc, y_train_mc)"
   ]
  },
  {
   "cell_type": "code",
   "execution_count": 59,
   "id": "3d5f0c17-dd59-42c3-b76d-5c7de6f38e28",
   "metadata": {},
   "outputs": [
    {
     "data": {
      "text/plain": [
       "{'cv__stop_words': None, 'log__max_iter': 200}"
      ]
     },
     "execution_count": 59,
     "metadata": {},
     "output_type": "execute_result"
    }
   ],
   "source": [
    "gs_mc.best_params_"
   ]
  },
  {
   "cell_type": "code",
   "execution_count": 60,
   "id": "ab1ddce2-61d0-473d-bbd1-11d23bfd25cf",
   "metadata": {},
   "outputs": [
    {
     "name": "stdout",
     "output_type": "stream",
     "text": [
      "Train score: 0.7844385499557913 \n",
      "Test score: 0.6083267037920976\n"
     ]
    }
   ],
   "source": [
    "print(f\"Train score: {gs_mc.score(X_train_mc, y_train_mc)} \\nTest score: {gs_mc.score(X_test_mc, y_test_mc)}\")"
   ]
  },
  {
   "cell_type": "markdown",
   "id": "b8972b19-acfc-4907-bad4-eb60f9fc4f8f",
   "metadata": {},
   "source": [
    "\n",
    "---\n",
    "**Making Predictions**"
   ]
  },
  {
   "cell_type": "code",
   "execution_count": 61,
   "id": "21f6d591-9fd8-4580-a491-a634dd39d687",
   "metadata": {},
   "outputs": [],
   "source": [
    "#Making predictions\n",
    "preds_gs_mc = gs_mc.predict(X_test_mc)"
   ]
  },
  {
   "cell_type": "markdown",
   "id": "44d2d8aa-40f3-4c2d-91c3-63388b2b456f",
   "metadata": {},
   "source": [
    "I created a dataframe consisting of the predicted results, actual results, and the dialouge. "
   ]
  },
  {
   "cell_type": "code",
   "execution_count": 62,
   "id": "c0690444-f6a3-47ee-8a3c-ee294a41a3c2",
   "metadata": {},
   "outputs": [
    {
     "data": {
      "text/html": [
       "<div>\n",
       "<style scoped>\n",
       "    .dataframe tbody tr th:only-of-type {\n",
       "        vertical-align: middle;\n",
       "    }\n",
       "\n",
       "    .dataframe tbody tr th {\n",
       "        vertical-align: top;\n",
       "    }\n",
       "\n",
       "    .dataframe thead th {\n",
       "        text-align: right;\n",
       "    }\n",
       "</style>\n",
       "<table border=\"1\" class=\"dataframe\">\n",
       "  <thead>\n",
       "    <tr style=\"text-align: right;\">\n",
       "      <th></th>\n",
       "      <th>actual</th>\n",
       "      <th>predictions</th>\n",
       "      <th>dialogue</th>\n",
       "    </tr>\n",
       "  </thead>\n",
       "  <tbody>\n",
       "    <tr>\n",
       "      <th>9890</th>\n",
       "      <td>Chandler Bing</td>\n",
       "      <td>Monica Geller</td>\n",
       "      <td>I'll be a fool for you. I'm sure, you know I d...</td>\n",
       "    </tr>\n",
       "    <tr>\n",
       "      <th>21948</th>\n",
       "      <td>Chandler Bing</td>\n",
       "      <td>Chandler Bing</td>\n",
       "      <td>See you later Mon.</td>\n",
       "    </tr>\n",
       "    <tr>\n",
       "      <th>39041</th>\n",
       "      <td>Monica Geller</td>\n",
       "      <td>Chandler Bing</td>\n",
       "      <td>Wow, that's a big cable bill! Huh, you don't h...</td>\n",
       "    </tr>\n",
       "    <tr>\n",
       "      <th>35763</th>\n",
       "      <td>Monica Geller</td>\n",
       "      <td>Monica Geller</td>\n",
       "      <td>Okay fine! I keep betting Phoebe that you're g...</td>\n",
       "    </tr>\n",
       "    <tr>\n",
       "      <th>2703</th>\n",
       "      <td>Chandler Bing</td>\n",
       "      <td>Chandler Bing</td>\n",
       "      <td>You know that thing, when you and I talk to ea...</td>\n",
       "    </tr>\n",
       "    <tr>\n",
       "      <th>24629</th>\n",
       "      <td>Chandler Bing</td>\n",
       "      <td>Chandler Bing</td>\n",
       "      <td>Yes it was very sad when the guy stopped drawi...</td>\n",
       "    </tr>\n",
       "    <tr>\n",
       "      <th>29992</th>\n",
       "      <td>Chandler Bing</td>\n",
       "      <td>Chandler Bing</td>\n",
       "      <td>Uh, could you leave me one?</td>\n",
       "    </tr>\n",
       "    <tr>\n",
       "      <th>15401</th>\n",
       "      <td>Monica Geller</td>\n",
       "      <td>Monica Geller</td>\n",
       "      <td>What, he doesn't like Josh?</td>\n",
       "    </tr>\n",
       "    <tr>\n",
       "      <th>39482</th>\n",
       "      <td>Monica Geller</td>\n",
       "      <td>Chandler Bing</td>\n",
       "      <td>Oh! You assume because I was heavy that's the ...</td>\n",
       "    </tr>\n",
       "    <tr>\n",
       "      <th>9963</th>\n",
       "      <td>Monica Geller</td>\n",
       "      <td>Monica Geller</td>\n",
       "      <td>Score!! 7 to nothing!</td>\n",
       "    </tr>\n",
       "  </tbody>\n",
       "</table>\n",
       "</div>"
      ],
      "text/plain": [
       "              actual    predictions  \\\n",
       "9890   Chandler Bing  Monica Geller   \n",
       "21948  Chandler Bing  Chandler Bing   \n",
       "39041  Monica Geller  Chandler Bing   \n",
       "35763  Monica Geller  Monica Geller   \n",
       "2703   Chandler Bing  Chandler Bing   \n",
       "24629  Chandler Bing  Chandler Bing   \n",
       "29992  Chandler Bing  Chandler Bing   \n",
       "15401  Monica Geller  Monica Geller   \n",
       "39482  Monica Geller  Chandler Bing   \n",
       "9963   Monica Geller  Monica Geller   \n",
       "\n",
       "                                                dialogue  \n",
       "9890   I'll be a fool for you. I'm sure, you know I d...  \n",
       "21948                                 See you later Mon.  \n",
       "39041  Wow, that's a big cable bill! Huh, you don't h...  \n",
       "35763  Okay fine! I keep betting Phoebe that you're g...  \n",
       "2703   You know that thing, when you and I talk to ea...  \n",
       "24629  Yes it was very sad when the guy stopped drawi...  \n",
       "29992                        Uh, could you leave me one?  \n",
       "15401                        What, he doesn't like Josh?  \n",
       "39482  Oh! You assume because I was heavy that's the ...  \n",
       "9963                               Score!! 7 to nothing!  "
      ]
     },
     "execution_count": 62,
     "metadata": {},
     "output_type": "execute_result"
    }
   ],
   "source": [
    "df_gs_mc = pd.DataFrame(y_test_mc)\n",
    "df_gs_mc['predictions'] = preds_gs_mc \n",
    "df_gs_mc['dialogue'] = X_test_mc\n",
    "df_gs_mc.rename(columns={'character': 'actual'}, inplace=True)\n",
    "df_gs_mc.head(10)"
   ]
  },
  {
   "cell_type": "code",
   "execution_count": 63,
   "id": "4c2ce529-b96d-439e-b038-13c6c128a33d",
   "metadata": {},
   "outputs": [
    {
     "data": {
      "text/plain": [
       "Chandler Bing    1902\n",
       "Monica Geller    1869\n",
       "Name: predictions, dtype: int64"
      ]
     },
     "execution_count": 63,
     "metadata": {},
     "output_type": "execute_result"
    }
   ],
   "source": [
    "df_gs_mc['predictions'].value_counts()"
   ]
  },
  {
   "cell_type": "code",
   "execution_count": 64,
   "id": "a9b3bcb1-c62a-420b-beb5-8a6ab44293aa",
   "metadata": {},
   "outputs": [
    {
     "data": {
      "text/plain": [
       "Chandler Bing    1897\n",
       "Monica Geller    1874\n",
       "Name: actual, dtype: int64"
      ]
     },
     "execution_count": 64,
     "metadata": {},
     "output_type": "execute_result"
    }
   ],
   "source": [
    "df_gs_mc['actual'].value_counts()"
   ]
  },
  {
   "cell_type": "code",
   "execution_count": 65,
   "id": "141c345d-fd16-48a8-90dd-af31d03e0f88",
   "metadata": {},
   "outputs": [
    {
     "data": {
      "text/plain": [
       "actual         1477\n",
       "predictions    1477\n",
       "dialogue       1477\n",
       "dtype: int64"
      ]
     },
     "execution_count": 65,
     "metadata": {},
     "output_type": "execute_result"
    }
   ],
   "source": [
    "#How many rows were missclassified?\n",
    "df_gs_mc.loc[df_gs_mc['actual']!= df_gs_mc['predictions']].count()"
   ]
  },
  {
   "cell_type": "code",
   "execution_count": 66,
   "id": "f60f7a67-6ae4-47b8-a2a4-1413384cf083",
   "metadata": {},
   "outputs": [
    {
     "data": {
      "text/plain": [
       "actual         2294\n",
       "predictions    2294\n",
       "dialogue       2294\n",
       "dtype: int64"
      ]
     },
     "execution_count": 66,
     "metadata": {},
     "output_type": "execute_result"
    }
   ],
   "source": [
    "#How many rows were accurately predicted?\n",
    "df_gs_mc.loc[df_gs_mc['actual']== df_gs_mc['predictions']].count()"
   ]
  },
  {
   "cell_type": "markdown",
   "id": "e24c2f9b-9d1e-4a37-b68d-dbd8bfc97bd0",
   "metadata": {},
   "source": [
    "---\n",
    "**Predicting Some Phrases**"
   ]
  },
  {
   "cell_type": "code",
   "execution_count": 67,
   "id": "151f2d23-d4b0-4654-a4e8-885257e48111",
   "metadata": {
    "tags": []
   },
   "outputs": [
    {
     "data": {
      "text/plain": [
       "'Monica Geller'"
      ]
     },
     "execution_count": 67,
     "metadata": {},
     "output_type": "execute_result"
    }
   ],
   "source": [
    "gs_mc.predict([\"And remember, if I am harsh with you, it’s only because you’re doing it wrong.\"])[0]"
   ]
  },
  {
   "cell_type": "code",
   "execution_count": 68,
   "id": "6394f33d-5169-4136-9148-604e4aefc8a6",
   "metadata": {},
   "outputs": [
    {
     "data": {
      "text/plain": [
       "'Chandler Bing'"
      ]
     },
     "execution_count": 68,
     "metadata": {},
     "output_type": "execute_result"
    }
   ],
   "source": [
    "gs_mc.predict(['I say more dumb things before 9 A.M. than most people say all day.'])[0]"
   ]
  },
  {
   "cell_type": "markdown",
   "id": "0952adb5-bb07-4bbc-bdb4-a0a8f4a8f40a",
   "metadata": {},
   "source": [
    "<br>\n",
    "\n",
    "---- \n",
    "### Exporting the Model Using Pickle"
   ]
  },
  {
   "cell_type": "code",
   "execution_count": 69,
   "id": "2f53636c-2c73-47e3-ac33-c9403d702910",
   "metadata": {},
   "outputs": [],
   "source": [
    "#Using the best model which was the \n",
    "with open('../../log-reg-monchan.pkl', mode='wb') as pickle_out:\n",
    "    pickle.dump(gs_mc, pickle_out)"
   ]
  }
 ],
 "metadata": {
  "kernelspec": {
   "display_name": "Python 3",
   "language": "python",
   "name": "python3"
  },
  "language_info": {
   "codemirror_mode": {
    "name": "ipython",
    "version": 3
   },
   "file_extension": ".py",
   "mimetype": "text/x-python",
   "name": "python",
   "nbconvert_exporter": "python",
   "pygments_lexer": "ipython3",
   "version": "3.9.7"
  }
 },
 "nbformat": 4,
 "nbformat_minor": 5
}
