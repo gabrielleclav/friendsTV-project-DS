{
 "cells": [
  {
   "cell_type": "markdown",
   "id": "361ed524-f71a-4604-8699-e4f7ab4a13d1",
   "metadata": {},
   "source": [
    "# Logistic Regression Modeling"
   ]
  },
  {
   "cell_type": "code",
   "execution_count": 1,
   "id": "65764aec-164e-4090-9f4b-3ec17cf121fb",
   "metadata": {},
   "outputs": [],
   "source": [
    "#Import necessary libraries \n",
    "\n",
    "import pandas as pd\n",
    "import numpy as np\n",
    "import matplotlib.pyplot as plt\n",
    "\n",
    "from sklearn.feature_extraction.text import CountVectorizer\n",
    "from sklearn.model_selection import train_test_split, GridSearchCV\n",
    "from sklearn.pipeline import Pipeline\n",
    "from sklearn.linear_model import LogisticRegression\n",
    "\n",
    "from nltk.corpus import stopwords\n",
    "\n",
    "#For streamlit app\n",
    "import pickle"
   ]
  },
  {
   "cell_type": "code",
   "execution_count": 2,
   "id": "e4d469b3-06c3-4882-9f41-082ec757b97f",
   "metadata": {},
   "outputs": [
    {
     "data": {
      "text/html": [
       "<div>\n",
       "<style scoped>\n",
       "    .dataframe tbody tr th:only-of-type {\n",
       "        vertical-align: middle;\n",
       "    }\n",
       "\n",
       "    .dataframe tbody tr th {\n",
       "        vertical-align: top;\n",
       "    }\n",
       "\n",
       "    .dataframe thead th {\n",
       "        text-align: right;\n",
       "    }\n",
       "</style>\n",
       "<table border=\"1\" class=\"dataframe\">\n",
       "  <thead>\n",
       "    <tr style=\"text-align: right;\">\n",
       "      <th></th>\n",
       "      <th>season</th>\n",
       "      <th>episode</th>\n",
       "      <th>character</th>\n",
       "      <th>dialogue</th>\n",
       "    </tr>\n",
       "  </thead>\n",
       "  <tbody>\n",
       "    <tr>\n",
       "      <th>0</th>\n",
       "      <td>s01</td>\n",
       "      <td>e01</td>\n",
       "      <td>Monica Geller</td>\n",
       "      <td>There's nothing to tell! He's just some guy I ...</td>\n",
       "    </tr>\n",
       "    <tr>\n",
       "      <th>1</th>\n",
       "      <td>s01</td>\n",
       "      <td>e01</td>\n",
       "      <td>Joey Tribbiani</td>\n",
       "      <td>C'mon, you're going out with the guy! There's ...</td>\n",
       "    </tr>\n",
       "    <tr>\n",
       "      <th>2</th>\n",
       "      <td>s01</td>\n",
       "      <td>e01</td>\n",
       "      <td>Chandler Bing</td>\n",
       "      <td>All right Joey, be nice. So does he have a hum...</td>\n",
       "    </tr>\n",
       "    <tr>\n",
       "      <th>3</th>\n",
       "      <td>s01</td>\n",
       "      <td>e01</td>\n",
       "      <td>Phoebe Buffay</td>\n",
       "      <td>Wait, does he eat chalk?</td>\n",
       "    </tr>\n",
       "    <tr>\n",
       "      <th>4</th>\n",
       "      <td>s01</td>\n",
       "      <td>e01</td>\n",
       "      <td>Phoebe Buffay</td>\n",
       "      <td>Just, 'cause, I don't want her to go through w...</td>\n",
       "    </tr>\n",
       "  </tbody>\n",
       "</table>\n",
       "</div>"
      ],
      "text/plain": [
       "  season episode       character  \\\n",
       "0    s01     e01   Monica Geller   \n",
       "1    s01     e01  Joey Tribbiani   \n",
       "2    s01     e01   Chandler Bing   \n",
       "3    s01     e01   Phoebe Buffay   \n",
       "4    s01     e01   Phoebe Buffay   \n",
       "\n",
       "                                            dialogue  \n",
       "0  There's nothing to tell! He's just some guy I ...  \n",
       "1  C'mon, you're going out with the guy! There's ...  \n",
       "2  All right Joey, be nice. So does he have a hum...  \n",
       "3                           Wait, does he eat chalk?  \n",
       "4  Just, 'cause, I don't want her to go through w...  "
      ]
     },
     "execution_count": 2,
     "metadata": {},
     "output_type": "execute_result"
    }
   ],
   "source": [
    "#import the dataset\n",
    "friends = pd.read_csv('../../Datasets/friends-modeling.csv')\n",
    "friends.head()"
   ]
  },
  {
   "cell_type": "code",
   "execution_count": 3,
   "id": "81ee409c-27fa-4d48-acc7-41d65654658c",
   "metadata": {},
   "outputs": [
    {
     "data": {
      "text/plain": [
       "season       0\n",
       "episode      0\n",
       "character    0\n",
       "dialogue     0\n",
       "dtype: int64"
      ]
     },
     "execution_count": 3,
     "metadata": {},
     "output_type": "execute_result"
    }
   ],
   "source": [
    "#Make sure no nulls\n",
    "friends.isnull().sum()"
   ]
  },
  {
   "cell_type": "markdown",
   "id": "82ddf537-09c0-4a14-975a-89ba3e0bd112",
   "metadata": {},
   "source": [
    "### Make X and y values "
   ]
  },
  {
   "cell_type": "code",
   "execution_count": 4,
   "id": "bc182822-3146-4fa8-9486-d1fb26a311e6",
   "metadata": {},
   "outputs": [],
   "source": [
    "X = friends['dialogue']\n",
    "y = friends['character']"
   ]
  },
  {
   "cell_type": "markdown",
   "id": "fb02a344-1345-46ad-9050-a446f0fb8386",
   "metadata": {},
   "source": [
    "### Split into Train and Test"
   ]
  },
  {
   "cell_type": "code",
   "execution_count": 5,
   "id": "21dfe02b-81cc-45b4-95ef-cb19f1047b01",
   "metadata": {},
   "outputs": [],
   "source": [
    "X_train, X_test, y_train, y_test = train_test_split(X, y, random_state=42, stratify=y)"
   ]
  },
  {
   "cell_type": "markdown",
   "id": "bf17f567-5391-43ce-9c2b-d2cb4b4f1224",
   "metadata": {},
   "source": [
    "### Baseline Accuracy "
   ]
  },
  {
   "cell_type": "markdown",
   "id": "6e0fe3a2-e667-41f9-9fb9-dc6aa164fbc1",
   "metadata": {},
   "source": [
    "Baseline to beat when making the models"
   ]
  },
  {
   "cell_type": "code",
   "execution_count": 6,
   "id": "19906d7e-5bea-44ad-b2b6-e2c593e077b0",
   "metadata": {},
   "outputs": [
    {
     "data": {
      "text/plain": [
       "Rachel Green      0.177657\n",
       "Ross Geller       0.177152\n",
       "Chandler Bing     0.169355\n",
       "Monica Geller     0.167242\n",
       "Joey Tribbiani    0.160725\n",
       "Phoebe Buffay     0.147869\n",
       "Name: character, dtype: float64"
      ]
     },
     "execution_count": 6,
     "metadata": {},
     "output_type": "execute_result"
    }
   ],
   "source": [
    "y_train.value_counts(normalize=True)"
   ]
  },
  {
   "cell_type": "markdown",
   "id": "f0f89edc-823e-4c74-9bfd-fa58bd2a7aae",
   "metadata": {},
   "source": [
    "### Instaniating Count Vectorizer, Fit and Transform "
   ]
  },
  {
   "cell_type": "code",
   "execution_count": 7,
   "id": "92382e27-a222-450c-ad35-1942e58c5603",
   "metadata": {},
   "outputs": [],
   "source": [
    "cv = CountVectorizer()"
   ]
  },
  {
   "cell_type": "markdown",
   "id": "3d3f67ca-2f5b-4754-b75d-716915effbb1",
   "metadata": {},
   "source": [
    "Fitting only on the training data and transforming only on X_train and X_test"
   ]
  },
  {
   "cell_type": "code",
   "execution_count": 8,
   "id": "1abc96f4-4a0e-41ba-ace1-239b613de292",
   "metadata": {},
   "outputs": [
    {
     "data": {
      "text/plain": [
       "CountVectorizer()"
      ]
     },
     "execution_count": 8,
     "metadata": {},
     "output_type": "execute_result"
    }
   ],
   "source": [
    "cv.fit(X_train)"
   ]
  },
  {
   "cell_type": "code",
   "execution_count": 9,
   "id": "5370a951-8bed-46ad-9541-bdb0bf7cd483",
   "metadata": {},
   "outputs": [],
   "source": [
    "X_train_cv = cv.transform(X_train)\n",
    "X_test_cv = cv.transform(X_test)"
   ]
  },
  {
   "cell_type": "markdown",
   "id": "0ca6924a-a9ba-4862-ade1-3cef58ad0e04",
   "metadata": {},
   "source": [
    "### Modeling "
   ]
  },
  {
   "cell_type": "markdown",
   "id": "79de78ed-8f3a-4687-8b0a-77ffe7ba6a85",
   "metadata": {},
   "source": [
    "Instantiate a logisitic regression model with an instance of the class LogisticRegression."
   ]
  },
  {
   "cell_type": "code",
   "execution_count": 14,
   "id": "8af2e73d-96af-465a-a009-3ab1b9033e82",
   "metadata": {},
   "outputs": [],
   "source": [
    "logreg = LogisticRegression(max_iter=1000, random_state=42)"
   ]
  },
  {
   "cell_type": "code",
   "execution_count": 15,
   "id": "29d0e599-ba5e-4b4e-9411-b51688336d40",
   "metadata": {},
   "outputs": [
    {
     "data": {
      "text/plain": [
       "LogisticRegression(max_iter=1000, random_state=42)"
      ]
     },
     "execution_count": 15,
     "metadata": {},
     "output_type": "execute_result"
    }
   ],
   "source": [
    "#fitting on the training set -- need to pass in X_train_cv!\n",
    "logreg.fit(X_train_cv, y_train)"
   ]
  },
  {
   "cell_type": "code",
   "execution_count": 111,
   "id": "2efd9f76-5a0b-4943-97bc-d298246d16f7",
   "metadata": {},
   "outputs": [
    {
     "name": "stdout",
     "output_type": "stream",
     "text": [
      "Train score: 0.5459469110820141 \n",
      "Test score: 0.3064631315836458\n"
     ]
    }
   ],
   "source": [
    "#Scoring on the training and testing sets to see if there is overfitting or underfitting.\n",
    "print(f'Train score: {logreg.score(X_train_cv, y_train)} \\nTest score: {logreg.score(X_test_cv, y_test)}')"
   ]
  },
  {
   "cell_type": "markdown",
   "id": "d6cd1e0b-6e94-4334-bf38-4ea284daa389",
   "metadata": {},
   "source": [
    "\n",
    "---\n",
    "**Making Predictions**"
   ]
  },
  {
   "cell_type": "code",
   "execution_count": 17,
   "id": "68f69c94-1c8f-4b2f-83c9-769683a9e8e9",
   "metadata": {},
   "outputs": [],
   "source": [
    "#Making predictions using X_test_cv\n",
    "preds_1 = logreg.predict(X_test_cv)"
   ]
  },
  {
   "cell_type": "markdown",
   "id": "64f48f1a-c17f-4295-9057-336a41f320b5",
   "metadata": {},
   "source": [
    "I created a dataframe consisting of the predicted results, actual results, and the dialouge. "
   ]
  },
  {
   "cell_type": "code",
   "execution_count": 18,
   "id": "fe140626-f3d7-47cb-9b84-0985a57b0f41",
   "metadata": {},
   "outputs": [
    {
     "data": {
      "text/html": [
       "<div>\n",
       "<style scoped>\n",
       "    .dataframe tbody tr th:only-of-type {\n",
       "        vertical-align: middle;\n",
       "    }\n",
       "\n",
       "    .dataframe tbody tr th {\n",
       "        vertical-align: top;\n",
       "    }\n",
       "\n",
       "    .dataframe thead th {\n",
       "        text-align: right;\n",
       "    }\n",
       "</style>\n",
       "<table border=\"1\" class=\"dataframe\">\n",
       "  <thead>\n",
       "    <tr style=\"text-align: right;\">\n",
       "      <th></th>\n",
       "      <th>actual</th>\n",
       "      <th>predictions</th>\n",
       "      <th>dialogue</th>\n",
       "    </tr>\n",
       "  </thead>\n",
       "  <tbody>\n",
       "    <tr>\n",
       "      <th>8260</th>\n",
       "      <td>Monica Geller</td>\n",
       "      <td>Ross Geller</td>\n",
       "      <td>Then what's the problem?</td>\n",
       "    </tr>\n",
       "    <tr>\n",
       "      <th>12970</th>\n",
       "      <td>Phoebe Buffay</td>\n",
       "      <td>Rachel Green</td>\n",
       "      <td>Yeah, well, everybody does! I'm a really cool ...</td>\n",
       "    </tr>\n",
       "    <tr>\n",
       "      <th>9682</th>\n",
       "      <td>Rachel Green</td>\n",
       "      <td>Rachel Green</td>\n",
       "      <td>What? What? He's interested in you. He-he like...</td>\n",
       "    </tr>\n",
       "    <tr>\n",
       "      <th>22017</th>\n",
       "      <td>Monica Geller</td>\n",
       "      <td>Monica Geller</td>\n",
       "      <td>I've never loved anybody as much as I love you.</td>\n",
       "    </tr>\n",
       "    <tr>\n",
       "      <th>5611</th>\n",
       "      <td>Rachel Green</td>\n",
       "      <td>Joey Tribbiani</td>\n",
       "      <td>And I'm in it? Then let me read it.</td>\n",
       "    </tr>\n",
       "    <tr>\n",
       "      <th>22331</th>\n",
       "      <td>Joey Tribbiani</td>\n",
       "      <td>Joey Tribbiani</td>\n",
       "      <td>Yeah, I gotta go! I got an acting job. Like yo...</td>\n",
       "    </tr>\n",
       "    <tr>\n",
       "      <th>18609</th>\n",
       "      <td>Monica Geller</td>\n",
       "      <td>Phoebe Buffay</td>\n",
       "      <td>Great. So the ball is in his court?</td>\n",
       "    </tr>\n",
       "    <tr>\n",
       "      <th>23737</th>\n",
       "      <td>Monica Geller</td>\n",
       "      <td>Monica Geller</td>\n",
       "      <td>Dad, please don't pick your teeth out here! Al...</td>\n",
       "    </tr>\n",
       "    <tr>\n",
       "      <th>35446</th>\n",
       "      <td>Ross Geller</td>\n",
       "      <td>Chandler Bing</td>\n",
       "      <td>Excellent! Excellent, now-now do you want anot...</td>\n",
       "    </tr>\n",
       "    <tr>\n",
       "      <th>3756</th>\n",
       "      <td>Monica Geller</td>\n",
       "      <td>Monica Geller</td>\n",
       "      <td>How are you?</td>\n",
       "    </tr>\n",
       "  </tbody>\n",
       "</table>\n",
       "</div>"
      ],
      "text/plain": [
       "               actual     predictions  \\\n",
       "8260    Monica Geller     Ross Geller   \n",
       "12970   Phoebe Buffay    Rachel Green   \n",
       "9682     Rachel Green    Rachel Green   \n",
       "22017   Monica Geller   Monica Geller   \n",
       "5611     Rachel Green  Joey Tribbiani   \n",
       "22331  Joey Tribbiani  Joey Tribbiani   \n",
       "18609   Monica Geller   Phoebe Buffay   \n",
       "23737   Monica Geller   Monica Geller   \n",
       "35446     Ross Geller   Chandler Bing   \n",
       "3756    Monica Geller   Monica Geller   \n",
       "\n",
       "                                                dialogue  \n",
       "8260                            Then what's the problem?  \n",
       "12970  Yeah, well, everybody does! I'm a really cool ...  \n",
       "9682   What? What? He's interested in you. He-he like...  \n",
       "22017    I've never loved anybody as much as I love you.  \n",
       "5611                 And I'm in it? Then let me read it.  \n",
       "22331  Yeah, I gotta go! I got an acting job. Like yo...  \n",
       "18609                Great. So the ball is in his court?  \n",
       "23737  Dad, please don't pick your teeth out here! Al...  \n",
       "35446  Excellent! Excellent, now-now do you want anot...  \n",
       "3756                                        How are you?  "
      ]
     },
     "execution_count": 18,
     "metadata": {},
     "output_type": "execute_result"
    }
   ],
   "source": [
    "df_params_1 = pd.DataFrame(y_test)\n",
    "df_params_1['predictions'] = preds_1 \n",
    "df_params_1['dialogue'] = X_test\n",
    "df_params_1.rename(columns={'character': 'actual'}, inplace=True)\n",
    "df_params_1.head(10)"
   ]
  },
  {
   "cell_type": "code",
   "execution_count": 76,
   "id": "55abe403-2a7c-452a-84e4-e20e67fdc9b3",
   "metadata": {},
   "outputs": [
    {
     "data": {
      "text/plain": [
       "Rachel Green      2233\n",
       "Monica Geller     2096\n",
       "Chandler Bing     1937\n",
       "Ross Geller       1925\n",
       "Joey Tribbiani    1741\n",
       "Phoebe Buffay     1270\n",
       "Name: predictions, dtype: int64"
      ]
     },
     "execution_count": 76,
     "metadata": {},
     "output_type": "execute_result"
    }
   ],
   "source": [
    "df_params_1['predictions'].value_counts()"
   ]
  },
  {
   "cell_type": "code",
   "execution_count": 77,
   "id": "01f49d2e-9768-42f1-88a7-ba8e7fc41add",
   "metadata": {},
   "outputs": [
    {
     "data": {
      "text/plain": [
       "Rachel Green      1991\n",
       "Ross Geller       1985\n",
       "Chandler Bing     1897\n",
       "Monica Geller     1873\n",
       "Joey Tribbiani    1800\n",
       "Phoebe Buffay     1656\n",
       "Name: actual, dtype: int64"
      ]
     },
     "execution_count": 77,
     "metadata": {},
     "output_type": "execute_result"
    }
   ],
   "source": [
    "df_params_1['actual'].value_counts()"
   ]
  },
  {
   "cell_type": "code",
   "execution_count": 19,
   "id": "269bd700-b2e5-4d0d-8d28-439d1b9fd380",
   "metadata": {},
   "outputs": [
    {
     "data": {
      "text/plain": [
       "actual         7769\n",
       "predictions    7769\n",
       "dialogue       7769\n",
       "dtype: int64"
      ]
     },
     "execution_count": 19,
     "metadata": {},
     "output_type": "execute_result"
    }
   ],
   "source": [
    "#How many rows were missclassified?\n",
    "df_params_1.loc[df_params_1['actual']!= df_params_1['predictions']].count()"
   ]
  },
  {
   "cell_type": "code",
   "execution_count": 20,
   "id": "b6f6a6c1-6af2-490f-aeca-e23bb1725134",
   "metadata": {},
   "outputs": [
    {
     "data": {
      "text/plain": [
       "actual         3433\n",
       "predictions    3433\n",
       "dialogue       3433\n",
       "dtype: int64"
      ]
     },
     "execution_count": 20,
     "metadata": {},
     "output_type": "execute_result"
    }
   ],
   "source": [
    "#How many rows were accurately predicted?\n",
    "df_params_1.loc[df_params_1['actual']== df_params_1['predictions']].count()"
   ]
  },
  {
   "cell_type": "markdown",
   "id": "cfc218c4-eeff-4a7b-ab27-c1f874ce7eb9",
   "metadata": {},
   "source": [
    "---\n",
    "**Predicting Some Phrases**"
   ]
  },
  {
   "cell_type": "code",
   "execution_count": 106,
   "id": "ea5ad272-d961-4fee-bd62-47303e4700ba",
   "metadata": {},
   "outputs": [],
   "source": [
    "#logreg.predict([\"How you doin'?\"])[0]"
   ]
  },
  {
   "cell_type": "code",
   "execution_count": 107,
   "id": "a24347f1-6a46-4f35-985b-41a5a171b489",
   "metadata": {},
   "outputs": [],
   "source": [
    "#logreg.predict(['Smelly cat, smelly cat, what are they feeding you'])[0]"
   ]
  },
  {
   "cell_type": "code",
   "execution_count": 108,
   "id": "68092a31-0369-45c3-8f43-b61aaa1fc28e",
   "metadata": {},
   "outputs": [],
   "source": [
    "#logreg.predict(['We were on a break!'])[0]"
   ]
  },
  {
   "cell_type": "markdown",
   "id": "15043267-a354-4b2d-8ce1-63bcae77bd0e",
   "metadata": {},
   "source": [
    "### Looking at the Coefficients from Logistic Regression Model "
   ]
  },
  {
   "cell_type": "markdown",
   "id": "cd6dd2c4-3fd2-49b2-b08b-9ab78c62678d",
   "metadata": {},
   "source": [
    "Using logisitic regression, I can further explore the six sets of coefficients, where it will help me understand if the word has a impact on predicting each character and which words are the best predictors for each character. Here I will show the top 10 words for each character, starting with Joey Tribbiani. To get this information, I need to make a dataframe consisting of the coefficients which is the data, the columns are the six different characters, and the indices are the words. (Remember when actually making the dataframe, the columns were the words and the indices were the characters but I transposed it.)"
   ]
  },
  {
   "cell_type": "code",
   "execution_count": 33,
   "id": "d67f7789-73af-4cce-8488-2fc2304aaf5b",
   "metadata": {},
   "outputs": [
    {
     "data": {
      "text/html": [
       "<div>\n",
       "<style scoped>\n",
       "    .dataframe tbody tr th:only-of-type {\n",
       "        vertical-align: middle;\n",
       "    }\n",
       "\n",
       "    .dataframe tbody tr th {\n",
       "        vertical-align: top;\n",
       "    }\n",
       "\n",
       "    .dataframe thead th {\n",
       "        text-align: right;\n",
       "    }\n",
       "</style>\n",
       "<table border=\"1\" class=\"dataframe\">\n",
       "  <thead>\n",
       "    <tr style=\"text-align: right;\">\n",
       "      <th></th>\n",
       "      <th>Chandler Bing</th>\n",
       "      <th>Joey Tribbiani</th>\n",
       "      <th>Monica Geller</th>\n",
       "      <th>Phoebe Buffay</th>\n",
       "      <th>Rachel Green</th>\n",
       "      <th>Ross Geller</th>\n",
       "    </tr>\n",
       "  </thead>\n",
       "  <tbody>\n",
       "    <tr>\n",
       "      <th>00</th>\n",
       "      <td>1.122053</td>\n",
       "      <td>0.791460</td>\n",
       "      <td>-0.717463</td>\n",
       "      <td>-0.622547</td>\n",
       "      <td>-0.690586</td>\n",
       "      <td>0.117083</td>\n",
       "    </tr>\n",
       "    <tr>\n",
       "      <th>000</th>\n",
       "      <td>-0.179013</td>\n",
       "      <td>0.898924</td>\n",
       "      <td>-0.466402</td>\n",
       "      <td>-0.506380</td>\n",
       "      <td>0.417975</td>\n",
       "      <td>-0.165104</td>\n",
       "    </tr>\n",
       "    <tr>\n",
       "      <th>007</th>\n",
       "      <td>0.066757</td>\n",
       "      <td>-0.371595</td>\n",
       "      <td>0.991696</td>\n",
       "      <td>-0.343806</td>\n",
       "      <td>-0.393975</td>\n",
       "      <td>0.050923</td>\n",
       "    </tr>\n",
       "    <tr>\n",
       "      <th>02</th>\n",
       "      <td>-0.036840</td>\n",
       "      <td>-0.017912</td>\n",
       "      <td>0.585175</td>\n",
       "      <td>-0.233608</td>\n",
       "      <td>-0.073132</td>\n",
       "      <td>-0.223683</td>\n",
       "    </tr>\n",
       "    <tr>\n",
       "      <th>03815</th>\n",
       "      <td>-0.059028</td>\n",
       "      <td>-0.013153</td>\n",
       "      <td>0.247717</td>\n",
       "      <td>-0.022275</td>\n",
       "      <td>-0.004807</td>\n",
       "      <td>-0.148453</td>\n",
       "    </tr>\n",
       "  </tbody>\n",
       "</table>\n",
       "</div>"
      ],
      "text/plain": [
       "       Chandler Bing  Joey Tribbiani  Monica Geller  Phoebe Buffay  \\\n",
       "00          1.122053        0.791460      -0.717463      -0.622547   \n",
       "000        -0.179013        0.898924      -0.466402      -0.506380   \n",
       "007         0.066757       -0.371595       0.991696      -0.343806   \n",
       "02         -0.036840       -0.017912       0.585175      -0.233608   \n",
       "03815      -0.059028       -0.013153       0.247717      -0.022275   \n",
       "\n",
       "       Rachel Green  Ross Geller  \n",
       "00        -0.690586     0.117083  \n",
       "000        0.417975    -0.165104  \n",
       "007       -0.393975     0.050923  \n",
       "02        -0.073132    -0.223683  \n",
       "03815     -0.004807    -0.148453  "
      ]
     },
     "execution_count": 33,
     "metadata": {},
     "output_type": "execute_result"
    }
   ],
   "source": [
    "df = pd.DataFrame(\n",
    "    logreg.coef_,\n",
    "    columns=cv.get_feature_names(),\n",
    "    index=logreg.classes_\n",
    ")\n",
    "df = df.T\n",
    "df.head()"
   ]
  },
  {
   "cell_type": "markdown",
   "id": "35251cdb-a6e0-4904-9d30-732909592ad1",
   "metadata": {},
   "source": [
    "**Next, I will sort the values by each character and get the top 10 words for each.**"
   ]
  },
  {
   "cell_type": "code",
   "execution_count": 36,
   "id": "a6e857d3-27f1-4958-bf0f-c8f113c8087a",
   "metadata": {
    "tags": []
   },
   "outputs": [
    {
     "data": {
      "text/html": [
       "<div>\n",
       "<style scoped>\n",
       "    .dataframe tbody tr th:only-of-type {\n",
       "        vertical-align: middle;\n",
       "    }\n",
       "\n",
       "    .dataframe tbody tr th {\n",
       "        vertical-align: top;\n",
       "    }\n",
       "\n",
       "    .dataframe thead th {\n",
       "        text-align: right;\n",
       "    }\n",
       "</style>\n",
       "<table border=\"1\" class=\"dataframe\">\n",
       "  <thead>\n",
       "    <tr style=\"text-align: right;\">\n",
       "      <th></th>\n",
       "      <th>Chandler Bing</th>\n",
       "      <th>Joey Tribbiani</th>\n",
       "      <th>Monica Geller</th>\n",
       "      <th>Phoebe Buffay</th>\n",
       "      <th>Rachel Green</th>\n",
       "      <th>Ross Geller</th>\n",
       "    </tr>\n",
       "  </thead>\n",
       "  <tbody>\n",
       "    <tr>\n",
       "      <th>uhhh</th>\n",
       "      <td>-0.411649</td>\n",
       "      <td>2.063666</td>\n",
       "      <td>-0.602201</td>\n",
       "      <td>-0.835778</td>\n",
       "      <td>-0.057266</td>\n",
       "      <td>-0.156773</td>\n",
       "    </tr>\n",
       "    <tr>\n",
       "      <th>dude</th>\n",
       "      <td>0.021437</td>\n",
       "      <td>1.912205</td>\n",
       "      <td>-1.261027</td>\n",
       "      <td>-0.873892</td>\n",
       "      <td>-0.711424</td>\n",
       "      <td>0.912701</td>\n",
       "    </tr>\n",
       "    <tr>\n",
       "      <th>director</th>\n",
       "      <td>-0.535808</td>\n",
       "      <td>1.841766</td>\n",
       "      <td>-0.613894</td>\n",
       "      <td>-0.357207</td>\n",
       "      <td>0.017902</td>\n",
       "      <td>-0.352759</td>\n",
       "    </tr>\n",
       "    <tr>\n",
       "      <th>tribbiani</th>\n",
       "      <td>-0.775518</td>\n",
       "      <td>1.840583</td>\n",
       "      <td>-0.395308</td>\n",
       "      <td>-0.031483</td>\n",
       "      <td>-0.142568</td>\n",
       "      <td>-0.495706</td>\n",
       "    </tr>\n",
       "    <tr>\n",
       "      <th>everest</th>\n",
       "      <td>-0.251360</td>\n",
       "      <td>1.746315</td>\n",
       "      <td>-0.354284</td>\n",
       "      <td>-0.507239</td>\n",
       "      <td>-0.264366</td>\n",
       "      <td>-0.369066</td>\n",
       "    </tr>\n",
       "    <tr>\n",
       "      <th>scene</th>\n",
       "      <td>-0.577302</td>\n",
       "      <td>1.637579</td>\n",
       "      <td>-0.421642</td>\n",
       "      <td>-0.368242</td>\n",
       "      <td>-0.013835</td>\n",
       "      <td>-0.256558</td>\n",
       "    </tr>\n",
       "    <tr>\n",
       "      <th>estelle</th>\n",
       "      <td>-0.747482</td>\n",
       "      <td>1.631693</td>\n",
       "      <td>-0.640872</td>\n",
       "      <td>1.054406</td>\n",
       "      <td>-0.618321</td>\n",
       "      <td>-0.679425</td>\n",
       "    </tr>\n",
       "    <tr>\n",
       "      <th>folks</th>\n",
       "      <td>-0.341342</td>\n",
       "      <td>1.608462</td>\n",
       "      <td>0.022183</td>\n",
       "      <td>-0.393247</td>\n",
       "      <td>-0.533365</td>\n",
       "      <td>-0.362691</td>\n",
       "    </tr>\n",
       "    <tr>\n",
       "      <th>sakes</th>\n",
       "      <td>-0.503067</td>\n",
       "      <td>1.583188</td>\n",
       "      <td>-0.448587</td>\n",
       "      <td>-0.138323</td>\n",
       "      <td>-0.075340</td>\n",
       "      <td>-0.417871</td>\n",
       "    </tr>\n",
       "    <tr>\n",
       "      <th>sexually</th>\n",
       "      <td>-0.315251</td>\n",
       "      <td>1.556689</td>\n",
       "      <td>-0.357091</td>\n",
       "      <td>0.138526</td>\n",
       "      <td>-0.430931</td>\n",
       "      <td>-0.591942</td>\n",
       "    </tr>\n",
       "  </tbody>\n",
       "</table>\n",
       "</div>"
      ],
      "text/plain": [
       "           Chandler Bing  Joey Tribbiani  Monica Geller  Phoebe Buffay  \\\n",
       "uhhh           -0.411649        2.063666      -0.602201      -0.835778   \n",
       "dude            0.021437        1.912205      -1.261027      -0.873892   \n",
       "director       -0.535808        1.841766      -0.613894      -0.357207   \n",
       "tribbiani      -0.775518        1.840583      -0.395308      -0.031483   \n",
       "everest        -0.251360        1.746315      -0.354284      -0.507239   \n",
       "scene          -0.577302        1.637579      -0.421642      -0.368242   \n",
       "estelle        -0.747482        1.631693      -0.640872       1.054406   \n",
       "folks          -0.341342        1.608462       0.022183      -0.393247   \n",
       "sakes          -0.503067        1.583188      -0.448587      -0.138323   \n",
       "sexually       -0.315251        1.556689      -0.357091       0.138526   \n",
       "\n",
       "           Rachel Green  Ross Geller  \n",
       "uhhh          -0.057266    -0.156773  \n",
       "dude          -0.711424     0.912701  \n",
       "director       0.017902    -0.352759  \n",
       "tribbiani     -0.142568    -0.495706  \n",
       "everest       -0.264366    -0.369066  \n",
       "scene         -0.013835    -0.256558  \n",
       "estelle       -0.618321    -0.679425  \n",
       "folks         -0.533365    -0.362691  \n",
       "sakes         -0.075340    -0.417871  \n",
       "sexually      -0.430931    -0.591942  "
      ]
     },
     "execution_count": 36,
     "metadata": {},
     "output_type": "execute_result"
    }
   ],
   "source": [
    "df.sort_values(by='Joey Tribbiani', ascending=False).head(10)"
   ]
  },
  {
   "cell_type": "code",
   "execution_count": 37,
   "id": "2e4bd142-bd93-4a68-88d6-0c50ab1940cc",
   "metadata": {},
   "outputs": [
    {
     "data": {
      "text/html": [
       "<div>\n",
       "<style scoped>\n",
       "    .dataframe tbody tr th:only-of-type {\n",
       "        vertical-align: middle;\n",
       "    }\n",
       "\n",
       "    .dataframe tbody tr th {\n",
       "        vertical-align: top;\n",
       "    }\n",
       "\n",
       "    .dataframe thead th {\n",
       "        text-align: right;\n",
       "    }\n",
       "</style>\n",
       "<table border=\"1\" class=\"dataframe\">\n",
       "  <thead>\n",
       "    <tr style=\"text-align: right;\">\n",
       "      <th></th>\n",
       "      <th>Chandler Bing</th>\n",
       "      <th>Joey Tribbiani</th>\n",
       "      <th>Monica Geller</th>\n",
       "      <th>Phoebe Buffay</th>\n",
       "      <th>Rachel Green</th>\n",
       "      <th>Ross Geller</th>\n",
       "    </tr>\n",
       "  </thead>\n",
       "  <tbody>\n",
       "    <tr>\n",
       "      <th>philange</th>\n",
       "      <td>-0.517940</td>\n",
       "      <td>-0.387428</td>\n",
       "      <td>-0.564585</td>\n",
       "      <td>2.282863</td>\n",
       "      <td>-0.158441</td>\n",
       "      <td>-0.654469</td>\n",
       "    </tr>\n",
       "    <tr>\n",
       "      <th>minsk</th>\n",
       "      <td>-0.372431</td>\n",
       "      <td>-0.398096</td>\n",
       "      <td>-0.469877</td>\n",
       "      <td>2.167199</td>\n",
       "      <td>-0.586963</td>\n",
       "      <td>-0.339833</td>\n",
       "    </tr>\n",
       "    <tr>\n",
       "      <th>psychic</th>\n",
       "      <td>-0.575930</td>\n",
       "      <td>-0.465273</td>\n",
       "      <td>-0.439646</td>\n",
       "      <td>1.990957</td>\n",
       "      <td>-0.557295</td>\n",
       "      <td>0.047188</td>\n",
       "    </tr>\n",
       "    <tr>\n",
       "      <th>yay</th>\n",
       "      <td>0.046586</td>\n",
       "      <td>-1.143319</td>\n",
       "      <td>-0.949635</td>\n",
       "      <td>1.965664</td>\n",
       "      <td>0.119856</td>\n",
       "      <td>-0.039152</td>\n",
       "    </tr>\n",
       "    <tr>\n",
       "      <th>buffay</th>\n",
       "      <td>0.012476</td>\n",
       "      <td>0.180503</td>\n",
       "      <td>-1.205571</td>\n",
       "      <td>1.870891</td>\n",
       "      <td>-0.452050</td>\n",
       "      <td>-0.406247</td>\n",
       "    </tr>\n",
       "    <tr>\n",
       "      <th>ursula</th>\n",
       "      <td>-0.715350</td>\n",
       "      <td>0.048349</td>\n",
       "      <td>-0.632508</td>\n",
       "      <td>1.864970</td>\n",
       "      <td>-0.064709</td>\n",
       "      <td>-0.500753</td>\n",
       "    </tr>\n",
       "    <tr>\n",
       "      <th>frank</th>\n",
       "      <td>-0.153290</td>\n",
       "      <td>-0.682272</td>\n",
       "      <td>-0.061494</td>\n",
       "      <td>1.802164</td>\n",
       "      <td>-0.017816</td>\n",
       "      <td>-0.887291</td>\n",
       "    </tr>\n",
       "    <tr>\n",
       "      <th>maternity</th>\n",
       "      <td>-0.563503</td>\n",
       "      <td>-0.000965</td>\n",
       "      <td>-0.581183</td>\n",
       "      <td>1.583491</td>\n",
       "      <td>0.044476</td>\n",
       "      <td>-0.482316</td>\n",
       "    </tr>\n",
       "    <tr>\n",
       "      <th>client</th>\n",
       "      <td>-0.443758</td>\n",
       "      <td>-0.035795</td>\n",
       "      <td>-0.020833</td>\n",
       "      <td>1.568047</td>\n",
       "      <td>-0.709253</td>\n",
       "      <td>-0.358408</td>\n",
       "    </tr>\n",
       "    <tr>\n",
       "      <th>smelly</th>\n",
       "      <td>0.452394</td>\n",
       "      <td>-0.741656</td>\n",
       "      <td>-0.421347</td>\n",
       "      <td>1.504580</td>\n",
       "      <td>-0.332910</td>\n",
       "      <td>-0.461062</td>\n",
       "    </tr>\n",
       "  </tbody>\n",
       "</table>\n",
       "</div>"
      ],
      "text/plain": [
       "           Chandler Bing  Joey Tribbiani  Monica Geller  Phoebe Buffay  \\\n",
       "philange       -0.517940       -0.387428      -0.564585       2.282863   \n",
       "minsk          -0.372431       -0.398096      -0.469877       2.167199   \n",
       "psychic        -0.575930       -0.465273      -0.439646       1.990957   \n",
       "yay             0.046586       -1.143319      -0.949635       1.965664   \n",
       "buffay          0.012476        0.180503      -1.205571       1.870891   \n",
       "ursula         -0.715350        0.048349      -0.632508       1.864970   \n",
       "frank          -0.153290       -0.682272      -0.061494       1.802164   \n",
       "maternity      -0.563503       -0.000965      -0.581183       1.583491   \n",
       "client         -0.443758       -0.035795      -0.020833       1.568047   \n",
       "smelly          0.452394       -0.741656      -0.421347       1.504580   \n",
       "\n",
       "           Rachel Green  Ross Geller  \n",
       "philange      -0.158441    -0.654469  \n",
       "minsk         -0.586963    -0.339833  \n",
       "psychic       -0.557295     0.047188  \n",
       "yay            0.119856    -0.039152  \n",
       "buffay        -0.452050    -0.406247  \n",
       "ursula        -0.064709    -0.500753  \n",
       "frank         -0.017816    -0.887291  \n",
       "maternity      0.044476    -0.482316  \n",
       "client        -0.709253    -0.358408  \n",
       "smelly        -0.332910    -0.461062  "
      ]
     },
     "execution_count": 37,
     "metadata": {},
     "output_type": "execute_result"
    }
   ],
   "source": [
    "df.sort_values(by='Phoebe Buffay', ascending=False).head(10)"
   ]
  },
  {
   "cell_type": "code",
   "execution_count": 61,
   "id": "fc152a0c-dd08-4ca6-8924-21fbd0bda7e1",
   "metadata": {},
   "outputs": [
    {
     "data": {
      "text/html": [
       "<div>\n",
       "<style scoped>\n",
       "    .dataframe tbody tr th:only-of-type {\n",
       "        vertical-align: middle;\n",
       "    }\n",
       "\n",
       "    .dataframe tbody tr th {\n",
       "        vertical-align: top;\n",
       "    }\n",
       "\n",
       "    .dataframe thead th {\n",
       "        text-align: right;\n",
       "    }\n",
       "</style>\n",
       "<table border=\"1\" class=\"dataframe\">\n",
       "  <thead>\n",
       "    <tr style=\"text-align: right;\">\n",
       "      <th></th>\n",
       "      <th>Chandler Bing</th>\n",
       "      <th>Joey Tribbiani</th>\n",
       "      <th>Monica Geller</th>\n",
       "      <th>Phoebe Buffay</th>\n",
       "      <th>Rachel Green</th>\n",
       "      <th>Ross Geller</th>\n",
       "    </tr>\n",
       "  </thead>\n",
       "  <tbody>\n",
       "    <tr>\n",
       "      <th>joshua</th>\n",
       "      <td>-0.192291</td>\n",
       "      <td>-0.483839</td>\n",
       "      <td>-0.810410</td>\n",
       "      <td>-0.663109</td>\n",
       "      <td>2.359930</td>\n",
       "      <td>-0.210281</td>\n",
       "    </tr>\n",
       "    <tr>\n",
       "      <th>zelner</th>\n",
       "      <td>-0.371665</td>\n",
       "      <td>-0.310912</td>\n",
       "      <td>-0.446260</td>\n",
       "      <td>-0.405054</td>\n",
       "      <td>1.938983</td>\n",
       "      <td>-0.405091</td>\n",
       "    </tr>\n",
       "    <tr>\n",
       "      <th>gavin</th>\n",
       "      <td>-0.462715</td>\n",
       "      <td>-0.506766</td>\n",
       "      <td>0.155550</td>\n",
       "      <td>-0.528672</td>\n",
       "      <td>1.795289</td>\n",
       "      <td>-0.452686</td>\n",
       "    </tr>\n",
       "    <tr>\n",
       "      <th>amy</th>\n",
       "      <td>-0.470817</td>\n",
       "      <td>0.191751</td>\n",
       "      <td>-0.704352</td>\n",
       "      <td>-0.766115</td>\n",
       "      <td>1.784144</td>\n",
       "      <td>-0.034612</td>\n",
       "    </tr>\n",
       "    <tr>\n",
       "      <th>joanna</th>\n",
       "      <td>0.440090</td>\n",
       "      <td>-0.431358</td>\n",
       "      <td>-0.534815</td>\n",
       "      <td>-0.558607</td>\n",
       "      <td>1.782162</td>\n",
       "      <td>-0.697472</td>\n",
       "    </tr>\n",
       "    <tr>\n",
       "      <th>cart</th>\n",
       "      <td>-0.383549</td>\n",
       "      <td>-0.708348</td>\n",
       "      <td>-0.399471</td>\n",
       "      <td>-0.359724</td>\n",
       "      <td>1.759775</td>\n",
       "      <td>0.091317</td>\n",
       "    </tr>\n",
       "    <tr>\n",
       "      <th>barry</th>\n",
       "      <td>-0.990932</td>\n",
       "      <td>-0.351703</td>\n",
       "      <td>0.671269</td>\n",
       "      <td>-0.580861</td>\n",
       "      <td>1.620368</td>\n",
       "      <td>-0.368142</td>\n",
       "    </tr>\n",
       "    <tr>\n",
       "      <th>honey</th>\n",
       "      <td>0.453374</td>\n",
       "      <td>-1.873074</td>\n",
       "      <td>1.076049</td>\n",
       "      <td>-0.716581</td>\n",
       "      <td>1.607648</td>\n",
       "      <td>-0.547416</td>\n",
       "    </tr>\n",
       "    <tr>\n",
       "      <th>pierced</th>\n",
       "      <td>-0.174968</td>\n",
       "      <td>-0.395451</td>\n",
       "      <td>-0.295799</td>\n",
       "      <td>-0.220571</td>\n",
       "      <td>1.541924</td>\n",
       "      <td>-0.455135</td>\n",
       "    </tr>\n",
       "    <tr>\n",
       "      <th>spider</th>\n",
       "      <td>-0.547781</td>\n",
       "      <td>-0.625766</td>\n",
       "      <td>0.090334</td>\n",
       "      <td>0.183793</td>\n",
       "      <td>1.521354</td>\n",
       "      <td>-0.621933</td>\n",
       "    </tr>\n",
       "  </tbody>\n",
       "</table>\n",
       "</div>"
      ],
      "text/plain": [
       "         Chandler Bing  Joey Tribbiani  Monica Geller  Phoebe Buffay  \\\n",
       "joshua       -0.192291       -0.483839      -0.810410      -0.663109   \n",
       "zelner       -0.371665       -0.310912      -0.446260      -0.405054   \n",
       "gavin        -0.462715       -0.506766       0.155550      -0.528672   \n",
       "amy          -0.470817        0.191751      -0.704352      -0.766115   \n",
       "joanna        0.440090       -0.431358      -0.534815      -0.558607   \n",
       "cart         -0.383549       -0.708348      -0.399471      -0.359724   \n",
       "barry        -0.990932       -0.351703       0.671269      -0.580861   \n",
       "honey         0.453374       -1.873074       1.076049      -0.716581   \n",
       "pierced      -0.174968       -0.395451      -0.295799      -0.220571   \n",
       "spider       -0.547781       -0.625766       0.090334       0.183793   \n",
       "\n",
       "         Rachel Green  Ross Geller  \n",
       "joshua       2.359930    -0.210281  \n",
       "zelner       1.938983    -0.405091  \n",
       "gavin        1.795289    -0.452686  \n",
       "amy          1.784144    -0.034612  \n",
       "joanna       1.782162    -0.697472  \n",
       "cart         1.759775     0.091317  \n",
       "barry        1.620368    -0.368142  \n",
       "honey        1.607648    -0.547416  \n",
       "pierced      1.541924    -0.455135  \n",
       "spider       1.521354    -0.621933  "
      ]
     },
     "execution_count": 61,
     "metadata": {},
     "output_type": "execute_result"
    }
   ],
   "source": [
    "df.sort_values(by='Rachel Green', ascending = False).head(10)"
   ]
  },
  {
   "cell_type": "code",
   "execution_count": 62,
   "id": "e977be36-64a1-44fc-836a-537a5c7eb319",
   "metadata": {},
   "outputs": [
    {
     "data": {
      "text/html": [
       "<div>\n",
       "<style scoped>\n",
       "    .dataframe tbody tr th:only-of-type {\n",
       "        vertical-align: middle;\n",
       "    }\n",
       "\n",
       "    .dataframe tbody tr th {\n",
       "        vertical-align: top;\n",
       "    }\n",
       "\n",
       "    .dataframe thead th {\n",
       "        text-align: right;\n",
       "    }\n",
       "</style>\n",
       "<table border=\"1\" class=\"dataframe\">\n",
       "  <thead>\n",
       "    <tr style=\"text-align: right;\">\n",
       "      <th></th>\n",
       "      <th>Chandler Bing</th>\n",
       "      <th>Joey Tribbiani</th>\n",
       "      <th>Monica Geller</th>\n",
       "      <th>Phoebe Buffay</th>\n",
       "      <th>Rachel Green</th>\n",
       "      <th>Ross Geller</th>\n",
       "    </tr>\n",
       "  </thead>\n",
       "  <tbody>\n",
       "    <tr>\n",
       "      <th>adopt</th>\n",
       "      <td>-0.551459</td>\n",
       "      <td>-0.399173</td>\n",
       "      <td>1.852177</td>\n",
       "      <td>-0.397400</td>\n",
       "      <td>-0.192521</td>\n",
       "      <td>-0.311624</td>\n",
       "    </tr>\n",
       "    <tr>\n",
       "      <th>pad</th>\n",
       "      <td>-0.296282</td>\n",
       "      <td>-0.439225</td>\n",
       "      <td>1.555357</td>\n",
       "      <td>-0.218264</td>\n",
       "      <td>-0.331562</td>\n",
       "      <td>-0.270024</td>\n",
       "    </tr>\n",
       "    <tr>\n",
       "      <th>mockolate</th>\n",
       "      <td>-0.236686</td>\n",
       "      <td>-0.281074</td>\n",
       "      <td>1.476158</td>\n",
       "      <td>-0.224730</td>\n",
       "      <td>-0.327675</td>\n",
       "      <td>-0.405992</td>\n",
       "    </tr>\n",
       "    <tr>\n",
       "      <th>sweetie</th>\n",
       "      <td>-1.131756</td>\n",
       "      <td>-0.888943</td>\n",
       "      <td>1.471105</td>\n",
       "      <td>-0.352228</td>\n",
       "      <td>0.135975</td>\n",
       "      <td>0.765847</td>\n",
       "    </tr>\n",
       "    <tr>\n",
       "      <th>pete</th>\n",
       "      <td>-0.085616</td>\n",
       "      <td>-0.289190</td>\n",
       "      <td>1.434152</td>\n",
       "      <td>-0.478153</td>\n",
       "      <td>0.045826</td>\n",
       "      <td>-0.627019</td>\n",
       "    </tr>\n",
       "    <tr>\n",
       "      <th>established</th>\n",
       "      <td>0.438517</td>\n",
       "      <td>-0.622310</td>\n",
       "      <td>1.427404</td>\n",
       "      <td>-0.333192</td>\n",
       "      <td>-0.422634</td>\n",
       "      <td>-0.487786</td>\n",
       "    </tr>\n",
       "    <tr>\n",
       "      <th>michelle</th>\n",
       "      <td>-0.332087</td>\n",
       "      <td>-0.492445</td>\n",
       "      <td>1.411618</td>\n",
       "      <td>-0.535546</td>\n",
       "      <td>-0.438520</td>\n",
       "      <td>0.386980</td>\n",
       "    </tr>\n",
       "    <tr>\n",
       "      <th>ovulating</th>\n",
       "      <td>0.386706</td>\n",
       "      <td>-0.490665</td>\n",
       "      <td>1.407336</td>\n",
       "      <td>-0.370582</td>\n",
       "      <td>-0.543232</td>\n",
       "      <td>-0.389563</td>\n",
       "    </tr>\n",
       "    <tr>\n",
       "      <th>chef</th>\n",
       "      <td>-0.646690</td>\n",
       "      <td>0.366563</td>\n",
       "      <td>1.403200</td>\n",
       "      <td>-0.090959</td>\n",
       "      <td>-0.948371</td>\n",
       "      <td>-0.083744</td>\n",
       "    </tr>\n",
       "    <tr>\n",
       "      <th>gosh</th>\n",
       "      <td>-0.384182</td>\n",
       "      <td>-0.908390</td>\n",
       "      <td>1.374677</td>\n",
       "      <td>-0.180040</td>\n",
       "      <td>0.815681</td>\n",
       "      <td>-0.717745</td>\n",
       "    </tr>\n",
       "  </tbody>\n",
       "</table>\n",
       "</div>"
      ],
      "text/plain": [
       "             Chandler Bing  Joey Tribbiani  Monica Geller  Phoebe Buffay  \\\n",
       "adopt            -0.551459       -0.399173       1.852177      -0.397400   \n",
       "pad              -0.296282       -0.439225       1.555357      -0.218264   \n",
       "mockolate        -0.236686       -0.281074       1.476158      -0.224730   \n",
       "sweetie          -1.131756       -0.888943       1.471105      -0.352228   \n",
       "pete             -0.085616       -0.289190       1.434152      -0.478153   \n",
       "established       0.438517       -0.622310       1.427404      -0.333192   \n",
       "michelle         -0.332087       -0.492445       1.411618      -0.535546   \n",
       "ovulating         0.386706       -0.490665       1.407336      -0.370582   \n",
       "chef             -0.646690        0.366563       1.403200      -0.090959   \n",
       "gosh             -0.384182       -0.908390       1.374677      -0.180040   \n",
       "\n",
       "             Rachel Green  Ross Geller  \n",
       "adopt           -0.192521    -0.311624  \n",
       "pad             -0.331562    -0.270024  \n",
       "mockolate       -0.327675    -0.405992  \n",
       "sweetie          0.135975     0.765847  \n",
       "pete             0.045826    -0.627019  \n",
       "established     -0.422634    -0.487786  \n",
       "michelle        -0.438520     0.386980  \n",
       "ovulating       -0.543232    -0.389563  \n",
       "chef            -0.948371    -0.083744  \n",
       "gosh             0.815681    -0.717745  "
      ]
     },
     "execution_count": 62,
     "metadata": {},
     "output_type": "execute_result"
    }
   ],
   "source": [
    "df.sort_values(by='Monica Geller', ascending= False).head(10)"
   ]
  },
  {
   "cell_type": "code",
   "execution_count": 63,
   "id": "c7bf9dce-3821-4ab2-967f-232b16e0b24b",
   "metadata": {},
   "outputs": [
    {
     "data": {
      "text/html": [
       "<div>\n",
       "<style scoped>\n",
       "    .dataframe tbody tr th:only-of-type {\n",
       "        vertical-align: middle;\n",
       "    }\n",
       "\n",
       "    .dataframe tbody tr th {\n",
       "        vertical-align: top;\n",
       "    }\n",
       "\n",
       "    .dataframe thead th {\n",
       "        text-align: right;\n",
       "    }\n",
       "</style>\n",
       "<table border=\"1\" class=\"dataframe\">\n",
       "  <thead>\n",
       "    <tr style=\"text-align: right;\">\n",
       "      <th></th>\n",
       "      <th>Chandler Bing</th>\n",
       "      <th>Joey Tribbiani</th>\n",
       "      <th>Monica Geller</th>\n",
       "      <th>Phoebe Buffay</th>\n",
       "      <th>Rachel Green</th>\n",
       "      <th>Ross Geller</th>\n",
       "    </tr>\n",
       "  </thead>\n",
       "  <tbody>\n",
       "    <tr>\n",
       "      <th>correct</th>\n",
       "      <td>-0.210432</td>\n",
       "      <td>-0.044399</td>\n",
       "      <td>-1.046738</td>\n",
       "      <td>-0.197487</td>\n",
       "      <td>-0.269739</td>\n",
       "      <td>1.768795</td>\n",
       "    </tr>\n",
       "    <tr>\n",
       "      <th>students</th>\n",
       "      <td>-0.390423</td>\n",
       "      <td>-0.049648</td>\n",
       "      <td>-0.404242</td>\n",
       "      <td>-0.430721</td>\n",
       "      <td>-0.455758</td>\n",
       "      <td>1.730791</td>\n",
       "    </tr>\n",
       "    <tr>\n",
       "      <th>threesome</th>\n",
       "      <td>-0.533807</td>\n",
       "      <td>0.194043</td>\n",
       "      <td>-0.504462</td>\n",
       "      <td>-0.405019</td>\n",
       "      <td>-0.387902</td>\n",
       "      <td>1.637147</td>\n",
       "    </tr>\n",
       "    <tr>\n",
       "      <th>marcel</th>\n",
       "      <td>-1.165878</td>\n",
       "      <td>-0.090207</td>\n",
       "      <td>-0.293171</td>\n",
       "      <td>-0.297001</td>\n",
       "      <td>0.213047</td>\n",
       "      <td>1.633210</td>\n",
       "    </tr>\n",
       "    <tr>\n",
       "      <th>crab</th>\n",
       "      <td>-0.380383</td>\n",
       "      <td>0.253467</td>\n",
       "      <td>-0.318866</td>\n",
       "      <td>-0.378816</td>\n",
       "      <td>-0.652395</td>\n",
       "      <td>1.476993</td>\n",
       "    </tr>\n",
       "    <tr>\n",
       "      <th>rage</th>\n",
       "      <td>-0.341930</td>\n",
       "      <td>-0.200693</td>\n",
       "      <td>-0.275893</td>\n",
       "      <td>-0.295671</td>\n",
       "      <td>-0.336524</td>\n",
       "      <td>1.450712</td>\n",
       "    </tr>\n",
       "    <tr>\n",
       "      <th>lesabre</th>\n",
       "      <td>-0.302983</td>\n",
       "      <td>-0.182576</td>\n",
       "      <td>-0.416132</td>\n",
       "      <td>-0.171536</td>\n",
       "      <td>-0.344841</td>\n",
       "      <td>1.418068</td>\n",
       "    </tr>\n",
       "    <tr>\n",
       "      <th>hanukkah</th>\n",
       "      <td>0.418723</td>\n",
       "      <td>-0.317944</td>\n",
       "      <td>-0.605766</td>\n",
       "      <td>-0.435199</td>\n",
       "      <td>-0.476830</td>\n",
       "      <td>1.417016</td>\n",
       "    </tr>\n",
       "    <tr>\n",
       "      <th>bike</th>\n",
       "      <td>0.187085</td>\n",
       "      <td>-0.936251</td>\n",
       "      <td>-0.324380</td>\n",
       "      <td>0.745074</td>\n",
       "      <td>-1.084926</td>\n",
       "      <td>1.413398</td>\n",
       "    </tr>\n",
       "    <tr>\n",
       "      <th>force</th>\n",
       "      <td>0.090679</td>\n",
       "      <td>-0.224838</td>\n",
       "      <td>-0.237013</td>\n",
       "      <td>-0.281639</td>\n",
       "      <td>-0.756817</td>\n",
       "      <td>1.409628</td>\n",
       "    </tr>\n",
       "  </tbody>\n",
       "</table>\n",
       "</div>"
      ],
      "text/plain": [
       "           Chandler Bing  Joey Tribbiani  Monica Geller  Phoebe Buffay  \\\n",
       "correct        -0.210432       -0.044399      -1.046738      -0.197487   \n",
       "students       -0.390423       -0.049648      -0.404242      -0.430721   \n",
       "threesome      -0.533807        0.194043      -0.504462      -0.405019   \n",
       "marcel         -1.165878       -0.090207      -0.293171      -0.297001   \n",
       "crab           -0.380383        0.253467      -0.318866      -0.378816   \n",
       "rage           -0.341930       -0.200693      -0.275893      -0.295671   \n",
       "lesabre        -0.302983       -0.182576      -0.416132      -0.171536   \n",
       "hanukkah        0.418723       -0.317944      -0.605766      -0.435199   \n",
       "bike            0.187085       -0.936251      -0.324380       0.745074   \n",
       "force           0.090679       -0.224838      -0.237013      -0.281639   \n",
       "\n",
       "           Rachel Green  Ross Geller  \n",
       "correct       -0.269739     1.768795  \n",
       "students      -0.455758     1.730791  \n",
       "threesome     -0.387902     1.637147  \n",
       "marcel         0.213047     1.633210  \n",
       "crab          -0.652395     1.476993  \n",
       "rage          -0.336524     1.450712  \n",
       "lesabre       -0.344841     1.418068  \n",
       "hanukkah      -0.476830     1.417016  \n",
       "bike          -1.084926     1.413398  \n",
       "force         -0.756817     1.409628  "
      ]
     },
     "execution_count": 63,
     "metadata": {},
     "output_type": "execute_result"
    }
   ],
   "source": [
    "df.sort_values(by='Ross Geller', ascending=False).head(10)"
   ]
  },
  {
   "cell_type": "code",
   "execution_count": 64,
   "id": "4b8a3424-5fac-464f-ad2f-448ad31f66fb",
   "metadata": {},
   "outputs": [
    {
     "data": {
      "text/html": [
       "<div>\n",
       "<style scoped>\n",
       "    .dataframe tbody tr th:only-of-type {\n",
       "        vertical-align: middle;\n",
       "    }\n",
       "\n",
       "    .dataframe tbody tr th {\n",
       "        vertical-align: top;\n",
       "    }\n",
       "\n",
       "    .dataframe thead th {\n",
       "        text-align: right;\n",
       "    }\n",
       "</style>\n",
       "<table border=\"1\" class=\"dataframe\">\n",
       "  <thead>\n",
       "    <tr style=\"text-align: right;\">\n",
       "      <th></th>\n",
       "      <th>Chandler Bing</th>\n",
       "      <th>Joey Tribbiani</th>\n",
       "      <th>Monica Geller</th>\n",
       "      <th>Phoebe Buffay</th>\n",
       "      <th>Rachel Green</th>\n",
       "      <th>Ross Geller</th>\n",
       "    </tr>\n",
       "  </thead>\n",
       "  <tbody>\n",
       "    <tr>\n",
       "      <th>exact</th>\n",
       "      <td>1.716326</td>\n",
       "      <td>-0.386254</td>\n",
       "      <td>-0.612808</td>\n",
       "      <td>-0.027325</td>\n",
       "      <td>-0.496346</td>\n",
       "      <td>-0.193593</td>\n",
       "    </tr>\n",
       "    <tr>\n",
       "      <th>eddie</th>\n",
       "      <td>1.699147</td>\n",
       "      <td>-0.698956</td>\n",
       "      <td>0.072689</td>\n",
       "      <td>-0.389698</td>\n",
       "      <td>-0.550914</td>\n",
       "      <td>-0.132268</td>\n",
       "    </tr>\n",
       "    <tr>\n",
       "      <th>fourth</th>\n",
       "      <td>1.657946</td>\n",
       "      <td>-0.460425</td>\n",
       "      <td>-0.214770</td>\n",
       "      <td>-0.262610</td>\n",
       "      <td>0.122516</td>\n",
       "      <td>-0.842657</td>\n",
       "    </tr>\n",
       "    <tr>\n",
       "      <th>stern</th>\n",
       "      <td>1.546066</td>\n",
       "      <td>-0.463220</td>\n",
       "      <td>-0.265259</td>\n",
       "      <td>-0.165591</td>\n",
       "      <td>-0.185327</td>\n",
       "      <td>-0.466670</td>\n",
       "    </tr>\n",
       "    <tr>\n",
       "      <th>unpack</th>\n",
       "      <td>1.543630</td>\n",
       "      <td>-0.465887</td>\n",
       "      <td>-0.089972</td>\n",
       "      <td>-0.212029</td>\n",
       "      <td>-0.339661</td>\n",
       "      <td>-0.436081</td>\n",
       "    </tr>\n",
       "    <tr>\n",
       "      <th>tulsa</th>\n",
       "      <td>1.516199</td>\n",
       "      <td>0.203720</td>\n",
       "      <td>0.724007</td>\n",
       "      <td>-0.736089</td>\n",
       "      <td>-0.883963</td>\n",
       "      <td>-0.823874</td>\n",
       "    </tr>\n",
       "    <tr>\n",
       "      <th>joe</th>\n",
       "      <td>1.470315</td>\n",
       "      <td>-0.814464</td>\n",
       "      <td>-0.689223</td>\n",
       "      <td>-0.412352</td>\n",
       "      <td>0.188005</td>\n",
       "      <td>0.257721</td>\n",
       "    </tr>\n",
       "    <tr>\n",
       "      <th>cameras</th>\n",
       "      <td>1.467605</td>\n",
       "      <td>0.188398</td>\n",
       "      <td>-0.188295</td>\n",
       "      <td>-0.654597</td>\n",
       "      <td>-0.688091</td>\n",
       "      <td>-0.125019</td>\n",
       "    </tr>\n",
       "    <tr>\n",
       "      <th>needy</th>\n",
       "      <td>1.460093</td>\n",
       "      <td>-0.205609</td>\n",
       "      <td>-0.387475</td>\n",
       "      <td>0.286450</td>\n",
       "      <td>-0.498177</td>\n",
       "      <td>-0.655281</td>\n",
       "    </tr>\n",
       "    <tr>\n",
       "      <th>bumped</th>\n",
       "      <td>1.431796</td>\n",
       "      <td>-0.412429</td>\n",
       "      <td>-0.389852</td>\n",
       "      <td>-0.322897</td>\n",
       "      <td>-0.376169</td>\n",
       "      <td>0.069550</td>\n",
       "    </tr>\n",
       "  </tbody>\n",
       "</table>\n",
       "</div>"
      ],
      "text/plain": [
       "         Chandler Bing  Joey Tribbiani  Monica Geller  Phoebe Buffay  \\\n",
       "exact         1.716326       -0.386254      -0.612808      -0.027325   \n",
       "eddie         1.699147       -0.698956       0.072689      -0.389698   \n",
       "fourth        1.657946       -0.460425      -0.214770      -0.262610   \n",
       "stern         1.546066       -0.463220      -0.265259      -0.165591   \n",
       "unpack        1.543630       -0.465887      -0.089972      -0.212029   \n",
       "tulsa         1.516199        0.203720       0.724007      -0.736089   \n",
       "joe           1.470315       -0.814464      -0.689223      -0.412352   \n",
       "cameras       1.467605        0.188398      -0.188295      -0.654597   \n",
       "needy         1.460093       -0.205609      -0.387475       0.286450   \n",
       "bumped        1.431796       -0.412429      -0.389852      -0.322897   \n",
       "\n",
       "         Rachel Green  Ross Geller  \n",
       "exact       -0.496346    -0.193593  \n",
       "eddie       -0.550914    -0.132268  \n",
       "fourth       0.122516    -0.842657  \n",
       "stern       -0.185327    -0.466670  \n",
       "unpack      -0.339661    -0.436081  \n",
       "tulsa       -0.883963    -0.823874  \n",
       "joe          0.188005     0.257721  \n",
       "cameras     -0.688091    -0.125019  \n",
       "needy       -0.498177    -0.655281  \n",
       "bumped      -0.376169     0.069550  "
      ]
     },
     "execution_count": 64,
     "metadata": {},
     "output_type": "execute_result"
    }
   ],
   "source": [
    "df.sort_values(by='Chandler Bing', ascending=False).head(10)"
   ]
  },
  {
   "cell_type": "markdown",
   "id": "3188e579-3455-4076-aeb6-aee35d6a9dac",
   "metadata": {},
   "source": [
    "\n",
    "---\n",
    "**Looking for words common in the show and who has a higher chance at being predicted for this word.**"
   ]
  },
  {
   "cell_type": "code",
   "execution_count": 69,
   "id": "66b90f41-99d9-42ad-ae68-d59190019be0",
   "metadata": {},
   "outputs": [
    {
     "data": {
      "text/plain": [
       "Phoebe Buffay     1.504580\n",
       "Chandler Bing     0.452394\n",
       "Rachel Green     -0.332910\n",
       "Monica Geller    -0.421347\n",
       "Ross Geller      -0.461062\n",
       "Joey Tribbiani   -0.741656\n",
       "Name: smelly, dtype: float64"
      ]
     },
     "execution_count": 69,
     "metadata": {},
     "output_type": "execute_result"
    }
   ],
   "source": [
    "df.loc[\"smelly\"].sort_values(ascending=False) #the song smelly cat "
   ]
  },
  {
   "cell_type": "code",
   "execution_count": 68,
   "id": "f7515b34-6b48-4b61-8b39-ec58a8ab0050",
   "metadata": {},
   "outputs": [
    {
     "data": {
      "text/plain": [
       "Phoebe Buffay     0.496845\n",
       "Chandler Bing     0.460297\n",
       "Joey Tribbiani   -0.033165\n",
       "Monica Geller    -0.173652\n",
       "Rachel Green     -0.265924\n",
       "Ross Geller      -0.484402\n",
       "Name: crap, dtype: float64"
      ]
     },
     "execution_count": 68,
     "metadata": {},
     "output_type": "execute_result"
    }
   ],
   "source": [
    "df.loc[\"crap\"].sort_values(ascending=False) #in regards to Phoebe's husband Mike "
   ]
  },
  {
   "cell_type": "code",
   "execution_count": 67,
   "id": "9ae5e2ae-a15c-4d4a-8ead-e94d9bcb8221",
   "metadata": {},
   "outputs": [
    {
     "data": {
      "text/plain": [
       "Joey Tribbiani    1.454687\n",
       "Rachel Green      0.310109\n",
       "Chandler Bing     0.045769\n",
       "Monica Geller    -0.227674\n",
       "Phoebe Buffay    -0.631454\n",
       "Ross Geller      -0.951438\n",
       "Name: doin, dtype: float64"
      ]
     },
     "execution_count": 67,
     "metadata": {},
     "output_type": "execute_result"
    }
   ],
   "source": [
    "df.loc['doin'].sort_values(ascending=False) #Joey's famous line \"How you doin'?\""
   ]
  },
  {
   "cell_type": "markdown",
   "id": "54ab512d-f638-4fdd-8c5f-9987c458d042",
   "metadata": {},
   "source": [
    "\n",
    "<br>\n",
    "\n",
    "-----\n",
    "### Setting up a Pipe for all Logisitic Regression Modeling"
   ]
  },
  {
   "cell_type": "code",
   "execution_count": 21,
   "id": "39b22299-430f-425f-a1d2-2d6426c8d20b",
   "metadata": {},
   "outputs": [],
   "source": [
    "pipe = Pipeline(steps=[('cv', CountVectorizer()),\n",
    "                      ('log', LogisticRegression(random_state=42))])"
   ]
  },
  {
   "cell_type": "markdown",
   "id": "d21bb184-6124-4e72-8480-459bde79d360",
   "metadata": {},
   "source": [
    "### Modeling: Basic Model with Default Parameters and using CountVectorizer"
   ]
  },
  {
   "cell_type": "code",
   "execution_count": 85,
   "id": "f2ddbba2-db57-4739-ab56-63968ae4d391",
   "metadata": {},
   "outputs": [],
   "source": [
    "grid_d = {'cv__stop_words':[None, 'english'],\n",
    "         'log__max_iter': [1000, 1250, 1500, 1750, 2000]}"
   ]
  },
  {
   "cell_type": "code",
   "execution_count": 86,
   "id": "8facfd89-db44-4e16-95d9-46beaefb2b0d",
   "metadata": {},
   "outputs": [
    {
     "data": {
      "text/plain": [
       "GridSearchCV(estimator=Pipeline(steps=[('cv', CountVectorizer()),\n",
       "                                       ('log',\n",
       "                                        LogisticRegression(random_state=42))]),\n",
       "             param_grid={'cv__stop_words': [None, 'english'],\n",
       "                         'log__max_iter': [1000, 1250, 1500, 1750, 2000]})"
      ]
     },
     "execution_count": 86,
     "metadata": {},
     "output_type": "execute_result"
    }
   ],
   "source": [
    "# Instaniate a gridSearch \n",
    "gs_d = GridSearchCV(estimator=pipe, param_grid=grid_d)\n",
    "gs_d.fit(X_train, y_train)"
   ]
  },
  {
   "cell_type": "code",
   "execution_count": 87,
   "id": "858d2b4d-7146-402c-9e63-cdbb95326d79",
   "metadata": {},
   "outputs": [
    {
     "data": {
      "text/plain": [
       "{'cv__stop_words': None, 'log__max_iter': 1000}"
      ]
     },
     "execution_count": 87,
     "metadata": {},
     "output_type": "execute_result"
    }
   ],
   "source": [
    "gs_d.best_params_"
   ]
  },
  {
   "cell_type": "code",
   "execution_count": 112,
   "id": "dd17f50c-9dd3-4707-a2ed-c6ea2c3211f1",
   "metadata": {},
   "outputs": [
    {
     "name": "stdout",
     "output_type": "stream",
     "text": [
      "Train score: 0.5459469110820141 \n",
      "Test score: 0.3064631315836458\n"
     ]
    }
   ],
   "source": [
    "print(f\"Train score: {gs_d.score(X_train, y_train)} \\nTest score: {gs_d.score(X_test, y_test)}\")"
   ]
  },
  {
   "cell_type": "markdown",
   "id": "fee14388-6b16-4042-b74d-19974ac03738",
   "metadata": {},
   "source": [
    "\n",
    "---\n",
    "**Making Predictions**"
   ]
  },
  {
   "cell_type": "code",
   "execution_count": 89,
   "id": "f919a955-1d24-4bec-a88b-aad05af4ee3b",
   "metadata": {},
   "outputs": [],
   "source": [
    "#Making predictions\n",
    "preds_gs = gs_d.predict(X_test)"
   ]
  },
  {
   "cell_type": "markdown",
   "id": "ebd4c4e7-a89f-44a3-9746-efe2d4b6a8af",
   "metadata": {},
   "source": [
    "I created a dataframe consisting of the predicted results, actual results, and the dialouge. "
   ]
  },
  {
   "cell_type": "code",
   "execution_count": 90,
   "id": "3c20ca73-2b75-49a1-9bd7-21b9217b4773",
   "metadata": {},
   "outputs": [
    {
     "data": {
      "text/html": [
       "<div>\n",
       "<style scoped>\n",
       "    .dataframe tbody tr th:only-of-type {\n",
       "        vertical-align: middle;\n",
       "    }\n",
       "\n",
       "    .dataframe tbody tr th {\n",
       "        vertical-align: top;\n",
       "    }\n",
       "\n",
       "    .dataframe thead th {\n",
       "        text-align: right;\n",
       "    }\n",
       "</style>\n",
       "<table border=\"1\" class=\"dataframe\">\n",
       "  <thead>\n",
       "    <tr style=\"text-align: right;\">\n",
       "      <th></th>\n",
       "      <th>actual</th>\n",
       "      <th>predictions</th>\n",
       "      <th>dialogue</th>\n",
       "    </tr>\n",
       "  </thead>\n",
       "  <tbody>\n",
       "    <tr>\n",
       "      <th>8260</th>\n",
       "      <td>Monica Geller</td>\n",
       "      <td>Ross Geller</td>\n",
       "      <td>Then what's the problem?</td>\n",
       "    </tr>\n",
       "    <tr>\n",
       "      <th>12970</th>\n",
       "      <td>Phoebe Buffay</td>\n",
       "      <td>Rachel Green</td>\n",
       "      <td>Yeah, well, everybody does! I'm a really cool ...</td>\n",
       "    </tr>\n",
       "    <tr>\n",
       "      <th>9682</th>\n",
       "      <td>Rachel Green</td>\n",
       "      <td>Rachel Green</td>\n",
       "      <td>What? What? He's interested in you. He-he like...</td>\n",
       "    </tr>\n",
       "    <tr>\n",
       "      <th>22017</th>\n",
       "      <td>Monica Geller</td>\n",
       "      <td>Monica Geller</td>\n",
       "      <td>I've never loved anybody as much as I love you.</td>\n",
       "    </tr>\n",
       "    <tr>\n",
       "      <th>5611</th>\n",
       "      <td>Rachel Green</td>\n",
       "      <td>Joey Tribbiani</td>\n",
       "      <td>And I'm in it? Then let me read it.</td>\n",
       "    </tr>\n",
       "    <tr>\n",
       "      <th>22331</th>\n",
       "      <td>Joey Tribbiani</td>\n",
       "      <td>Joey Tribbiani</td>\n",
       "      <td>Yeah, I gotta go! I got an acting job. Like yo...</td>\n",
       "    </tr>\n",
       "    <tr>\n",
       "      <th>18609</th>\n",
       "      <td>Monica Geller</td>\n",
       "      <td>Phoebe Buffay</td>\n",
       "      <td>Great. So the ball is in his court?</td>\n",
       "    </tr>\n",
       "    <tr>\n",
       "      <th>23737</th>\n",
       "      <td>Monica Geller</td>\n",
       "      <td>Monica Geller</td>\n",
       "      <td>Dad, please don't pick your teeth out here! Al...</td>\n",
       "    </tr>\n",
       "    <tr>\n",
       "      <th>35446</th>\n",
       "      <td>Ross Geller</td>\n",
       "      <td>Chandler Bing</td>\n",
       "      <td>Excellent! Excellent, now-now do you want anot...</td>\n",
       "    </tr>\n",
       "    <tr>\n",
       "      <th>3756</th>\n",
       "      <td>Monica Geller</td>\n",
       "      <td>Monica Geller</td>\n",
       "      <td>How are you?</td>\n",
       "    </tr>\n",
       "  </tbody>\n",
       "</table>\n",
       "</div>"
      ],
      "text/plain": [
       "               actual     predictions  \\\n",
       "8260    Monica Geller     Ross Geller   \n",
       "12970   Phoebe Buffay    Rachel Green   \n",
       "9682     Rachel Green    Rachel Green   \n",
       "22017   Monica Geller   Monica Geller   \n",
       "5611     Rachel Green  Joey Tribbiani   \n",
       "22331  Joey Tribbiani  Joey Tribbiani   \n",
       "18609   Monica Geller   Phoebe Buffay   \n",
       "23737   Monica Geller   Monica Geller   \n",
       "35446     Ross Geller   Chandler Bing   \n",
       "3756    Monica Geller   Monica Geller   \n",
       "\n",
       "                                                dialogue  \n",
       "8260                            Then what's the problem?  \n",
       "12970  Yeah, well, everybody does! I'm a really cool ...  \n",
       "9682   What? What? He's interested in you. He-he like...  \n",
       "22017    I've never loved anybody as much as I love you.  \n",
       "5611                 And I'm in it? Then let me read it.  \n",
       "22331  Yeah, I gotta go! I got an acting job. Like yo...  \n",
       "18609                Great. So the ball is in his court?  \n",
       "23737  Dad, please don't pick your teeth out here! Al...  \n",
       "35446  Excellent! Excellent, now-now do you want anot...  \n",
       "3756                                        How are you?  "
      ]
     },
     "execution_count": 90,
     "metadata": {},
     "output_type": "execute_result"
    }
   ],
   "source": [
    "df_gs = pd.DataFrame(y_test)\n",
    "df_gs['predictions'] = preds_gs \n",
    "df_gs['dialogue'] = X_test\n",
    "df_gs.rename(columns={'character': 'actual'}, inplace=True)\n",
    "df_gs.head(10)"
   ]
  },
  {
   "cell_type": "code",
   "execution_count": 91,
   "id": "922bfafc-ce2c-450b-9ba9-f6549e7c1d21",
   "metadata": {},
   "outputs": [
    {
     "data": {
      "text/plain": [
       "Rachel Green      2233\n",
       "Monica Geller     2096\n",
       "Chandler Bing     1937\n",
       "Ross Geller       1925\n",
       "Joey Tribbiani    1741\n",
       "Phoebe Buffay     1270\n",
       "Name: predictions, dtype: int64"
      ]
     },
     "execution_count": 91,
     "metadata": {},
     "output_type": "execute_result"
    }
   ],
   "source": [
    "df_gs['predictions'].value_counts()"
   ]
  },
  {
   "cell_type": "code",
   "execution_count": 92,
   "id": "80138413-be6b-457e-8625-5d2fb6c29ca3",
   "metadata": {},
   "outputs": [
    {
     "data": {
      "text/plain": [
       "Rachel Green      1991\n",
       "Ross Geller       1985\n",
       "Chandler Bing     1897\n",
       "Monica Geller     1873\n",
       "Joey Tribbiani    1800\n",
       "Phoebe Buffay     1656\n",
       "Name: actual, dtype: int64"
      ]
     },
     "execution_count": 92,
     "metadata": {},
     "output_type": "execute_result"
    }
   ],
   "source": [
    "df_gs['actual'].value_counts()"
   ]
  },
  {
   "cell_type": "code",
   "execution_count": 93,
   "id": "ec994ff6-804a-4ddd-b10f-a9fe14ac8391",
   "metadata": {},
   "outputs": [
    {
     "data": {
      "text/plain": [
       "actual         7769\n",
       "predictions    7769\n",
       "dialogue       7769\n",
       "dtype: int64"
      ]
     },
     "execution_count": 93,
     "metadata": {},
     "output_type": "execute_result"
    }
   ],
   "source": [
    "#How many rows were missclassified?\n",
    "df_gs.loc[df_params_1['actual']!= df_params_1['predictions']].count()"
   ]
  },
  {
   "cell_type": "code",
   "execution_count": 94,
   "id": "d02b01b4-82b6-4093-98c7-b33f269e16e1",
   "metadata": {},
   "outputs": [
    {
     "data": {
      "text/plain": [
       "actual         3433\n",
       "predictions    3433\n",
       "dialogue       3433\n",
       "dtype: int64"
      ]
     },
     "execution_count": 94,
     "metadata": {},
     "output_type": "execute_result"
    }
   ],
   "source": [
    "#How many rows were accurately predicted?\n",
    "df_gs.loc[df_params_1['actual']== df_params_1['predictions']].count()"
   ]
  },
  {
   "cell_type": "markdown",
   "id": "15f3c8ec-21b6-48c4-8083-3780bb404da8",
   "metadata": {},
   "source": [
    "---\n",
    "**Predicting Some Phrases**"
   ]
  },
  {
   "cell_type": "code",
   "execution_count": 95,
   "id": "e3008730-b077-49ea-a26a-369ce0fd2bbf",
   "metadata": {
    "tags": []
   },
   "outputs": [
    {
     "data": {
      "text/plain": [
       "'Joey Tribbiani'"
      ]
     },
     "execution_count": 95,
     "metadata": {},
     "output_type": "execute_result"
    }
   ],
   "source": [
    "gs_d.predict([\"How you doin'?\"])[0]"
   ]
  },
  {
   "cell_type": "code",
   "execution_count": 96,
   "id": "38de918a-2947-46cf-9a8d-1abd75efcdfd",
   "metadata": {},
   "outputs": [
    {
     "data": {
      "text/plain": [
       "'Phoebe Buffay'"
      ]
     },
     "execution_count": 96,
     "metadata": {},
     "output_type": "execute_result"
    }
   ],
   "source": [
    "gs_d.predict(['Smelly cat, smelly cat, what are they feeding you'])[0]"
   ]
  },
  {
   "cell_type": "code",
   "execution_count": 97,
   "id": "75af7808-3e53-409d-8835-f7d4ea925037",
   "metadata": {},
   "outputs": [
    {
     "data": {
      "text/plain": [
       "'Ross Geller'"
      ]
     },
     "execution_count": 97,
     "metadata": {},
     "output_type": "execute_result"
    }
   ],
   "source": [
    "gs_d.predict(['We were on a break!'])[0]"
   ]
  },
  {
   "cell_type": "markdown",
   "id": "2e889ca3-4a69-48be-a0f8-3a5e53a44e53",
   "metadata": {},
   "source": [
    "<br>\n",
    "\n",
    "---- \n",
    "### Exporting the Model Using Pickle"
   ]
  },
  {
   "cell_type": "code",
   "execution_count": 114,
   "id": "3343f07f-9824-4ac8-bbb4-029e60044a3d",
   "metadata": {},
   "outputs": [],
   "source": [
    "#Using the best model which was the \n",
    "with open('../logistic-regression.pkl', mode='wb') as pickle_out:\n",
    "    pickle.dump(gs_d, pickle_out)"
   ]
  }
 ],
 "metadata": {
  "kernelspec": {
   "display_name": "Python 3",
   "language": "python",
   "name": "python3"
  },
  "language_info": {
   "codemirror_mode": {
    "name": "ipython",
    "version": 3
   },
   "file_extension": ".py",
   "mimetype": "text/x-python",
   "name": "python",
   "nbconvert_exporter": "python",
   "pygments_lexer": "ipython3",
   "version": "3.9.7"
  }
 },
 "nbformat": 4,
 "nbformat_minor": 5
}
