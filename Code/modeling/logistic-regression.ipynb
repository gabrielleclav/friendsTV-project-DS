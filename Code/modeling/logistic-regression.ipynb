{
 "cells": [
  {
   "cell_type": "markdown",
   "id": "361ed524-f71a-4604-8699-e4f7ab4a13d1",
   "metadata": {},
   "source": [
    "# Logistic Regression Modeling"
   ]
  },
  {
   "cell_type": "code",
   "execution_count": 1,
   "id": "65764aec-164e-4090-9f4b-3ec17cf121fb",
   "metadata": {},
   "outputs": [],
   "source": [
    "#Import necessary libraries \n",
    "\n",
    "import pandas as pd\n",
    "import numpy as np\n",
    "import matplotlib.pyplot as plt\n",
    "\n",
    "from sklearn.feature_extraction.text import CountVectorizer, TfidfVectorizer\n",
    "from sklearn.model_selection import train_test_split, GridSearchCV\n",
    "from sklearn.pipeline import Pipeline\n",
    "from sklearn.linear_model import LogisticRegression\n",
    "\n",
    "from nltk.corpus import stopwords"
   ]
  },
  {
   "cell_type": "code",
   "execution_count": 2,
   "id": "e4d469b3-06c3-4882-9f41-082ec757b97f",
   "metadata": {},
   "outputs": [
    {
     "data": {
      "text/html": [
       "<div>\n",
       "<style scoped>\n",
       "    .dataframe tbody tr th:only-of-type {\n",
       "        vertical-align: middle;\n",
       "    }\n",
       "\n",
       "    .dataframe tbody tr th {\n",
       "        vertical-align: top;\n",
       "    }\n",
       "\n",
       "    .dataframe thead th {\n",
       "        text-align: right;\n",
       "    }\n",
       "</style>\n",
       "<table border=\"1\" class=\"dataframe\">\n",
       "  <thead>\n",
       "    <tr style=\"text-align: right;\">\n",
       "      <th></th>\n",
       "      <th>season</th>\n",
       "      <th>episode</th>\n",
       "      <th>character</th>\n",
       "      <th>dialogue</th>\n",
       "    </tr>\n",
       "  </thead>\n",
       "  <tbody>\n",
       "    <tr>\n",
       "      <th>0</th>\n",
       "      <td>s01</td>\n",
       "      <td>e01</td>\n",
       "      <td>Monica Geller</td>\n",
       "      <td>There's nothing to tell! He's just some guy I ...</td>\n",
       "    </tr>\n",
       "    <tr>\n",
       "      <th>1</th>\n",
       "      <td>s01</td>\n",
       "      <td>e01</td>\n",
       "      <td>Joey Tribbiani</td>\n",
       "      <td>C'mon, you're going out with the guy! There's ...</td>\n",
       "    </tr>\n",
       "    <tr>\n",
       "      <th>2</th>\n",
       "      <td>s01</td>\n",
       "      <td>e01</td>\n",
       "      <td>Chandler Bing</td>\n",
       "      <td>All right Joey, be nice. So does he have a hum...</td>\n",
       "    </tr>\n",
       "    <tr>\n",
       "      <th>3</th>\n",
       "      <td>s01</td>\n",
       "      <td>e01</td>\n",
       "      <td>Phoebe Buffay</td>\n",
       "      <td>Wait, does he eat chalk?</td>\n",
       "    </tr>\n",
       "    <tr>\n",
       "      <th>4</th>\n",
       "      <td>s01</td>\n",
       "      <td>e01</td>\n",
       "      <td>Phoebe Buffay</td>\n",
       "      <td>Just, 'cause, I don't want her to go through w...</td>\n",
       "    </tr>\n",
       "  </tbody>\n",
       "</table>\n",
       "</div>"
      ],
      "text/plain": [
       "  season episode       character  \\\n",
       "0    s01     e01   Monica Geller   \n",
       "1    s01     e01  Joey Tribbiani   \n",
       "2    s01     e01   Chandler Bing   \n",
       "3    s01     e01   Phoebe Buffay   \n",
       "4    s01     e01   Phoebe Buffay   \n",
       "\n",
       "                                            dialogue  \n",
       "0  There's nothing to tell! He's just some guy I ...  \n",
       "1  C'mon, you're going out with the guy! There's ...  \n",
       "2  All right Joey, be nice. So does he have a hum...  \n",
       "3                           Wait, does he eat chalk?  \n",
       "4  Just, 'cause, I don't want her to go through w...  "
      ]
     },
     "execution_count": 2,
     "metadata": {},
     "output_type": "execute_result"
    }
   ],
   "source": [
    "#import the dataset\n",
    "friends = pd.read_csv('../../Datasets/friends-modeling.csv')\n",
    "friends.head()"
   ]
  },
  {
   "cell_type": "code",
   "execution_count": 3,
   "id": "81ee409c-27fa-4d48-acc7-41d65654658c",
   "metadata": {},
   "outputs": [
    {
     "data": {
      "text/plain": [
       "season       0\n",
       "episode      0\n",
       "character    0\n",
       "dialogue     0\n",
       "dtype: int64"
      ]
     },
     "execution_count": 3,
     "metadata": {},
     "output_type": "execute_result"
    }
   ],
   "source": [
    "#Make sure no nulls\n",
    "friends.isnull().sum()"
   ]
  },
  {
   "cell_type": "markdown",
   "id": "82ddf537-09c0-4a14-975a-89ba3e0bd112",
   "metadata": {},
   "source": [
    "### Make X and y values "
   ]
  },
  {
   "cell_type": "code",
   "execution_count": 4,
   "id": "bc182822-3146-4fa8-9486-d1fb26a311e6",
   "metadata": {},
   "outputs": [],
   "source": [
    "X = friends['dialogue']\n",
    "y = friends['character']"
   ]
  },
  {
   "cell_type": "markdown",
   "id": "fb02a344-1345-46ad-9050-a446f0fb8386",
   "metadata": {},
   "source": [
    "### Split into Train and Test"
   ]
  },
  {
   "cell_type": "code",
   "execution_count": 5,
   "id": "21dfe02b-81cc-45b4-95ef-cb19f1047b01",
   "metadata": {},
   "outputs": [],
   "source": [
    "X_train, X_test, y_train, y_test = train_test_split(X, y, random_state=42, stratify=y)"
   ]
  },
  {
   "cell_type": "code",
   "execution_count": 6,
   "id": "7107040a-35ea-4225-a96f-e48abc85bd2d",
   "metadata": {},
   "outputs": [
    {
     "data": {
      "text/plain": [
       "(33604,)"
      ]
     },
     "execution_count": 6,
     "metadata": {},
     "output_type": "execute_result"
    }
   ],
   "source": [
    "X_train.shape"
   ]
  },
  {
   "cell_type": "code",
   "execution_count": 7,
   "id": "d108a4d7-0d48-4b7f-a5af-c79cb8c3f57e",
   "metadata": {},
   "outputs": [
    {
     "data": {
      "text/plain": [
       "(33604,)"
      ]
     },
     "execution_count": 7,
     "metadata": {},
     "output_type": "execute_result"
    }
   ],
   "source": [
    "y_train.shape"
   ]
  },
  {
   "cell_type": "code",
   "execution_count": 8,
   "id": "a114fc8c-87f1-42f3-9750-55cf47370a98",
   "metadata": {},
   "outputs": [
    {
     "data": {
      "text/plain": [
       "(11202,)"
      ]
     },
     "execution_count": 8,
     "metadata": {},
     "output_type": "execute_result"
    }
   ],
   "source": [
    "X_test.shape"
   ]
  },
  {
   "cell_type": "code",
   "execution_count": 9,
   "id": "15a3689f-0f92-4b0a-84fb-8c92841c0113",
   "metadata": {},
   "outputs": [
    {
     "data": {
      "text/plain": [
       "(11202,)"
      ]
     },
     "execution_count": 9,
     "metadata": {},
     "output_type": "execute_result"
    }
   ],
   "source": [
    "y_test.shape"
   ]
  },
  {
   "cell_type": "markdown",
   "id": "bf17f567-5391-43ce-9c2b-d2cb4b4f1224",
   "metadata": {},
   "source": [
    "### Baseline Accuracy "
   ]
  },
  {
   "cell_type": "code",
   "execution_count": 10,
   "id": "19906d7e-5bea-44ad-b2b6-e2c593e077b0",
   "metadata": {},
   "outputs": [
    {
     "data": {
      "text/plain": [
       "Rachel Green      0.177657\n",
       "Ross Geller       0.177152\n",
       "Chandler Bing     0.169355\n",
       "Monica Geller     0.167242\n",
       "Joey Tribbiani    0.160725\n",
       "Phoebe Buffay     0.147869\n",
       "Name: character, dtype: float64"
      ]
     },
     "execution_count": 10,
     "metadata": {},
     "output_type": "execute_result"
    }
   ],
   "source": [
    "y_train.value_counts(normalize=True)"
   ]
  },
  {
   "cell_type": "markdown",
   "id": "f0f89edc-823e-4c74-9bfd-fa58bd2a7aae",
   "metadata": {},
   "source": [
    "### Instaniating Count Vectorizer, Fit and Transform "
   ]
  },
  {
   "cell_type": "code",
   "execution_count": 11,
   "id": "92382e27-a222-450c-ad35-1942e58c5603",
   "metadata": {},
   "outputs": [],
   "source": [
    "cv = CountVectorizer()"
   ]
  },
  {
   "cell_type": "code",
   "execution_count": 12,
   "id": "1abc96f4-4a0e-41ba-ace1-239b613de292",
   "metadata": {},
   "outputs": [
    {
     "data": {
      "text/plain": [
       "CountVectorizer()"
      ]
     },
     "execution_count": 12,
     "metadata": {},
     "output_type": "execute_result"
    }
   ],
   "source": [
    "cv.fit(X_train)"
   ]
  },
  {
   "cell_type": "code",
   "execution_count": 13,
   "id": "5370a951-8bed-46ad-9541-bdb0bf7cd483",
   "metadata": {},
   "outputs": [],
   "source": [
    "X_train_cv = cv.transform(X_train)\n",
    "X_test_cv = cv.transform(X_test)"
   ]
  },
  {
   "cell_type": "markdown",
   "id": "0ca6924a-a9ba-4862-ade1-3cef58ad0e04",
   "metadata": {},
   "source": [
    "### Modeling "
   ]
  },
  {
   "cell_type": "code",
   "execution_count": 14,
   "id": "8af2e73d-96af-465a-a009-3ab1b9033e82",
   "metadata": {},
   "outputs": [],
   "source": [
    "logreg = LogisticRegression(max_iter=1000, random_state=42)"
   ]
  },
  {
   "cell_type": "code",
   "execution_count": 16,
   "id": "29d0e599-ba5e-4b4e-9411-b51688336d40",
   "metadata": {},
   "outputs": [
    {
     "data": {
      "text/plain": [
       "LogisticRegression(max_iter=1000, random_state=42)"
      ]
     },
     "execution_count": 16,
     "metadata": {},
     "output_type": "execute_result"
    }
   ],
   "source": [
    "logreg.fit(X_train_cv, y_train)"
   ]
  },
  {
   "cell_type": "code",
   "execution_count": 18,
   "id": "2efd9f76-5a0b-4943-97bc-d298246d16f7",
   "metadata": {},
   "outputs": [
    {
     "data": {
      "text/plain": [
       "(0.5459469110820141, 0.3064631315836458)"
      ]
     },
     "execution_count": 18,
     "metadata": {},
     "output_type": "execute_result"
    }
   ],
   "source": [
    "logreg.score(X_train_cv, y_train), logreg.score(X_test_cv, y_test)"
   ]
  },
  {
   "cell_type": "code",
   "execution_count": 20,
   "id": "68f69c94-1c8f-4b2f-83c9-769683a9e8e9",
   "metadata": {},
   "outputs": [],
   "source": [
    "preds_1 = logreg.predict(X_test_cv)"
   ]
  },
  {
   "cell_type": "code",
   "execution_count": 21,
   "id": "fe140626-f3d7-47cb-9b84-0985a57b0f41",
   "metadata": {},
   "outputs": [
    {
     "data": {
      "text/html": [
       "<div>\n",
       "<style scoped>\n",
       "    .dataframe tbody tr th:only-of-type {\n",
       "        vertical-align: middle;\n",
       "    }\n",
       "\n",
       "    .dataframe tbody tr th {\n",
       "        vertical-align: top;\n",
       "    }\n",
       "\n",
       "    .dataframe thead th {\n",
       "        text-align: right;\n",
       "    }\n",
       "</style>\n",
       "<table border=\"1\" class=\"dataframe\">\n",
       "  <thead>\n",
       "    <tr style=\"text-align: right;\">\n",
       "      <th></th>\n",
       "      <th>actual</th>\n",
       "      <th>predictions</th>\n",
       "      <th>dialogue</th>\n",
       "    </tr>\n",
       "  </thead>\n",
       "  <tbody>\n",
       "    <tr>\n",
       "      <th>8260</th>\n",
       "      <td>Monica Geller</td>\n",
       "      <td>Ross Geller</td>\n",
       "      <td>Then what's the problem?</td>\n",
       "    </tr>\n",
       "    <tr>\n",
       "      <th>12970</th>\n",
       "      <td>Phoebe Buffay</td>\n",
       "      <td>Rachel Green</td>\n",
       "      <td>Yeah, well, everybody does! I'm a really cool ...</td>\n",
       "    </tr>\n",
       "    <tr>\n",
       "      <th>9682</th>\n",
       "      <td>Rachel Green</td>\n",
       "      <td>Rachel Green</td>\n",
       "      <td>What? What? He's interested in you. He-he like...</td>\n",
       "    </tr>\n",
       "    <tr>\n",
       "      <th>22017</th>\n",
       "      <td>Monica Geller</td>\n",
       "      <td>Monica Geller</td>\n",
       "      <td>I've never loved anybody as much as I love you.</td>\n",
       "    </tr>\n",
       "    <tr>\n",
       "      <th>5611</th>\n",
       "      <td>Rachel Green</td>\n",
       "      <td>Joey Tribbiani</td>\n",
       "      <td>And I'm in it? Then let me read it.</td>\n",
       "    </tr>\n",
       "    <tr>\n",
       "      <th>22331</th>\n",
       "      <td>Joey Tribbiani</td>\n",
       "      <td>Joey Tribbiani</td>\n",
       "      <td>Yeah, I gotta go! I got an acting job. Like yo...</td>\n",
       "    </tr>\n",
       "    <tr>\n",
       "      <th>18609</th>\n",
       "      <td>Monica Geller</td>\n",
       "      <td>Phoebe Buffay</td>\n",
       "      <td>Great. So the ball is in his court?</td>\n",
       "    </tr>\n",
       "    <tr>\n",
       "      <th>23737</th>\n",
       "      <td>Monica Geller</td>\n",
       "      <td>Monica Geller</td>\n",
       "      <td>Dad, please don't pick your teeth out here! Al...</td>\n",
       "    </tr>\n",
       "    <tr>\n",
       "      <th>35446</th>\n",
       "      <td>Ross Geller</td>\n",
       "      <td>Chandler Bing</td>\n",
       "      <td>Excellent! Excellent, now-now do you want anot...</td>\n",
       "    </tr>\n",
       "    <tr>\n",
       "      <th>3756</th>\n",
       "      <td>Monica Geller</td>\n",
       "      <td>Monica Geller</td>\n",
       "      <td>How are you?</td>\n",
       "    </tr>\n",
       "  </tbody>\n",
       "</table>\n",
       "</div>"
      ],
      "text/plain": [
       "               actual     predictions  \\\n",
       "8260    Monica Geller     Ross Geller   \n",
       "12970   Phoebe Buffay    Rachel Green   \n",
       "9682     Rachel Green    Rachel Green   \n",
       "22017   Monica Geller   Monica Geller   \n",
       "5611     Rachel Green  Joey Tribbiani   \n",
       "22331  Joey Tribbiani  Joey Tribbiani   \n",
       "18609   Monica Geller   Phoebe Buffay   \n",
       "23737   Monica Geller   Monica Geller   \n",
       "35446     Ross Geller   Chandler Bing   \n",
       "3756    Monica Geller   Monica Geller   \n",
       "\n",
       "                                                dialogue  \n",
       "8260                            Then what's the problem?  \n",
       "12970  Yeah, well, everybody does! I'm a really cool ...  \n",
       "9682   What? What? He's interested in you. He-he like...  \n",
       "22017    I've never loved anybody as much as I love you.  \n",
       "5611                 And I'm in it? Then let me read it.  \n",
       "22331  Yeah, I gotta go! I got an acting job. Like yo...  \n",
       "18609                Great. So the ball is in his court?  \n",
       "23737  Dad, please don't pick your teeth out here! Al...  \n",
       "35446  Excellent! Excellent, now-now do you want anot...  \n",
       "3756                                        How are you?  "
      ]
     },
     "execution_count": 21,
     "metadata": {},
     "output_type": "execute_result"
    }
   ],
   "source": [
    "df_params_1 = pd.DataFrame(y_test)\n",
    "df_params_1['predictions'] = preds_1 \n",
    "df_params_1['dialogue'] = X_test\n",
    "df_params_1.rename(columns={'character': 'actual'}, inplace=True)\n",
    "df_params_1.head(10)"
   ]
  },
  {
   "cell_type": "code",
   "execution_count": 23,
   "id": "269bd700-b2e5-4d0d-8d28-439d1b9fd380",
   "metadata": {},
   "outputs": [
    {
     "data": {
      "text/plain": [
       "actual         7769\n",
       "predictions    7769\n",
       "dialogue       7769\n",
       "dtype: int64"
      ]
     },
     "execution_count": 23,
     "metadata": {},
     "output_type": "execute_result"
    }
   ],
   "source": [
    "df_params_1.loc[df_params_1['actual']!= df_params_1['predictions']].count()"
   ]
  },
  {
   "cell_type": "code",
   "execution_count": 24,
   "id": "b6f6a6c1-6af2-490f-aeca-e23bb1725134",
   "metadata": {},
   "outputs": [
    {
     "data": {
      "text/plain": [
       "actual         3433\n",
       "predictions    3433\n",
       "dialogue       3433\n",
       "dtype: int64"
      ]
     },
     "execution_count": 24,
     "metadata": {},
     "output_type": "execute_result"
    }
   ],
   "source": [
    "df_params_1.loc[df_params_1['actual']== df_params_1['predictions']].count()"
   ]
  },
  {
   "cell_type": "markdown",
   "id": "54ab512d-f638-4fdd-8c5f-9987c458d042",
   "metadata": {},
   "source": [
    "### Setting up a Pipe for all Logisitic Regression Modeling"
   ]
  },
  {
   "cell_type": "code",
   "execution_count": 28,
   "id": "39b22299-430f-425f-a1d2-2d6426c8d20b",
   "metadata": {},
   "outputs": [],
   "source": [
    "pipe = Pipeline(steps=[('cv', CountVectorizer()),\n",
    "                      ('log', LogisticRegression(random_state=42))])"
   ]
  },
  {
   "cell_type": "markdown",
   "id": "d21bb184-6124-4e72-8480-459bde79d360",
   "metadata": {},
   "source": [
    "### Modeling: Basic Model with Default Parameters and using CountVectorizer"
   ]
  },
  {
   "cell_type": "code",
   "execution_count": 30,
   "id": "f2ddbba2-db57-4739-ab56-63968ae4d391",
   "metadata": {},
   "outputs": [],
   "source": [
    "grid_d = {'cv__stop_words':[None, 'english'],\n",
    "         'log__max_iter': [1000]}"
   ]
  },
  {
   "cell_type": "code",
   "execution_count": 31,
   "id": "8facfd89-db44-4e16-95d9-46beaefb2b0d",
   "metadata": {},
   "outputs": [
    {
     "data": {
      "text/plain": [
       "GridSearchCV(estimator=Pipeline(steps=[('cv', CountVectorizer()),\n",
       "                                       ('log',\n",
       "                                        LogisticRegression(random_state=42))]),\n",
       "             param_grid={'cv__stop_words': [None, 'english'],\n",
       "                         'log__max_iter': [1000]})"
      ]
     },
     "execution_count": 31,
     "metadata": {},
     "output_type": "execute_result"
    }
   ],
   "source": [
    "# Instaniate a gridSearch object \n",
    "gs_d = GridSearchCV(estimator=pipe, param_grid=grid_d)\n",
    "gs_d.fit(X_train, y_train)"
   ]
  },
  {
   "cell_type": "code",
   "execution_count": 32,
   "id": "858d2b4d-7146-402c-9e63-cdbb95326d79",
   "metadata": {},
   "outputs": [
    {
     "data": {
      "text/plain": [
       "{'cv__stop_words': None, 'log__max_iter': 1000}"
      ]
     },
     "execution_count": 32,
     "metadata": {},
     "output_type": "execute_result"
    }
   ],
   "source": [
    "gs_d.best_params_"
   ]
  },
  {
   "cell_type": "code",
   "execution_count": 36,
   "id": "dd17f50c-9dd3-4707-a2ed-c6ea2c3211f1",
   "metadata": {},
   "outputs": [
    {
     "data": {
      "text/plain": [
       "(0.5136202952796839, 0.29730994152046786)"
      ]
     },
     "execution_count": 36,
     "metadata": {},
     "output_type": "execute_result"
    }
   ],
   "source": [
    "gs_d.score(X_train, y_train), gs_d.score(X_test, y_test)"
   ]
  },
  {
   "cell_type": "code",
   "execution_count": null,
   "id": "22b5ca67-0d6a-4c08-98b9-4e4732661f90",
   "metadata": {},
   "outputs": [],
   "source": []
  }
 ],
 "metadata": {
  "kernelspec": {
   "display_name": "Python 3",
   "language": "python",
   "name": "python3"
  },
  "language_info": {
   "codemirror_mode": {
    "name": "ipython",
    "version": 3
   },
   "file_extension": ".py",
   "mimetype": "text/x-python",
   "name": "python",
   "nbconvert_exporter": "python",
   "pygments_lexer": "ipython3",
   "version": "3.9.7"
  }
 },
 "nbformat": 4,
 "nbformat_minor": 5
}
