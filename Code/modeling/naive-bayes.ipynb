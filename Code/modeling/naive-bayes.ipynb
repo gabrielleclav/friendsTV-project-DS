{
 "cells": [
  {
   "cell_type": "markdown",
   "id": "2cb56614-633b-46a9-a9f1-7a8c4a88a6b3",
   "metadata": {},
   "source": [
    "# Naïve Bayes Modeling"
   ]
  },
  {
   "cell_type": "markdown",
   "id": "011bb58b-c444-4612-8ae7-76aae0256a0e",
   "metadata": {},
   "source": [
    "## Predicting the Character"
   ]
  },
  {
   "cell_type": "code",
   "execution_count": 1,
   "id": "c7052249-97d4-4abf-af00-d2571133d2b9",
   "metadata": {},
   "outputs": [],
   "source": [
    "#Importing necessary Libraries \n",
    "import numpy as np\n",
    "import pandas as pd \n",
    "import matplotlib.pyplot as plt\n",
    "\n",
    "#Import Naive Bayes \n",
    "from sklearn.naive_bayes import MultinomialNB\n",
    "\n",
    "#Other libraries needed \n",
    "from sklearn.metrics import (plot_confusion_matrix, accuracy_score, \n",
    "                             f1_score, classification_report)\n",
    "from sklearn.feature_extraction.text import CountVectorizer, TfidfVectorizer\n",
    "from sklearn.model_selection import train_test_split, GridSearchCV\n",
    "from sklearn.pipeline import Pipeline\n",
    "from nltk.corpus import stopwords"
   ]
  },
  {
   "cell_type": "code",
   "execution_count": 2,
   "id": "f085bcf3-3cb2-473b-a1dc-2e4b11d374d8",
   "metadata": {},
   "outputs": [
    {
     "data": {
      "text/html": [
       "<div>\n",
       "<style scoped>\n",
       "    .dataframe tbody tr th:only-of-type {\n",
       "        vertical-align: middle;\n",
       "    }\n",
       "\n",
       "    .dataframe tbody tr th {\n",
       "        vertical-align: top;\n",
       "    }\n",
       "\n",
       "    .dataframe thead th {\n",
       "        text-align: right;\n",
       "    }\n",
       "</style>\n",
       "<table border=\"1\" class=\"dataframe\">\n",
       "  <thead>\n",
       "    <tr style=\"text-align: right;\">\n",
       "      <th></th>\n",
       "      <th>season</th>\n",
       "      <th>episode</th>\n",
       "      <th>character</th>\n",
       "      <th>dialogue</th>\n",
       "    </tr>\n",
       "  </thead>\n",
       "  <tbody>\n",
       "    <tr>\n",
       "      <th>0</th>\n",
       "      <td>s01</td>\n",
       "      <td>e01</td>\n",
       "      <td>Monica Geller</td>\n",
       "      <td>There's nothing to tell! He's just some guy I ...</td>\n",
       "    </tr>\n",
       "    <tr>\n",
       "      <th>1</th>\n",
       "      <td>s01</td>\n",
       "      <td>e01</td>\n",
       "      <td>Joey Tribbiani</td>\n",
       "      <td>C'mon, you're going out with the guy! There's ...</td>\n",
       "    </tr>\n",
       "    <tr>\n",
       "      <th>2</th>\n",
       "      <td>s01</td>\n",
       "      <td>e01</td>\n",
       "      <td>Chandler Bing</td>\n",
       "      <td>All right Joey, be nice. So does he have a hum...</td>\n",
       "    </tr>\n",
       "    <tr>\n",
       "      <th>3</th>\n",
       "      <td>s01</td>\n",
       "      <td>e01</td>\n",
       "      <td>Phoebe Buffay</td>\n",
       "      <td>Wait, does he eat chalk?</td>\n",
       "    </tr>\n",
       "    <tr>\n",
       "      <th>4</th>\n",
       "      <td>s01</td>\n",
       "      <td>e01</td>\n",
       "      <td>Phoebe Buffay</td>\n",
       "      <td>Just, 'cause, I don't want her to go through w...</td>\n",
       "    </tr>\n",
       "  </tbody>\n",
       "</table>\n",
       "</div>"
      ],
      "text/plain": [
       "  season episode       character  \\\n",
       "0    s01     e01   Monica Geller   \n",
       "1    s01     e01  Joey Tribbiani   \n",
       "2    s01     e01   Chandler Bing   \n",
       "3    s01     e01   Phoebe Buffay   \n",
       "4    s01     e01   Phoebe Buffay   \n",
       "\n",
       "                                            dialogue  \n",
       "0  There's nothing to tell! He's just some guy I ...  \n",
       "1  C'mon, you're going out with the guy! There's ...  \n",
       "2  All right Joey, be nice. So does he have a hum...  \n",
       "3                           Wait, does he eat chalk?  \n",
       "4  Just, 'cause, I don't want her to go through w...  "
      ]
     },
     "execution_count": 2,
     "metadata": {},
     "output_type": "execute_result"
    }
   ],
   "source": [
    "#import the dataset\n",
    "friends = pd.read_csv('../../Datasets/friends-modeling.csv')\n",
    "friends.head()"
   ]
  },
  {
   "cell_type": "code",
   "execution_count": 3,
   "id": "cecb901d-8835-492f-8e5c-3e08c272586c",
   "metadata": {},
   "outputs": [
    {
     "data": {
      "text/plain": [
       "season       0\n",
       "episode      0\n",
       "character    0\n",
       "dialogue     0\n",
       "dtype: int64"
      ]
     },
     "execution_count": 3,
     "metadata": {},
     "output_type": "execute_result"
    }
   ],
   "source": [
    "#Make sure no nulls\n",
    "friends.isnull().sum()"
   ]
  },
  {
   "cell_type": "markdown",
   "id": "bc9ccdfd-a828-467b-9afc-2f00a2301cef",
   "metadata": {},
   "source": [
    "### Make X and y values "
   ]
  },
  {
   "cell_type": "code",
   "execution_count": 4,
   "id": "f8a345a9-99cc-499c-a772-1a1666fe51e0",
   "metadata": {},
   "outputs": [],
   "source": [
    "X = friends['dialogue']\n",
    "y = friends['character']"
   ]
  },
  {
   "cell_type": "markdown",
   "id": "68fdddc7-28a9-47e6-b966-2b7d6b01af3d",
   "metadata": {},
   "source": [
    "### Split into Train and Test"
   ]
  },
  {
   "cell_type": "code",
   "execution_count": 5,
   "id": "e36d1371-f10b-4399-bd96-5c0617544a47",
   "metadata": {},
   "outputs": [],
   "source": [
    "X_train, X_test, y_train, y_test = train_test_split(X, y, random_state=42, stratify=y)"
   ]
  },
  {
   "cell_type": "code",
   "execution_count": 6,
   "id": "d44a923c-6443-4070-924d-3f8333913da0",
   "metadata": {},
   "outputs": [
    {
     "data": {
      "text/plain": [
       "(38472,)"
      ]
     },
     "execution_count": 6,
     "metadata": {},
     "output_type": "execute_result"
    }
   ],
   "source": [
    "X_train.shape"
   ]
  },
  {
   "cell_type": "code",
   "execution_count": 7,
   "id": "def7d1b0-a1f5-43ae-9f96-eedcca145458",
   "metadata": {},
   "outputs": [
    {
     "data": {
      "text/plain": [
       "(38472,)"
      ]
     },
     "execution_count": 7,
     "metadata": {},
     "output_type": "execute_result"
    }
   ],
   "source": [
    "y_train.shape"
   ]
  },
  {
   "cell_type": "code",
   "execution_count": 8,
   "id": "8e8d00ab-097c-447b-bb84-aed6c38c3931",
   "metadata": {},
   "outputs": [
    {
     "data": {
      "text/plain": [
       "(12825,)"
      ]
     },
     "execution_count": 8,
     "metadata": {},
     "output_type": "execute_result"
    }
   ],
   "source": [
    "X_test.shape"
   ]
  },
  {
   "cell_type": "code",
   "execution_count": 9,
   "id": "501d3c6e-f866-4115-8649-8aa81b42ea63",
   "metadata": {},
   "outputs": [
    {
     "data": {
      "text/plain": [
       "(12825,)"
      ]
     },
     "execution_count": 9,
     "metadata": {},
     "output_type": "execute_result"
    }
   ],
   "source": [
    "y_test.shape"
   ]
  },
  {
   "cell_type": "markdown",
   "id": "50fb21c3-882f-4f0e-99cf-44196612da96",
   "metadata": {},
   "source": [
    "### Baseline Accuracy "
   ]
  },
  {
   "cell_type": "code",
   "execution_count": 10,
   "id": "a73578c3-1b1b-4f77-a3c0-745df1ab5ce1",
   "metadata": {},
   "outputs": [
    {
     "data": {
      "text/plain": [
       "Rachel Green      0.181847\n",
       "Ross Geller       0.178571\n",
       "Chandler Bing     0.167031\n",
       "Monica Geller     0.165627\n",
       "Joey Tribbiani    0.160012\n",
       "Phoebe Buffay     0.146912\n",
       "Name: character, dtype: float64"
      ]
     },
     "execution_count": 10,
     "metadata": {},
     "output_type": "execute_result"
    }
   ],
   "source": [
    "y_train.value_counts(normalize=True)"
   ]
  },
  {
   "cell_type": "markdown",
   "id": "d042b4c2-61ed-4901-8ccb-b74b5d22a055",
   "metadata": {},
   "source": [
    "### Setting up a Pipe for all Naïve Bayes Modeling"
   ]
  },
  {
   "cell_type": "code",
   "execution_count": 11,
   "id": "31797e86-c250-45ba-8c8a-3e87c4a3443a",
   "metadata": {},
   "outputs": [],
   "source": [
    "# Get the same accuracy and scores \n",
    "np.random.seed(42)"
   ]
  },
  {
   "cell_type": "code",
   "execution_count": 12,
   "id": "b03bd753-dd24-49c2-8a3c-7b4567096403",
   "metadata": {},
   "outputs": [],
   "source": [
    "pipe = Pipeline(steps=[('cv', CountVectorizer()),\n",
    "                       ('mnb', MultinomialNB())\n",
    "                      ])"
   ]
  },
  {
   "cell_type": "markdown",
   "id": "5a24f845-7655-4382-9ea0-ecf95e3a6e8b",
   "metadata": {},
   "source": [
    "### Modeling: Basic Model with Default Parameters and using CountVectorizer"
   ]
  },
  {
   "cell_type": "code",
   "execution_count": 32,
   "id": "1533733a-cf20-432d-a770-c78239b62fd4",
   "metadata": {},
   "outputs": [],
   "source": [
    "grid_d = {'cv__stop_words':[None, 'english'],\n",
    "               'cv__min_df': [0, 1, 2]}"
   ]
  },
  {
   "cell_type": "code",
   "execution_count": 33,
   "id": "f5c17585-b3d6-4f44-bf30-1cff75588835",
   "metadata": {},
   "outputs": [
    {
     "data": {
      "text/plain": [
       "GridSearchCV(estimator=Pipeline(steps=[('cv', CountVectorizer()),\n",
       "                                       ('mnb', MultinomialNB())]),\n",
       "             param_grid={'cv__min_df': [0, 1, 2],\n",
       "                         'cv__stop_words': [None, 'english']})"
      ]
     },
     "execution_count": 33,
     "metadata": {},
     "output_type": "execute_result"
    }
   ],
   "source": [
    "# Instaniate a gridSearch object \n",
    "gs_d = GridSearchCV(estimator=pipe, param_grid=grid_d)\n",
    "gs_d.fit(X_train, y_train)"
   ]
  },
  {
   "cell_type": "code",
   "execution_count": 34,
   "id": "789ca48b-67ca-483b-896c-a92f3f3a2467",
   "metadata": {},
   "outputs": [
    {
     "data": {
      "text/plain": [
       "{'cv__min_df': 0, 'cv__stop_words': None}"
      ]
     },
     "execution_count": 34,
     "metadata": {},
     "output_type": "execute_result"
    }
   ],
   "source": [
    "gs_d.best_params_"
   ]
  },
  {
   "cell_type": "code",
   "execution_count": 35,
   "id": "b94624d3-3637-4ff9-ae7a-45dd78f3b01b",
   "metadata": {},
   "outputs": [
    {
     "data": {
      "text/plain": [
       "(0.45518818881264295, 0.296140350877193)"
      ]
     },
     "execution_count": 35,
     "metadata": {},
     "output_type": "execute_result"
    }
   ],
   "source": [
    "gs_d.score(X_train, y_train), gs_d.score(X_test, y_test)"
   ]
  },
  {
   "cell_type": "code",
   "execution_count": 36,
   "id": "89bd712b-6891-497f-8706-b2aa26fa34c2",
   "metadata": {},
   "outputs": [
    {
     "data": {
      "text/plain": [
       "0.29190070218340136"
      ]
     },
     "execution_count": 36,
     "metadata": {},
     "output_type": "execute_result"
    }
   ],
   "source": [
    "gs_d.best_score_"
   ]
  },
  {
   "cell_type": "code",
   "execution_count": 18,
   "id": "aa682957-7170-4bca-9398-d3154f1cf1fb",
   "metadata": {},
   "outputs": [
    {
     "data": {
      "image/png": "[encoded data removed]",
      "text/plain": [
       "<Figure size 640x480 with 2 Axes>"
      ]
     },
     "metadata": {},
     "output_type": "display_data"
    }
   ],
   "source": [
    "plot_confusion_matrix(estimator=gs_d, X = X_test, y_true=y_test)\n",
    "plt.xticks(rotation = 90)\n",
    "plt.show()"
   ]
  },
  {
   "cell_type": "code",
   "execution_count": 19,
   "id": "3c033d18-76e7-46af-98d0-7065376473ed",
   "metadata": {},
   "outputs": [],
   "source": [
    "preds_d = gs_d.predict(X_test)"
   ]
  },
  {
   "cell_type": "code",
   "execution_count": 20,
   "id": "fd2463d3-b1be-4d19-9458-3aeec5ece712",
   "metadata": {},
   "outputs": [
    {
     "name": "stdout",
     "output_type": "stream",
     "text": [
      "                precision    recall  f1-score   support\n",
      "\n",
      " Chandler Bing       0.28      0.20      0.23      2142\n",
      "Joey Tribbiani       0.31      0.35      0.33      2052\n",
      " Monica Geller       0.29      0.23      0.25      2125\n",
      " Phoebe Buffay       0.37      0.19      0.25      1884\n",
      "  Rachel Green       0.28      0.49      0.35      2332\n",
      "   Ross Geller       0.30      0.30      0.30      2290\n",
      "\n",
      "      accuracy                           0.30     12825\n",
      "     macro avg       0.30      0.29      0.29     12825\n",
      "  weighted avg       0.30      0.30      0.29     12825\n",
      "\n"
     ]
    }
   ],
   "source": [
    "print(classification_report(y_true=y_test, y_pred=preds_d))"
   ]
  },
  {
   "cell_type": "code",
   "execution_count": 21,
   "id": "7a39d836-bf04-4f32-815e-5ec177147d4e",
   "metadata": {},
   "outputs": [
    {
     "data": {
      "text/html": [
       "<div>\n",
       "<style scoped>\n",
       "    .dataframe tbody tr th:only-of-type {\n",
       "        vertical-align: middle;\n",
       "    }\n",
       "\n",
       "    .dataframe tbody tr th {\n",
       "        vertical-align: top;\n",
       "    }\n",
       "\n",
       "    .dataframe thead th {\n",
       "        text-align: right;\n",
       "    }\n",
       "</style>\n",
       "<table border=\"1\" class=\"dataframe\">\n",
       "  <thead>\n",
       "    <tr style=\"text-align: right;\">\n",
       "      <th></th>\n",
       "      <th>actual</th>\n",
       "      <th>predictions</th>\n",
       "      <th>dialogue</th>\n",
       "    </tr>\n",
       "  </thead>\n",
       "  <tbody>\n",
       "    <tr>\n",
       "      <th>45809</th>\n",
       "      <td>Rachel Green</td>\n",
       "      <td>Monica Geller</td>\n",
       "      <td>When you're sick, you do whatever you can to m...</td>\n",
       "    </tr>\n",
       "    <tr>\n",
       "      <th>27777</th>\n",
       "      <td>Rachel Green</td>\n",
       "      <td>Rachel Green</td>\n",
       "      <td>Well then honey, buy the lamp! Hey, we have th...</td>\n",
       "    </tr>\n",
       "    <tr>\n",
       "      <th>48256</th>\n",
       "      <td>Rachel Green</td>\n",
       "      <td>Ross Geller</td>\n",
       "      <td>She's mine!</td>\n",
       "    </tr>\n",
       "    <tr>\n",
       "      <th>36522</th>\n",
       "      <td>Monica Geller</td>\n",
       "      <td>Monica Geller</td>\n",
       "      <td>Did I miss it? Rachel, I-I want you to know th...</td>\n",
       "    </tr>\n",
       "    <tr>\n",
       "      <th>6393</th>\n",
       "      <td>Phoebe Buffay</td>\n",
       "      <td>Phoebe Buffay</td>\n",
       "      <td>OK, look, see, this is him. My mother gave me ...</td>\n",
       "    </tr>\n",
       "    <tr>\n",
       "      <th>25997</th>\n",
       "      <td>Rachel Green</td>\n",
       "      <td>Chandler Bing</td>\n",
       "      <td>But y'know what, if you think it's gonna be ok...</td>\n",
       "    </tr>\n",
       "    <tr>\n",
       "      <th>16641</th>\n",
       "      <td>Chandler Bing</td>\n",
       "      <td>Ross Geller</td>\n",
       "      <td>Well, like father, like son.</td>\n",
       "    </tr>\n",
       "    <tr>\n",
       "      <th>16009</th>\n",
       "      <td>Chandler Bing</td>\n",
       "      <td>Chandler Bing</td>\n",
       "      <td>Could be Casey.</td>\n",
       "    </tr>\n",
       "    <tr>\n",
       "      <th>48797</th>\n",
       "      <td>Joey Tribbiani</td>\n",
       "      <td>Rachel Green</td>\n",
       "      <td>Oh, I know how you feel...</td>\n",
       "    </tr>\n",
       "    <tr>\n",
       "      <th>6594</th>\n",
       "      <td>Monica Geller</td>\n",
       "      <td>Chandler Bing</td>\n",
       "      <td>Bobby.</td>\n",
       "    </tr>\n",
       "  </tbody>\n",
       "</table>\n",
       "</div>"
      ],
      "text/plain": [
       "               actual    predictions  \\\n",
       "45809    Rachel Green  Monica Geller   \n",
       "27777    Rachel Green   Rachel Green   \n",
       "48256    Rachel Green    Ross Geller   \n",
       "36522   Monica Geller  Monica Geller   \n",
       "6393    Phoebe Buffay  Phoebe Buffay   \n",
       "25997    Rachel Green  Chandler Bing   \n",
       "16641   Chandler Bing    Ross Geller   \n",
       "16009   Chandler Bing  Chandler Bing   \n",
       "48797  Joey Tribbiani   Rachel Green   \n",
       "6594    Monica Geller  Chandler Bing   \n",
       "\n",
       "                                                dialogue  \n",
       "45809  When you're sick, you do whatever you can to m...  \n",
       "27777  Well then honey, buy the lamp! Hey, we have th...  \n",
       "48256                                        She's mine!  \n",
       "36522  Did I miss it? Rachel, I-I want you to know th...  \n",
       "6393   OK, look, see, this is him. My mother gave me ...  \n",
       "25997  But y'know what, if you think it's gonna be ok...  \n",
       "16641                       Well, like father, like son.  \n",
       "16009                                    Could be Casey.  \n",
       "48797                         Oh, I know how you feel...  \n",
       "6594                                              Bobby.  "
      ]
     },
     "execution_count": 21,
     "metadata": {},
     "output_type": "execute_result"
    }
   ],
   "source": [
    "nb_d = pd.DataFrame(y_test)\n",
    "\n",
    "nb_d['predictions'] = preds_d\n",
    "\n",
    "nb_d['dialogue'] = X_test\n",
    "\n",
    "nb_d.rename(columns={'character': 'actual'}, inplace=True)\n",
    "nb_d.head(10)"
   ]
  },
  {
   "cell_type": "code",
   "execution_count": 22,
   "id": "e5418fd4-a365-4548-beea-3cacfa0c39d0",
   "metadata": {},
   "outputs": [
    {
     "data": {
      "text/plain": [
       "actual         9027\n",
       "predictions    9027\n",
       "dialogue       9027\n",
       "dtype: int64"
      ]
     },
     "execution_count": 22,
     "metadata": {},
     "output_type": "execute_result"
    }
   ],
   "source": [
    "nb_d.loc[nb_d['actual']!= nb_d['predictions']].count()"
   ]
  },
  {
   "cell_type": "markdown",
   "id": "b6854bdc-a479-4dbf-9d5c-6a95800204c6",
   "metadata": {},
   "source": [
    "----\n",
    "### Trying with Parameters!"
   ]
  },
  {
   "cell_type": "code",
   "execution_count": 44,
   "id": "2e42eef5-656a-46f8-a3b9-d0c6575eaa83",
   "metadata": {},
   "outputs": [],
   "source": [
    "grid_1 = {'cv__stop_words':[None, 'english'],\n",
    "          'mnb__alpha': np.linspace(0.5, 0.9, 3),\n",
    "          'mnb__fit_prior': [True, False]\n",
    "         }"
   ]
  },
  {
   "cell_type": "code",
   "execution_count": 45,
   "id": "1734c1b5-5ebb-432c-bf9b-438f0878ff4f",
   "metadata": {},
   "outputs": [
    {
     "data": {
      "text/plain": [
       "GridSearchCV(estimator=Pipeline(steps=[('cv', CountVectorizer()),\n",
       "                                       ('mnb', MultinomialNB())]),\n",
       "             param_grid={'cv__stop_words': [None, 'english'],\n",
       "                         'mnb__alpha': array([0.5, 0.7, 0.9]),\n",
       "                         'mnb__fit_prior': [True, False]})"
      ]
     },
     "execution_count": 45,
     "metadata": {},
     "output_type": "execute_result"
    }
   ],
   "source": [
    "gs_1 = GridSearchCV(estimator=pipe, param_grid=grid_1)\n",
    "gs_1.fit(X_train, y_train)"
   ]
  },
  {
   "cell_type": "code",
   "execution_count": 46,
   "id": "647d6fe8-f001-4a40-9693-32e0c3090fe2",
   "metadata": {},
   "outputs": [
    {
     "data": {
      "text/plain": [
       "{'cv__stop_words': None, 'mnb__alpha': 0.9, 'mnb__fit_prior': False}"
      ]
     },
     "execution_count": 46,
     "metadata": {},
     "output_type": "execute_result"
    }
   ],
   "source": [
    "gs_1.best_params_"
   ]
  },
  {
   "cell_type": "code",
   "execution_count": 47,
   "id": "3801f6ab-6d72-48a8-ac7b-fb518e59fc36",
   "metadata": {},
   "outputs": [
    {
     "data": {
      "text/plain": [
       "(0.45812538989394885, 0.29676413255360623)"
      ]
     },
     "execution_count": 47,
     "metadata": {},
     "output_type": "execute_result"
    }
   ],
   "source": [
    "gs_1.score(X_train, y_train), gs_1.score(X_test, y_test)"
   ]
  },
  {
   "cell_type": "code",
   "execution_count": 48,
   "id": "0f25b743-88b0-4d10-af90-a69a7d435933",
   "metadata": {},
   "outputs": [
    {
     "data": {
      "text/plain": [
       "0.293642237953914"
      ]
     },
     "execution_count": 48,
     "metadata": {},
     "output_type": "execute_result"
    }
   ],
   "source": [
    "gs_1.best_score_"
   ]
  },
  {
   "cell_type": "code",
   "execution_count": 51,
   "id": "59a836ad-b6ad-483a-af98-44d6e69cdbb2",
   "metadata": {},
   "outputs": [
    {
     "data": {
      "text/plain": [
       "array([0.5, 0.7, 0.9, 1.1, 1.3, 1.5])"
      ]
     },
     "execution_count": 51,
     "metadata": {},
     "output_type": "execute_result"
    }
   ],
   "source": [
    "np.linspace(0.5, 1.5, 6)"
   ]
  },
  {
   "cell_type": "code",
   "execution_count": 43,
   "id": "015ff0e7-eb82-4c14-8b96-c4c11dd5ef65",
   "metadata": {},
   "outputs": [
    {
     "data": {
      "text/plain": [
       "array([0.5, 0.7, 0.9])"
      ]
     },
     "execution_count": 43,
     "metadata": {},
     "output_type": "execute_result"
    }
   ],
   "source": [
    "np.linspace(0.5, 0.9, 3)"
   ]
  },
  {
   "cell_type": "markdown",
   "id": "9117c23c-4c72-44e2-88e5-c2af4b27af23",
   "metadata": {},
   "source": [
    "----\n",
    "#### More hyperparameter tuning!"
   ]
  },
  {
   "cell_type": "code",
   "execution_count": 52,
   "id": "a4d9df62-05d1-4fd8-908d-5249fdb7e9cc",
   "metadata": {},
   "outputs": [],
   "source": [
    "grid_2 = {'cv__stop_words':[None, 'english'],\n",
    "          'mnb__alpha': np.linspace(0.5, 1.5, 6),\n",
    "          'mnb__fit_prior': [True, False]\n",
    "         }"
   ]
  },
  {
   "cell_type": "code",
   "execution_count": 53,
   "id": "e7e78b99-adf8-4218-86e3-2deebd047445",
   "metadata": {},
   "outputs": [
    {
     "data": {
      "text/plain": [
       "GridSearchCV(estimator=Pipeline(steps=[('cv', CountVectorizer()),\n",
       "                                       ('mnb', MultinomialNB())]),\n",
       "             param_grid={'cv__stop_words': [None, 'english'],\n",
       "                         'mnb__alpha': array([0.5, 0.7, 0.9, 1.1, 1.3, 1.5]),\n",
       "                         'mnb__fit_prior': [True, False]})"
      ]
     },
     "execution_count": 53,
     "metadata": {},
     "output_type": "execute_result"
    }
   ],
   "source": [
    "gs_2 = GridSearchCV(estimator=pipe, param_grid=grid_2)\n",
    "gs_2.fit(X_train, y_train)"
   ]
  },
  {
   "cell_type": "code",
   "execution_count": 54,
   "id": "395d0a06-abf5-41ae-bb7a-b90a3529c5b3",
   "metadata": {},
   "outputs": [
    {
     "data": {
      "text/plain": [
       "{'cv__stop_words': None, 'mnb__alpha': 1.1, 'mnb__fit_prior': False}"
      ]
     },
     "execution_count": 54,
     "metadata": {},
     "output_type": "execute_result"
    }
   ],
   "source": [
    "gs_2.best_params_"
   ]
  },
  {
   "cell_type": "code",
   "execution_count": 55,
   "id": "743bd09b-6686-4aee-8ead-13c468a80b7b",
   "metadata": {},
   "outputs": [
    {
     "data": {
      "text/plain": [
       "(0.4538105635267207, 0.295906432748538)"
      ]
     },
     "execution_count": 55,
     "metadata": {},
     "output_type": "execute_result"
    }
   ],
   "source": [
    "gs_2.score(X_train, y_train), gs_2.score(X_test, y_test)"
   ]
  }
 ],
 "metadata": {
  "kernelspec": {
   "display_name": "Python 3",
   "language": "python",
   "name": "python3"
  },
  "language_info": {
   "codemirror_mode": {
    "name": "ipython",
    "version": 3
   },
   "file_extension": ".py",
   "mimetype": "text/x-python",
   "name": "python",
   "nbconvert_exporter": "python",
   "pygments_lexer": "ipython3",
   "version": "3.9.7"
  }
 },
 "nbformat": 4,
 "nbformat_minor": 5
}
