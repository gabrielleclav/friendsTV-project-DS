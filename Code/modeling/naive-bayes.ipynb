{
 "cells": [
  {
   "cell_type": "markdown",
   "id": "2cb56614-633b-46a9-a9f1-7a8c4a88a6b3",
   "metadata": {},
   "source": [
    "# Naïve Bayes Modeling"
   ]
  },
  {
   "cell_type": "markdown",
   "id": "011bb58b-c444-4612-8ae7-76aae0256a0e",
   "metadata": {},
   "source": [
    "## Predicting the Character"
   ]
  },
  {
   "cell_type": "code",
   "execution_count": 60,
   "id": "c7052249-97d4-4abf-af00-d2571133d2b9",
   "metadata": {},
   "outputs": [],
   "source": [
    "#Importing necessary Libraries \n",
    "import numpy as np\n",
    "import pandas as pd \n",
    "import matplotlib.pyplot as plt\n",
    "\n",
    "#Import Naive Bayes \n",
    "from sklearn.naive_bayes import MultinomialNB\n",
    "\n",
    "#Other libraries needed \n",
    "from sklearn.metrics import (plot_confusion_matrix, accuracy_score, \n",
    "                             f1_score, classification_report)\n",
    "from sklearn.feature_extraction.text import CountVectorizer\n",
    "from sklearn.model_selection import train_test_split, GridSearchCV\n",
    "from sklearn.pipeline import Pipeline\n",
    "from nltk.corpus import stopwords\n",
    "\n",
    "#For streamlit app\n",
    "import pickle"
   ]
  },
  {
   "cell_type": "code",
   "execution_count": 2,
   "id": "f085bcf3-3cb2-473b-a1dc-2e4b11d374d8",
   "metadata": {},
   "outputs": [
    {
     "data": {
      "text/html": [
       "<div>\n",
       "<style scoped>\n",
       "    .dataframe tbody tr th:only-of-type {\n",
       "        vertical-align: middle;\n",
       "    }\n",
       "\n",
       "    .dataframe tbody tr th {\n",
       "        vertical-align: top;\n",
       "    }\n",
       "\n",
       "    .dataframe thead th {\n",
       "        text-align: right;\n",
       "    }\n",
       "</style>\n",
       "<table border=\"1\" class=\"dataframe\">\n",
       "  <thead>\n",
       "    <tr style=\"text-align: right;\">\n",
       "      <th></th>\n",
       "      <th>season</th>\n",
       "      <th>episode</th>\n",
       "      <th>character</th>\n",
       "      <th>dialogue</th>\n",
       "    </tr>\n",
       "  </thead>\n",
       "  <tbody>\n",
       "    <tr>\n",
       "      <th>0</th>\n",
       "      <td>s01</td>\n",
       "      <td>e01</td>\n",
       "      <td>Monica Geller</td>\n",
       "      <td>There's nothing to tell! He's just some guy I ...</td>\n",
       "    </tr>\n",
       "    <tr>\n",
       "      <th>1</th>\n",
       "      <td>s01</td>\n",
       "      <td>e01</td>\n",
       "      <td>Joey Tribbiani</td>\n",
       "      <td>C'mon, you're going out with the guy! There's ...</td>\n",
       "    </tr>\n",
       "    <tr>\n",
       "      <th>2</th>\n",
       "      <td>s01</td>\n",
       "      <td>e01</td>\n",
       "      <td>Chandler Bing</td>\n",
       "      <td>All right Joey, be nice. So does he have a hum...</td>\n",
       "    </tr>\n",
       "    <tr>\n",
       "      <th>3</th>\n",
       "      <td>s01</td>\n",
       "      <td>e01</td>\n",
       "      <td>Phoebe Buffay</td>\n",
       "      <td>Wait, does he eat chalk?</td>\n",
       "    </tr>\n",
       "    <tr>\n",
       "      <th>4</th>\n",
       "      <td>s01</td>\n",
       "      <td>e01</td>\n",
       "      <td>Phoebe Buffay</td>\n",
       "      <td>Just, 'cause, I don't want her to go through w...</td>\n",
       "    </tr>\n",
       "  </tbody>\n",
       "</table>\n",
       "</div>"
      ],
      "text/plain": [
       "  season episode       character  \\\n",
       "0    s01     e01   Monica Geller   \n",
       "1    s01     e01  Joey Tribbiani   \n",
       "2    s01     e01   Chandler Bing   \n",
       "3    s01     e01   Phoebe Buffay   \n",
       "4    s01     e01   Phoebe Buffay   \n",
       "\n",
       "                                            dialogue  \n",
       "0  There's nothing to tell! He's just some guy I ...  \n",
       "1  C'mon, you're going out with the guy! There's ...  \n",
       "2  All right Joey, be nice. So does he have a hum...  \n",
       "3                           Wait, does he eat chalk?  \n",
       "4  Just, 'cause, I don't want her to go through w...  "
      ]
     },
     "execution_count": 2,
     "metadata": {},
     "output_type": "execute_result"
    }
   ],
   "source": [
    "#import the dataset\n",
    "friends = pd.read_csv('../../Datasets/friends-modeling.csv')\n",
    "friends.head()"
   ]
  },
  {
   "cell_type": "code",
   "execution_count": 3,
   "id": "cecb901d-8835-492f-8e5c-3e08c272586c",
   "metadata": {},
   "outputs": [
    {
     "data": {
      "text/plain": [
       "season       0\n",
       "episode      0\n",
       "character    0\n",
       "dialogue     0\n",
       "dtype: int64"
      ]
     },
     "execution_count": 3,
     "metadata": {},
     "output_type": "execute_result"
    }
   ],
   "source": [
    "#Make sure no nulls\n",
    "friends.isnull().sum()"
   ]
  },
  {
   "cell_type": "markdown",
   "id": "bc9ccdfd-a828-467b-9afc-2f00a2301cef",
   "metadata": {},
   "source": [
    "### Make X and y values "
   ]
  },
  {
   "cell_type": "code",
   "execution_count": 4,
   "id": "f8a345a9-99cc-499c-a772-1a1666fe51e0",
   "metadata": {},
   "outputs": [],
   "source": [
    "X = friends['dialogue']\n",
    "y = friends['character']"
   ]
  },
  {
   "cell_type": "markdown",
   "id": "68fdddc7-28a9-47e6-b966-2b7d6b01af3d",
   "metadata": {},
   "source": [
    "### Split into Train and Test"
   ]
  },
  {
   "cell_type": "code",
   "execution_count": 5,
   "id": "e36d1371-f10b-4399-bd96-5c0617544a47",
   "metadata": {},
   "outputs": [],
   "source": [
    "X_train, X_test, y_train, y_test = train_test_split(X, y, random_state=42, stratify=y)"
   ]
  },
  {
   "cell_type": "markdown",
   "id": "50fb21c3-882f-4f0e-99cf-44196612da96",
   "metadata": {},
   "source": [
    "### Baseline Accuracy "
   ]
  },
  {
   "cell_type": "code",
   "execution_count": 6,
   "id": "a73578c3-1b1b-4f77-a3c0-745df1ab5ce1",
   "metadata": {},
   "outputs": [
    {
     "data": {
      "text/plain": [
       "Rachel Green      0.177657\n",
       "Ross Geller       0.177152\n",
       "Chandler Bing     0.169355\n",
       "Monica Geller     0.167242\n",
       "Joey Tribbiani    0.160725\n",
       "Phoebe Buffay     0.147869\n",
       "Name: character, dtype: float64"
      ]
     },
     "execution_count": 6,
     "metadata": {},
     "output_type": "execute_result"
    }
   ],
   "source": [
    "#To compare the models to, this is the scores to beat.\n",
    "y_train.value_counts(normalize=True)"
   ]
  },
  {
   "cell_type": "markdown",
   "id": "d042b4c2-61ed-4901-8ccb-b74b5d22a055",
   "metadata": {},
   "source": [
    "### Setting up a Pipe for all Naïve Bayes Modeling"
   ]
  },
  {
   "cell_type": "code",
   "execution_count": 7,
   "id": "31797e86-c250-45ba-8c8a-3e87c4a3443a",
   "metadata": {},
   "outputs": [],
   "source": [
    "# Get the same accuracy and scores \n",
    "np.random.seed(42)"
   ]
  },
  {
   "cell_type": "code",
   "execution_count": 8,
   "id": "b03bd753-dd24-49c2-8a3c-7b4567096403",
   "metadata": {},
   "outputs": [],
   "source": [
    "pipe = Pipeline(steps=[('cv', CountVectorizer()),\n",
    "                       ('mnb', MultinomialNB())\n",
    "                      ])"
   ]
  },
  {
   "cell_type": "markdown",
   "id": "5a24f845-7655-4382-9ea0-ecf95e3a6e8b",
   "metadata": {},
   "source": [
    "### Modeling: Basic Model with Default Parameters and using CountVectorizer"
   ]
  },
  {
   "cell_type": "code",
   "execution_count": 9,
   "id": "1533733a-cf20-432d-a770-c78239b62fd4",
   "metadata": {},
   "outputs": [],
   "source": [
    "grid_d = {'cv__stop_words':[None, 'english'],\n",
    "               'cv__min_df': [0, 1, 2]}"
   ]
  },
  {
   "cell_type": "code",
   "execution_count": 10,
   "id": "f5c17585-b3d6-4f44-bf30-1cff75588835",
   "metadata": {},
   "outputs": [
    {
     "data": {
      "text/plain": [
       "GridSearchCV(estimator=Pipeline(steps=[('cv', CountVectorizer()),\n",
       "                                       ('mnb', MultinomialNB())]),\n",
       "             param_grid={'cv__min_df': [0, 1, 2],\n",
       "                         'cv__stop_words': [None, 'english']})"
      ]
     },
     "execution_count": 10,
     "metadata": {},
     "output_type": "execute_result"
    }
   ],
   "source": [
    "# Instaniate a gridSearch object \n",
    "gs_d = GridSearchCV(estimator=pipe, param_grid=grid_d)\n",
    "gs_d.fit(X_train, y_train)"
   ]
  },
  {
   "cell_type": "code",
   "execution_count": 11,
   "id": "789ca48b-67ca-483b-896c-a92f3f3a2467",
   "metadata": {},
   "outputs": [
    {
     "data": {
      "text/plain": [
       "{'cv__min_df': 0, 'cv__stop_words': None}"
      ]
     },
     "execution_count": 11,
     "metadata": {},
     "output_type": "execute_result"
    }
   ],
   "source": [
    "#What are the best parameters?\n",
    "gs_d.best_params_"
   ]
  },
  {
   "cell_type": "code",
   "execution_count": 12,
   "id": "b94624d3-3637-4ff9-ae7a-45dd78f3b01b",
   "metadata": {},
   "outputs": [
    {
     "name": "stdout",
     "output_type": "stream",
     "text": [
      "Train score: 0.479169146530175\n",
      "Test score: 0.3076236386359579\n"
     ]
    }
   ],
   "source": [
    "print(f'Train score: {gs_d.score(X_train, y_train)}\\nTest score: {gs_d.score(X_test, y_test)}')"
   ]
  },
  {
   "cell_type": "code",
   "execution_count": 13,
   "id": "aa682957-7170-4bca-9398-d3154f1cf1fb",
   "metadata": {},
   "outputs": [
    {
     "data": {
      "image/png": "[encoded data removed]",
      "text/plain": [
       "<Figure size 640x480 with 2 Axes>"
      ]
     },
     "metadata": {},
     "output_type": "display_data"
    }
   ],
   "source": [
    "#Plotting a Confusion Matrix to show a comparison between actual and predicted values.\n",
    "plot_confusion_matrix(estimator=gs_d, X = X_test, y_true=y_test)\n",
    "plt.xticks(rotation = 90)\n",
    "plt.show()"
   ]
  },
  {
   "cell_type": "markdown",
   "id": "b3963bf1-c0a9-4853-ae74-0245275e30f0",
   "metadata": {},
   "source": [
    "---\n",
    "**Making Predictions**"
   ]
  },
  {
   "cell_type": "code",
   "execution_count": 14,
   "id": "3c033d18-76e7-46af-98d0-7065376473ed",
   "metadata": {
    "tags": []
   },
   "outputs": [],
   "source": [
    "preds_d = gs_d.predict(X_test)"
   ]
  },
  {
   "cell_type": "code",
   "execution_count": 15,
   "id": "fd2463d3-b1be-4d19-9458-3aeec5ece712",
   "metadata": {},
   "outputs": [
    {
     "name": "stdout",
     "output_type": "stream",
     "text": [
      "                precision    recall  f1-score   support\n",
      "\n",
      " Chandler Bing       0.31      0.23      0.26      1897\n",
      "Joey Tribbiani       0.35      0.34      0.34      1800\n",
      " Monica Geller       0.30      0.26      0.28      1873\n",
      " Phoebe Buffay       0.35      0.22      0.27      1656\n",
      "  Rachel Green       0.29      0.47      0.36      1991\n",
      "   Ross Geller       0.30      0.30      0.30      1985\n",
      "\n",
      "      accuracy                           0.31     11202\n",
      "     macro avg       0.31      0.30      0.30     11202\n",
      "  weighted avg       0.31      0.31      0.30     11202\n",
      "\n"
     ]
    }
   ],
   "source": [
    "#Checking the precision, recall, f1-score scores\n",
    "print(classification_report(y_true=y_test, y_pred=preds_d))"
   ]
  },
  {
   "cell_type": "code",
   "execution_count": 16,
   "id": "b1703cd3-4255-4d44-a9ff-1879cc954daf",
   "metadata": {},
   "outputs": [
    {
     "data": {
      "text/plain": [
       "0.3076236386359579"
      ]
     },
     "execution_count": 16,
     "metadata": {},
     "output_type": "execute_result"
    }
   ],
   "source": [
    "#Checking the accuracy score for this model \n",
    "accuracy_score(y_true=y_test, y_pred=preds_d)"
   ]
  },
  {
   "cell_type": "markdown",
   "id": "f46cfb08-116f-4f6d-93fd-c526b46e0f76",
   "metadata": {},
   "source": [
    "---\n",
    "**Making a dataframe with actual, predictions, and dialogue**"
   ]
  },
  {
   "cell_type": "code",
   "execution_count": 17,
   "id": "7a39d836-bf04-4f32-815e-5ec177147d4e",
   "metadata": {},
   "outputs": [
    {
     "data": {
      "text/html": [
       "<div>\n",
       "<style scoped>\n",
       "    .dataframe tbody tr th:only-of-type {\n",
       "        vertical-align: middle;\n",
       "    }\n",
       "\n",
       "    .dataframe tbody tr th {\n",
       "        vertical-align: top;\n",
       "    }\n",
       "\n",
       "    .dataframe thead th {\n",
       "        text-align: right;\n",
       "    }\n",
       "</style>\n",
       "<table border=\"1\" class=\"dataframe\">\n",
       "  <thead>\n",
       "    <tr style=\"text-align: right;\">\n",
       "      <th></th>\n",
       "      <th>actual</th>\n",
       "      <th>predictions</th>\n",
       "      <th>dialogue</th>\n",
       "    </tr>\n",
       "  </thead>\n",
       "  <tbody>\n",
       "    <tr>\n",
       "      <th>8260</th>\n",
       "      <td>Monica Geller</td>\n",
       "      <td>Ross Geller</td>\n",
       "      <td>Then what's the problem?</td>\n",
       "    </tr>\n",
       "    <tr>\n",
       "      <th>12970</th>\n",
       "      <td>Phoebe Buffay</td>\n",
       "      <td>Rachel Green</td>\n",
       "      <td>Yeah, well, everybody does! I'm a really cool ...</td>\n",
       "    </tr>\n",
       "    <tr>\n",
       "      <th>9682</th>\n",
       "      <td>Rachel Green</td>\n",
       "      <td>Rachel Green</td>\n",
       "      <td>What? What? He's interested in you. He-he like...</td>\n",
       "    </tr>\n",
       "    <tr>\n",
       "      <th>22017</th>\n",
       "      <td>Monica Geller</td>\n",
       "      <td>Rachel Green</td>\n",
       "      <td>I've never loved anybody as much as I love you.</td>\n",
       "    </tr>\n",
       "    <tr>\n",
       "      <th>5611</th>\n",
       "      <td>Rachel Green</td>\n",
       "      <td>Rachel Green</td>\n",
       "      <td>And I'm in it? Then let me read it.</td>\n",
       "    </tr>\n",
       "    <tr>\n",
       "      <th>22331</th>\n",
       "      <td>Joey Tribbiani</td>\n",
       "      <td>Joey Tribbiani</td>\n",
       "      <td>Yeah, I gotta go! I got an acting job. Like yo...</td>\n",
       "    </tr>\n",
       "    <tr>\n",
       "      <th>18609</th>\n",
       "      <td>Monica Geller</td>\n",
       "      <td>Phoebe Buffay</td>\n",
       "      <td>Great. So the ball is in his court?</td>\n",
       "    </tr>\n",
       "    <tr>\n",
       "      <th>23737</th>\n",
       "      <td>Monica Geller</td>\n",
       "      <td>Monica Geller</td>\n",
       "      <td>Dad, please don't pick your teeth out here! Al...</td>\n",
       "    </tr>\n",
       "    <tr>\n",
       "      <th>35446</th>\n",
       "      <td>Ross Geller</td>\n",
       "      <td>Joey Tribbiani</td>\n",
       "      <td>Excellent! Excellent, now-now do you want anot...</td>\n",
       "    </tr>\n",
       "    <tr>\n",
       "      <th>3756</th>\n",
       "      <td>Monica Geller</td>\n",
       "      <td>Monica Geller</td>\n",
       "      <td>How are you?</td>\n",
       "    </tr>\n",
       "  </tbody>\n",
       "</table>\n",
       "</div>"
      ],
      "text/plain": [
       "               actual     predictions  \\\n",
       "8260    Monica Geller     Ross Geller   \n",
       "12970   Phoebe Buffay    Rachel Green   \n",
       "9682     Rachel Green    Rachel Green   \n",
       "22017   Monica Geller    Rachel Green   \n",
       "5611     Rachel Green    Rachel Green   \n",
       "22331  Joey Tribbiani  Joey Tribbiani   \n",
       "18609   Monica Geller   Phoebe Buffay   \n",
       "23737   Monica Geller   Monica Geller   \n",
       "35446     Ross Geller  Joey Tribbiani   \n",
       "3756    Monica Geller   Monica Geller   \n",
       "\n",
       "                                                dialogue  \n",
       "8260                            Then what's the problem?  \n",
       "12970  Yeah, well, everybody does! I'm a really cool ...  \n",
       "9682   What? What? He's interested in you. He-he like...  \n",
       "22017    I've never loved anybody as much as I love you.  \n",
       "5611                 And I'm in it? Then let me read it.  \n",
       "22331  Yeah, I gotta go! I got an acting job. Like yo...  \n",
       "18609                Great. So the ball is in his court?  \n",
       "23737  Dad, please don't pick your teeth out here! Al...  \n",
       "35446  Excellent! Excellent, now-now do you want anot...  \n",
       "3756                                        How are you?  "
      ]
     },
     "execution_count": 17,
     "metadata": {},
     "output_type": "execute_result"
    }
   ],
   "source": [
    "nb_d = pd.DataFrame(y_test)\n",
    "\n",
    "nb_d['predictions'] = preds_d\n",
    "\n",
    "nb_d['dialogue'] = X_test\n",
    "\n",
    "nb_d.rename(columns={'character': 'actual'}, inplace=True)\n",
    "nb_d.head(10)"
   ]
  },
  {
   "cell_type": "code",
   "execution_count": 18,
   "id": "c91bb86b-5560-4f23-a083-59022891ee2e",
   "metadata": {},
   "outputs": [
    {
     "data": {
      "text/plain": [
       "Rachel Green      3289\n",
       "Ross Geller       2029\n",
       "Joey Tribbiani    1781\n",
       "Monica Geller     1638\n",
       "Chandler Bing     1429\n",
       "Phoebe Buffay     1036\n",
       "Name: predictions, dtype: int64"
      ]
     },
     "execution_count": 18,
     "metadata": {},
     "output_type": "execute_result"
    }
   ],
   "source": [
    "#Checking which character was predicted the most by this model \n",
    "nb_d['predictions'].value_counts()"
   ]
  },
  {
   "cell_type": "code",
   "execution_count": 19,
   "id": "d0dbf465-443a-46b9-9ae8-cf6c39989eea",
   "metadata": {},
   "outputs": [
    {
     "data": {
      "text/plain": [
       "Rachel Green      1991\n",
       "Ross Geller       1985\n",
       "Chandler Bing     1897\n",
       "Monica Geller     1873\n",
       "Joey Tribbiani    1800\n",
       "Phoebe Buffay     1656\n",
       "Name: actual, dtype: int64"
      ]
     },
     "execution_count": 19,
     "metadata": {},
     "output_type": "execute_result"
    }
   ],
   "source": [
    "#How many times the character actually appears \n",
    "nb_d['actual'].value_counts()"
   ]
  },
  {
   "cell_type": "code",
   "execution_count": 20,
   "id": "e5418fd4-a365-4548-beea-3cacfa0c39d0",
   "metadata": {},
   "outputs": [
    {
     "data": {
      "text/plain": [
       "actual         7756\n",
       "predictions    7756\n",
       "dialogue       7756\n",
       "dtype: int64"
      ]
     },
     "execution_count": 20,
     "metadata": {},
     "output_type": "execute_result"
    }
   ],
   "source": [
    "#How many predictions were wrong?\n",
    "nb_d.loc[nb_d['actual']!= nb_d['predictions']].count()"
   ]
  },
  {
   "cell_type": "code",
   "execution_count": 21,
   "id": "200c2969-bc83-441e-90d1-9abf6028010e",
   "metadata": {},
   "outputs": [
    {
     "data": {
      "text/plain": [
       "actual         3446\n",
       "predictions    3446\n",
       "dialogue       3446\n",
       "dtype: int64"
      ]
     },
     "execution_count": 21,
     "metadata": {},
     "output_type": "execute_result"
    }
   ],
   "source": [
    "#How many were right?\n",
    "nb_d.loc[nb_d['actual']== nb_d['predictions']].count()"
   ]
  },
  {
   "cell_type": "markdown",
   "id": "a597397f-cfb9-4c93-b438-f957923b0d32",
   "metadata": {},
   "source": [
    "---\n",
    "**Predicting Some Phrases**"
   ]
  },
  {
   "cell_type": "code",
   "execution_count": 54,
   "id": "fdbc0165-b5ef-4d75-a757-344ad6579388",
   "metadata": {
    "tags": []
   },
   "outputs": [
    {
     "data": {
      "text/plain": [
       "'Joey Tribbiani'"
      ]
     },
     "execution_count": 54,
     "metadata": {},
     "output_type": "execute_result"
    }
   ],
   "source": [
    "gs_d.predict([\"How you doin'?\"])[0]"
   ]
  },
  {
   "cell_type": "code",
   "execution_count": 55,
   "id": "6fab17cd-0a20-4186-9513-e993c2275b75",
   "metadata": {},
   "outputs": [
    {
     "data": {
      "text/plain": [
       "'Phoebe Buffay'"
      ]
     },
     "execution_count": 55,
     "metadata": {},
     "output_type": "execute_result"
    }
   ],
   "source": [
    "gs_d.predict(['Smelly cat, smelly cat, what are they feeding you'])[0]"
   ]
  },
  {
   "cell_type": "code",
   "execution_count": 56,
   "id": "e55fb487-19d3-4981-b27d-24b0a53193ba",
   "metadata": {},
   "outputs": [
    {
     "data": {
      "text/plain": [
       "'Ross Geller'"
      ]
     },
     "execution_count": 56,
     "metadata": {},
     "output_type": "execute_result"
    }
   ],
   "source": [
    "gs_d.predict(['We were on a break!'])[0]"
   ]
  },
  {
   "cell_type": "markdown",
   "id": "b6854bdc-a479-4dbf-9d5c-6a95800204c6",
   "metadata": {},
   "source": [
    "----\n",
    "### Trying with Parameters!"
   ]
  },
  {
   "cell_type": "code",
   "execution_count": 22,
   "id": "2e42eef5-656a-46f8-a3b9-d0c6575eaa83",
   "metadata": {},
   "outputs": [],
   "source": [
    "grid_1 = {'cv__stop_words':[None, 'english'],\n",
    "          'mnb__alpha': np.linspace(0.5, 0.9, 3),\n",
    "          'mnb__fit_prior': [True, False]\n",
    "         }"
   ]
  },
  {
   "cell_type": "code",
   "execution_count": 23,
   "id": "1734c1b5-5ebb-432c-bf9b-438f0878ff4f",
   "metadata": {},
   "outputs": [
    {
     "data": {
      "text/plain": [
       "GridSearchCV(estimator=Pipeline(steps=[('cv', CountVectorizer()),\n",
       "                                       ('mnb', MultinomialNB())]),\n",
       "             param_grid={'cv__stop_words': [None, 'english'],\n",
       "                         'mnb__alpha': array([0.5, 0.7, 0.9]),\n",
       "                         'mnb__fit_prior': [True, False]})"
      ]
     },
     "execution_count": 23,
     "metadata": {},
     "output_type": "execute_result"
    }
   ],
   "source": [
    "gs_1 = GridSearchCV(estimator=pipe, param_grid=grid_1)\n",
    "gs_1.fit(X_train, y_train)"
   ]
  },
  {
   "cell_type": "code",
   "execution_count": 24,
   "id": "647d6fe8-f001-4a40-9693-32e0c3090fe2",
   "metadata": {},
   "outputs": [
    {
     "data": {
      "text/plain": [
       "{'cv__stop_words': None, 'mnb__alpha': 0.7, 'mnb__fit_prior': False}"
      ]
     },
     "execution_count": 24,
     "metadata": {},
     "output_type": "execute_result"
    }
   ],
   "source": [
    "gs_1.best_params_"
   ]
  },
  {
   "cell_type": "code",
   "execution_count": 25,
   "id": "3801f6ab-6d72-48a8-ac7b-fb518e59fc36",
   "metadata": {},
   "outputs": [
    {
     "name": "stdout",
     "output_type": "stream",
     "text": [
      "Train score: 0.49211403404356624\n",
      "Test score: 0.31012319228709156\n"
     ]
    }
   ],
   "source": [
    "print(f'Train score: {gs_1.score(X_train, y_train)}\\nTest score: {gs_1.score(X_test, y_test)}')"
   ]
  },
  {
   "cell_type": "code",
   "execution_count": 26,
   "id": "96b7fd4e-7212-45e8-8781-1dc74f0df1f7",
   "metadata": {},
   "outputs": [
    {
     "data": {
      "image/png": "[encoded data removed]",
      "text/plain": [
       "<Figure size 640x480 with 2 Axes>"
      ]
     },
     "metadata": {},
     "output_type": "display_data"
    }
   ],
   "source": [
    "#Plotting a Confusion Matrix to show a comparison between actual and predicted values.\n",
    "plot_confusion_matrix(estimator=gs_1, X = X_test, y_true=y_test)\n",
    "plt.xticks(rotation = 90)\n",
    "plt.show()"
   ]
  },
  {
   "cell_type": "markdown",
   "id": "e183e13c-5c6a-4eee-be22-5e7f9b683d12",
   "metadata": {},
   "source": [
    "---\n",
    "**Making Predictions**"
   ]
  },
  {
   "cell_type": "code",
   "execution_count": 27,
   "id": "9c0b77b4-efc2-48e7-b9ac-bd1786ef547e",
   "metadata": {
    "tags": []
   },
   "outputs": [],
   "source": [
    "preds_1 = gs_1.predict(X_test)"
   ]
  },
  {
   "cell_type": "code",
   "execution_count": 28,
   "id": "70e396a2-4d09-47b4-8796-2bcf2c018257",
   "metadata": {},
   "outputs": [
    {
     "name": "stdout",
     "output_type": "stream",
     "text": [
      "                precision    recall  f1-score   support\n",
      "\n",
      " Chandler Bing       0.30      0.23      0.26      1897\n",
      "Joey Tribbiani       0.34      0.37      0.35      1800\n",
      " Monica Geller       0.29      0.28      0.28      1873\n",
      " Phoebe Buffay       0.32      0.27      0.29      1656\n",
      "  Rachel Green       0.30      0.42      0.35      1991\n",
      "   Ross Geller       0.32      0.28      0.30      1985\n",
      "\n",
      "      accuracy                           0.31     11202\n",
      "     macro avg       0.31      0.31      0.31     11202\n",
      "  weighted avg       0.31      0.31      0.31     11202\n",
      "\n"
     ]
    }
   ],
   "source": [
    "#Checking the precision, recall, f1-score scores\n",
    "print(classification_report(y_true=y_test, y_pred=preds_1))"
   ]
  },
  {
   "cell_type": "code",
   "execution_count": 29,
   "id": "4c937b1f-7714-400a-b18a-bae9c33377b4",
   "metadata": {},
   "outputs": [
    {
     "data": {
      "text/plain": [
       "0.31012319228709156"
      ]
     },
     "execution_count": 29,
     "metadata": {},
     "output_type": "execute_result"
    }
   ],
   "source": [
    "#Checking the accuracy score for this model \n",
    "accuracy_score(y_true=y_test, y_pred=preds_1)"
   ]
  },
  {
   "cell_type": "markdown",
   "id": "64430377-e462-4d88-a756-ddb633ad8815",
   "metadata": {},
   "source": [
    "---\n",
    "**Making a dataframe with actual, predictions, and dialogue**"
   ]
  },
  {
   "cell_type": "code",
   "execution_count": 30,
   "id": "e922b027-aa41-4d1a-a8b4-a37aac039c34",
   "metadata": {},
   "outputs": [
    {
     "data": {
      "text/html": [
       "<div>\n",
       "<style scoped>\n",
       "    .dataframe tbody tr th:only-of-type {\n",
       "        vertical-align: middle;\n",
       "    }\n",
       "\n",
       "    .dataframe tbody tr th {\n",
       "        vertical-align: top;\n",
       "    }\n",
       "\n",
       "    .dataframe thead th {\n",
       "        text-align: right;\n",
       "    }\n",
       "</style>\n",
       "<table border=\"1\" class=\"dataframe\">\n",
       "  <thead>\n",
       "    <tr style=\"text-align: right;\">\n",
       "      <th></th>\n",
       "      <th>actual</th>\n",
       "      <th>predictions</th>\n",
       "      <th>dialogue</th>\n",
       "    </tr>\n",
       "  </thead>\n",
       "  <tbody>\n",
       "    <tr>\n",
       "      <th>8260</th>\n",
       "      <td>Monica Geller</td>\n",
       "      <td>Joey Tribbiani</td>\n",
       "      <td>Then what's the problem?</td>\n",
       "    </tr>\n",
       "    <tr>\n",
       "      <th>12970</th>\n",
       "      <td>Phoebe Buffay</td>\n",
       "      <td>Rachel Green</td>\n",
       "      <td>Yeah, well, everybody does! I'm a really cool ...</td>\n",
       "    </tr>\n",
       "    <tr>\n",
       "      <th>9682</th>\n",
       "      <td>Rachel Green</td>\n",
       "      <td>Rachel Green</td>\n",
       "      <td>What? What? He's interested in you. He-he like...</td>\n",
       "    </tr>\n",
       "    <tr>\n",
       "      <th>22017</th>\n",
       "      <td>Monica Geller</td>\n",
       "      <td>Monica Geller</td>\n",
       "      <td>I've never loved anybody as much as I love you.</td>\n",
       "    </tr>\n",
       "    <tr>\n",
       "      <th>5611</th>\n",
       "      <td>Rachel Green</td>\n",
       "      <td>Rachel Green</td>\n",
       "      <td>And I'm in it? Then let me read it.</td>\n",
       "    </tr>\n",
       "    <tr>\n",
       "      <th>22331</th>\n",
       "      <td>Joey Tribbiani</td>\n",
       "      <td>Joey Tribbiani</td>\n",
       "      <td>Yeah, I gotta go! I got an acting job. Like yo...</td>\n",
       "    </tr>\n",
       "    <tr>\n",
       "      <th>18609</th>\n",
       "      <td>Monica Geller</td>\n",
       "      <td>Phoebe Buffay</td>\n",
       "      <td>Great. So the ball is in his court?</td>\n",
       "    </tr>\n",
       "    <tr>\n",
       "      <th>23737</th>\n",
       "      <td>Monica Geller</td>\n",
       "      <td>Monica Geller</td>\n",
       "      <td>Dad, please don't pick your teeth out here! Al...</td>\n",
       "    </tr>\n",
       "    <tr>\n",
       "      <th>35446</th>\n",
       "      <td>Ross Geller</td>\n",
       "      <td>Joey Tribbiani</td>\n",
       "      <td>Excellent! Excellent, now-now do you want anot...</td>\n",
       "    </tr>\n",
       "    <tr>\n",
       "      <th>3756</th>\n",
       "      <td>Monica Geller</td>\n",
       "      <td>Monica Geller</td>\n",
       "      <td>How are you?</td>\n",
       "    </tr>\n",
       "  </tbody>\n",
       "</table>\n",
       "</div>"
      ],
      "text/plain": [
       "               actual     predictions  \\\n",
       "8260    Monica Geller  Joey Tribbiani   \n",
       "12970   Phoebe Buffay    Rachel Green   \n",
       "9682     Rachel Green    Rachel Green   \n",
       "22017   Monica Geller   Monica Geller   \n",
       "5611     Rachel Green    Rachel Green   \n",
       "22331  Joey Tribbiani  Joey Tribbiani   \n",
       "18609   Monica Geller   Phoebe Buffay   \n",
       "23737   Monica Geller   Monica Geller   \n",
       "35446     Ross Geller  Joey Tribbiani   \n",
       "3756    Monica Geller   Monica Geller   \n",
       "\n",
       "                                                dialogue  \n",
       "8260                            Then what's the problem?  \n",
       "12970  Yeah, well, everybody does! I'm a really cool ...  \n",
       "9682   What? What? He's interested in you. He-he like...  \n",
       "22017    I've never loved anybody as much as I love you.  \n",
       "5611                 And I'm in it? Then let me read it.  \n",
       "22331  Yeah, I gotta go! I got an acting job. Like yo...  \n",
       "18609                Great. So the ball is in his court?  \n",
       "23737  Dad, please don't pick your teeth out here! Al...  \n",
       "35446  Excellent! Excellent, now-now do you want anot...  \n",
       "3756                                        How are you?  "
      ]
     },
     "execution_count": 30,
     "metadata": {},
     "output_type": "execute_result"
    }
   ],
   "source": [
    "nb_df_1 = pd.DataFrame(y_test)\n",
    "\n",
    "nb_df_1['predictions'] = preds_1\n",
    "\n",
    "nb_df_1['dialogue'] = X_test\n",
    "\n",
    "nb_df_1.rename(columns={'character': 'actual'}, inplace=True)\n",
    "nb_df_1.head(10)"
   ]
  },
  {
   "cell_type": "code",
   "execution_count": 31,
   "id": "9c757a2a-3fa3-41e8-a0fa-7a6a6421b441",
   "metadata": {},
   "outputs": [
    {
     "data": {
      "text/plain": [
       "Rachel Green      2820\n",
       "Joey Tribbiani    1971\n",
       "Monica Geller     1764\n",
       "Ross Geller       1732\n",
       "Chandler Bing     1473\n",
       "Phoebe Buffay     1442\n",
       "Name: predictions, dtype: int64"
      ]
     },
     "execution_count": 31,
     "metadata": {},
     "output_type": "execute_result"
    }
   ],
   "source": [
    "#Checking which character was predicted the most by this model \n",
    "nb_df_1['predictions'].value_counts()"
   ]
  },
  {
   "cell_type": "code",
   "execution_count": 32,
   "id": "9a5dc822-d5e6-4116-ae7c-8c77e782d145",
   "metadata": {},
   "outputs": [
    {
     "data": {
      "text/plain": [
       "Rachel Green      1991\n",
       "Ross Geller       1985\n",
       "Chandler Bing     1897\n",
       "Monica Geller     1873\n",
       "Joey Tribbiani    1800\n",
       "Phoebe Buffay     1656\n",
       "Name: actual, dtype: int64"
      ]
     },
     "execution_count": 32,
     "metadata": {},
     "output_type": "execute_result"
    }
   ],
   "source": [
    "#How many times the character actually appears \n",
    "nb_df_1['actual'].value_counts()"
   ]
  },
  {
   "cell_type": "code",
   "execution_count": 33,
   "id": "69947f9a-905f-4044-a20b-342876ab585e",
   "metadata": {},
   "outputs": [
    {
     "data": {
      "text/plain": [
       "actual         7728\n",
       "predictions    7728\n",
       "dialogue       7728\n",
       "dtype: int64"
      ]
     },
     "execution_count": 33,
     "metadata": {},
     "output_type": "execute_result"
    }
   ],
   "source": [
    "#How many predictions were wrong?\n",
    "nb_df_1.loc[nb_d['actual']!= nb_df_1['predictions']].count()"
   ]
  },
  {
   "cell_type": "code",
   "execution_count": 34,
   "id": "54f72dca-f837-404c-85b8-afbfe9456934",
   "metadata": {},
   "outputs": [
    {
     "data": {
      "text/plain": [
       "actual         3474\n",
       "predictions    3474\n",
       "dialogue       3474\n",
       "dtype: int64"
      ]
     },
     "execution_count": 34,
     "metadata": {},
     "output_type": "execute_result"
    }
   ],
   "source": [
    "#How many were right?\n",
    "nb_df_1.loc[nb_d['actual']== nb_df_1['predictions']].count()"
   ]
  },
  {
   "cell_type": "markdown",
   "id": "ad87d87e-17cf-4581-ac3e-3ffa24985150",
   "metadata": {},
   "source": [
    "---\n",
    "**Predicting Some Phrases**"
   ]
  },
  {
   "cell_type": "code",
   "execution_count": 35,
   "id": "ac57515d-a594-439b-93a3-27baa023e163",
   "metadata": {
    "tags": []
   },
   "outputs": [
    {
     "data": {
      "text/plain": [
       "'Joey Tribbiani'"
      ]
     },
     "execution_count": 35,
     "metadata": {},
     "output_type": "execute_result"
    }
   ],
   "source": [
    "gs_1.predict([\"How you doin'?\"])[0]"
   ]
  },
  {
   "cell_type": "code",
   "execution_count": 36,
   "id": "3bc484e6-b44e-43d1-9ee4-5cce86fe26fa",
   "metadata": {},
   "outputs": [
    {
     "data": {
      "text/plain": [
       "'Phoebe Buffay'"
      ]
     },
     "execution_count": 36,
     "metadata": {},
     "output_type": "execute_result"
    }
   ],
   "source": [
    "gs_1.predict(['Smelly cat, smelly cat, what are they feeding you'])[0]"
   ]
  },
  {
   "cell_type": "code",
   "execution_count": 37,
   "id": "e97112a7-de24-4739-8045-3758bb17e900",
   "metadata": {},
   "outputs": [
    {
     "data": {
      "text/plain": [
       "'Ross Geller'"
      ]
     },
     "execution_count": 37,
     "metadata": {},
     "output_type": "execute_result"
    }
   ],
   "source": [
    "gs_1.predict(['We were on a break!'])[0]"
   ]
  },
  {
   "cell_type": "markdown",
   "id": "9117c23c-4c72-44e2-88e5-c2af4b27af23",
   "metadata": {},
   "source": [
    "----\n",
    "#### More hyperparameter tuning!"
   ]
  },
  {
   "cell_type": "code",
   "execution_count": 38,
   "id": "a4d9df62-05d1-4fd8-908d-5249fdb7e9cc",
   "metadata": {},
   "outputs": [],
   "source": [
    "grid_2 = {'cv__stop_words':[None, 'english'],\n",
    "          'mnb__alpha': np.linspace(0.5, 1.5, 6),\n",
    "          'mnb__fit_prior': [True, False]\n",
    "         }"
   ]
  },
  {
   "cell_type": "code",
   "execution_count": 39,
   "id": "e7e78b99-adf8-4218-86e3-2deebd047445",
   "metadata": {},
   "outputs": [
    {
     "data": {
      "text/plain": [
       "GridSearchCV(estimator=Pipeline(steps=[('cv', CountVectorizer()),\n",
       "                                       ('mnb', MultinomialNB())]),\n",
       "             param_grid={'cv__stop_words': [None, 'english'],\n",
       "                         'mnb__alpha': array([0.5, 0.7, 0.9, 1.1, 1.3, 1.5]),\n",
       "                         'mnb__fit_prior': [True, False]})"
      ]
     },
     "execution_count": 39,
     "metadata": {},
     "output_type": "execute_result"
    }
   ],
   "source": [
    "gs_2 = GridSearchCV(estimator=pipe, param_grid=grid_2)\n",
    "gs_2.fit(X_train, y_train)"
   ]
  },
  {
   "cell_type": "code",
   "execution_count": 40,
   "id": "395d0a06-abf5-41ae-bb7a-b90a3529c5b3",
   "metadata": {},
   "outputs": [
    {
     "data": {
      "text/plain": [
       "{'cv__stop_words': None, 'mnb__alpha': 0.7, 'mnb__fit_prior': False}"
      ]
     },
     "execution_count": 40,
     "metadata": {},
     "output_type": "execute_result"
    }
   ],
   "source": [
    "gs_2.best_params_"
   ]
  },
  {
   "cell_type": "code",
   "execution_count": 41,
   "id": "743bd09b-6686-4aee-8ead-13c468a80b7b",
   "metadata": {},
   "outputs": [
    {
     "name": "stdout",
     "output_type": "stream",
     "text": [
      "Train score: 0.49211403404356624\n",
      "Test score: 0.31012319228709156\n"
     ]
    }
   ],
   "source": [
    "print(f'Train score: {gs_2.score(X_train, y_train)}\\nTest score: {gs_2.score(X_test, y_test)}')"
   ]
  },
  {
   "cell_type": "markdown",
   "id": "3e211f67-e9e2-49dc-b591-80eb7843a29b",
   "metadata": {},
   "source": [
    "***Same best parameters as before, so no need to go further with this one.***\n"
   ]
  }
 ],
 "metadata": {
  "kernelspec": {
   "display_name": "Python 3",
   "language": "python",
   "name": "python3"
  },
  "language_info": {
   "codemirror_mode": {
    "name": "ipython",
    "version": 3
   },
   "file_extension": ".py",
   "mimetype": "text/x-python",
   "name": "python",
   "nbconvert_exporter": "python",
   "pygments_lexer": "ipython3",
   "version": "3.9.7"
  }
 },
 "nbformat": 4,
 "nbformat_minor": 5
}
