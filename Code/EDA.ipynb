{
 "cells": [
  {
   "cell_type": "markdown",
   "id": "dbce91bf-0d6a-44e6-812a-e6333a03fbaf",
   "metadata": {},
   "source": [
    "### Web Scraping with temp function"
   ]
  },
  {
   "cell_type": "code",
   "execution_count": 1,
   "id": "8576e569-f981-441e-a30d-ef6308b325f7",
   "metadata": {},
   "outputs": [],
   "source": [
    "import pandas as pd \n",
    "from bs4 import BeautifulSoup\n",
    "import requests"
   ]
  },
  {
   "cell_type": "code",
   "execution_count": 2,
   "id": "43601d05-cb5e-4363-ba5c-00696d400a93",
   "metadata": {},
   "outputs": [],
   "source": [
    "url = 'https://fangj.github.io/friends/'\n",
    "res = requests.get(url)"
   ]
  },
  {
   "cell_type": "code",
   "execution_count": 3,
   "id": "4411825c-2f99-47ca-94b8-d3a9e281499a",
   "metadata": {},
   "outputs": [],
   "source": [
    "soup = BeautifulSoup(res.content)"
   ]
  },
  {
   "cell_type": "code",
   "execution_count": 4,
   "id": "3699b3f6-c302-4002-a7a8-e2cc2d080c77",
   "metadata": {},
   "outputs": [],
   "source": [
    "links = soup.find_all('a')"
   ]
  },
  {
   "cell_type": "code",
   "execution_count": 5,
   "id": "efe4f08b-4fec-4aef-a2a3-de827def3f44",
   "metadata": {},
   "outputs": [],
   "source": [
    "a_script =[]\n",
    "cc=0\n",
    "script_dict ={}\n",
    "for l in links:\n",
    "    st = l.get_text().split(' ')\n",
    "    if(len(st[0].strip())>=4):\n",
    "        season = int(st[0][0:2])\n",
    "        episode = st[0][2:]\n",
    "    else:\n",
    "        season = int(st[0][0])\n",
    "        episode = st[0][1:]\n",
    "    title = ' '.join(st[1:]).strip()\n",
    "    surl = url + l['href']\n",
    "    s_episode = requests.get(surl)\n",
    "    soup = BeautifulSoup(s_episode.text, 'html.parser')\n",
    "    dialogues = soup.find_all('p')\n",
    "    script_start = False\n",
    "    for d in dialogues:\n",
    "        diag = d.get_text()\n",
    "        diag = diag.split(':')\n",
    "        if(script_start):\n",
    "            if(len(diag)>1):\n",
    "                a_script.append([season, episode, title, diag[0],diag[1]])\n",
    "        elif(len(diag)>1 and diag[0]=='[Scene'):\n",
    "            script_start = True\n",
    "    script_dict.update({cc: a_script[cc]})\n",
    "    cc = cc+1"
   ]
  },
  {
   "cell_type": "code",
   "execution_count": 6,
   "id": "f5b5ec4a-d4bb-452b-a6e8-6345b2682329",
   "metadata": {},
   "outputs": [],
   "source": [
    "friends_df = pd.DataFrame(a_script)"
   ]
  },
  {
   "cell_type": "code",
   "execution_count": 7,
   "id": "1568a11c-4de9-47e3-92f0-3b9406cbf922",
   "metadata": {},
   "outputs": [
    {
     "data": {
      "text/html": [
       "<div>\n",
       "<style scoped>\n",
       "    .dataframe tbody tr th:only-of-type {\n",
       "        vertical-align: middle;\n",
       "    }\n",
       "\n",
       "    .dataframe tbody tr th {\n",
       "        vertical-align: top;\n",
       "    }\n",
       "\n",
       "    .dataframe thead th {\n",
       "        text-align: right;\n",
       "    }\n",
       "</style>\n",
       "<table border=\"1\" class=\"dataframe\">\n",
       "  <thead>\n",
       "    <tr style=\"text-align: right;\">\n",
       "      <th></th>\n",
       "      <th>0</th>\n",
       "      <th>1</th>\n",
       "      <th>2</th>\n",
       "      <th>3</th>\n",
       "      <th>4</th>\n",
       "    </tr>\n",
       "  </thead>\n",
       "  <tbody>\n",
       "    <tr>\n",
       "      <th>0</th>\n",
       "      <td>1</td>\n",
       "      <td>01</td>\n",
       "      <td>Monica Gets A Roommate</td>\n",
       "      <td>Phoebe</td>\n",
       "      <td>(singing) Love is sweet as\\nsummer showers, l...</td>\n",
       "    </tr>\n",
       "    <tr>\n",
       "      <th>1</th>\n",
       "      <td>1</td>\n",
       "      <td>01</td>\n",
       "      <td>Monica Gets A Roommate</td>\n",
       "      <td>[Scene</td>\n",
       "      <td>Ross's Apartment, the guys are there assembli...</td>\n",
       "    </tr>\n",
       "    <tr>\n",
       "      <th>2</th>\n",
       "      <td>1</td>\n",
       "      <td>01</td>\n",
       "      <td>Monica Gets A Roommate</td>\n",
       "      <td>Ross</td>\n",
       "      <td>(squatting and reading the instructions) I'm\\...</td>\n",
       "    </tr>\n",
       "    <tr>\n",
       "      <th>3</th>\n",
       "      <td>1</td>\n",
       "      <td>01</td>\n",
       "      <td>Monica Gets A Roommate</td>\n",
       "      <td>Joey</td>\n",
       "      <td>I'm thinking we've got a\\nbookcase here.</td>\n",
       "    </tr>\n",
       "    <tr>\n",
       "      <th>4</th>\n",
       "      <td>1</td>\n",
       "      <td>01</td>\n",
       "      <td>Monica Gets A Roommate</td>\n",
       "      <td>Chandler</td>\n",
       "      <td>It's a beautiful thing.</td>\n",
       "    </tr>\n",
       "  </tbody>\n",
       "</table>\n",
       "</div>"
      ],
      "text/plain": [
       "   0   1                       2         3  \\\n",
       "0  1  01  Monica Gets A Roommate    Phoebe   \n",
       "1  1  01  Monica Gets A Roommate    [Scene   \n",
       "2  1  01  Monica Gets A Roommate      Ross   \n",
       "3  1  01  Monica Gets A Roommate      Joey   \n",
       "4  1  01  Monica Gets A Roommate  Chandler   \n",
       "\n",
       "                                                   4  \n",
       "0   (singing) Love is sweet as\\nsummer showers, l...  \n",
       "1   Ross's Apartment, the guys are there assembli...  \n",
       "2   (squatting and reading the instructions) I'm\\...  \n",
       "3           I'm thinking we've got a\\nbookcase here.  \n",
       "4                            It's a beautiful thing.  "
      ]
     },
     "execution_count": 7,
     "metadata": {},
     "output_type": "execute_result"
    }
   ],
   "source": [
    "friends_df.head()"
   ]
  },
  {
   "cell_type": "code",
   "execution_count": 10,
   "id": "77fcfb29-6624-4dd0-9d72-3c3ec9575912",
   "metadata": {},
   "outputs": [],
   "source": [
    "friends_df.rename(columns={0: 'season',\n",
    "                  1: 'episode',\n",
    "                  2: 'title',\n",
    "                  3: 'character',\n",
    "                  4: 'dialogue'}, inplace=True)"
   ]
  },
  {
   "cell_type": "code",
   "execution_count": 11,
   "id": "9c125d9c-988b-4f93-879c-ebcd2df092fc",
   "metadata": {},
   "outputs": [
    {
     "data": {
      "text/html": [
       "<div>\n",
       "<style scoped>\n",
       "    .dataframe tbody tr th:only-of-type {\n",
       "        vertical-align: middle;\n",
       "    }\n",
       "\n",
       "    .dataframe tbody tr th {\n",
       "        vertical-align: top;\n",
       "    }\n",
       "\n",
       "    .dataframe thead th {\n",
       "        text-align: right;\n",
       "    }\n",
       "</style>\n",
       "<table border=\"1\" class=\"dataframe\">\n",
       "  <thead>\n",
       "    <tr style=\"text-align: right;\">\n",
       "      <th></th>\n",
       "      <th>season</th>\n",
       "      <th>episode</th>\n",
       "      <th>title</th>\n",
       "      <th>character</th>\n",
       "      <th>dialogue</th>\n",
       "    </tr>\n",
       "  </thead>\n",
       "  <tbody>\n",
       "    <tr>\n",
       "      <th>0</th>\n",
       "      <td>1</td>\n",
       "      <td>01</td>\n",
       "      <td>Monica Gets A Roommate</td>\n",
       "      <td>Phoebe</td>\n",
       "      <td>(singing) Love is sweet as\\nsummer showers, l...</td>\n",
       "    </tr>\n",
       "    <tr>\n",
       "      <th>1</th>\n",
       "      <td>1</td>\n",
       "      <td>01</td>\n",
       "      <td>Monica Gets A Roommate</td>\n",
       "      <td>[Scene</td>\n",
       "      <td>Ross's Apartment, the guys are there assembli...</td>\n",
       "    </tr>\n",
       "    <tr>\n",
       "      <th>2</th>\n",
       "      <td>1</td>\n",
       "      <td>01</td>\n",
       "      <td>Monica Gets A Roommate</td>\n",
       "      <td>Ross</td>\n",
       "      <td>(squatting and reading the instructions) I'm\\...</td>\n",
       "    </tr>\n",
       "    <tr>\n",
       "      <th>3</th>\n",
       "      <td>1</td>\n",
       "      <td>01</td>\n",
       "      <td>Monica Gets A Roommate</td>\n",
       "      <td>Joey</td>\n",
       "      <td>I'm thinking we've got a\\nbookcase here.</td>\n",
       "    </tr>\n",
       "    <tr>\n",
       "      <th>4</th>\n",
       "      <td>1</td>\n",
       "      <td>01</td>\n",
       "      <td>Monica Gets A Roommate</td>\n",
       "      <td>Chandler</td>\n",
       "      <td>It's a beautiful thing.</td>\n",
       "    </tr>\n",
       "  </tbody>\n",
       "</table>\n",
       "</div>"
      ],
      "text/plain": [
       "   season episode                   title character  \\\n",
       "0       1      01  Monica Gets A Roommate    Phoebe   \n",
       "1       1      01  Monica Gets A Roommate    [Scene   \n",
       "2       1      01  Monica Gets A Roommate      Ross   \n",
       "3       1      01  Monica Gets A Roommate      Joey   \n",
       "4       1      01  Monica Gets A Roommate  Chandler   \n",
       "\n",
       "                                            dialogue  \n",
       "0   (singing) Love is sweet as\\nsummer showers, l...  \n",
       "1   Ross's Apartment, the guys are there assembli...  \n",
       "2   (squatting and reading the instructions) I'm\\...  \n",
       "3           I'm thinking we've got a\\nbookcase here.  \n",
       "4                            It's a beautiful thing.  "
      ]
     },
     "execution_count": 11,
     "metadata": {},
     "output_type": "execute_result"
    }
   ],
   "source": [
    "friends_df.head()"
   ]
  },
  {
   "cell_type": "code",
   "execution_count": 12,
   "id": "79c1f9fd-8e8a-4499-a2a3-34154064ad12",
   "metadata": {},
   "outputs": [
    {
     "data": {
      "text/plain": [
       "(58288, 5)"
      ]
     },
     "execution_count": 12,
     "metadata": {},
     "output_type": "execute_result"
    }
   ],
   "source": [
    "friends_df.shape"
   ]
  },
  {
   "cell_type": "code",
   "execution_count": 14,
   "id": "f3c94b08-5a5f-47ad-94fe-867c55b68bc5",
   "metadata": {},
   "outputs": [],
   "source": [
    "friends_df.to_csv('friends.csv', index=False)"
   ]
  },
  {
   "cell_type": "code",
   "execution_count": null,
   "id": "615613a2-9b40-4489-8e4b-5627490d588d",
   "metadata": {},
   "outputs": [],
   "source": []
  }
 ],
 "metadata": {
  "kernelspec": {
   "display_name": "Python 3",
   "language": "python",
   "name": "python3"
  },
  "language_info": {
   "codemirror_mode": {
    "name": "ipython",
    "version": 3
   },
   "file_extension": ".py",
   "mimetype": "text/x-python",
   "name": "python",
   "nbconvert_exporter": "python",
   "pygments_lexer": "ipython3",
   "version": "3.9.7"
  }
 },
 "nbformat": 4,
 "nbformat_minor": 5
}
