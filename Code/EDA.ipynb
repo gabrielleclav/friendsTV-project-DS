{
 "cells": [
  {
   "cell_type": "markdown",
   "id": "dbce91bf-0d6a-44e6-812a-e6333a03fbaf",
   "metadata": {},
   "source": [
    "### Web Scraping with temp function"
   ]
  },
  {
   "cell_type": "code",
   "execution_count": 61,
   "id": "8576e569-f981-441e-a30d-ef6308b325f7",
   "metadata": {},
   "outputs": [],
   "source": [
    "import pandas as pd \n",
    "from bs4 import BeautifulSoup\n",
    "import requests\n",
    "import matplotlib.pyplot as plt\n",
    "import seaborn as sns\n",
    "import plotly.express as px"
   ]
  },
  {
   "cell_type": "code",
   "execution_count": 2,
   "id": "43601d05-cb5e-4363-ba5c-00696d400a93",
   "metadata": {},
   "outputs": [],
   "source": [
    "url = 'https://fangj.github.io/friends/'\n",
    "res = requests.get(url)"
   ]
  },
  {
   "cell_type": "code",
   "execution_count": 3,
   "id": "4411825c-2f99-47ca-94b8-d3a9e281499a",
   "metadata": {},
   "outputs": [],
   "source": [
    "soup = BeautifulSoup(res.content)"
   ]
  },
  {
   "cell_type": "code",
   "execution_count": 4,
   "id": "3699b3f6-c302-4002-a7a8-e2cc2d080c77",
   "metadata": {},
   "outputs": [],
   "source": [
    "links = soup.find_all('a')"
   ]
  },
  {
   "cell_type": "code",
   "execution_count": 6,
   "id": "efe4f08b-4fec-4aef-a2a3-de827def3f44",
   "metadata": {},
   "outputs": [],
   "source": [
    "a_script =[]\n",
    "cc=0\n",
    "script_dict ={}\n",
    "for l in links:\n",
    "    st = l.get_text().split(' ')\n",
    "    if(len(st[0].strip())>=4):\n",
    "        season = int(st[0][0:2])\n",
    "        episode = st[0][2:]\n",
    "    else:\n",
    "        season = int(st[0][0])\n",
    "        episode = st[0][1:]\n",
    "    title = ' '.join(st[1:]).strip()\n",
    "    surl = url + l['href']\n",
    "    s_episode = requests.get(surl)\n",
    "    soup = BeautifulSoup(s_episode.text, 'html.parser')\n",
    "    dialogues = soup.find_all('p')\n",
    "    script_start = False\n",
    "    for d in dialogues:\n",
    "        diag = d.get_text()\n",
    "        diag = diag.split(':')\n",
    "        if(script_start):\n",
    "            if(len(diag)>1):\n",
    "                if(diag[0]=='[Scene'):\n",
    "                    continue\n",
    "                else:\n",
    "                    a_script.append([season, episode, title, diag[0],diag[1]])\n",
    "        elif(len(diag)>1 and diag[0]=='[Scene'):\n",
    "            script_start = True\n",
    "    script_dict.update({cc: a_script[cc]})\n",
    "    cc = cc+1"
   ]
  },
  {
   "cell_type": "code",
   "execution_count": 7,
   "id": "f5b5ec4a-d4bb-452b-a6e8-6345b2682329",
   "metadata": {},
   "outputs": [],
   "source": [
    "friends_df = pd.DataFrame(a_script)"
   ]
  },
  {
   "cell_type": "code",
   "execution_count": 8,
   "id": "1568a11c-4de9-47e3-92f0-3b9406cbf922",
   "metadata": {},
   "outputs": [
    {
     "data": {
      "text/html": [
       "<div>\n",
       "<style scoped>\n",
       "    .dataframe tbody tr th:only-of-type {\n",
       "        vertical-align: middle;\n",
       "    }\n",
       "\n",
       "    .dataframe tbody tr th {\n",
       "        vertical-align: top;\n",
       "    }\n",
       "\n",
       "    .dataframe thead th {\n",
       "        text-align: right;\n",
       "    }\n",
       "</style>\n",
       "<table border=\"1\" class=\"dataframe\">\n",
       "  <thead>\n",
       "    <tr style=\"text-align: right;\">\n",
       "      <th></th>\n",
       "      <th>0</th>\n",
       "      <th>1</th>\n",
       "      <th>2</th>\n",
       "      <th>3</th>\n",
       "      <th>4</th>\n",
       "    </tr>\n",
       "  </thead>\n",
       "  <tbody>\n",
       "    <tr>\n",
       "      <th>0</th>\n",
       "      <td>1</td>\n",
       "      <td>01</td>\n",
       "      <td>Monica Gets A Roommate</td>\n",
       "      <td>Phoebe</td>\n",
       "      <td>(singing) Love is sweet as\\nsummer showers, l...</td>\n",
       "    </tr>\n",
       "    <tr>\n",
       "      <th>1</th>\n",
       "      <td>1</td>\n",
       "      <td>01</td>\n",
       "      <td>Monica Gets A Roommate</td>\n",
       "      <td>Ross</td>\n",
       "      <td>(squatting and reading the instructions) I'm\\...</td>\n",
       "    </tr>\n",
       "    <tr>\n",
       "      <th>2</th>\n",
       "      <td>1</td>\n",
       "      <td>01</td>\n",
       "      <td>Monica Gets A Roommate</td>\n",
       "      <td>Joey</td>\n",
       "      <td>I'm thinking we've got a\\nbookcase here.</td>\n",
       "    </tr>\n",
       "    <tr>\n",
       "      <th>3</th>\n",
       "      <td>1</td>\n",
       "      <td>01</td>\n",
       "      <td>Monica Gets A Roommate</td>\n",
       "      <td>Chandler</td>\n",
       "      <td>It's a beautiful thing.</td>\n",
       "    </tr>\n",
       "    <tr>\n",
       "      <th>4</th>\n",
       "      <td>1</td>\n",
       "      <td>01</td>\n",
       "      <td>Monica Gets A Roommate</td>\n",
       "      <td>Joey</td>\n",
       "      <td>(picking up a leftover part) What's this?</td>\n",
       "    </tr>\n",
       "  </tbody>\n",
       "</table>\n",
       "</div>"
      ],
      "text/plain": [
       "   0   1                       2         3  \\\n",
       "0  1  01  Monica Gets A Roommate    Phoebe   \n",
       "1  1  01  Monica Gets A Roommate      Ross   \n",
       "2  1  01  Monica Gets A Roommate      Joey   \n",
       "3  1  01  Monica Gets A Roommate  Chandler   \n",
       "4  1  01  Monica Gets A Roommate      Joey   \n",
       "\n",
       "                                                   4  \n",
       "0   (singing) Love is sweet as\\nsummer showers, l...  \n",
       "1   (squatting and reading the instructions) I'm\\...  \n",
       "2           I'm thinking we've got a\\nbookcase here.  \n",
       "3                            It's a beautiful thing.  \n",
       "4          (picking up a leftover part) What's this?  "
      ]
     },
     "execution_count": 8,
     "metadata": {},
     "output_type": "execute_result"
    }
   ],
   "source": [
    "friends_df.head()"
   ]
  },
  {
   "cell_type": "code",
   "execution_count": 9,
   "id": "77fcfb29-6624-4dd0-9d72-3c3ec9575912",
   "metadata": {},
   "outputs": [],
   "source": [
    "friends_df.rename(columns={0: 'season',\n",
    "                  1: 'episode',\n",
    "                  2: 'title',\n",
    "                  3: 'character',\n",
    "                  4: 'dialogue'}, inplace=True)"
   ]
  },
  {
   "cell_type": "code",
   "execution_count": 10,
   "id": "9c125d9c-988b-4f93-879c-ebcd2df092fc",
   "metadata": {},
   "outputs": [
    {
     "data": {
      "text/html": [
       "<div>\n",
       "<style scoped>\n",
       "    .dataframe tbody tr th:only-of-type {\n",
       "        vertical-align: middle;\n",
       "    }\n",
       "\n",
       "    .dataframe tbody tr th {\n",
       "        vertical-align: top;\n",
       "    }\n",
       "\n",
       "    .dataframe thead th {\n",
       "        text-align: right;\n",
       "    }\n",
       "</style>\n",
       "<table border=\"1\" class=\"dataframe\">\n",
       "  <thead>\n",
       "    <tr style=\"text-align: right;\">\n",
       "      <th></th>\n",
       "      <th>season</th>\n",
       "      <th>episode</th>\n",
       "      <th>title</th>\n",
       "      <th>character</th>\n",
       "      <th>dialogue</th>\n",
       "    </tr>\n",
       "  </thead>\n",
       "  <tbody>\n",
       "    <tr>\n",
       "      <th>0</th>\n",
       "      <td>1</td>\n",
       "      <td>01</td>\n",
       "      <td>Monica Gets A Roommate</td>\n",
       "      <td>Phoebe</td>\n",
       "      <td>(singing) Love is sweet as\\nsummer showers, l...</td>\n",
       "    </tr>\n",
       "    <tr>\n",
       "      <th>1</th>\n",
       "      <td>1</td>\n",
       "      <td>01</td>\n",
       "      <td>Monica Gets A Roommate</td>\n",
       "      <td>Ross</td>\n",
       "      <td>(squatting and reading the instructions) I'm\\...</td>\n",
       "    </tr>\n",
       "    <tr>\n",
       "      <th>2</th>\n",
       "      <td>1</td>\n",
       "      <td>01</td>\n",
       "      <td>Monica Gets A Roommate</td>\n",
       "      <td>Joey</td>\n",
       "      <td>I'm thinking we've got a\\nbookcase here.</td>\n",
       "    </tr>\n",
       "    <tr>\n",
       "      <th>3</th>\n",
       "      <td>1</td>\n",
       "      <td>01</td>\n",
       "      <td>Monica Gets A Roommate</td>\n",
       "      <td>Chandler</td>\n",
       "      <td>It's a beautiful thing.</td>\n",
       "    </tr>\n",
       "    <tr>\n",
       "      <th>4</th>\n",
       "      <td>1</td>\n",
       "      <td>01</td>\n",
       "      <td>Monica Gets A Roommate</td>\n",
       "      <td>Joey</td>\n",
       "      <td>(picking up a leftover part) What's this?</td>\n",
       "    </tr>\n",
       "  </tbody>\n",
       "</table>\n",
       "</div>"
      ],
      "text/plain": [
       "   season episode                   title character  \\\n",
       "0       1      01  Monica Gets A Roommate    Phoebe   \n",
       "1       1      01  Monica Gets A Roommate      Ross   \n",
       "2       1      01  Monica Gets A Roommate      Joey   \n",
       "3       1      01  Monica Gets A Roommate  Chandler   \n",
       "4       1      01  Monica Gets A Roommate      Joey   \n",
       "\n",
       "                                            dialogue  \n",
       "0   (singing) Love is sweet as\\nsummer showers, l...  \n",
       "1   (squatting and reading the instructions) I'm\\...  \n",
       "2           I'm thinking we've got a\\nbookcase here.  \n",
       "3                            It's a beautiful thing.  \n",
       "4          (picking up a leftover part) What's this?  "
      ]
     },
     "execution_count": 10,
     "metadata": {},
     "output_type": "execute_result"
    }
   ],
   "source": [
    "friends_df.head()"
   ]
  },
  {
   "cell_type": "code",
   "execution_count": 11,
   "id": "79c1f9fd-8e8a-4499-a2a3-34154064ad12",
   "metadata": {},
   "outputs": [
    {
     "data": {
      "text/plain": [
       "(55727, 5)"
      ]
     },
     "execution_count": 11,
     "metadata": {},
     "output_type": "execute_result"
    }
   ],
   "source": [
    "friends_df.shape"
   ]
  },
  {
   "cell_type": "code",
   "execution_count": 14,
   "id": "f3c94b08-5a5f-47ad-94fe-867c55b68bc5",
   "metadata": {},
   "outputs": [],
   "source": [
    "#friends_df.to_csv('friends.csv', index=False)"
   ]
  },
  {
   "cell_type": "code",
   "execution_count": 13,
   "id": "615613a2-9b40-4489-8e4b-5627490d588d",
   "metadata": {
    "scrolled": true,
    "tags": []
   },
   "outputs": [
    {
     "data": {
      "text/plain": [
       "array(['Phoebe', 'Ross', 'Joey', 'Chandler', 'Monica', 'Paul', 'Rachel',\n",
       "       'Priest on TV', 'All', 'Frannie', 'Ross and Rachel', 'Customer',\n",
       "       'Marsha', 'Carol', 'Chandler and Joey', 'Mrs. Geller',\n",
       "       'Mr. Geller', 'Susan', 'Barry', 'Robbie', 'Bernice', 'Dr. Oberman',\n",
       "       'Paula', 'Alan', 'The Guys', 'Lizzie', 'Guys', 'Leslie', 'Kiki',\n",
       "       'Joanne', 'Receptionist', 'Pizza Guy', 'Monica and Phoebe', 'Both',\n",
       "       'Kid', 'Angela', 'Janice', 'Woman', 'Bob', 'Aurora', 'Director',\n",
       "       'Jill', 'Monica, Joey, and Phoebe', 'Mr. Heckles', 'Paolo',\n",
       "       'Aunt Lillian', 'Nurse', 'Shelley', 'Andrea', 'Lowell', 'Terry',\n",
       "       'Guy', 'Girl',\n",
       "       '(Joey turns around and sees his face on a poster in the subway. The poster says',\n",
       "       'Max', 'David', 'Sandy', 'Fun Bobby', 'Dick Clark', 'Jay Leno',\n",
       "       'Mrs. Bing', 'Coma Guy', 'Joey, Chandler, and Ross',\n",
       "       'Carol and Susan', \"Phoebe's Assistant\", 'Joey and Chandler',\n",
       "       'Rachel and Phoebe', 'Girls', 'Roger', 'Mr. Tribbiani', 'Ronni',\n",
       "       'Mrs. Tribbiani', 'Lorraine', 'Kristin', 'Fireman No. 1',\n",
       "       'Fireman No. 2', 'Fireman No. 3', 'Mrs. Tedlock', 'Celia', 'Steve',\n",
       "       '[Scene ', '[Scene 13', 'Dr. Mitchell', 'Rachel (as Monica)',\n",
       "       'Monica (as Rachel)', 'Dr. Rosen', 'The Whole Party',\n",
       "       \"Phoebe's Friends\", 'Rachel and Monica', 'Ross and Chandler',\n",
       "       'Ursula', 'Chandler and Ross', 'Phoebe and Rachel', 'Aunt Iris',\n",
       "       'Intercom', 'Luisa', 'Woman No. 1', 'Woman No. 2', '(Scene 4',\n",
       "       'Joey and Ross', 'Bobby', 'Mindy', 'Danielle', 'Teacher',\n",
       "       'Fake Monica', 'Dr. Baldhara', 'PA', 'Actor',\n",
       "       'Casting Director No. 1', 'Casting Director No. 2',\n",
       "       'Phoebe, Joey, and Ross', 'Young Ethan',\n",
       "       'Ross, Rachel, and Phoebe', 'Joey, Chander, and Ross', 'Gerston',\n",
       "       'Santos', 'Petrie', 'Dr. Franzblau', 'Lydia', 'Susan and Ross',\n",
       "       'Janitor', 'Melanie', 'Flight Attendant', 'Man', 'Carl', 'Julie',\n",
       "       'Ross and Julie', 'Paulo', 'Frankie', 'Annabelle', 'Hombre Man',\n",
       "       'Store Guy', 'ROSS', 'CHANDLER', \"(MACHINE--JOEY'S VOICE)\", 'JADE',\n",
       "       'ALL', 'RACHEL', 'PHOEBE', 'JOEY', 'MONICA', 'WAITER', 'MACHINE',\n",
       "       'STEVE', 'WAITRESS', '\\n[Scene', 'RACH', 'MNCA', 'PHOE',\n",
       "       'PHOE/MNCA', 'CHAN', 'JULIE', 'RTST', 'JOEY/CHAN',\n",
       "       'CHAN, JOEY, ROSS', 'RADIO', 'MR. TREEGER', 'FBOB', 'RUSS', 'ESTL',\n",
       "       'GANG', 'Credits [Scene', '\\n\\nJOEY', 'Video', 'Richard',\n",
       "       'Machine', \"Woman's Voice\", 'Michelle', 'Sherman Whitfield',\n",
       "       'Whitfield', 'Malcom', 'Host', 'Mike', 'Young Ross',\n",
       "       'Young Monica', 'Frank', 'Phoebe and Girl', 'Jasmine', 'Isabella',\n",
       "       'Monica and Rachel', 'Eric', 'Waitress', 'Friend No. 1',\n",
       "       'Friend No. 2', 'Her Friends', 'Gunther', 'Matress King',\n",
       "       'Dr. Green', 'Dr Green', 'Student', 'Jester', 'Ben',\n",
       "       'Chandler and Phoebe', 'Monica and Ross',\n",
       "       'Rachel, Chandler, and Joey', 'Monica and Joey', 'Margha',\n",
       "       '[Sequence 1', '[Sequence 2', '[Sequence 3', '[Sequence 4',\n",
       "       '[Sequence 5', 'Sarah', 'Leader', 'Joey and Monica',\n",
       "       'Rachel’s Boss', 'Mr. Kaplan', 'Joey’s Sisters', 'Cookie',\n",
       "       'Sister 1', 'Joey’s Grandmother', 'Joey’s Sister', 'Mary-Angela',\n",
       "       'Mary-Theresa', 'Mark', 'Jeannine', 'Julio', 'Quartet',\n",
       "       'The Bass Barber', 'Bass Singer', 'Clerk', 'Robert',\n",
       "       'Richard’s Date', 'Singer', 'Monica, Ross, and Joey', 'Ginger',\n",
       "       'Phoebe and Monica', 'Phoebe and Leslie', 'Lecturer', 'Commercial',\n",
       "       'Issac', 'Chloe', 'Sergei', 'Mischa', 'Sophie',\n",
       "       '(Ross finds a clock, sees it’s almost 8',\n",
       "       \"[Cut to Monica's bedroom, they’re all eating the wax, Chandler and Phoebe,\\ndon’t like it. Joey tries some and makes a face like\",\n",
       "       'The Girls', 'Chandler, Phoebe, and Joey', 'Alice',\n",
       "       'Hypnosis Tape', 'Pete', 'Ross and Joey', 'Secretary', 'Employee',\n",
       "       'The Director', 'Kate', 'Spokeswoman', 'Joanna', 'Lauren',\n",
       "       'Anchorwoman', 'Chandler, Phoebe, and Rachel', 'Hold Voice',\n",
       "       'Tommy', 'Cailin', 'Estelle', 'Stage Manager', 'Vince', 'Jason',\n",
       "       'Dr. Rhodes', 'Dr. Johnson', \"Pete's Mom\", 'Fireman', 'Guru Saj',\n",
       "       'Billy Crystal', 'Robin Williams', 'Billy', 'Robin', 'Doug',\n",
       "       'Hoshi', 'Bonnie', 'Phil', 'Stevens', 'Announcer', 'Referee',\n",
       "       'TV Announcer', 'Chandler, Monica, and Joey', 'Phoebe Sr',\n",
       "       'Ross and Bonnie', 'Rachel and Bonnie', 'Phoebe Sr.',\n",
       "       'Phoebe, Ross, and Rachel', 'Chip', 'Tony', 'Peter',\n",
       "       'Chandler, Monica, Joey, and Rachel', 'The Salesman',\n",
       "       'Monica, Chandler, Phoebe, and Rachel', 'Oven',\n",
       "       'Joey, Rachel, and Ross', 'Mr. Treeger', 'Gym Employee', 'Rick',\n",
       "       'Bank Officer', 'Ms. Lambert',\n",
       "       '(The camera zooms in on the clock on the wall and it reads a quarter after one. Time\\nlapse. The clock now reads 3',\n",
       "       'Mrs. Potter', 'Mr. Simon', 'Interviewer', 'Kathy', 'Josh',\n",
       "       'Amanda', 'Cheryl', 'Everyone', 'Mrs. Burkart', 'Casey', 'Voice',\n",
       "       'Doctor', 'Dr. Timothy Burke', 'Tim', 'Mr. Posner', 'Mrs. Lynch',\n",
       "       'Allesandro', 'Chandler, Joey, and Phoebe', 'Drew',\n",
       "       'Monica, Rachel, and Joey', 'A Waiter', 'The Waiter',\n",
       "       'The Conductor', 'The Woman From Poughkeepsie', 'Kitchen Worker',\n",
       "       'Woman On Train', 'Chandler, Monica, and Rachel', 'Smart Kid',\n",
       "       'Tour Guide', 'Older Scientist', 'Another Tour Guide',\n",
       "       'Another Scientist', 'Dr. Zane', 'Frank and Alice',\n",
       "       \"Kathy's Co-Star\", 'Mr. Waltham', 'Joshua', 'Emily', 'The A.D',\n",
       "       'The Cigarette Smoking Guy', 'Charlton Heston',\n",
       "       'The Cigarette Guy', 'Devon', 'Liam', 'Ticket Counter Attendant',\n",
       "       'Mrs. Chatracus', 'The Doctor', 'Ticket Agent', 'Mrs. Burgin',\n",
       "       'Mr. Burgin', 'The Singing Man', 'The Saleslady',\n",
       "       'Sleep Clinic Worker', 'Marjorie', 'Rachel, Monica, Roy, and Chip',\n",
       "       'The Stripper', 'The Vendor', 'Fergie', 'Housekeeper',\n",
       "       'Ross and Monica', 'Mrs. Waltham', 'Waiter', 'Felicity',\n",
       "       'Drunk Man', 'Passenger', 'Minister', 'Minster', 'Gate Agent',\n",
       "       'Dave', 'Dr. Harad', \"Joey's Doctor\", 'Male Nurse', 'Dan',\n",
       "       'Delivery Room Nurse', 'Stage Director', 'Emeril', 'PBS Volunteer',\n",
       "       'Gary Collins', 'Hotel Clerk', 'Chandler and Monica', 'Danny',\n",
       "       'Health Inspector', 'Larry', 'Tom', 'The Housekeeper',\n",
       "       'Past Life Phoebe', 'Big Nosed Rachel', 'Fat Monica',\n",
       "       'The Paramedic', 'French Phoebe', 'The Teacher', 'Cynthia',\n",
       "       'Dr. Leedbetter', 'A Female Student', 'The Man', \"Danny's Sister\",\n",
       "       'Krista', 'Elizabeth Hornswoggle', 'Elizabeth', 'Joey and Rachel',\n",
       "       'Kara',\n",
       "       \"[Suddenly the door opens and Ross's mystery girl enters. I'll give you a hint to who it\\nis\",\n",
       "       'Frank Sr.', 'The Pastor', 'The Casting Director', 'Dr. Ledbetter',\n",
       "       'Katie', 'Party Guests', 'Guest #1', 'Guest #2', 'Guest #3',\n",
       "       'Dream Monica', 'Dream Joey', 'The Smoking Woman', 'Cop',\n",
       "       'Chandler and Rachel', 'Phoebe and Joey', 'Gary', 'The Saleswoman',\n",
       "       \"Gary's Radio\", 'The Old Man', 'The Little Girl', 'Mr. Zelner',\n",
       "       'The Hot Girl', 'Jen', 'Kim', 'Nancy', 'Kyle', 'Raymond',\n",
       "       'Delivery Girl', 'Caitlin', 'Grandma Tribbiani',\n",
       "       'Answering Machine', 'Phoebe and Gary', 'Dr. Miller', 'Stanley',\n",
       "       'The Grip', 'The Husband', 'A Casino Boss', 'A Tourist',\n",
       "       'The Croupier', 'The Flight Attendant', 'Blackjack Dealer',\n",
       "       'The Woman Dealer', \"Joey's Hand Twin\", 'A Drunken Gambler',\n",
       "       'Drunken Gambler', 'The Lurker', 'The Security Guard',\n",
       "       'The Attendant', 'Attendant', '{Transciber’s note', 'Croupler',\n",
       "       'Hitchhiker', '{Note', 'Stephanie', 'Karin', 'Meg', 'Russell',\n",
       "       'The Potential Roommate', 'The Professor', 'Casting Director #1',\n",
       "       'Casting Director #2', 'Casting Director #3', 'A Crew Member',\n",
       "       'Alex', 'A Student', 'Guy #1', 'Guy #2', 'The Porsche Owner',\n",
       "       'Judge', 'Passerby', 'Janine', '[Scene, The Park',\n",
       "       '[Scene, Central Perk', 'Ralph Lauren', 'Hillary',\n",
       "       'Janine [to Chandler]', 'Mr. and Mrs. Geller', 'Tall Guy',\n",
       "       'Joey’s Head', 'Patron', 'Customers', 'Phoebe and Ross',\n",
       "       'A Male Customer', 'The Fan', 'Buffay, the Vampire Layer',\n",
       "       'The Vampire', 'Man’s Voice', 'Another Man’s Voice',\n",
       "       'Same Man’s Voice', '{Transcriber’s note', \"Monica's Boyfriend\",\n",
       "       'Guy All the Way in the Back', 'Dr. Wesley', 'Dr. Drake Remoray',\n",
       "       'Hope', '{Transcriber’s Note', 'Dr. Roger', 'Arthur', 'Jack',\n",
       "       \"Joey's Look-A-Like\", 'The Instructor', 'Janice’s Voice', 'Burt',\n",
       "       'Fireman #1', 'Dana', 'Fireman #2', 'Mel', 'Professor Feesen',\n",
       "       'Sebastian', 'Eldad', 'Patrick',\n",
       "       '(Phoebe grabs each of them by an ear.)\\n\\nMonica and Rachel',\n",
       "       'The Producer', 'Wayne', 'C.H.E.E.S.E.', 'The Dry Cleaner',\n",
       "       'The Museum Official', 'Female Clerk', 'Male Jeweler',\n",
       "       'Female Jeweler', 'Mr. Thompson', 'Zoe', 'First Dorm Guy',\n",
       "       'Second Dorm Guy', \"Matire'd\", 'Lisa', 'Emil Alexander',\n",
       "       'Mr. Bowmont', 'Narrator', 'Mac', 'C.H.E.E.S.E', 'Hilda', 'Tag',\n",
       "       'Nurse #1', 'Nurse #2', 'Dr. Stryker Remoray', 'Melissa',\n",
       "       'The Photographer', 'Hums While He Pees', 'Whitney', 'Joey’s Date',\n",
       "       'Erin', 'Female Student', 'Male Student', 'The Waitress',\n",
       "       'The Colonel', 'The Librarian', 'The Head Librarian',\n",
       "       'Joey, Rachel, and Phoebe', 'The Knocker', 'The Woman',\n",
       "       \"Maitre d'\", 'Male Guest', 'Rachel and Joey', 'Salesman',\n",
       "       'The Wedding Guest', 'The Second Guest', 'Aunt Millie',\n",
       "       'Smoke Detector', 'A Disembodied Voice', 'The Fireman',\n",
       "       'Supervisor', 'Earl', 'The \"Hey Guy\" Guy', 'Marge',\n",
       "       '[Flashback to', 'The Man In The Sportscar', 'Dina',\n",
       "       'Jessica Lockhart', 'Cecilia', 'The Writer', 'Monica and Chandler',\n",
       "       'Fredrick', 'Matthew Perry', 'Lisa Kudrow',\n",
       "       '(Why was this the trailer? Well, that’s because it was an introduction into the\\nspecial out takes episode that immediately followed the show. The entire out takes\\nepisode, Friends',\n",
       "       'Fat Joey', 'Kristen', 'Megan', 'A Woman', 'Lewis', 'Morse',\n",
       "       'The Cute Guy', 'Jake', 'The Presenter', 'Jessica Ashley',\n",
       "       'Cassie', 'The Other Woman', 'A Waiter in Drag', 'Waiter in Drag',\n",
       "       'Helena', 'Policeman', 'The Chorus Line', 'The Assistant Director',\n",
       "       'Mr. Bing', 'The Rabbi', 'Conan', 'Jennifer', 'Matthew',\n",
       "       'Courtney', 'Matt', 'Photographer', 'Bandleader', 'Mona',\n",
       "       'Dennis Phillips', 'Little Girl', 'Second Girl', 'Ashley',\n",
       "       'Fat Girl', 'Gert', 'Front Desk Clerk', 'Woman At The Wedding',\n",
       "       'Man At The Wedding', 'Anxious Wedding Guest', 'Airline Employee',\n",
       "       'Dr. Long', 'Mr. Franklin', \"Joey's Co-Star\", 'Dr. Drake Ramoray',\n",
       "       'Kash', 'Kids', 'Witch', 'Clown', 'Cowgirl', 'Ballerina',\n",
       "       'Boy in the Cape', '[Time Lapse', \"Mrs. Verhoeven's Daughter\",\n",
       "       'Brenda', 'Stripper', 'Hooker', 'Stu', 'Will', 'Ross and Will',\n",
       "       'Trudie Styler', 'Dr. Schiff', 'Locksmith', \"Joey's Date\",\n",
       "       'Man on TV', 'Woman on TV', 'Don', 'Waiter No. 2', 'Jim',\n",
       "       \"Mona's Date\", 'Parker', 'Aunt Lisa', 'Uncle Dan',\n",
       "       'The Interviewer',\n",
       "       '[This starts a series of flashbacks; the first one is from Episode 106',\n",
       "       '[The next one is from Episode 304',\n",
       "       '[The next one is from Episode 322',\n",
       "       '[The next one is from Episode 204',\n",
       "       '[This starts another series of flashbacks about Joey’s hobbies. The first one is\\nfrom Episode 703',\n",
       "       '[The next one is from Episode 603',\n",
       "       '[The next one is from Episode 507',\n",
       "       '[The next one is from Episode 417',\n",
       "       '[Another set of flashbacks begin with Episode 521',\n",
       "       '[The next one is from Episode 604',\n",
       "       '[The next one is from Episode 609',\n",
       "       '[The next one is from Episode 619',\n",
       "       '[The next one is from Episode 711',\n",
       "       '[They gang all lean back to listen better, and this starts another series of\\nflashbacks. The first one is from Episode 214',\n",
       "       '[The next one is from Episode 224',\n",
       "       '[The next one is from Episode 512',\n",
       "       '[The next one is from Episode 401',\n",
       "       '[Another group of flashbacks begin with Episode 513',\n",
       "       '[The next one is from Episode 712',\n",
       "       '[The next one is from Episode 722',\n",
       "       '[The next one is from Episode 608',\n",
       "       '[The next one is from Episode 706',\n",
       "       '[Another series of flashbacks begins with Episode 413',\n",
       "       '[The next one is from Episode 605',\n",
       "       '[The next one is from Episode 613',\n",
       "       '[The final one is from Episode 607', 'Mrs. Green', 'Ray',\n",
       "       'Cashier', 'The Food Critic', 'The Cooking Teacher',\n",
       "       'The Acting Teacher', 'Marc', 'Evil Bitch', 'Sick Bastard',\n",
       "       'Woman Giving Birth', 'Cliff', 'Sid', 'Ms. McKenna', '[SCENE',\n",
       "       'Joey and Phoebe', 'Mary Ellen', 'Dr. Gettleman', 'Sally', 'Boy',\n",
       "       'CUT TO', ' [Scene', ' Hayley', ' Gunther', \" Hayley's roommate\",\n",
       "       ' Phoebe', 'Ken', 'Claudia', 'Phoebe & Joey', 'Maitre D�',\n",
       "       'Ms. Geller', 'Ross & Rachel', 'Monica & Chandler', 'Waiters',\n",
       "       'Prospective nanny', 'Sandy/Grumpus', 'Joey/Wigglemunch',\n",
       "       'Catherine', 'Bitsy', 'Theodore', 'TV announcer', 'Joey nods',\n",
       "       'Rachel to Emma', 'Woman at door',\n",
       "       'Ross and Rachel while looking at each other surprised and shocked',\n",
       "       'Woman at door in a sing song voice', 'Amy',\n",
       "       'Ross with a look of wondering how long this is going to go on on his face',\n",
       "       \"Ross starts talking over her 'do you remember' line\",\n",
       "       'Amy with straight hair', 'Amy storms out',\n",
       "       'Rachel opens their door', 'Everyone there says', 'Joey laughs',\n",
       "       'Joey looks rejected', 'Ross to Monica', 'Monica to Ross',\n",
       "       'Monica to Emma', 'Monica to Amy',\n",
       "       'Amy with confused look on face',\n",
       "       'Phoebe shakes her hand and says', 'Phoebe looks down',\n",
       "       'Amy coming out of the bathroom',\n",
       "       \"Ross first has a look of 'huh' then changes it to sarcastic happy\",\n",
       "       'Amy turns around to Phoebe', 'Amy turns to Ross and Rachel',\n",
       "       'Ross starts playing with a plate',\n",
       "       'Monica about to have a heart attack', 'Joey raises his hand',\n",
       "       'Ross looks down',\n",
       "       'Phoebe while cutting a sweet potatoe in the air',\n",
       "       'Joey groans and gets off the phone',\n",
       "       'Joey all nervous and looking down and fiddling with his ear',\n",
       "       'Amy walks over to the couch and sits down next to Rachel',\n",
       "       'Rachel turns to Ross', 'Ross walks over',\n",
       "       'Monica screaming at Ross', \"Rachel starts messing up Amy's hair\",\n",
       "       'Amy and Rachel at same time', 'Monica starts crying',\n",
       "       'Amy starting to cry', 'JO LYNN', 'MIKE', 'BILL', 'KEVIN',\n",
       "       '\\n  KEVIN', '[Tag Scene', 'Wendy', 'Others',\n",
       "       '[Flashback to 410 - TOW The Girl From Poughkeepsie]\\n[Scene',\n",
       "       '[Flashback to 610 - TOW The Routine]\\n[Scene',\n",
       "       \"[Flashback to 209 - TOW Phoebe's Dad]\\n[Scene\",\n",
       "       '[Flashback to 710 - TOW The Holiday Armadillo]\\n[Scene',\n",
       "       '[Scene change back an forth',\n",
       "       '[Flashback to 716 - TOW The Truth About London]\\n[Scene',\n",
       "       '[Flashback to 503 - TOW The Triplets]\\n[Scene',\n",
       "       '[Flashback to 524 - TOI Vegas, Part II]\\n[Scene',\n",
       "       \"[Flashback to 702 - TOW Rachel's Book]\\n[Scene\", 'Molly', 'Gavin',\n",
       "       'Heather', 'Ross, Joey and Chandler', 'Salon girl',\n",
       "       'Joey (checks the refrigerator)',\n",
       "       'Chandler (reading the newspaper)',\n",
       "       'Joey (gives a thumbs up sign)', 'Steve (staring at Rachel)',\n",
       "       'Rachel (feeling awkward)', 'Rachel (awkward chuckle)',\n",
       "       'Phoebe (to Joey)', 'Chandler (laughs)', 'Monica (laughs)',\n",
       "       'Waiter #2', 'Steve (sobbing)', 'Monica (on phone)',\n",
       "       'Rachel (to Steve)', 'Monica (to Joey)', 'Joey & Monica',\n",
       "       'Monica, Chandler, Ross', 'Chandler (Stands up and walks to Joey)',\n",
       "       'Handyman', 'Monica, Rachel, Chandler',\n",
       "       'Chandler/Joey/Rachel/Monica', 'Strange man', 'Manny', 'Kori',\n",
       "       'Everyone almost simultaneously except Ross', 'Racel',\n",
       "       'Rachel, Chandler and Monica', 'Everyone but Monica', 'Message',\n",
       "       'Second message', 'Second Message', 'TV', 'Everybody',\n",
       "       '(Rachel comes out of her room and starts staring at him unseen)Joey',\n",
       "       '(Chandler enters)Chandler',\n",
       "       \"(the scene starts.Joey enters and there's a girl wearing a wedding dress near a bed)Actress/Olivia\",\n",
       "       'Actress/Olivia', 'Joey/Drake', '(the actress slaps him)Rachel',\n",
       "       'Chase Lassiter', '1st Customer', '2nd Customer', '3rd Customer',\n",
       "       '[Time lapse', '(Monica covers her face with her hands)[Scene',\n",
       "       'Rachel/actress', '(Chandler enters the room)Ross', 'Chandlers',\n",
       "       '(Ross claps his hands)Chandler', '(Phoebe comes in)Phoebe',\n",
       "       '(silence)Rachel',\n",
       "       '(the receptions is puzzled. She goes in the back.)Chandler',\n",
       "       '(they make as if to go, but Ross notices something)Ross',\n",
       "       \"(Ross starts stuffing pinecones in the suitcase. As the receptionist walks in, Chandler makes a bird's verse and Ross stops)Ross\",\n",
       "       '(he picks up the suitcase, which falls open, revealing all the stuff they have taken from the hotel. The receptionist just looks at them.)Ross',\n",
       "       '(Monica comes out)Monica',\n",
       "       '(Monica seems to take it amiss)Phoebe',\n",
       "       '(Joey and Rachel continue to look at each other in silence for a while)Joey',\n",
       "       '(Then Ross enters)Ross',\n",
       "       '(Monica points at Joey, Rachel turns and sees him)Rachel',\n",
       "       '(a woman walks in)Charlie', 'Charlie', 'Professor Spafford',\n",
       "       '(Rachel enters the room and checks the answering machine)Jane',\n",
       "       'Jane', '(Joey enters, wearing a bathrobe)Joey', 'Kyle Lowder',\n",
       "       '(The lights dim and Chandler tries to get away but as the bitter lady comes on stage and starts yelling he promptly changes his mind and sits down)Bitter lady',\n",
       "       'Bitter lady', 'Matthew Ashford', '(Matthew leaves)Monica',\n",
       "       '(cut to Ross and Charlie)Ross', 'Rache', 'Dirk',\n",
       "       '(Dirk is confused)Joey',\n",
       "       \"(Ross looks annoyed hearing that even Dirk's character won a Nobel prize)Joey\",\n",
       "       '(Cut to Monica holding up her shirt, revealing her bra. An actor stands beside her, holding a pen in his hand.)Monica',\n",
       "       \"(Joey, resigned, walks to Rachel's table)Joey\",\n",
       "       '(Rachel is puzzled)Joey',\n",
       "       '(Joey motions for Rachel to lean in. She does so.)Joey',\n",
       "       \"(Joey leaves. Rachel gulps down what's left of her drink and grimaces.)(Chandler walks in)Chandler\",\n",
       "       '(Chandler walks in)Chandler', '(Rachel approaches Monica)Rachel',\n",
       "       '(Rachel goes look for Joey. She sees him and Charlie kissing passionately.)Ross',\n",
       "       '(Rachel just stands there staring at Joey and Charlie in silence. After a while, Ross turns around and sees them.)Ross',\n",
       "       'Bitter woman',\n",
       "       '(Joey and Charlie enter. Ross looks at her) \\n  Ross',\n",
       "       \"(somebody knocks the door, Joey opens and it's Charlie) \\nJoey\",\n",
       "       '(Phoebe enters the hall) \\nReceptionist',\n",
       "       \"(Joey walks in and moves towards Ross, who's sitting of the sofa) \\nJoey\",\n",
       "       '(Janice does her \"Janice Laugh\") \\nMonica',\n",
       "       '(Charlie walks in.) \\nRoss', '(Joey walks in) \\nJoey',\n",
       "       '(phone rings) \\nChandler', '(Monica walks in) \\nMonica',\n",
       "       '(Phoebe walks to the door and half-opens it) \\nPhoebe',\n",
       "       'Doctor Connelly', 'Professor Sherman', 'Shop assistant', 'Zack',\n",
       "       'Stranger', 'Prof. Sherman', 'Jeanette', 'MOnica',\n",
       "       'Ross and Charlie', 'Man with a bow tie', 'Phoebe & Mike',\n",
       "       'Alexandra Steele', 'Mr. Oberblau', 'Paleontologist',\n",
       "       'Professore Clerk', 'Monica, Chandler and Phoebe',\n",
       "       \"Joey's voice, but she sees Ross\", \"Joey's voice/Ross\",\n",
       "       'Rachel/Ross', 'Precious', 'Joey (to Rachel)', '\\n  [Scene',\n",
       "       'Frank Jr.', 'Monica (reads a form in her lap)', 'Colleen', 'Bill',\n",
       "       'Owen', 'Frank Jr. (looks at the triplets)',\n",
       "       'Chandler (to Monica)', 'Ross (on the verge of tears)',\n",
       "       'Assistant', '[scene', '\\nChandler',\n",
       "       '(Monica and Phoebe look at each other and leave the apartment again)\\n[Scene',\n",
       "       'Glenda',\n",
       "       '(He now turns to the other side, which also starts spraying his face and front.)\\n[Scene',\n",
       "       'Ross, Rachel and Chandler', 'Jack and Judy', 'Judy',\n",
       "       'Chandler (nearly weeping)', 'Ross (stops recording)',\n",
       "       'Phoebe (sees the cake)', 'Joey (staring at the cake)',\n",
       "       'Rachel (on the phone)', '[ Scene', '\\nRachel', '\\nMonica', 'Emma',\n",
       "       '\\xa0\\n Rachel', ' Rachel', '\\xa0\\nPhoebe',\n",
       "       '(We see the screen where it says', '\\xa0 \\nChandler',\n",
       "       'Joey (to Chandler)', 'Chandler (to Rachel)', '\\nRoss', 'Benjamin',\n",
       "       'Benjamin (to Ross)', 'Dr. Li', 'Dr. Biely', '(The commercial',\n",
       "       '\\nJoey', '\\n\\nRoss', 'Charity guy', 'Ross (to Emma)',\n",
       "       'Phoebe (to Mike)', 'Mike (to the charity guy)', 'Laura', 'Ross ',\n",
       "       '\\nAgency guy', 'Agency guy', 'Erica', '\\nPhoebe',\n",
       "       'Phoebe (walking to Ross carrying a black leather jacket)',\n",
       "       '\\n [Scene', 'Adoption Agency guy', 'Phoebe ', 'Monica (puzzled)',\n",
       "       'Missy', 'Donny Osmond', 'Donny', 'Gene', 'Stage Manager ',\n",
       "       'Roy, the male stripper', 'Roy', 'Henrietta', 'Adrienne',\n",
       "       '[Flashback scene', \" Present Chandler's voice\", 'Pizza guy',\n",
       "       \"Mike's mother\", \"Mike's father\", 'Monica (rolling her eyes)',\n",
       "       \"Mike's mom\", \"Mike's dad\", 'Rachel (leaving)', 'Tape',\n",
       "       'Casting assistant', 'Mr Zellner', 'Mr Campbell',\n",
       "       'All (except Rachel)', 'Realtor', 'Mackenzie', 'Rita', 'Mr Zelner',\n",
       "       ' Joey', 'Phoebe (doing Estelle)', 'Phoebe-Estelle', 'Lady',\n",
       "       'r Zelner', 'Rachel (she flips the coin)', 'Chandler (to Joey)',\n",
       "       'Monica (to Ross)', 'Erica (standing up)',\n",
       "       'Monica (enters the room)',\n",
       "       'Phoebe (watching the food on the table)', 'Rachel (crying)',\n",
       "       'Joey (to Ross)', 'Phoebe (to Rachel)', 'Jennifer Aniston (V.O.)',\n",
       "       'Phoebe, Ross, Rachel', 'Gate attendant #1', 'Ticket agent',\n",
       "       'Passenger #1', 'Air stewardess', 'Passenger #2', 'Passenger #3',\n",
       "       'Gate attendant #2'], dtype=object)"
      ]
     },
     "execution_count": 13,
     "metadata": {},
     "output_type": "execute_result"
    }
   ],
   "source": [
    "friends_df['character'].unique()"
   ]
  },
  {
   "cell_type": "code",
   "execution_count": 16,
   "id": "e258b847-2a52-4722-85fe-af81032f7041",
   "metadata": {},
   "outputs": [],
   "source": [
    "#lowercasing all the characters to have each character \n",
    "friends_df['character'] = friends_df['character'].str.lower()"
   ]
  },
  {
   "cell_type": "code",
   "execution_count": 17,
   "id": "7b937096-55f3-4f36-b561-3aa639b1b426",
   "metadata": {
    "scrolled": true,
    "tags": []
   },
   "outputs": [
    {
     "data": {
      "text/plain": [
       "array(['phoebe', 'ross', 'joey', 'chandler', 'monica', 'paul', 'rachel',\n",
       "       'priest on tv', 'all', 'frannie', 'ross and rachel', 'customer',\n",
       "       'marsha', 'carol', 'chandler and joey', 'mrs. geller',\n",
       "       'mr. geller', 'susan', 'barry', 'robbie', 'bernice', 'dr. oberman',\n",
       "       'paula', 'alan', 'the guys', 'lizzie', 'guys', 'leslie', 'kiki',\n",
       "       'joanne', 'receptionist', 'pizza guy', 'monica and phoebe', 'both',\n",
       "       'kid', 'angela', 'janice', 'woman', 'bob', 'aurora', 'director',\n",
       "       'jill', 'monica, joey, and phoebe', 'mr. heckles', 'paolo',\n",
       "       'aunt lillian', 'nurse', 'shelley', 'andrea', 'lowell', 'terry',\n",
       "       'guy', 'girl',\n",
       "       '(joey turns around and sees his face on a poster in the subway. the poster says',\n",
       "       'max', 'david', 'sandy', 'fun bobby', 'dick clark', 'jay leno',\n",
       "       'mrs. bing', 'coma guy', 'joey, chandler, and ross',\n",
       "       'carol and susan', \"phoebe's assistant\", 'joey and chandler',\n",
       "       'rachel and phoebe', 'girls', 'roger', 'mr. tribbiani', 'ronni',\n",
       "       'mrs. tribbiani', 'lorraine', 'kristin', 'fireman no. 1',\n",
       "       'fireman no. 2', 'fireman no. 3', 'mrs. tedlock', 'celia', 'steve',\n",
       "       '[scene ', '[scene 13', 'dr. mitchell', 'rachel (as monica)',\n",
       "       'monica (as rachel)', 'dr. rosen', 'the whole party',\n",
       "       \"phoebe's friends\", 'rachel and monica', 'ross and chandler',\n",
       "       'ursula', 'chandler and ross', 'phoebe and rachel', 'aunt iris',\n",
       "       'intercom', 'luisa', 'woman no. 1', 'woman no. 2', '(scene 4',\n",
       "       'joey and ross', 'bobby', 'mindy', 'danielle', 'teacher',\n",
       "       'fake monica', 'dr. baldhara', 'pa', 'actor',\n",
       "       'casting director no. 1', 'casting director no. 2',\n",
       "       'phoebe, joey, and ross', 'young ethan',\n",
       "       'ross, rachel, and phoebe', 'joey, chander, and ross', 'gerston',\n",
       "       'santos', 'petrie', 'dr. franzblau', 'lydia', 'susan and ross',\n",
       "       'janitor', 'melanie', 'flight attendant', 'man', 'carl', 'julie',\n",
       "       'ross and julie', 'paulo', 'frankie', 'annabelle', 'hombre man',\n",
       "       'store guy', \"(machine--joey's voice)\", 'jade', 'waiter',\n",
       "       'machine', 'waitress', '\\n[scene', 'rach', 'mnca', 'phoe',\n",
       "       'phoe/mnca', 'chan', 'rtst', 'joey/chan', 'chan, joey, ross',\n",
       "       'radio', 'mr. treeger', 'fbob', 'russ', 'estl', 'gang',\n",
       "       'credits [scene', '\\n\\njoey', 'video', 'richard', \"woman's voice\",\n",
       "       'michelle', 'sherman whitfield', 'whitfield', 'malcom', 'host',\n",
       "       'mike', 'young ross', 'young monica', 'frank', 'phoebe and girl',\n",
       "       'jasmine', 'isabella', 'monica and rachel', 'eric', 'friend no. 1',\n",
       "       'friend no. 2', 'her friends', 'gunther', 'matress king',\n",
       "       'dr. green', 'dr green', 'student', 'jester', 'ben',\n",
       "       'chandler and phoebe', 'monica and ross',\n",
       "       'rachel, chandler, and joey', 'monica and joey', 'margha',\n",
       "       '[sequence 1', '[sequence 2', '[sequence 3', '[sequence 4',\n",
       "       '[sequence 5', 'sarah', 'leader', 'joey and monica',\n",
       "       'rachel’s boss', 'mr. kaplan', 'joey’s sisters', 'cookie',\n",
       "       'sister 1', 'joey’s grandmother', 'joey’s sister', 'mary-angela',\n",
       "       'mary-theresa', 'mark', 'jeannine', 'julio', 'quartet',\n",
       "       'the bass barber', 'bass singer', 'clerk', 'robert',\n",
       "       'richard’s date', 'singer', 'monica, ross, and joey', 'ginger',\n",
       "       'phoebe and monica', 'phoebe and leslie', 'lecturer', 'commercial',\n",
       "       'issac', 'chloe', 'sergei', 'mischa', 'sophie',\n",
       "       '(ross finds a clock, sees it’s almost 8',\n",
       "       \"[cut to monica's bedroom, they’re all eating the wax, chandler and phoebe,\\ndon’t like it. joey tries some and makes a face like\",\n",
       "       'the girls', 'chandler, phoebe, and joey', 'alice',\n",
       "       'hypnosis tape', 'pete', 'ross and joey', 'secretary', 'employee',\n",
       "       'the director', 'kate', 'spokeswoman', 'joanna', 'lauren',\n",
       "       'anchorwoman', 'chandler, phoebe, and rachel', 'hold voice',\n",
       "       'tommy', 'cailin', 'estelle', 'stage manager', 'vince', 'jason',\n",
       "       'dr. rhodes', 'dr. johnson', \"pete's mom\", 'fireman', 'guru saj',\n",
       "       'billy crystal', 'robin williams', 'billy', 'robin', 'doug',\n",
       "       'hoshi', 'bonnie', 'phil', 'stevens', 'announcer', 'referee',\n",
       "       'tv announcer', 'chandler, monica, and joey', 'phoebe sr',\n",
       "       'ross and bonnie', 'rachel and bonnie', 'phoebe sr.',\n",
       "       'phoebe, ross, and rachel', 'chip', 'tony', 'peter',\n",
       "       'chandler, monica, joey, and rachel', 'the salesman',\n",
       "       'monica, chandler, phoebe, and rachel', 'oven',\n",
       "       'joey, rachel, and ross', 'gym employee', 'rick', 'bank officer',\n",
       "       'ms. lambert',\n",
       "       '(the camera zooms in on the clock on the wall and it reads a quarter after one. time\\nlapse. the clock now reads 3',\n",
       "       'mrs. potter', 'mr. simon', 'interviewer', 'kathy', 'josh',\n",
       "       'amanda', 'cheryl', 'everyone', 'mrs. burkart', 'casey', 'voice',\n",
       "       'doctor', 'dr. timothy burke', 'tim', 'mr. posner', 'mrs. lynch',\n",
       "       'allesandro', 'chandler, joey, and phoebe', 'drew',\n",
       "       'monica, rachel, and joey', 'a waiter', 'the waiter',\n",
       "       'the conductor', 'the woman from poughkeepsie', 'kitchen worker',\n",
       "       'woman on train', 'chandler, monica, and rachel', 'smart kid',\n",
       "       'tour guide', 'older scientist', 'another tour guide',\n",
       "       'another scientist', 'dr. zane', 'frank and alice',\n",
       "       \"kathy's co-star\", 'mr. waltham', 'joshua', 'emily', 'the a.d',\n",
       "       'the cigarette smoking guy', 'charlton heston',\n",
       "       'the cigarette guy', 'devon', 'liam', 'ticket counter attendant',\n",
       "       'mrs. chatracus', 'the doctor', 'ticket agent', 'mrs. burgin',\n",
       "       'mr. burgin', 'the singing man', 'the saleslady',\n",
       "       'sleep clinic worker', 'marjorie', 'rachel, monica, roy, and chip',\n",
       "       'the stripper', 'the vendor', 'fergie', 'housekeeper',\n",
       "       'ross and monica', 'mrs. waltham', 'felicity', 'drunk man',\n",
       "       'passenger', 'minister', 'minster', 'gate agent', 'dave',\n",
       "       'dr. harad', \"joey's doctor\", 'male nurse', 'dan',\n",
       "       'delivery room nurse', 'stage director', 'emeril', 'pbs volunteer',\n",
       "       'gary collins', 'hotel clerk', 'chandler and monica', 'danny',\n",
       "       'health inspector', 'larry', 'tom', 'the housekeeper',\n",
       "       'past life phoebe', 'big nosed rachel', 'fat monica',\n",
       "       'the paramedic', 'french phoebe', 'the teacher', 'cynthia',\n",
       "       'dr. leedbetter', 'a female student', 'the man', \"danny's sister\",\n",
       "       'krista', 'elizabeth hornswoggle', 'elizabeth', 'joey and rachel',\n",
       "       'kara',\n",
       "       \"[suddenly the door opens and ross's mystery girl enters. i'll give you a hint to who it\\nis\",\n",
       "       'frank sr.', 'the pastor', 'the casting director', 'dr. ledbetter',\n",
       "       'katie', 'party guests', 'guest #1', 'guest #2', 'guest #3',\n",
       "       'dream monica', 'dream joey', 'the smoking woman', 'cop',\n",
       "       'chandler and rachel', 'phoebe and joey', 'gary', 'the saleswoman',\n",
       "       \"gary's radio\", 'the old man', 'the little girl', 'mr. zelner',\n",
       "       'the hot girl', 'jen', 'kim', 'nancy', 'kyle', 'raymond',\n",
       "       'delivery girl', 'caitlin', 'grandma tribbiani',\n",
       "       'answering machine', 'phoebe and gary', 'dr. miller', 'stanley',\n",
       "       'the grip', 'the husband', 'a casino boss', 'a tourist',\n",
       "       'the croupier', 'the flight attendant', 'blackjack dealer',\n",
       "       'the woman dealer', \"joey's hand twin\", 'a drunken gambler',\n",
       "       'drunken gambler', 'the lurker', 'the security guard',\n",
       "       'the attendant', 'attendant', '{transciber’s note', 'croupler',\n",
       "       'hitchhiker', '{note', 'stephanie', 'karin', 'meg', 'russell',\n",
       "       'the potential roommate', 'the professor', 'casting director #1',\n",
       "       'casting director #2', 'casting director #3', 'a crew member',\n",
       "       'alex', 'a student', 'guy #1', 'guy #2', 'the porsche owner',\n",
       "       'judge', 'passerby', 'janine', '[scene, the park',\n",
       "       '[scene, central perk', 'ralph lauren', 'hillary',\n",
       "       'janine [to chandler]', 'mr. and mrs. geller', 'tall guy',\n",
       "       'joey’s head', 'patron', 'customers', 'phoebe and ross',\n",
       "       'a male customer', 'the fan', 'buffay, the vampire layer',\n",
       "       'the vampire', 'man’s voice', 'another man’s voice',\n",
       "       'same man’s voice', '{transcriber’s note', \"monica's boyfriend\",\n",
       "       'guy all the way in the back', 'dr. wesley', 'dr. drake remoray',\n",
       "       'hope', 'dr. roger', 'arthur', 'jack', \"joey's look-a-like\",\n",
       "       'the instructor', 'janice’s voice', 'burt', 'fireman #1', 'dana',\n",
       "       'fireman #2', 'mel', 'professor feesen', 'sebastian', 'eldad',\n",
       "       'patrick',\n",
       "       '(phoebe grabs each of them by an ear.)\\n\\nmonica and rachel',\n",
       "       'the producer', 'wayne', 'c.h.e.e.s.e.', 'the dry cleaner',\n",
       "       'the museum official', 'female clerk', 'male jeweler',\n",
       "       'female jeweler', 'mr. thompson', 'zoe', 'first dorm guy',\n",
       "       'second dorm guy', \"matire'd\", 'lisa', 'emil alexander',\n",
       "       'mr. bowmont', 'narrator', 'mac', 'c.h.e.e.s.e', 'hilda', 'tag',\n",
       "       'nurse #1', 'nurse #2', 'dr. stryker remoray', 'melissa',\n",
       "       'the photographer', 'hums while he pees', 'whitney', 'joey’s date',\n",
       "       'erin', 'female student', 'male student', 'the waitress',\n",
       "       'the colonel', 'the librarian', 'the head librarian',\n",
       "       'joey, rachel, and phoebe', 'the knocker', 'the woman',\n",
       "       \"maitre d'\", 'male guest', 'rachel and joey', 'salesman',\n",
       "       'the wedding guest', 'the second guest', 'aunt millie',\n",
       "       'smoke detector', 'a disembodied voice', 'the fireman',\n",
       "       'supervisor', 'earl', 'the \"hey guy\" guy', 'marge',\n",
       "       '[flashback to', 'the man in the sportscar', 'dina',\n",
       "       'jessica lockhart', 'cecilia', 'the writer', 'monica and chandler',\n",
       "       'fredrick', 'matthew perry', 'lisa kudrow',\n",
       "       '(why was this the trailer? well, that’s because it was an introduction into the\\nspecial out takes episode that immediately followed the show. the entire out takes\\nepisode, friends',\n",
       "       'fat joey', 'kristen', 'megan', 'a woman', 'lewis', 'morse',\n",
       "       'the cute guy', 'jake', 'the presenter', 'jessica ashley',\n",
       "       'cassie', 'the other woman', 'a waiter in drag', 'waiter in drag',\n",
       "       'helena', 'policeman', 'the chorus line', 'the assistant director',\n",
       "       'mr. bing', 'the rabbi', 'conan', 'jennifer', 'matthew',\n",
       "       'courtney', 'matt', 'photographer', 'bandleader', 'mona',\n",
       "       'dennis phillips', 'little girl', 'second girl', 'ashley',\n",
       "       'fat girl', 'gert', 'front desk clerk', 'woman at the wedding',\n",
       "       'man at the wedding', 'anxious wedding guest', 'airline employee',\n",
       "       'dr. long', 'mr. franklin', \"joey's co-star\", 'dr. drake ramoray',\n",
       "       'kash', 'kids', 'witch', 'clown', 'cowgirl', 'ballerina',\n",
       "       'boy in the cape', '[time lapse', \"mrs. verhoeven's daughter\",\n",
       "       'brenda', 'stripper', 'hooker', 'stu', 'will', 'ross and will',\n",
       "       'trudie styler', 'dr. schiff', 'locksmith', \"joey's date\",\n",
       "       'man on tv', 'woman on tv', 'don', 'waiter no. 2', 'jim',\n",
       "       \"mona's date\", 'parker', 'aunt lisa', 'uncle dan',\n",
       "       'the interviewer',\n",
       "       '[this starts a series of flashbacks; the first one is from episode 106',\n",
       "       '[the next one is from episode 304',\n",
       "       '[the next one is from episode 322',\n",
       "       '[the next one is from episode 204',\n",
       "       '[this starts another series of flashbacks about joey’s hobbies. the first one is\\nfrom episode 703',\n",
       "       '[the next one is from episode 603',\n",
       "       '[the next one is from episode 507',\n",
       "       '[the next one is from episode 417',\n",
       "       '[another set of flashbacks begin with episode 521',\n",
       "       '[the next one is from episode 604',\n",
       "       '[the next one is from episode 609',\n",
       "       '[the next one is from episode 619',\n",
       "       '[the next one is from episode 711',\n",
       "       '[they gang all lean back to listen better, and this starts another series of\\nflashbacks. the first one is from episode 214',\n",
       "       '[the next one is from episode 224',\n",
       "       '[the next one is from episode 512',\n",
       "       '[the next one is from episode 401',\n",
       "       '[another group of flashbacks begin with episode 513',\n",
       "       '[the next one is from episode 712',\n",
       "       '[the next one is from episode 722',\n",
       "       '[the next one is from episode 608',\n",
       "       '[the next one is from episode 706',\n",
       "       '[another series of flashbacks begins with episode 413',\n",
       "       '[the next one is from episode 605',\n",
       "       '[the next one is from episode 613',\n",
       "       '[the final one is from episode 607', 'mrs. green', 'ray',\n",
       "       'cashier', 'the food critic', 'the cooking teacher',\n",
       "       'the acting teacher', 'marc', 'evil bitch', 'sick bastard',\n",
       "       'woman giving birth', 'cliff', 'sid', 'ms. mckenna', '[scene',\n",
       "       'joey and phoebe', 'mary ellen', 'dr. gettleman', 'sally', 'boy',\n",
       "       'cut to', ' [scene', ' hayley', ' gunther', \" hayley's roommate\",\n",
       "       ' phoebe', 'ken', 'claudia', 'phoebe & joey', 'maitre d�',\n",
       "       'ms. geller', 'ross & rachel', 'monica & chandler', 'waiters',\n",
       "       'prospective nanny', 'sandy/grumpus', 'joey/wigglemunch',\n",
       "       'catherine', 'bitsy', 'theodore', 'joey nods', 'rachel to emma',\n",
       "       'woman at door',\n",
       "       'ross and rachel while looking at each other surprised and shocked',\n",
       "       'woman at door in a sing song voice', 'amy',\n",
       "       'ross with a look of wondering how long this is going to go on on his face',\n",
       "       \"ross starts talking over her 'do you remember' line\",\n",
       "       'amy with straight hair', 'amy storms out',\n",
       "       'rachel opens their door', 'everyone there says', 'joey laughs',\n",
       "       'joey looks rejected', 'ross to monica', 'monica to ross',\n",
       "       'monica to emma', 'monica to amy',\n",
       "       'amy with confused look on face',\n",
       "       'phoebe shakes her hand and says', 'phoebe looks down',\n",
       "       'amy coming out of the bathroom',\n",
       "       \"ross first has a look of 'huh' then changes it to sarcastic happy\",\n",
       "       'amy turns around to phoebe', 'amy turns to ross and rachel',\n",
       "       'ross starts playing with a plate',\n",
       "       'monica about to have a heart attack', 'joey raises his hand',\n",
       "       'ross looks down',\n",
       "       'phoebe while cutting a sweet potatoe in the air',\n",
       "       'joey groans and gets off the phone',\n",
       "       'joey all nervous and looking down and fiddling with his ear',\n",
       "       'amy walks over to the couch and sits down next to rachel',\n",
       "       'rachel turns to ross', 'ross walks over',\n",
       "       'monica screaming at ross', \"rachel starts messing up amy's hair\",\n",
       "       'amy and rachel at same time', 'monica starts crying',\n",
       "       'amy starting to cry', 'jo lynn', 'bill', 'kevin', '\\n  kevin',\n",
       "       '[tag scene', 'wendy', 'others',\n",
       "       '[flashback to 410 - tow the girl from poughkeepsie]\\n[scene',\n",
       "       '[flashback to 610 - tow the routine]\\n[scene',\n",
       "       \"[flashback to 209 - tow phoebe's dad]\\n[scene\",\n",
       "       '[flashback to 710 - tow the holiday armadillo]\\n[scene',\n",
       "       '[scene change back an forth',\n",
       "       '[flashback to 716 - tow the truth about london]\\n[scene',\n",
       "       '[flashback to 503 - tow the triplets]\\n[scene',\n",
       "       '[flashback to 524 - toi vegas, part ii]\\n[scene',\n",
       "       \"[flashback to 702 - tow rachel's book]\\n[scene\", 'molly', 'gavin',\n",
       "       'heather', 'ross, joey and chandler', 'salon girl',\n",
       "       'joey (checks the refrigerator)',\n",
       "       'chandler (reading the newspaper)',\n",
       "       'joey (gives a thumbs up sign)', 'steve (staring at rachel)',\n",
       "       'rachel (feeling awkward)', 'rachel (awkward chuckle)',\n",
       "       'phoebe (to joey)', 'chandler (laughs)', 'monica (laughs)',\n",
       "       'waiter #2', 'steve (sobbing)', 'monica (on phone)',\n",
       "       'rachel (to steve)', 'monica (to joey)', 'joey & monica',\n",
       "       'monica, chandler, ross', 'chandler (stands up and walks to joey)',\n",
       "       'handyman', 'monica, rachel, chandler',\n",
       "       'chandler/joey/rachel/monica', 'strange man', 'manny', 'kori',\n",
       "       'everyone almost simultaneously except ross', 'racel',\n",
       "       'rachel, chandler and monica', 'everyone but monica', 'message',\n",
       "       'second message', 'tv', 'everybody',\n",
       "       '(rachel comes out of her room and starts staring at him unseen)joey',\n",
       "       '(chandler enters)chandler',\n",
       "       \"(the scene starts.joey enters and there's a girl wearing a wedding dress near a bed)actress/olivia\",\n",
       "       'actress/olivia', 'joey/drake', '(the actress slaps him)rachel',\n",
       "       'chase lassiter', '1st customer', '2nd customer', '3rd customer',\n",
       "       '(monica covers her face with her hands)[scene', 'rachel/actress',\n",
       "       '(chandler enters the room)ross', 'chandlers',\n",
       "       '(ross claps his hands)chandler', '(phoebe comes in)phoebe',\n",
       "       '(silence)rachel',\n",
       "       '(the receptions is puzzled. she goes in the back.)chandler',\n",
       "       '(they make as if to go, but ross notices something)ross',\n",
       "       \"(ross starts stuffing pinecones in the suitcase. as the receptionist walks in, chandler makes a bird's verse and ross stops)ross\",\n",
       "       '(he picks up the suitcase, which falls open, revealing all the stuff they have taken from the hotel. the receptionist just looks at them.)ross',\n",
       "       '(monica comes out)monica',\n",
       "       '(monica seems to take it amiss)phoebe',\n",
       "       '(joey and rachel continue to look at each other in silence for a while)joey',\n",
       "       '(then ross enters)ross',\n",
       "       '(monica points at joey, rachel turns and sees him)rachel',\n",
       "       '(a woman walks in)charlie', 'charlie', 'professor spafford',\n",
       "       '(rachel enters the room and checks the answering machine)jane',\n",
       "       'jane', '(joey enters, wearing a bathrobe)joey', 'kyle lowder',\n",
       "       '(the lights dim and chandler tries to get away but as the bitter lady comes on stage and starts yelling he promptly changes his mind and sits down)bitter lady',\n",
       "       'bitter lady', 'matthew ashford', '(matthew leaves)monica',\n",
       "       '(cut to ross and charlie)ross', 'rache', 'dirk',\n",
       "       '(dirk is confused)joey',\n",
       "       \"(ross looks annoyed hearing that even dirk's character won a nobel prize)joey\",\n",
       "       '(cut to monica holding up her shirt, revealing her bra. an actor stands beside her, holding a pen in his hand.)monica',\n",
       "       \"(joey, resigned, walks to rachel's table)joey\",\n",
       "       '(rachel is puzzled)joey',\n",
       "       '(joey motions for rachel to lean in. she does so.)joey',\n",
       "       \"(joey leaves. rachel gulps down what's left of her drink and grimaces.)(chandler walks in)chandler\",\n",
       "       '(chandler walks in)chandler', '(rachel approaches monica)rachel',\n",
       "       '(rachel goes look for joey. she sees him and charlie kissing passionately.)ross',\n",
       "       '(rachel just stands there staring at joey and charlie in silence. after a while, ross turns around and sees them.)ross',\n",
       "       'bitter woman',\n",
       "       '(joey and charlie enter. ross looks at her) \\n  ross',\n",
       "       \"(somebody knocks the door, joey opens and it's charlie) \\njoey\",\n",
       "       '(phoebe enters the hall) \\nreceptionist',\n",
       "       \"(joey walks in and moves towards ross, who's sitting of the sofa) \\njoey\",\n",
       "       '(janice does her \"janice laugh\") \\nmonica',\n",
       "       '(charlie walks in.) \\nross', '(joey walks in) \\njoey',\n",
       "       '(phone rings) \\nchandler', '(monica walks in) \\nmonica',\n",
       "       '(phoebe walks to the door and half-opens it) \\nphoebe',\n",
       "       'doctor connelly', 'professor sherman', 'shop assistant', 'zack',\n",
       "       'stranger', 'prof. sherman', 'jeanette', 'ross and charlie',\n",
       "       'man with a bow tie', 'phoebe & mike', 'alexandra steele',\n",
       "       'mr. oberblau', 'paleontologist', 'professore clerk',\n",
       "       'monica, chandler and phoebe', \"joey's voice, but she sees ross\",\n",
       "       \"joey's voice/ross\", 'rachel/ross', 'precious', 'joey (to rachel)',\n",
       "       '\\n  [scene', 'frank jr.', 'monica (reads a form in her lap)',\n",
       "       'colleen', 'owen', 'frank jr. (looks at the triplets)',\n",
       "       'chandler (to monica)', 'ross (on the verge of tears)',\n",
       "       'assistant', '\\nchandler',\n",
       "       '(monica and phoebe look at each other and leave the apartment again)\\n[scene',\n",
       "       'glenda',\n",
       "       '(he now turns to the other side, which also starts spraying his face and front.)\\n[scene',\n",
       "       'ross, rachel and chandler', 'jack and judy', 'judy',\n",
       "       'chandler (nearly weeping)', 'ross (stops recording)',\n",
       "       'phoebe (sees the cake)', 'joey (staring at the cake)',\n",
       "       'rachel (on the phone)', '[ scene', '\\nrachel', '\\nmonica', 'emma',\n",
       "       '\\xa0\\n rachel', ' rachel', '\\xa0\\nphoebe',\n",
       "       '(we see the screen where it says', '\\xa0 \\nchandler',\n",
       "       'joey (to chandler)', 'chandler (to rachel)', '\\nross', 'benjamin',\n",
       "       'benjamin (to ross)', 'dr. li', 'dr. biely', '(the commercial',\n",
       "       '\\njoey', '\\n\\nross', 'charity guy', 'ross (to emma)',\n",
       "       'phoebe (to mike)', 'mike (to the charity guy)', 'laura', 'ross ',\n",
       "       '\\nagency guy', 'agency guy', 'erica', '\\nphoebe',\n",
       "       'phoebe (walking to ross carrying a black leather jacket)',\n",
       "       '\\n [scene', 'adoption agency guy', 'phoebe ', 'monica (puzzled)',\n",
       "       'missy', 'donny osmond', 'donny', 'gene', 'stage manager ',\n",
       "       'roy, the male stripper', 'roy', 'henrietta', 'adrienne',\n",
       "       '[flashback scene', \" present chandler's voice\", \"mike's mother\",\n",
       "       \"mike's father\", 'monica (rolling her eyes)', \"mike's mom\",\n",
       "       \"mike's dad\", 'rachel (leaving)', 'tape', 'casting assistant',\n",
       "       'mr zellner', 'mr campbell', 'all (except rachel)', 'realtor',\n",
       "       'mackenzie', 'rita', 'mr zelner', ' joey',\n",
       "       'phoebe (doing estelle)', 'phoebe-estelle', 'lady', 'r zelner',\n",
       "       'rachel (she flips the coin)', 'chandler (to joey)',\n",
       "       'monica (to ross)', 'erica (standing up)',\n",
       "       'monica (enters the room)',\n",
       "       'phoebe (watching the food on the table)', 'rachel (crying)',\n",
       "       'joey (to ross)', 'phoebe (to rachel)', 'jennifer aniston (v.o.)',\n",
       "       'phoebe, ross, rachel', 'gate attendant #1', 'passenger #1',\n",
       "       'air stewardess', 'passenger #2', 'passenger #3',\n",
       "       'gate attendant #2'], dtype=object)"
      ]
     },
     "execution_count": 17,
     "metadata": {},
     "output_type": "execute_result"
    }
   ],
   "source": [
    "friends_df['character'].unique()"
   ]
  },
  {
   "cell_type": "code",
   "execution_count": 88,
   "id": "1407ae0f-7c9e-4a36-92ac-52481eaa4956",
   "metadata": {},
   "outputs": [],
   "source": [
    "#main_cast = friends_df[friends_df['character'] is in ['phoebe', 'ross', 'joey', 'chandler', 'monica', 'rachel']]\n",
    "main_characters = ['phoebe', 'ross', 'joey', 'chandler', 'monica', 'rachel']\n",
    "main_cast = friends_df[friends_df['character'].isin(main_characters)].copy()"
   ]
  },
  {
   "cell_type": "code",
   "execution_count": 89,
   "id": "9b07b7f8-595b-4254-9ca8-1a87cbdd9241",
   "metadata": {},
   "outputs": [
    {
     "data": {
      "text/html": [
       "<div>\n",
       "<style scoped>\n",
       "    .dataframe tbody tr th:only-of-type {\n",
       "        vertical-align: middle;\n",
       "    }\n",
       "\n",
       "    .dataframe tbody tr th {\n",
       "        vertical-align: top;\n",
       "    }\n",
       "\n",
       "    .dataframe thead th {\n",
       "        text-align: right;\n",
       "    }\n",
       "</style>\n",
       "<table border=\"1\" class=\"dataframe\">\n",
       "  <thead>\n",
       "    <tr style=\"text-align: right;\">\n",
       "      <th></th>\n",
       "      <th>season</th>\n",
       "      <th>episode</th>\n",
       "      <th>title</th>\n",
       "      <th>character</th>\n",
       "      <th>dialogue</th>\n",
       "    </tr>\n",
       "  </thead>\n",
       "  <tbody>\n",
       "    <tr>\n",
       "      <th>0</th>\n",
       "      <td>1</td>\n",
       "      <td>01</td>\n",
       "      <td>Monica Gets A Roommate</td>\n",
       "      <td>phoebe</td>\n",
       "      <td>(singing) Love is sweet as\\nsummer showers, l...</td>\n",
       "    </tr>\n",
       "    <tr>\n",
       "      <th>1</th>\n",
       "      <td>1</td>\n",
       "      <td>01</td>\n",
       "      <td>Monica Gets A Roommate</td>\n",
       "      <td>ross</td>\n",
       "      <td>(squatting and reading the instructions) I'm\\...</td>\n",
       "    </tr>\n",
       "    <tr>\n",
       "      <th>2</th>\n",
       "      <td>1</td>\n",
       "      <td>01</td>\n",
       "      <td>Monica Gets A Roommate</td>\n",
       "      <td>joey</td>\n",
       "      <td>I'm thinking we've got a\\nbookcase here.</td>\n",
       "    </tr>\n",
       "    <tr>\n",
       "      <th>3</th>\n",
       "      <td>1</td>\n",
       "      <td>01</td>\n",
       "      <td>Monica Gets A Roommate</td>\n",
       "      <td>chandler</td>\n",
       "      <td>It's a beautiful thing.</td>\n",
       "    </tr>\n",
       "    <tr>\n",
       "      <th>4</th>\n",
       "      <td>1</td>\n",
       "      <td>01</td>\n",
       "      <td>Monica Gets A Roommate</td>\n",
       "      <td>joey</td>\n",
       "      <td>(picking up a leftover part) What's this?</td>\n",
       "    </tr>\n",
       "  </tbody>\n",
       "</table>\n",
       "</div>"
      ],
      "text/plain": [
       "   season episode                   title character  \\\n",
       "0       1      01  Monica Gets A Roommate    phoebe   \n",
       "1       1      01  Monica Gets A Roommate      ross   \n",
       "2       1      01  Monica Gets A Roommate      joey   \n",
       "3       1      01  Monica Gets A Roommate  chandler   \n",
       "4       1      01  Monica Gets A Roommate      joey   \n",
       "\n",
       "                                            dialogue  \n",
       "0   (singing) Love is sweet as\\nsummer showers, l...  \n",
       "1   (squatting and reading the instructions) I'm\\...  \n",
       "2           I'm thinking we've got a\\nbookcase here.  \n",
       "3                            It's a beautiful thing.  \n",
       "4          (picking up a leftover part) What's this?  "
      ]
     },
     "execution_count": 89,
     "metadata": {},
     "output_type": "execute_result"
    }
   ],
   "source": [
    "main_cast.head()"
   ]
  },
  {
   "cell_type": "code",
   "execution_count": 90,
   "id": "4e4493ee-6dab-4c62-aff4-0333aac99afe",
   "metadata": {},
   "outputs": [
    {
     "data": {
      "text/plain": [
       "array(['phoebe', 'ross', 'joey', 'chandler', 'monica', 'rachel'],\n",
       "      dtype=object)"
      ]
     },
     "execution_count": 90,
     "metadata": {},
     "output_type": "execute_result"
    }
   ],
   "source": [
    "main_cast['character'].unique()"
   ]
  },
  {
   "cell_type": "code",
   "execution_count": 91,
   "id": "c94ad048-f5b5-44c2-8846-644d53ad737e",
   "metadata": {},
   "outputs": [
    {
     "data": {
      "text/plain": [
       "array([ 1,  2,  3,  4,  5,  6, 61,  7,  8,  9, 92, 10])"
      ]
     },
     "execution_count": 91,
     "metadata": {},
     "output_type": "execute_result"
    }
   ],
   "source": [
    "main_cast['season'].unique()"
   ]
  },
  {
   "cell_type": "code",
   "execution_count": 92,
   "id": "1c67955b-67b5-4970-910e-8a4ad410ae2f",
   "metadata": {},
   "outputs": [],
   "source": [
    "#Seems like web-scraping the pages might have resulted in some wrong data, so I will replace 61 and 92 with its corresponding \n",
    "main_cast['season'].replace([61, 92], [6,9], inplace=True)"
   ]
  },
  {
   "cell_type": "code",
   "execution_count": 98,
   "id": "160ea1a2-bceb-4234-84f9-1d9713420559",
   "metadata": {},
   "outputs": [
    {
     "data": {
      "text/plain": [
       "rachel      8380\n",
       "ross        8276\n",
       "chandler    7577\n",
       "monica      7539\n",
       "joey        7478\n",
       "phoebe      6728\n",
       "Name: character, dtype: int64"
      ]
     },
     "execution_count": 98,
     "metadata": {},
     "output_type": "execute_result"
    }
   ],
   "source": [
    "#seeing how many times the character appears \n",
    "main_cast['character'].value_counts()"
   ]
  },
  {
   "cell_type": "code",
   "execution_count": 97,
   "id": "a526cc9b-57a1-4378-ab98-05c22b885611",
   "metadata": {},
   "outputs": [
    {
     "data": {
      "application/vnd.plotly.v1+json": {
       "config": {
        "plotlyServerURL": "https://plot.ly"
       },
       "data": [
        {
         "alignmentgroup": "True",
         "hovertemplate": "color=Rachel<br>index=%{x}<br>value=%{y}<extra></extra>",
         "legendgroup": "Rachel",
         "marker": {
          "color": "#636efa",
          "pattern": {
           "shape": ""
          }
         },
         "name": "Rachel",
         "offsetgroup": "Rachel",
         "orientation": "v",
         "showlegend": true,
         "textposition": "auto",
         "type": "bar",
         "x": [
          "rachel"
         ],
         "xaxis": "x",
         "y": [
          8380
         ],
         "yaxis": "y"
        },
        {
         "alignmentgroup": "True",
         "hovertemplate": "color=Ross<br>index=%{x}<br>value=%{y}<extra></extra>",
         "legendgroup": "Ross",
         "marker": {
          "color": "#EF553B",
          "pattern": {
           "shape": ""
          }
         },
         "name": "Ross",
         "offsetgroup": "Ross",
         "orientation": "v",
         "showlegend": true,
         "textposition": "auto",
         "type": "bar",
         "x": [
          "ross"
         ],
         "xaxis": "x",
         "y": [
          8276
         ],
         "yaxis": "y"
        },
        {
         "alignmentgroup": "True",
         "hovertemplate": "color=Chandler<br>index=%{x}<br>value=%{y}<extra></extra>",
         "legendgroup": "Chandler",
         "marker": {
          "color": "#00cc96",
          "pattern": {
           "shape": ""
          }
         },
         "name": "Chandler",
         "offsetgroup": "Chandler",
         "orientation": "v",
         "showlegend": true,
         "textposition": "auto",
         "type": "bar",
         "x": [
          "chandler"
         ],
         "xaxis": "x",
         "y": [
          7577
         ],
         "yaxis": "y"
        },
        {
         "alignmentgroup": "True",
         "hovertemplate": "color=Monica<br>index=%{x}<br>value=%{y}<extra></extra>",
         "legendgroup": "Monica",
         "marker": {
          "color": "#ab63fa",
          "pattern": {
           "shape": ""
          }
         },
         "name": "Monica",
         "offsetgroup": "Monica",
         "orientation": "v",
         "showlegend": true,
         "textposition": "auto",
         "type": "bar",
         "x": [
          "monica"
         ],
         "xaxis": "x",
         "y": [
          7539
         ],
         "yaxis": "y"
        },
        {
         "alignmentgroup": "True",
         "hovertemplate": "color=Joey<br>index=%{x}<br>value=%{y}<extra></extra>",
         "legendgroup": "Joey",
         "marker": {
          "color": "#FFA15A",
          "pattern": {
           "shape": ""
          }
         },
         "name": "Joey",
         "offsetgroup": "Joey",
         "orientation": "v",
         "showlegend": true,
         "textposition": "auto",
         "type": "bar",
         "x": [
          "joey"
         ],
         "xaxis": "x",
         "y": [
          7478
         ],
         "yaxis": "y"
        },
        {
         "alignmentgroup": "True",
         "hovertemplate": "color=Phoebe<br>index=%{x}<br>value=%{y}<extra></extra>",
         "legendgroup": "Phoebe",
         "marker": {
          "color": "#19d3f3",
          "pattern": {
           "shape": ""
          }
         },
         "name": "Phoebe",
         "offsetgroup": "Phoebe",
         "orientation": "v",
         "showlegend": true,
         "textposition": "auto",
         "type": "bar",
         "x": [
          "phoebe"
         ],
         "xaxis": "x",
         "y": [
          6728
         ],
         "yaxis": "y"
        }
       ],
       "layout": {
        "autosize": true,
        "barmode": "relative",
        "font": {
         "color": "RebeccaPurple",
         "family": "Times New Roman, monospace",
         "size": 14
        },
        "legend": {
         "title": {
          "text": "color"
         },
         "tracegroupgap": 0
        },
        "margin": {
         "t": 60
        },
        "template": {
         "data": {
          "bar": [
           {
            "error_x": {
             "color": "#2a3f5f"
            },
            "error_y": {
             "color": "#2a3f5f"
            },
            "marker": {
             "line": {
              "color": "#E5ECF6",
              "width": 0.5
             },
             "pattern": {
              "fillmode": "overlay",
              "size": 10,
              "solidity": 0.2
             }
            },
            "type": "bar"
           }
          ],
          "barpolar": [
           {
            "marker": {
             "line": {
              "color": "#E5ECF6",
              "width": 0.5
             },
             "pattern": {
              "fillmode": "overlay",
              "size": 10,
              "solidity": 0.2
             }
            },
            "type": "barpolar"
           }
          ],
          "carpet": [
           {
            "aaxis": {
             "endlinecolor": "#2a3f5f",
             "gridcolor": "white",
             "linecolor": "white",
             "minorgridcolor": "white",
             "startlinecolor": "#2a3f5f"
            },
            "baxis": {
             "endlinecolor": "#2a3f5f",
             "gridcolor": "white",
             "linecolor": "white",
             "minorgridcolor": "white",
             "startlinecolor": "#2a3f5f"
            },
            "type": "carpet"
           }
          ],
          "choropleth": [
           {
            "colorbar": {
             "outlinewidth": 0,
             "ticks": ""
            },
            "type": "choropleth"
           }
          ],
          "contour": [
           {
            "colorbar": {
             "outlinewidth": 0,
             "ticks": ""
            },
            "colorscale": [
             [
              0,
              "#0d0887"
             ],
             [
              0.1111111111111111,
              "#46039f"
             ],
             [
              0.2222222222222222,
              "#7201a8"
             ],
             [
              0.3333333333333333,
              "#9c179e"
             ],
             [
              0.4444444444444444,
              "#bd3786"
             ],
             [
              0.5555555555555556,
              "#d8576b"
             ],
             [
              0.6666666666666666,
              "#ed7953"
             ],
             [
              0.7777777777777778,
              "#fb9f3a"
             ],
             [
              0.8888888888888888,
              "#fdca26"
             ],
             [
              1,
              "#f0f921"
             ]
            ],
            "type": "contour"
           }
          ],
          "contourcarpet": [
           {
            "colorbar": {
             "outlinewidth": 0,
             "ticks": ""
            },
            "type": "contourcarpet"
           }
          ],
          "heatmap": [
           {
            "colorbar": {
             "outlinewidth": 0,
             "ticks": ""
            },
            "colorscale": [
             [
              0,
              "#0d0887"
             ],
             [
              0.1111111111111111,
              "#46039f"
             ],
             [
              0.2222222222222222,
              "#7201a8"
             ],
             [
              0.3333333333333333,
              "#9c179e"
             ],
             [
              0.4444444444444444,
              "#bd3786"
             ],
             [
              0.5555555555555556,
              "#d8576b"
             ],
             [
              0.6666666666666666,
              "#ed7953"
             ],
             [
              0.7777777777777778,
              "#fb9f3a"
             ],
             [
              0.8888888888888888,
              "#fdca26"
             ],
             [
              1,
              "#f0f921"
             ]
            ],
            "type": "heatmap"
           }
          ],
          "heatmapgl": [
           {
            "colorbar": {
             "outlinewidth": 0,
             "ticks": ""
            },
            "colorscale": [
             [
              0,
              "#0d0887"
             ],
             [
              0.1111111111111111,
              "#46039f"
             ],
             [
              0.2222222222222222,
              "#7201a8"
             ],
             [
              0.3333333333333333,
              "#9c179e"
             ],
             [
              0.4444444444444444,
              "#bd3786"
             ],
             [
              0.5555555555555556,
              "#d8576b"
             ],
             [
              0.6666666666666666,
              "#ed7953"
             ],
             [
              0.7777777777777778,
              "#fb9f3a"
             ],
             [
              0.8888888888888888,
              "#fdca26"
             ],
             [
              1,
              "#f0f921"
             ]
            ],
            "type": "heatmapgl"
           }
          ],
          "histogram": [
           {
            "marker": {
             "pattern": {
              "fillmode": "overlay",
              "size": 10,
              "solidity": 0.2
             }
            },
            "type": "histogram"
           }
          ],
          "histogram2d": [
           {
            "colorbar": {
             "outlinewidth": 0,
             "ticks": ""
            },
            "colorscale": [
             [
              0,
              "#0d0887"
             ],
             [
              0.1111111111111111,
              "#46039f"
             ],
             [
              0.2222222222222222,
              "#7201a8"
             ],
             [
              0.3333333333333333,
              "#9c179e"
             ],
             [
              0.4444444444444444,
              "#bd3786"
             ],
             [
              0.5555555555555556,
              "#d8576b"
             ],
             [
              0.6666666666666666,
              "#ed7953"
             ],
             [
              0.7777777777777778,
              "#fb9f3a"
             ],
             [
              0.8888888888888888,
              "#fdca26"
             ],
             [
              1,
              "#f0f921"
             ]
            ],
            "type": "histogram2d"
           }
          ],
          "histogram2dcontour": [
           {
            "colorbar": {
             "outlinewidth": 0,
             "ticks": ""
            },
            "colorscale": [
             [
              0,
              "#0d0887"
             ],
             [
              0.1111111111111111,
              "#46039f"
             ],
             [
              0.2222222222222222,
              "#7201a8"
             ],
             [
              0.3333333333333333,
              "#9c179e"
             ],
             [
              0.4444444444444444,
              "#bd3786"
             ],
             [
              0.5555555555555556,
              "#d8576b"
             ],
             [
              0.6666666666666666,
              "#ed7953"
             ],
             [
              0.7777777777777778,
              "#fb9f3a"
             ],
             [
              0.8888888888888888,
              "#fdca26"
             ],
             [
              1,
              "#f0f921"
             ]
            ],
            "type": "histogram2dcontour"
           }
          ],
          "mesh3d": [
           {
            "colorbar": {
             "outlinewidth": 0,
             "ticks": ""
            },
            "type": "mesh3d"
           }
          ],
          "parcoords": [
           {
            "line": {
             "colorbar": {
              "outlinewidth": 0,
              "ticks": ""
             }
            },
            "type": "parcoords"
           }
          ],
          "pie": [
           {
            "automargin": true,
            "type": "pie"
           }
          ],
          "scatter": [
           {
            "marker": {
             "colorbar": {
              "outlinewidth": 0,
              "ticks": ""
             }
            },
            "type": "scatter"
           }
          ],
          "scatter3d": [
           {
            "line": {
             "colorbar": {
              "outlinewidth": 0,
              "ticks": ""
             }
            },
            "marker": {
             "colorbar": {
              "outlinewidth": 0,
              "ticks": ""
             }
            },
            "type": "scatter3d"
           }
          ],
          "scattercarpet": [
           {
            "marker": {
             "colorbar": {
              "outlinewidth": 0,
              "ticks": ""
             }
            },
            "type": "scattercarpet"
           }
          ],
          "scattergeo": [
           {
            "marker": {
             "colorbar": {
              "outlinewidth": 0,
              "ticks": ""
             }
            },
            "type": "scattergeo"
           }
          ],
          "scattergl": [
           {
            "marker": {
             "colorbar": {
              "outlinewidth": 0,
              "ticks": ""
             }
            },
            "type": "scattergl"
           }
          ],
          "scattermapbox": [
           {
            "marker": {
             "colorbar": {
              "outlinewidth": 0,
              "ticks": ""
             }
            },
            "type": "scattermapbox"
           }
          ],
          "scatterpolar": [
           {
            "marker": {
             "colorbar": {
              "outlinewidth": 0,
              "ticks": ""
             }
            },
            "type": "scatterpolar"
           }
          ],
          "scatterpolargl": [
           {
            "marker": {
             "colorbar": {
              "outlinewidth": 0,
              "ticks": ""
             }
            },
            "type": "scatterpolargl"
           }
          ],
          "scatterternary": [
           {
            "marker": {
             "colorbar": {
              "outlinewidth": 0,
              "ticks": ""
             }
            },
            "type": "scatterternary"
           }
          ],
          "surface": [
           {
            "colorbar": {
             "outlinewidth": 0,
             "ticks": ""
            },
            "colorscale": [
             [
              0,
              "#0d0887"
             ],
             [
              0.1111111111111111,
              "#46039f"
             ],
             [
              0.2222222222222222,
              "#7201a8"
             ],
             [
              0.3333333333333333,
              "#9c179e"
             ],
             [
              0.4444444444444444,
              "#bd3786"
             ],
             [
              0.5555555555555556,
              "#d8576b"
             ],
             [
              0.6666666666666666,
              "#ed7953"
             ],
             [
              0.7777777777777778,
              "#fb9f3a"
             ],
             [
              0.8888888888888888,
              "#fdca26"
             ],
             [
              1,
              "#f0f921"
             ]
            ],
            "type": "surface"
           }
          ],
          "table": [
           {
            "cells": {
             "fill": {
              "color": "#EBF0F8"
             },
             "line": {
              "color": "white"
             }
            },
            "header": {
             "fill": {
              "color": "#C8D4E3"
             },
             "line": {
              "color": "white"
             }
            },
            "type": "table"
           }
          ]
         },
         "layout": {
          "annotationdefaults": {
           "arrowcolor": "#2a3f5f",
           "arrowhead": 0,
           "arrowwidth": 1
          },
          "autotypenumbers": "strict",
          "coloraxis": {
           "colorbar": {
            "outlinewidth": 0,
            "ticks": ""
           }
          },
          "colorscale": {
           "diverging": [
            [
             0,
             "#8e0152"
            ],
            [
             0.1,
             "#c51b7d"
            ],
            [
             0.2,
             "#de77ae"
            ],
            [
             0.3,
             "#f1b6da"
            ],
            [
             0.4,
             "#fde0ef"
            ],
            [
             0.5,
             "#f7f7f7"
            ],
            [
             0.6,
             "#e6f5d0"
            ],
            [
             0.7,
             "#b8e186"
            ],
            [
             0.8,
             "#7fbc41"
            ],
            [
             0.9,
             "#4d9221"
            ],
            [
             1,
             "#276419"
            ]
           ],
           "sequential": [
            [
             0,
             "#0d0887"
            ],
            [
             0.1111111111111111,
             "#46039f"
            ],
            [
             0.2222222222222222,
             "#7201a8"
            ],
            [
             0.3333333333333333,
             "#9c179e"
            ],
            [
             0.4444444444444444,
             "#bd3786"
            ],
            [
             0.5555555555555556,
             "#d8576b"
            ],
            [
             0.6666666666666666,
             "#ed7953"
            ],
            [
             0.7777777777777778,
             "#fb9f3a"
            ],
            [
             0.8888888888888888,
             "#fdca26"
            ],
            [
             1,
             "#f0f921"
            ]
           ],
           "sequentialminus": [
            [
             0,
             "#0d0887"
            ],
            [
             0.1111111111111111,
             "#46039f"
            ],
            [
             0.2222222222222222,
             "#7201a8"
            ],
            [
             0.3333333333333333,
             "#9c179e"
            ],
            [
             0.4444444444444444,
             "#bd3786"
            ],
            [
             0.5555555555555556,
             "#d8576b"
            ],
            [
             0.6666666666666666,
             "#ed7953"
            ],
            [
             0.7777777777777778,
             "#fb9f3a"
            ],
            [
             0.8888888888888888,
             "#fdca26"
            ],
            [
             1,
             "#f0f921"
            ]
           ]
          },
          "colorway": [
           "#636efa",
           "#EF553B",
           "#00cc96",
           "#ab63fa",
           "#FFA15A",
           "#19d3f3",
           "#FF6692",
           "#B6E880",
           "#FF97FF",
           "#FECB52"
          ],
          "font": {
           "color": "#2a3f5f"
          },
          "geo": {
           "bgcolor": "white",
           "lakecolor": "white",
           "landcolor": "#E5ECF6",
           "showlakes": true,
           "showland": true,
           "subunitcolor": "white"
          },
          "hoverlabel": {
           "align": "left"
          },
          "hovermode": "closest",
          "mapbox": {
           "style": "light"
          },
          "paper_bgcolor": "white",
          "plot_bgcolor": "#E5ECF6",
          "polar": {
           "angularaxis": {
            "gridcolor": "white",
            "linecolor": "white",
            "ticks": ""
           },
           "bgcolor": "#E5ECF6",
           "radialaxis": {
            "gridcolor": "white",
            "linecolor": "white",
            "ticks": ""
           }
          },
          "scene": {
           "xaxis": {
            "backgroundcolor": "#E5ECF6",
            "gridcolor": "white",
            "gridwidth": 2,
            "linecolor": "white",
            "showbackground": true,
            "ticks": "",
            "zerolinecolor": "white"
           },
           "yaxis": {
            "backgroundcolor": "#E5ECF6",
            "gridcolor": "white",
            "gridwidth": 2,
            "linecolor": "white",
            "showbackground": true,
            "ticks": "",
            "zerolinecolor": "white"
           },
           "zaxis": {
            "backgroundcolor": "#E5ECF6",
            "gridcolor": "white",
            "gridwidth": 2,
            "linecolor": "white",
            "showbackground": true,
            "ticks": "",
            "zerolinecolor": "white"
           }
          },
          "shapedefaults": {
           "line": {
            "color": "#2a3f5f"
           }
          },
          "ternary": {
           "aaxis": {
            "gridcolor": "white",
            "linecolor": "white",
            "ticks": ""
           },
           "baxis": {
            "gridcolor": "white",
            "linecolor": "white",
            "ticks": ""
           },
           "bgcolor": "#E5ECF6",
           "caxis": {
            "gridcolor": "white",
            "linecolor": "white",
            "ticks": ""
           }
          },
          "title": {
           "x": 0.05
          },
          "xaxis": {
           "automargin": true,
           "gridcolor": "white",
           "linecolor": "white",
           "ticks": "",
           "title": {
            "standoff": 15
           },
           "zerolinecolor": "white",
           "zerolinewidth": 2
          },
          "yaxis": {
           "automargin": true,
           "gridcolor": "white",
           "linecolor": "white",
           "ticks": "",
           "title": {
            "standoff": 15
           },
           "zerolinecolor": "white",
           "zerolinewidth": 2
          }
         }
        },
        "title": {
         "text": "Number of Times Characters Have Appeared"
        },
        "xaxis": {
         "anchor": "y",
         "autorange": true,
         "domain": [
          0,
          1
         ],
         "range": [
          -0.5,
          5.5
         ],
         "title": {
          "text": "Character"
         },
         "type": "category"
        },
        "yaxis": {
         "anchor": "x",
         "autorange": true,
         "domain": [
          0,
          1
         ],
         "range": [
          0,
          8821.052631578947
         ],
         "title": {
          "text": "Count"
         },
         "type": "linear"
        }
       }
      },
      "image/png": "[encoded data removed]",
      "text/html": [
       "<div>                            <div id=\"4a5e569e-e587-4e99-878f-d6b4ab31feda\" class=\"plotly-graph-div\" style=\"height:525px; width:100%;\"></div>            <script type=\"text/javascript\">                require([\"plotly\"], function(Plotly) {                    window.PLOTLYENV=window.PLOTLYENV || {};                                    if (document.getElementById(\"4a5e569e-e587-4e99-878f-d6b4ab31feda\")) {                    Plotly.newPlot(                        \"4a5e569e-e587-4e99-878f-d6b4ab31feda\",                        [{\"alignmentgroup\":\"True\",\"hovertemplate\":\"color=Rachel<br>index=%{x}<br>value=%{y}<extra></extra>\",\"legendgroup\":\"Rachel\",\"marker\":{\"color\":\"#636efa\",\"pattern\":{\"shape\":\"\"}},\"name\":\"Rachel\",\"offsetgroup\":\"Rachel\",\"orientation\":\"v\",\"showlegend\":true,\"textposition\":\"auto\",\"type\":\"bar\",\"x\":[\"rachel\"],\"xaxis\":\"x\",\"y\":[8380],\"yaxis\":\"y\"},{\"alignmentgroup\":\"True\",\"hovertemplate\":\"color=Ross<br>index=%{x}<br>value=%{y}<extra></extra>\",\"legendgroup\":\"Ross\",\"marker\":{\"color\":\"#EF553B\",\"pattern\":{\"shape\":\"\"}},\"name\":\"Ross\",\"offsetgroup\":\"Ross\",\"orientation\":\"v\",\"showlegend\":true,\"textposition\":\"auto\",\"type\":\"bar\",\"x\":[\"ross\"],\"xaxis\":\"x\",\"y\":[8276],\"yaxis\":\"y\"},{\"alignmentgroup\":\"True\",\"hovertemplate\":\"color=Chandler<br>index=%{x}<br>value=%{y}<extra></extra>\",\"legendgroup\":\"Chandler\",\"marker\":{\"color\":\"#00cc96\",\"pattern\":{\"shape\":\"\"}},\"name\":\"Chandler\",\"offsetgroup\":\"Chandler\",\"orientation\":\"v\",\"showlegend\":true,\"textposition\":\"auto\",\"type\":\"bar\",\"x\":[\"chandler\"],\"xaxis\":\"x\",\"y\":[7577],\"yaxis\":\"y\"},{\"alignmentgroup\":\"True\",\"hovertemplate\":\"color=Monica<br>index=%{x}<br>value=%{y}<extra></extra>\",\"legendgroup\":\"Monica\",\"marker\":{\"color\":\"#ab63fa\",\"pattern\":{\"shape\":\"\"}},\"name\":\"Monica\",\"offsetgroup\":\"Monica\",\"orientation\":\"v\",\"showlegend\":true,\"textposition\":\"auto\",\"type\":\"bar\",\"x\":[\"monica\"],\"xaxis\":\"x\",\"y\":[7539],\"yaxis\":\"y\"},{\"alignmentgroup\":\"True\",\"hovertemplate\":\"color=Joey<br>index=%{x}<br>value=%{y}<extra></extra>\",\"legendgroup\":\"Joey\",\"marker\":{\"color\":\"#FFA15A\",\"pattern\":{\"shape\":\"\"}},\"name\":\"Joey\",\"offsetgroup\":\"Joey\",\"orientation\":\"v\",\"showlegend\":true,\"textposition\":\"auto\",\"type\":\"bar\",\"x\":[\"joey\"],\"xaxis\":\"x\",\"y\":[7478],\"yaxis\":\"y\"},{\"alignmentgroup\":\"True\",\"hovertemplate\":\"color=Phoebe<br>index=%{x}<br>value=%{y}<extra></extra>\",\"legendgroup\":\"Phoebe\",\"marker\":{\"color\":\"#19d3f3\",\"pattern\":{\"shape\":\"\"}},\"name\":\"Phoebe\",\"offsetgroup\":\"Phoebe\",\"orientation\":\"v\",\"showlegend\":true,\"textposition\":\"auto\",\"type\":\"bar\",\"x\":[\"phoebe\"],\"xaxis\":\"x\",\"y\":[6728],\"yaxis\":\"y\"}],                        {\"barmode\":\"relative\",\"font\":{\"color\":\"RebeccaPurple\",\"family\":\"Times New Roman, monospace\",\"size\":14},\"legend\":{\"title\":{\"text\":\"color\"},\"tracegroupgap\":0},\"margin\":{\"t\":60},\"template\":{\"data\":{\"bar\":[{\"error_x\":{\"color\":\"#2a3f5f\"},\"error_y\":{\"color\":\"#2a3f5f\"},\"marker\":{\"line\":{\"color\":\"#E5ECF6\",\"width\":0.5},\"pattern\":{\"fillmode\":\"overlay\",\"size\":10,\"solidity\":0.2}},\"type\":\"bar\"}],\"barpolar\":[{\"marker\":{\"line\":{\"color\":\"#E5ECF6\",\"width\":0.5},\"pattern\":{\"fillmode\":\"overlay\",\"size\":10,\"solidity\":0.2}},\"type\":\"barpolar\"}],\"carpet\":[{\"aaxis\":{\"endlinecolor\":\"#2a3f5f\",\"gridcolor\":\"white\",\"linecolor\":\"white\",\"minorgridcolor\":\"white\",\"startlinecolor\":\"#2a3f5f\"},\"baxis\":{\"endlinecolor\":\"#2a3f5f\",\"gridcolor\":\"white\",\"linecolor\":\"white\",\"minorgridcolor\":\"white\",\"startlinecolor\":\"#2a3f5f\"},\"type\":\"carpet\"}],\"choropleth\":[{\"colorbar\":{\"outlinewidth\":0,\"ticks\":\"\"},\"type\":\"choropleth\"}],\"contour\":[{\"colorbar\":{\"outlinewidth\":0,\"ticks\":\"\"},\"colorscale\":[[0.0,\"#0d0887\"],[0.1111111111111111,\"#46039f\"],[0.2222222222222222,\"#7201a8\"],[0.3333333333333333,\"#9c179e\"],[0.4444444444444444,\"#bd3786\"],[0.5555555555555556,\"#d8576b\"],[0.6666666666666666,\"#ed7953\"],[0.7777777777777778,\"#fb9f3a\"],[0.8888888888888888,\"#fdca26\"],[1.0,\"#f0f921\"]],\"type\":\"contour\"}],\"contourcarpet\":[{\"colorbar\":{\"outlinewidth\":0,\"ticks\":\"\"},\"type\":\"contourcarpet\"}],\"heatmap\":[{\"colorbar\":{\"outlinewidth\":0,\"ticks\":\"\"},\"colorscale\":[[0.0,\"#0d0887\"],[0.1111111111111111,\"#46039f\"],[0.2222222222222222,\"#7201a8\"],[0.3333333333333333,\"#9c179e\"],[0.4444444444444444,\"#bd3786\"],[0.5555555555555556,\"#d8576b\"],[0.6666666666666666,\"#ed7953\"],[0.7777777777777778,\"#fb9f3a\"],[0.8888888888888888,\"#fdca26\"],[1.0,\"#f0f921\"]],\"type\":\"heatmap\"}],\"heatmapgl\":[{\"colorbar\":{\"outlinewidth\":0,\"ticks\":\"\"},\"colorscale\":[[0.0,\"#0d0887\"],[0.1111111111111111,\"#46039f\"],[0.2222222222222222,\"#7201a8\"],[0.3333333333333333,\"#9c179e\"],[0.4444444444444444,\"#bd3786\"],[0.5555555555555556,\"#d8576b\"],[0.6666666666666666,\"#ed7953\"],[0.7777777777777778,\"#fb9f3a\"],[0.8888888888888888,\"#fdca26\"],[1.0,\"#f0f921\"]],\"type\":\"heatmapgl\"}],\"histogram\":[{\"marker\":{\"pattern\":{\"fillmode\":\"overlay\",\"size\":10,\"solidity\":0.2}},\"type\":\"histogram\"}],\"histogram2d\":[{\"colorbar\":{\"outlinewidth\":0,\"ticks\":\"\"},\"colorscale\":[[0.0,\"#0d0887\"],[0.1111111111111111,\"#46039f\"],[0.2222222222222222,\"#7201a8\"],[0.3333333333333333,\"#9c179e\"],[0.4444444444444444,\"#bd3786\"],[0.5555555555555556,\"#d8576b\"],[0.6666666666666666,\"#ed7953\"],[0.7777777777777778,\"#fb9f3a\"],[0.8888888888888888,\"#fdca26\"],[1.0,\"#f0f921\"]],\"type\":\"histogram2d\"}],\"histogram2dcontour\":[{\"colorbar\":{\"outlinewidth\":0,\"ticks\":\"\"},\"colorscale\":[[0.0,\"#0d0887\"],[0.1111111111111111,\"#46039f\"],[0.2222222222222222,\"#7201a8\"],[0.3333333333333333,\"#9c179e\"],[0.4444444444444444,\"#bd3786\"],[0.5555555555555556,\"#d8576b\"],[0.6666666666666666,\"#ed7953\"],[0.7777777777777778,\"#fb9f3a\"],[0.8888888888888888,\"#fdca26\"],[1.0,\"#f0f921\"]],\"type\":\"histogram2dcontour\"}],\"mesh3d\":[{\"colorbar\":{\"outlinewidth\":0,\"ticks\":\"\"},\"type\":\"mesh3d\"}],\"parcoords\":[{\"line\":{\"colorbar\":{\"outlinewidth\":0,\"ticks\":\"\"}},\"type\":\"parcoords\"}],\"pie\":[{\"automargin\":true,\"type\":\"pie\"}],\"scatter\":[{\"marker\":{\"colorbar\":{\"outlinewidth\":0,\"ticks\":\"\"}},\"type\":\"scatter\"}],\"scatter3d\":[{\"line\":{\"colorbar\":{\"outlinewidth\":0,\"ticks\":\"\"}},\"marker\":{\"colorbar\":{\"outlinewidth\":0,\"ticks\":\"\"}},\"type\":\"scatter3d\"}],\"scattercarpet\":[{\"marker\":{\"colorbar\":{\"outlinewidth\":0,\"ticks\":\"\"}},\"type\":\"scattercarpet\"}],\"scattergeo\":[{\"marker\":{\"colorbar\":{\"outlinewidth\":0,\"ticks\":\"\"}},\"type\":\"scattergeo\"}],\"scattergl\":[{\"marker\":{\"colorbar\":{\"outlinewidth\":0,\"ticks\":\"\"}},\"type\":\"scattergl\"}],\"scattermapbox\":[{\"marker\":{\"colorbar\":{\"outlinewidth\":0,\"ticks\":\"\"}},\"type\":\"scattermapbox\"}],\"scatterpolar\":[{\"marker\":{\"colorbar\":{\"outlinewidth\":0,\"ticks\":\"\"}},\"type\":\"scatterpolar\"}],\"scatterpolargl\":[{\"marker\":{\"colorbar\":{\"outlinewidth\":0,\"ticks\":\"\"}},\"type\":\"scatterpolargl\"}],\"scatterternary\":[{\"marker\":{\"colorbar\":{\"outlinewidth\":0,\"ticks\":\"\"}},\"type\":\"scatterternary\"}],\"surface\":[{\"colorbar\":{\"outlinewidth\":0,\"ticks\":\"\"},\"colorscale\":[[0.0,\"#0d0887\"],[0.1111111111111111,\"#46039f\"],[0.2222222222222222,\"#7201a8\"],[0.3333333333333333,\"#9c179e\"],[0.4444444444444444,\"#bd3786\"],[0.5555555555555556,\"#d8576b\"],[0.6666666666666666,\"#ed7953\"],[0.7777777777777778,\"#fb9f3a\"],[0.8888888888888888,\"#fdca26\"],[1.0,\"#f0f921\"]],\"type\":\"surface\"}],\"table\":[{\"cells\":{\"fill\":{\"color\":\"#EBF0F8\"},\"line\":{\"color\":\"white\"}},\"header\":{\"fill\":{\"color\":\"#C8D4E3\"},\"line\":{\"color\":\"white\"}},\"type\":\"table\"}]},\"layout\":{\"annotationdefaults\":{\"arrowcolor\":\"#2a3f5f\",\"arrowhead\":0,\"arrowwidth\":1},\"autotypenumbers\":\"strict\",\"coloraxis\":{\"colorbar\":{\"outlinewidth\":0,\"ticks\":\"\"}},\"colorscale\":{\"diverging\":[[0,\"#8e0152\"],[0.1,\"#c51b7d\"],[0.2,\"#de77ae\"],[0.3,\"#f1b6da\"],[0.4,\"#fde0ef\"],[0.5,\"#f7f7f7\"],[0.6,\"#e6f5d0\"],[0.7,\"#b8e186\"],[0.8,\"#7fbc41\"],[0.9,\"#4d9221\"],[1,\"#276419\"]],\"sequential\":[[0.0,\"#0d0887\"],[0.1111111111111111,\"#46039f\"],[0.2222222222222222,\"#7201a8\"],[0.3333333333333333,\"#9c179e\"],[0.4444444444444444,\"#bd3786\"],[0.5555555555555556,\"#d8576b\"],[0.6666666666666666,\"#ed7953\"],[0.7777777777777778,\"#fb9f3a\"],[0.8888888888888888,\"#fdca26\"],[1.0,\"#f0f921\"]],\"sequentialminus\":[[0.0,\"#0d0887\"],[0.1111111111111111,\"#46039f\"],[0.2222222222222222,\"#7201a8\"],[0.3333333333333333,\"#9c179e\"],[0.4444444444444444,\"#bd3786\"],[0.5555555555555556,\"#d8576b\"],[0.6666666666666666,\"#ed7953\"],[0.7777777777777778,\"#fb9f3a\"],[0.8888888888888888,\"#fdca26\"],[1.0,\"#f0f921\"]]},\"colorway\":[\"#636efa\",\"#EF553B\",\"#00cc96\",\"#ab63fa\",\"#FFA15A\",\"#19d3f3\",\"#FF6692\",\"#B6E880\",\"#FF97FF\",\"#FECB52\"],\"font\":{\"color\":\"#2a3f5f\"},\"geo\":{\"bgcolor\":\"white\",\"lakecolor\":\"white\",\"landcolor\":\"#E5ECF6\",\"showlakes\":true,\"showland\":true,\"subunitcolor\":\"white\"},\"hoverlabel\":{\"align\":\"left\"},\"hovermode\":\"closest\",\"mapbox\":{\"style\":\"light\"},\"paper_bgcolor\":\"white\",\"plot_bgcolor\":\"#E5ECF6\",\"polar\":{\"angularaxis\":{\"gridcolor\":\"white\",\"linecolor\":\"white\",\"ticks\":\"\"},\"bgcolor\":\"#E5ECF6\",\"radialaxis\":{\"gridcolor\":\"white\",\"linecolor\":\"white\",\"ticks\":\"\"}},\"scene\":{\"xaxis\":{\"backgroundcolor\":\"#E5ECF6\",\"gridcolor\":\"white\",\"gridwidth\":2,\"linecolor\":\"white\",\"showbackground\":true,\"ticks\":\"\",\"zerolinecolor\":\"white\"},\"yaxis\":{\"backgroundcolor\":\"#E5ECF6\",\"gridcolor\":\"white\",\"gridwidth\":2,\"linecolor\":\"white\",\"showbackground\":true,\"ticks\":\"\",\"zerolinecolor\":\"white\"},\"zaxis\":{\"backgroundcolor\":\"#E5ECF6\",\"gridcolor\":\"white\",\"gridwidth\":2,\"linecolor\":\"white\",\"showbackground\":true,\"ticks\":\"\",\"zerolinecolor\":\"white\"}},\"shapedefaults\":{\"line\":{\"color\":\"#2a3f5f\"}},\"ternary\":{\"aaxis\":{\"gridcolor\":\"white\",\"linecolor\":\"white\",\"ticks\":\"\"},\"baxis\":{\"gridcolor\":\"white\",\"linecolor\":\"white\",\"ticks\":\"\"},\"bgcolor\":\"#E5ECF6\",\"caxis\":{\"gridcolor\":\"white\",\"linecolor\":\"white\",\"ticks\":\"\"}},\"title\":{\"x\":0.05},\"xaxis\":{\"automargin\":true,\"gridcolor\":\"white\",\"linecolor\":\"white\",\"ticks\":\"\",\"title\":{\"standoff\":15},\"zerolinecolor\":\"white\",\"zerolinewidth\":2},\"yaxis\":{\"automargin\":true,\"gridcolor\":\"white\",\"linecolor\":\"white\",\"ticks\":\"\",\"title\":{\"standoff\":15},\"zerolinecolor\":\"white\",\"zerolinewidth\":2}}},\"title\":{\"text\":\"Number of Times Characters Have Appeared\"},\"xaxis\":{\"anchor\":\"y\",\"domain\":[0.0,1.0],\"title\":{\"text\":\"Character\"}},\"yaxis\":{\"anchor\":\"x\",\"domain\":[0.0,1.0],\"title\":{\"text\":\"Count\"}}},                        {\"responsive\": true}                    ).then(function(){\n",
       "                            \n",
       "var gd = document.getElementById('4a5e569e-e587-4e99-878f-d6b4ab31feda');\n",
       "var x = new MutationObserver(function (mutations, observer) {{\n",
       "        var display = window.getComputedStyle(gd).display;\n",
       "        if (!display || display === 'none') {{\n",
       "            console.log([gd, 'removed!']);\n",
       "            Plotly.purge(gd);\n",
       "            observer.disconnect();\n",
       "        }}\n",
       "}});\n",
       "\n",
       "// Listen for the removal of the full notebook cells\n",
       "var notebookContainer = gd.closest('#notebook-container');\n",
       "if (notebookContainer) {{\n",
       "    x.observe(notebookContainer, {childList: true});\n",
       "}}\n",
       "\n",
       "// Listen for the clearing of the current output cell\n",
       "var outputEl = gd.closest('.output');\n",
       "if (outputEl) {{\n",
       "    x.observe(outputEl, {childList: true});\n",
       "}}\n",
       "\n",
       "                        })                };                });            </script>        </div>"
      ]
     },
     "metadata": {},
     "output_type": "display_data"
    }
   ],
   "source": [
    "fig = px.bar(main_cast['character'].value_counts().sort_values(ascending=False), \n",
    "             color=main_cast['character'].value_counts().sort_values(ascending=False).index.str.title())\n",
    "fig.update_layout(\n",
    "    title=\"Number of Times Characters Have Appeared\",\n",
    "    xaxis_title=\"Character\",\n",
    "    yaxis_title=\"Count\",\n",
    "    legend_title=\"color\",\n",
    "    font=dict(\n",
    "        family=\"Times New Roman, monospace\",\n",
    "        size=14,\n",
    "        color=\"RebeccaPurple\"\n",
    "))\n",
    "fig.show()"
   ]
  },
  {
   "cell_type": "code",
   "execution_count": null,
   "id": "836b5fc0-b9eb-4e15-a65c-77f32cbc533f",
   "metadata": {},
   "outputs": [],
   "source": []
  }
 ],
 "metadata": {
  "kernelspec": {
   "display_name": "Python 3",
   "language": "python",
   "name": "python3"
  },
  "language_info": {
   "codemirror_mode": {
    "name": "ipython",
    "version": 3
   },
   "file_extension": ".py",
   "mimetype": "text/x-python",
   "name": "python",
   "nbconvert_exporter": "python",
   "pygments_lexer": "ipython3",
   "version": "3.9.7"
  }
 },
 "nbformat": 4,
 "nbformat_minor": 5
}
